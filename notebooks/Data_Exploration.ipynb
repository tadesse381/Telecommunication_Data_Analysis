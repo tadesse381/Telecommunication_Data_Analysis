{
 "cells": [
  {
   "cell_type": "code",
   "execution_count": 1,
   "id": "1084de0b",
   "metadata": {
    "id": "aa4ed27a"
   },
   "outputs": [],
   "source": [
    "# System Modules\n",
    "import os\n",
    "import sys\n",
    "sys.path.append(os.path.abspath(os.path.join('..')))\n",
    "\n",
    "import warnings\n",
    "warnings.filterwarnings('ignore')"
   ]
  },
  {
   "cell_type": "code",
   "execution_count": 2,
   "id": "2c266834",
   "metadata": {},
   "outputs": [],
   "source": [
    "# Module imports\n",
    "#import pandas\n",
    "import pandas as pd\n",
    "#import numpy\n",
    "import numpy as np\n",
    "#import seaborn \n",
    "import seaborn as sns\n",
    "#import matplotplib \n",
    "import matplotlib.pyplot as plt\n",
    "pd.set_option('max_column', None)\n",
    "pd.options.display.float_format = \"{:.2f}\".format"
   ]
  },
  {
   "cell_type": "code",
   "execution_count": 3,
   "id": "6cc732ba",
   "metadata": {},
   "outputs": [],
   "source": [
    "# Custom Modules\n",
    "from scripts import file\n",
    "from scripts.df_info import DataFrameInfo\n",
    "from scripts.df_cleaning import DataFrameCleaning"
   ]
  },
  {
   "cell_type": "code",
   "execution_count": 4,
   "id": "0920c0e9",
   "metadata": {},
   "outputs": [],
   "source": [
    "file_name = 'Week1_challenge_data_source.csv'\n",
    "data = file.read_csv(file_name)"
   ]
  },
  {
   "cell_type": "markdown",
   "id": "ac14352a",
   "metadata": {},
   "source": [
    "# Information About The Data"
   ]
  },
  {
   "cell_type": "code",
   "execution_count": 5,
   "id": "458b461f",
   "metadata": {},
   "outputs": [
    {
     "name": "stdout",
     "output_type": "stream",
     "text": [
      "Data Frame contain 150001 rows and 55 columns\n"
     ]
    }
   ],
   "source": [
    "df_info = DataFrameInfo(data)\n",
    "df_info.info()"
   ]
  },
  {
   "cell_type": "code",
   "execution_count": 6,
   "id": "253ad454",
   "metadata": {},
   "outputs": [
    {
     "name": "stdout",
     "output_type": "stream",
     "text": [
      "<class 'pandas.core.frame.DataFrame'>\n",
      "RangeIndex: 150001 entries, 0 to 150000\n",
      "Data columns (total 55 columns):\n",
      " #   Column                                    Non-Null Count   Dtype  \n",
      "---  ------                                    --------------   -----  \n",
      " 0   Bearer Id                                 149010 non-null  float64\n",
      " 1   Start                                     150000 non-null  object \n",
      " 2   Start ms                                  150000 non-null  float64\n",
      " 3   End                                       150000 non-null  object \n",
      " 4   End ms                                    150000 non-null  float64\n",
      " 5   Dur. (ms)                                 150000 non-null  float64\n",
      " 6   IMSI                                      149431 non-null  float64\n",
      " 7   MSISDN/Number                             148935 non-null  float64\n",
      " 8   IMEI                                      149429 non-null  float64\n",
      " 9   Last Location Name                        148848 non-null  object \n",
      " 10  Avg RTT DL (ms)                           122172 non-null  float64\n",
      " 11  Avg RTT UL (ms)                           122189 non-null  float64\n",
      " 12  Avg Bearer TP DL (kbps)                   150000 non-null  float64\n",
      " 13  Avg Bearer TP UL (kbps)                   150000 non-null  float64\n",
      " 14  TCP DL Retrans. Vol (Bytes)               61855 non-null   float64\n",
      " 15  TCP UL Retrans. Vol (Bytes)               53352 non-null   float64\n",
      " 16  DL TP < 50 Kbps (%)                       149247 non-null  float64\n",
      " 17  50 Kbps < DL TP < 250 Kbps (%)            149247 non-null  float64\n",
      " 18  250 Kbps < DL TP < 1 Mbps (%)             149247 non-null  float64\n",
      " 19  DL TP > 1 Mbps (%)                        149247 non-null  float64\n",
      " 20  UL TP < 10 Kbps (%)                       149209 non-null  float64\n",
      " 21  10 Kbps < UL TP < 50 Kbps (%)             149209 non-null  float64\n",
      " 22  50 Kbps < UL TP < 300 Kbps (%)            149209 non-null  float64\n",
      " 23  UL TP > 300 Kbps (%)                      149209 non-null  float64\n",
      " 24  HTTP DL (Bytes)                           68527 non-null   float64\n",
      " 25  HTTP UL (Bytes)                           68191 non-null   float64\n",
      " 26  Activity Duration DL (ms)                 150000 non-null  float64\n",
      " 27  Activity Duration UL (ms)                 150000 non-null  float64\n",
      " 28  Dur. (ms).1                               150000 non-null  float64\n",
      " 29  Handset Manufacturer                      140442 non-null  object \n",
      " 30  Handset Type                              140442 non-null  object \n",
      " 31  Nb of sec with 125000B < Vol DL           52463 non-null   float64\n",
      " 32  Nb of sec with 1250B < Vol UL < 6250B     57107 non-null   float64\n",
      " 33  Nb of sec with 31250B < Vol DL < 125000B  56415 non-null   float64\n",
      " 34  Nb of sec with 37500B < Vol UL            19747 non-null   float64\n",
      " 35  Nb of sec with 6250B < Vol DL < 31250B    61684 non-null   float64\n",
      " 36  Nb of sec with 6250B < Vol UL < 37500B    38158 non-null   float64\n",
      " 37  Nb of sec with Vol DL < 6250B             149246 non-null  float64\n",
      " 38  Nb of sec with Vol UL < 1250B             149208 non-null  float64\n",
      " 39  Social Media DL (Bytes)                   150001 non-null  float64\n",
      " 40  Social Media UL (Bytes)                   150001 non-null  float64\n",
      " 41  Google DL (Bytes)                         150001 non-null  float64\n",
      " 42  Google UL (Bytes)                         150001 non-null  float64\n",
      " 43  Email DL (Bytes)                          150001 non-null  float64\n",
      " 44  Email UL (Bytes)                          150001 non-null  float64\n",
      " 45  Youtube DL (Bytes)                        150001 non-null  float64\n",
      " 46  Youtube UL (Bytes)                        150001 non-null  float64\n",
      " 47  Netflix DL (Bytes)                        150001 non-null  float64\n",
      " 48  Netflix UL (Bytes)                        150001 non-null  float64\n",
      " 49  Gaming DL (Bytes)                         150001 non-null  float64\n",
      " 50  Gaming UL (Bytes)                         150001 non-null  float64\n",
      " 51  Other DL (Bytes)                          150001 non-null  float64\n",
      " 52  Other UL (Bytes)                          150001 non-null  float64\n",
      " 53  Total UL (Bytes)                          150000 non-null  float64\n",
      " 54  Total DL (Bytes)                          150000 non-null  float64\n",
      "dtypes: float64(50), object(5)\n",
      "memory usage: 62.9+ MB\n",
      "None\n"
     ]
    }
   ],
   "source": [
    "df_info.detail_info()"
   ]
  },
  {
   "cell_type": "markdown",
   "id": "76285458",
   "metadata": {},
   "source": [
    "# Null Percentage"
   ]
  },
  {
   "cell_type": "code",
   "execution_count": 7,
   "id": "a6fd7d2c",
   "metadata": {},
   "outputs": [
    {
     "name": "stdout",
     "output_type": "stream",
     "text": [
      "Data Frame contain null values of 12.72%\n"
     ]
    }
   ],
   "source": [
    "df_info.null_percentage()"
   ]
  },
  {
   "cell_type": "code",
   "execution_count": 8,
   "id": "8426da6f",
   "metadata": {},
   "outputs": [
    {
     "name": "stdout",
     "output_type": "stream",
     "text": [
      "Bearer Id                                      991\n",
      "Start                                            1\n",
      "Start ms                                         1\n",
      "End                                              1\n",
      "End ms                                           1\n",
      "Dur. (ms)                                        1\n",
      "IMSI                                           570\n",
      "MSISDN/Number                                 1066\n",
      "IMEI                                           572\n",
      "Last Location Name                            1153\n",
      "Avg RTT DL (ms)                              27829\n",
      "Avg RTT UL (ms)                              27812\n",
      "Avg Bearer TP DL (kbps)                          1\n",
      "Avg Bearer TP UL (kbps)                          1\n",
      "TCP DL Retrans. Vol (Bytes)                  88146\n",
      "TCP UL Retrans. Vol (Bytes)                  96649\n",
      "DL TP < 50 Kbps (%)                            754\n",
      "50 Kbps < DL TP < 250 Kbps (%)                 754\n",
      "250 Kbps < DL TP < 1 Mbps (%)                  754\n",
      "DL TP > 1 Mbps (%)                             754\n",
      "UL TP < 10 Kbps (%)                            792\n",
      "10 Kbps < UL TP < 50 Kbps (%)                  792\n",
      "50 Kbps < UL TP < 300 Kbps (%)                 792\n",
      "UL TP > 300 Kbps (%)                           792\n",
      "HTTP DL (Bytes)                              81474\n",
      "HTTP UL (Bytes)                              81810\n",
      "Activity Duration DL (ms)                        1\n",
      "Activity Duration UL (ms)                        1\n",
      "Dur. (ms).1                                      1\n",
      "Handset Manufacturer                          9559\n",
      "Handset Type                                  9559\n",
      "Nb of sec with 125000B < Vol DL              97538\n",
      "Nb of sec with 1250B < Vol UL < 6250B        92894\n",
      "Nb of sec with 31250B < Vol DL < 125000B     93586\n",
      "Nb of sec with 37500B < Vol UL              130254\n",
      "Nb of sec with 6250B < Vol DL < 31250B       88317\n",
      "Nb of sec with 6250B < Vol UL < 37500B      111843\n",
      "Nb of sec with Vol DL < 6250B                  755\n",
      "Nb of sec with Vol UL < 1250B                  793\n",
      "Social Media DL (Bytes)                          0\n",
      "Social Media UL (Bytes)                          0\n",
      "Google DL (Bytes)                                0\n",
      "Google UL (Bytes)                                0\n",
      "Email DL (Bytes)                                 0\n",
      "Email UL (Bytes)                                 0\n",
      "Youtube DL (Bytes)                               0\n",
      "Youtube UL (Bytes)                               0\n",
      "Netflix DL (Bytes)                               0\n",
      "Netflix UL (Bytes)                               0\n",
      "Gaming DL (Bytes)                                0\n",
      "Gaming UL (Bytes)                                0\n",
      "Other DL (Bytes)                                 0\n",
      "Other UL (Bytes)                                 0\n",
      "Total UL (Bytes)                                 1\n",
      "Total DL (Bytes)                                 1\n",
      "dtype: int64\n"
     ]
    }
   ],
   "source": [
    "df_info.get_null_counts()"
   ]
  },
  {
   "cell_type": "markdown",
   "id": "89527a9a",
   "metadata": {},
   "source": [
    "# Skewness of The DataFrame.\n",
    "Skewness Tells us how the data is distributed."
   ]
  },
  {
   "cell_type": "code",
   "execution_count": 9,
   "id": "fa157bb8",
   "metadata": {},
   "outputs": [
    {
     "name": "stdout",
     "output_type": "stream",
     "text": [
      "Bearer Id                                    0.03\n",
      "Start ms                                     0.00\n",
      "End ms                                      -0.00\n",
      "Dur. (ms)                                    3.95\n",
      "IMSI                                        41.05\n",
      "MSISDN/Number                              332.16\n",
      "IMEI                                         1.07\n",
      "Avg RTT DL (ms)                             62.91\n",
      "Avg RTT UL (ms)                             28.46\n",
      "Avg Bearer TP DL (kbps)                      2.59\n",
      "Avg Bearer TP UL (kbps)                      4.50\n",
      "TCP DL Retrans. Vol (Bytes)                 15.95\n",
      "TCP UL Retrans. Vol (Bytes)                 84.11\n",
      "DL TP < 50 Kbps (%)                         -2.30\n",
      "50 Kbps < DL TP < 250 Kbps (%)               3.27\n",
      "250 Kbps < DL TP < 1 Mbps (%)                4.57\n",
      "DL TP > 1 Mbps (%)                           5.37\n",
      "UL TP < 10 Kbps (%)                         -8.99\n",
      "10 Kbps < UL TP < 50 Kbps (%)               10.94\n",
      "50 Kbps < UL TP < 300 Kbps (%)              21.88\n",
      "UL TP > 300 Kbps (%)                        36.17\n",
      "HTTP DL (Bytes)                             38.94\n",
      "HTTP UL (Bytes)                             32.47\n",
      "Activity Duration DL (ms)                    5.87\n",
      "Activity Duration UL (ms)                    7.38\n",
      "Dur. (ms).1                                  3.95\n",
      "Nb of sec with 125000B < Vol DL              6.59\n",
      "Nb of sec with 1250B < Vol UL < 6250B       22.04\n",
      "Nb of sec with 31250B < Vol DL < 125000B     6.61\n",
      "Nb of sec with 37500B < Vol UL              21.56\n",
      "Nb of sec with 6250B < Vol DL < 31250B       6.90\n",
      "Nb of sec with 6250B < Vol UL < 37500B      19.64\n",
      "Nb of sec with Vol DL < 6250B                9.04\n",
      "Nb of sec with Vol UL < 1250B                7.50\n",
      "Social Media DL (Bytes)                     -0.00\n",
      "Social Media UL (Bytes)                     -0.00\n",
      "Google DL (Bytes)                           -0.01\n",
      "Google UL (Bytes)                            0.00\n",
      "Email DL (Bytes)                            -0.00\n",
      "Email UL (Bytes)                             0.01\n",
      "Youtube DL (Bytes)                           0.00\n",
      "Youtube UL (Bytes)                          -0.00\n",
      "Netflix DL (Bytes)                          -0.00\n",
      "Netflix UL (Bytes)                          -0.00\n",
      "Gaming DL (Bytes)                           -0.00\n",
      "Gaming UL (Bytes)                           -0.00\n",
      "Other DL (Bytes)                             0.00\n",
      "Other UL (Bytes)                             0.00\n",
      "Total UL (Bytes)                            -0.00\n",
      "Total DL (Bytes)                            -0.00\n",
      "dtype: float64\n"
     ]
    }
   ],
   "source": [
    "df_info.skewness()"
   ]
  },
  {
   "cell_type": "markdown",
   "id": "795fc931",
   "metadata": {},
   "source": [
    "## Data Cleaning"
   ]
  },
  {
   "cell_type": "code",
   "execution_count": 10,
   "id": "f67b2e56",
   "metadata": {},
   "outputs": [],
   "source": [
    "df_clean = DataFrameCleaning(data)"
   ]
  },
  {
   "cell_type": "code",
   "execution_count": 11,
   "id": "98600fcc",
   "metadata": {},
   "outputs": [
    {
     "name": "stdout",
     "output_type": "stream",
     "text": [
      "List Of Columns with More than 30% Null Values\n",
      "['TCP DL Retrans. Vol (Bytes)', 'TCP UL Retrans. Vol (Bytes)', 'HTTP DL (Bytes)', 'HTTP UL (Bytes)', 'Nb of sec with 125000B < Vol DL', 'Nb of sec with 1250B < Vol UL < 6250B', 'Nb of sec with 31250B < Vol DL < 125000B', 'Nb of sec with 37500B < Vol UL', 'Nb of sec with 6250B < Vol DL < 31250B', 'Nb of sec with 6250B < Vol UL < 37500B']\n"
     ]
    }
   ],
   "source": [
    "bad_columns = df_clean.get_column_with_many_null()\n",
    "print(\"List Of Columns with More than 30% Null Values\")\n",
    "print(bad_columns)"
   ]
  },
  {
   "cell_type": "code",
   "execution_count": 12,
   "id": "6e22bd3b",
   "metadata": {},
   "outputs": [],
   "source": [
    "## Remove Bad columns\n",
    "df_clean.drop_columns(bad_columns)\n",
    "#df_clean.drop_column('Dur. (ms)')"
   ]
  },
  {
   "cell_type": "code",
   "execution_count": 13,
   "id": "c1f73861",
   "metadata": {},
   "outputs": [
    {
     "name": "stdout",
     "output_type": "stream",
     "text": [
      "Number Of Columns with More than 30% Null Values After Clean Up\n",
      "[]\n"
     ]
    }
   ],
   "source": [
    "bad_columns = df_clean.get_column_with_many_null()\n",
    "print(\"Number Of Columns with More than 30% Null Values After Clean Up\")\n",
    "print(bad_columns)"
   ]
  },
  {
   "cell_type": "markdown",
   "id": "866ff564",
   "metadata": {},
   "source": [
    "# Handle Null Values"
   ]
  },
  {
   "cell_type": "markdown",
   "id": "e0cf8704",
   "metadata": {},
   "source": [
    "Remove rows with small null values"
   ]
  },
  {
   "cell_type": "code",
   "execution_count": 14,
   "id": "81f709f8",
   "metadata": {},
   "outputs": [],
   "source": [
    "df_clean.drop_rows(['Bearer Id', 'MSISDN/Number'])"
   ]
  },
  {
   "cell_type": "code",
   "execution_count": 15,
   "id": "c2f82a84",
   "metadata": {},
   "outputs": [
    {
     "name": "stdout",
     "output_type": "stream",
     "text": [
      "Bearer Id                             0\n",
      "Start                                 0\n",
      "Start ms                              0\n",
      "End                                   0\n",
      "End ms                                0\n",
      "Dur. (ms)                             0\n",
      "IMSI                                  0\n",
      "MSISDN/Number                         0\n",
      "IMEI                                  0\n",
      "Last Location Name                  160\n",
      "Avg RTT DL (ms)                   27636\n",
      "Avg RTT UL (ms)                   27616\n",
      "Avg Bearer TP DL (kbps)               0\n",
      "Avg Bearer TP UL (kbps)               0\n",
      "DL TP < 50 Kbps (%)                 712\n",
      "50 Kbps < DL TP < 250 Kbps (%)      712\n",
      "250 Kbps < DL TP < 1 Mbps (%)       712\n",
      "DL TP > 1 Mbps (%)                  712\n",
      "UL TP < 10 Kbps (%)                 767\n",
      "10 Kbps < UL TP < 50 Kbps (%)       767\n",
      "50 Kbps < UL TP < 300 Kbps (%)      767\n",
      "UL TP > 300 Kbps (%)                767\n",
      "Activity Duration DL (ms)             0\n",
      "Activity Duration UL (ms)             0\n",
      "Dur. (ms).1                           0\n",
      "Handset Manufacturer               8904\n",
      "Handset Type                       8904\n",
      "Nb of sec with Vol DL < 6250B       713\n",
      "Nb of sec with Vol UL < 1250B       768\n",
      "Social Media DL (Bytes)               0\n",
      "Social Media UL (Bytes)               0\n",
      "Google DL (Bytes)                     0\n",
      "Google UL (Bytes)                     0\n",
      "Email DL (Bytes)                      0\n",
      "Email UL (Bytes)                      0\n",
      "Youtube DL (Bytes)                    0\n",
      "Youtube UL (Bytes)                    0\n",
      "Netflix DL (Bytes)                    0\n",
      "Netflix UL (Bytes)                    0\n",
      "Gaming DL (Bytes)                     0\n",
      "Gaming UL (Bytes)                     0\n",
      "Other DL (Bytes)                      0\n",
      "Other UL (Bytes)                      0\n",
      "Total UL (Bytes)                      0\n",
      "Total DL (Bytes)                      0\n",
      "dtype: int64\n"
     ]
    }
   ],
   "source": [
    "info = DataFrameInfo(df_clean.df)\n",
    "info.get_null_counts()"
   ]
  },
  {
   "cell_type": "markdown",
   "id": "1645d0c5",
   "metadata": {},
   "source": [
    "Fill Object Columns with mode"
   ]
  },
  {
   "cell_type": "code",
   "execution_count": 16,
   "id": "ee81386c",
   "metadata": {},
   "outputs": [],
   "source": [
    "columns_object_type = ['Last Location Name', 'Handset Manufacturer', 'Handset Type']\n",
    "df_clean.fill_catagorical_columns(columns_object_type)"
   ]
  },
  {
   "cell_type": "code",
   "execution_count": 17,
   "id": "89d255b0",
   "metadata": {},
   "outputs": [
    {
     "name": "stdout",
     "output_type": "stream",
     "text": [
      "Bearer Id                             0\n",
      "Start                                 0\n",
      "Start ms                              0\n",
      "End                                   0\n",
      "End ms                                0\n",
      "Dur. (ms)                             0\n",
      "IMSI                                  0\n",
      "MSISDN/Number                         0\n",
      "IMEI                                  0\n",
      "Last Location Name                    0\n",
      "Avg RTT DL (ms)                   27636\n",
      "Avg RTT UL (ms)                   27616\n",
      "Avg Bearer TP DL (kbps)               0\n",
      "Avg Bearer TP UL (kbps)               0\n",
      "DL TP < 50 Kbps (%)                 712\n",
      "50 Kbps < DL TP < 250 Kbps (%)      712\n",
      "250 Kbps < DL TP < 1 Mbps (%)       712\n",
      "DL TP > 1 Mbps (%)                  712\n",
      "UL TP < 10 Kbps (%)                 767\n",
      "10 Kbps < UL TP < 50 Kbps (%)       767\n",
      "50 Kbps < UL TP < 300 Kbps (%)      767\n",
      "UL TP > 300 Kbps (%)                767\n",
      "Activity Duration DL (ms)             0\n",
      "Activity Duration UL (ms)             0\n",
      "Dur. (ms).1                           0\n",
      "Handset Manufacturer                  0\n",
      "Handset Type                          0\n",
      "Nb of sec with Vol DL < 6250B       713\n",
      "Nb of sec with Vol UL < 1250B       768\n",
      "Social Media DL (Bytes)               0\n",
      "Social Media UL (Bytes)               0\n",
      "Google DL (Bytes)                     0\n",
      "Google UL (Bytes)                     0\n",
      "Email DL (Bytes)                      0\n",
      "Email UL (Bytes)                      0\n",
      "Youtube DL (Bytes)                    0\n",
      "Youtube UL (Bytes)                    0\n",
      "Netflix DL (Bytes)                    0\n",
      "Netflix UL (Bytes)                    0\n",
      "Gaming DL (Bytes)                     0\n",
      "Gaming UL (Bytes)                     0\n",
      "Other DL (Bytes)                      0\n",
      "Other UL (Bytes)                      0\n",
      "Total UL (Bytes)                      0\n",
      "Total DL (Bytes)                      0\n",
      "dtype: int64\n"
     ]
    }
   ],
   "source": [
    "info = DataFrameInfo(df_clean.df)\n",
    "info.get_null_counts()"
   ]
  },
  {
   "cell_type": "markdown",
   "id": "0e8df396",
   "metadata": {},
   "source": [
    "Fill Other null columns with mode, Other columns don't have significance importance for future analysis but to keep things clean we need to save them with no null value"
   ]
  },
  {
   "cell_type": "code",
   "execution_count": 18,
   "id": "b6dce9ac",
   "metadata": {},
   "outputs": [],
   "source": [
    "all_columns = df_clean.df.columns\n",
    "df_clean.fill_catagorical_columns(all_columns)"
   ]
  },
  {
   "cell_type": "code",
   "execution_count": 19,
   "id": "c7af8802",
   "metadata": {},
   "outputs": [
    {
     "name": "stdout",
     "output_type": "stream",
     "text": [
      "Bearer Id                         0\n",
      "Start                             0\n",
      "Start ms                          0\n",
      "End                               0\n",
      "End ms                            0\n",
      "Dur. (ms)                         0\n",
      "IMSI                              0\n",
      "MSISDN/Number                     0\n",
      "IMEI                              0\n",
      "Last Location Name                0\n",
      "Avg RTT DL (ms)                   0\n",
      "Avg RTT UL (ms)                   0\n",
      "Avg Bearer TP DL (kbps)           0\n",
      "Avg Bearer TP UL (kbps)           0\n",
      "DL TP < 50 Kbps (%)               0\n",
      "50 Kbps < DL TP < 250 Kbps (%)    0\n",
      "250 Kbps < DL TP < 1 Mbps (%)     0\n",
      "DL TP > 1 Mbps (%)                0\n",
      "UL TP < 10 Kbps (%)               0\n",
      "10 Kbps < UL TP < 50 Kbps (%)     0\n",
      "50 Kbps < UL TP < 300 Kbps (%)    0\n",
      "UL TP > 300 Kbps (%)              0\n",
      "Activity Duration DL (ms)         0\n",
      "Activity Duration UL (ms)         0\n",
      "Dur. (ms).1                       0\n",
      "Handset Manufacturer              0\n",
      "Handset Type                      0\n",
      "Nb of sec with Vol DL < 6250B     0\n",
      "Nb of sec with Vol UL < 1250B     0\n",
      "Social Media DL (Bytes)           0\n",
      "Social Media UL (Bytes)           0\n",
      "Google DL (Bytes)                 0\n",
      "Google UL (Bytes)                 0\n",
      "Email DL (Bytes)                  0\n",
      "Email UL (Bytes)                  0\n",
      "Youtube DL (Bytes)                0\n",
      "Youtube UL (Bytes)                0\n",
      "Netflix DL (Bytes)                0\n",
      "Netflix UL (Bytes)                0\n",
      "Gaming DL (Bytes)                 0\n",
      "Gaming UL (Bytes)                 0\n",
      "Other DL (Bytes)                  0\n",
      "Other UL (Bytes)                  0\n",
      "Total UL (Bytes)                  0\n",
      "Total DL (Bytes)                  0\n",
      "dtype: int64\n"
     ]
    }
   ],
   "source": [
    "info = DataFrameInfo(df_clean.df)\n",
    "info.get_null_counts()"
   ]
  },
  {
   "cell_type": "code",
   "execution_count": 20,
   "id": "eb5ef905",
   "metadata": {},
   "outputs": [],
   "source": [
    "df_clean.fix_outliers('Dur. (ms)')"
   ]
  },
  {
   "cell_type": "code",
   "execution_count": 21,
   "id": "68cc00a1",
   "metadata": {},
   "outputs": [
    {
     "name": "stdout",
     "output_type": "stream",
     "text": [
      "Bearer Id                           0.02\n",
      "Start ms                            0.00\n",
      "End ms                             -0.00\n",
      "Dur. (ms)                           0.81\n",
      "IMSI                             -269.35\n",
      "MSISDN/Number                     331.68\n",
      "IMEI                                1.07\n",
      "Avg RTT DL (ms)                    73.61\n",
      "Avg RTT UL (ms)                    31.62\n",
      "Avg Bearer TP DL (kbps)             2.59\n",
      "Avg Bearer TP UL (kbps)             4.50\n",
      "DL TP < 50 Kbps (%)                -2.31\n",
      "50 Kbps < DL TP < 250 Kbps (%)      3.29\n",
      "250 Kbps < DL TP < 1 Mbps (%)       4.59\n",
      "DL TP > 1 Mbps (%)                  5.37\n",
      "UL TP < 10 Kbps (%)                -9.02\n",
      "10 Kbps < UL TP < 50 Kbps (%)      10.99\n",
      "50 Kbps < UL TP < 300 Kbps (%)     21.91\n",
      "UL TP > 300 Kbps (%)               36.19\n",
      "Activity Duration DL (ms)           5.85\n",
      "Activity Duration UL (ms)           7.36\n",
      "Dur. (ms).1                         3.97\n",
      "Nb of sec with Vol DL < 6250B       9.04\n",
      "Nb of sec with Vol UL < 1250B       7.50\n",
      "Social Media DL (Bytes)            -0.00\n",
      "Social Media UL (Bytes)            -0.00\n",
      "Google DL (Bytes)                  -0.01\n",
      "Google UL (Bytes)                   0.00\n",
      "Email DL (Bytes)                   -0.00\n",
      "Email UL (Bytes)                    0.01\n",
      "Youtube DL (Bytes)                  0.00\n",
      "Youtube UL (Bytes)                 -0.00\n",
      "Netflix DL (Bytes)                 -0.00\n",
      "Netflix UL (Bytes)                 -0.00\n",
      "Gaming DL (Bytes)                  -0.00\n",
      "Gaming UL (Bytes)                  -0.00\n",
      "Other DL (Bytes)                    0.00\n",
      "Other UL (Bytes)                    0.00\n",
      "Total UL (Bytes)                   -0.00\n",
      "Total DL (Bytes)                   -0.00\n",
      "dtype: float64\n"
     ]
    }
   ],
   "source": [
    "info = DataFrameInfo(df_clean.df)\n",
    "info.skewness()"
   ]
  },
  {
   "cell_type": "markdown",
   "id": "34812979",
   "metadata": {},
   "source": [
    "## Null percentage After data cleaning"
   ]
  },
  {
   "cell_type": "code",
   "execution_count": 22,
   "id": "1db4d1f2",
   "metadata": {},
   "outputs": [
    {
     "name": "stdout",
     "output_type": "stream",
     "text": [
      "Data Frame contain null values of 0.0%\n"
     ]
    }
   ],
   "source": [
    "info.null_percentage()"
   ]
  },
  {
   "cell_type": "markdown",
   "id": "2f92e917",
   "metadata": {
    "id": "2f92e917"
   },
   "source": [
    "## Transforming Data\n",
    "\n",
    "**Scaling and Normalization**"
   ]
  },
  {
   "cell_type": "markdown",
   "id": "31af9f33",
   "metadata": {
    "id": "31af9f33"
   },
   "source": [
    "Scaling vs. Normalization: What's the difference?\n",
    "\n",
    "One of the reasons that it's easy to get confused between scaling and normalization is because the terms are sometimes used interchangeably and, to make it even more confusing, they are very similar! In both cases, you're transforming the values of numeric variables so that the transformed data points have specific helpful properties. The difference is that:\n",
    "\n",
    "    - in scaling, you're changing the range of your data, while\n",
    "    - in normalization, you're changing the shape of the distribution of your data.\n",
    "\n",
    "Scaling\n",
    "\n",
    "This means that you're transforming your data so that it fits within a specific scale, like 0-100 or 0-1. You want to scale data when you're using methods based on measures of how far apart data points are, like support vector machines (SVM) or k-nearest neighbors (KNN). With these algorithms, a change of \"1\" in any numeric feature is given the same importance.\n",
    "\n",
    "For example, you might be looking at the prices of some products in both Yen and US Dollars. One US Dollar is worth about 100 Yen, but if you don't scale your prices, methods like SVM or KNN will consider a difference in price of 1 Yen as important as a difference of 1 US Dollar! This clearly doesn't fit with our intuitions of the world. With currency, you can convert between currencies. But what about if you're looking at something like height and weight? It's not entirely clear how many pounds should equal one inch (or how many kilograms should equal one meter).\n",
    "\n",
    "\n"
   ]
  },
  {
   "cell_type": "code",
   "execution_count": 23,
   "id": "4db69c6f",
   "metadata": {
    "colab": {
     "base_uri": "https://localhost:8080/",
     "height": 206
    },
    "id": "4db69c6f",
    "outputId": "492c9061-e9b3-49ee-8499-23259cd863e6"
   },
   "outputs": [
    {
     "data": {
      "text/html": [
       "<div>\n",
       "<style scoped>\n",
       "    .dataframe tbody tr th:only-of-type {\n",
       "        vertical-align: middle;\n",
       "    }\n",
       "\n",
       "    .dataframe tbody tr th {\n",
       "        vertical-align: top;\n",
       "    }\n",
       "\n",
       "    .dataframe thead th {\n",
       "        text-align: right;\n",
       "    }\n",
       "</style>\n",
       "<table border=\"1\" class=\"dataframe\">\n",
       "  <thead>\n",
       "    <tr style=\"text-align: right;\">\n",
       "      <th></th>\n",
       "      <th>0</th>\n",
       "    </tr>\n",
       "  </thead>\n",
       "  <tbody>\n",
       "    <tr>\n",
       "      <th>1578</th>\n",
       "      <td>133.20</td>\n",
       "    </tr>\n",
       "    <tr>\n",
       "      <th>1590</th>\n",
       "      <td>55.87</td>\n",
       "    </tr>\n",
       "    <tr>\n",
       "      <th>324</th>\n",
       "      <td>85.03</td>\n",
       "    </tr>\n",
       "    <tr>\n",
       "      <th>635</th>\n",
       "      <td>102.41</td>\n",
       "    </tr>\n",
       "    <tr>\n",
       "      <th>659</th>\n",
       "      <td>159.60</td>\n",
       "    </tr>\n",
       "  </tbody>\n",
       "</table>\n",
       "</div>"
      ],
      "text/plain": [
       "          0\n",
       "1578 133.20\n",
       "1590  55.87\n",
       "324   85.03\n",
       "635  102.41\n",
       "659  159.60"
      ]
     },
     "execution_count": 23,
     "metadata": {},
     "output_type": "execute_result"
    }
   ],
   "source": [
    "from sklearn.preprocessing import MinMaxScaler\n",
    "\n",
    "minmax_scaler = MinMaxScaler()\n",
    "\n",
    "# generate 1000 data points randomly drawn from an exponential distribution\n",
    "original_data = pd.DataFrame(np.random.exponential(200, size=2000))\n",
    "\n",
    "original_data.sample(5)"
   ]
  },
  {
   "cell_type": "code",
   "execution_count": 24,
   "id": "887126c7",
   "metadata": {
    "colab": {
     "base_uri": "https://localhost:8080/"
    },
    "id": "887126c7",
    "outputId": "2b065ca4-2508-47b7-a915-dafdb4f0a385"
   },
   "outputs": [
    {
     "data": {
      "text/plain": [
       "(0.026663470361961816, 1305.6273194294045)"
      ]
     },
     "execution_count": 24,
     "metadata": {},
     "output_type": "execute_result"
    }
   ],
   "source": [
    "original_data[0].min(), original_data[0].max()"
   ]
  },
  {
   "cell_type": "code",
   "execution_count": 25,
   "id": "2c7ac099",
   "metadata": {
    "colab": {
     "base_uri": "https://localhost:8080/",
     "height": 265
    },
    "id": "2c7ac099",
    "outputId": "7174aa3f-5c28-4462-bdb9-0df8653a6d17"
   },
   "outputs": [
    {
     "data": {
      "image/png": "[encoded data removed]",
      "text/plain": [
       "<Figure size 432x288 with 1 Axes>"
      ]
     },
     "metadata": {
      "needs_background": "light"
     },
     "output_type": "display_data"
    }
   ],
   "source": [
    "count, bins, ignored = plt.hist(original_data, 14)\n",
    "plt.show()"
   ]
  },
  {
   "cell_type": "code",
   "execution_count": 26,
   "id": "f72facb7",
   "metadata": {
    "colab": {
     "base_uri": "https://localhost:8080/",
     "height": 390
    },
    "id": "f72facb7",
    "outputId": "0a9f07df-862f-4aa4-99bf-9d822f043557"
   },
   "outputs": [
    {
     "data": {
      "image/png": "[encoded data removed]",
      "text/plain": [
       "<Figure size 720x432 with 2 Axes>"
      ]
     },
     "metadata": {
      "needs_background": "light"
     },
     "output_type": "display_data"
    }
   ],
   "source": [
    "# mix-max scale the data between 0 and 1\n",
    "def scaler(df):\n",
    "    scaled_data = minmax_scaler.fit_transform(df)\n",
    "\n",
    "    # plot both together to compare\n",
    "    fig, ax = plt.subplots(1,2, figsize=(10, 6))\n",
    "    sns.histplot(original_data, ax=ax[0])\n",
    "    ax[0].set_title(\"Original Data\")\n",
    "    sns.histplot(scaled_data, ax=ax[1])\n",
    "    ax[1].set_title(\"Scaled data\")\n",
    "    \n",
    "scaler(original_data)"
   ]
  },
  {
   "cell_type": "markdown",
   "id": "c3293805",
   "metadata": {
    "id": "c3293805"
   },
   "source": [
    "Normalization\n",
    "\n",
    "Scaling just changes the range of your data. Normalization is a more radical transformation. The point of normalization is to change your observations so that they can be described as a normal distribution.\n",
    "\n",
    "    Normal distribution: Also known as the \"bell curve\", this is a specific statistical distribution where a roughly equal observations fall above and below the mean, the mean and the median are the same, and there are more observations closer to the mean. The normal distribution is also known as the Gaussian distribution.\n",
    "\n",
    "In general, you'll normalize your data if you're going to be using a machine learning or statistics technique that assumes your data is normally distributed. Some examples of these include linear discriminant analysis (LDA) and Gaussian naive Bayes. (Pro tip: any method with \"Gaussian\" in the name probably assumes normality.)\n",
    "\n",
    "The method you will be using to normalize here is called the Normalizer method from sklearn. Let's take a quick peek at what normalizing some data looks like:"
   ]
  },
  {
   "cell_type": "code",
   "execution_count": 27,
   "id": "168acc4d",
   "metadata": {
    "colab": {
     "base_uri": "https://localhost:8080/",
     "height": 390
    },
    "id": "168acc4d",
    "outputId": "498cf3f0-697e-4aab-f986-1f37c54c9df8"
   },
   "outputs": [
    {
     "data": {
      "image/png": "[encoded data removed]",
      "text/plain": [
       "<Figure size 720x432 with 2 Axes>"
      ]
     },
     "metadata": {
      "needs_background": "light"
     },
     "output_type": "display_data"
    }
   ],
   "source": [
    "from sklearn.preprocessing import Normalizer\n",
    "\n",
    "def normalizer(df):\n",
    "    norm = Normalizer()\n",
    "    # normalize the exponential data with boxcox\n",
    "    normalized_data = norm.fit_transform(df)\n",
    "\n",
    "    # plot both together to compare\n",
    "    fig, ax=plt.subplots(1,2, figsize=(10, 6))\n",
    "    sns.histplot(df, ax=ax[0])\n",
    "    ax[0].set_title(\"Original Data\")\n",
    "    sns.histplot(normalized_data[0], ax=ax[1])\n",
    "    ax[1].set_title(\"Normalized data\")\n",
    "\n",
    "normalizer(original_data)"
   ]
  },
  {
   "cell_type": "code",
   "execution_count": 28,
   "id": "bef899e2",
   "metadata": {
    "colab": {
     "base_uri": "https://localhost:8080/"
    },
    "id": "bef899e2",
    "outputId": "4b5e0d87-3f09-4dcf-82ff-674ce443f942"
   },
   "outputs": [
    {
     "name": "stdout",
     "output_type": "stream",
     "text": [
      "Data Frame contain 148506 rows and 45 columns\n"
     ]
    }
   ],
   "source": [
    "# check datatypes\n",
    "info.info()"
   ]
  },
  {
   "cell_type": "markdown",
   "id": "f640ccb4",
   "metadata": {
    "id": "f640ccb4"
   },
   "source": [
    "## Utility Functions"
   ]
  },
  {
   "cell_type": "code",
   "execution_count": 29,
   "id": "42f432b8",
   "metadata": {
    "id": "42f432b8"
   },
   "outputs": [],
   "source": [
    "# Function to calculate missing values by column\n",
    "def missing_values_table(df):\n",
    "    # Total missing values\n",
    "    mis_val = df.isnull().sum()\n",
    "\n",
    "    # Percentage of missing values\n",
    "    mis_val_percent = 100 * df.isnull().sum() / len(df)\n",
    "\n",
    "    # dtype of missing values\n",
    "    mis_val_dtype = df.dtypes\n",
    "\n",
    "    # Make a table with the results\n",
    "    mis_val_table = pd.concat([mis_val, mis_val_percent, mis_val_dtype], axis=1)\n",
    "\n",
    "    # Rename the columns\n",
    "    mis_val_table_ren_columns = mis_val_table.rename(\n",
    "    columns = {0 : 'Missing Values', 1 : '% of Total Values', 2: 'Dtype'})\n",
    "\n",
    "    # Sort the table by percentage of missing descending\n",
    "    mis_val_table_ren_columns = mis_val_table_ren_columns[\n",
    "        mis_val_table_ren_columns.iloc[:,1] != 0].sort_values(\n",
    "    '% of Total Values', ascending=False).round(1)\n",
    "\n",
    "    # Print some summary information\n",
    "    print (\"Your selected dataframe has \" + str(df.shape[1]) + \" columns.\\n\"      \n",
    "        \"There are \" + str(mis_val_table_ren_columns.shape[0]) +\n",
    "          \" columns that have missing values.\")\n",
    "\n",
    "    # Return the dataframe with missing information\n",
    "    return mis_val_table_ren_columns\n",
    "\n",
    "def format_float(value):\n",
    "    return f'{value:,.2f}'\n",
    "\n",
    "def find_agg(df:pd.DataFrame, agg_column:str, agg_metric:str, col_name:str, top:int, order=False )->pd.DataFrame:\n",
    "    \n",
    "    new_df = df.groupby(agg_column)[agg_column].agg(agg_metric).reset_index(name=col_name).\\\n",
    "                        sort_values(by=col_name, ascending=order)[:top]\n",
    "    \n",
    "    return new_df\n",
    "\n",
    "def convert_bytes_to_megabytes(df, bytes_data):\n",
    "    \"\"\"\n",
    "        This function takes the dataframe and the column which has the bytes values\n",
    "        returns the megabytesof that value\n",
    "        \n",
    "        Args:\n",
    "        -----\n",
    "        df: dataframe\n",
    "        bytes_data: column with bytes values\n",
    "        \n",
    "        Returns:\n",
    "        --------\n",
    "        A series\n",
    "    \"\"\"\n",
    "    \n",
    "    megabyte = 1*10e+5\n",
    "    df[bytes_data] = df[bytes_data] / megabyte\n",
    "    return df[bytes_data]\n",
    "\n",
    "def fix_outlier(df, column):\n",
    "    df[column] = np.where(df[column] > df[column].quantile(0.95), df[column].median(),df[column])\n",
    "    \n",
    "    return df[column]\n",
    "\n",
    "\n",
    "###################################PLOTTING FUNCTIONS###################################\n",
    "\n",
    "def plot_hist(df:pd.DataFrame, column:str, color:str)->None:\n",
    "    # plt.figure(figsize=(15, 10))\n",
    "    # fig, ax = plt.subplots(1, figsize=(12, 7))\n",
    "    sns.displot(data=df, x=column, color=color, kde=True, height=7, aspect=2)\n",
    "    plt.title(f'Distribution of {column}', size=20, fontweight='bold')\n",
    "    plt.show()\n",
    "\n",
    "def plot_count(df:pd.DataFrame, column:str) -> None:\n",
    "    plt.figure(figsize=(12, 7))\n",
    "    sns.countplot(data=df, x=column)\n",
    "    plt.title(f'Distribution of {column}', size=20, fontweight='bold')\n",
    "    plt.show()\n",
    "    \n",
    "def plot_bar(df:pd.DataFrame, x_col:str, y_col:str, title:str, xlabel:str, ylabel:str)->None:\n",
    "    plt.figure(figsize=(12, 7))\n",
    "    sns.barplot(data = df, x=x_col, y=y_col)\n",
    "    plt.title(title, size=20)\n",
    "    plt.xticks(rotation=75, fontsize=14)\n",
    "    plt.yticks( fontsize=14)\n",
    "    plt.xlabel(xlabel, fontsize=16)\n",
    "    plt.ylabel(ylabel, fontsize=16)\n",
    "    plt.show()\n",
    "\n",
    "def plot_heatmap(df:pd.DataFrame, title:str, cbar=False)->None:\n",
    "    plt.figure(figsize=(12, 7))\n",
    "    sns.heatmap(df, annot=True, cmap='viridis', vmin=0, vmax=1, fmt='.2f', linewidths=.7, cbar=cbar )\n",
    "    plt.title(title, size=18, fontweight='bold')\n",
    "    plt.show()\n",
    "\n",
    "def plot_box(df:pd.DataFrame, x_col:str, title:str) -> None:\n",
    "    plt.figure(figsize=(12, 7))\n",
    "    sns.boxplot(data = df, x=x_col)\n",
    "    plt.title(title, size=20)\n",
    "    plt.xticks(rotation=75, fontsize=14)\n",
    "    plt.show()\n",
    "\n",
    "def plot_box_multi(df:pd.DataFrame, x_col:str, y_col:str, title:str) -> None:\n",
    "    plt.figure(figsize=(12, 7))\n",
    "    sns.boxplot(data = df, x=x_col, y=y_col)\n",
    "    plt.title(title, size=20)\n",
    "    plt.xticks(rotation=75, fontsize=14)\n",
    "    plt.yticks( fontsize=14)\n",
    "    plt.show()\n",
    "\n",
    "def plot_scatter(df: pd.DataFrame, x_col: str, y_col: str, title: str, hue: str, style: str) -> None:\n",
    "    plt.figure(figsize=(12, 7))\n",
    "    sns.scatterplot(data = df, x=x_col, y=y_col, hue=hue, style=style)\n",
    "    plt.title(title, size=20)\n",
    "    plt.xticks(fontsize=14)\n",
    "    plt.yticks( fontsize=14)\n",
    "    plt.show()\n",
    "\n",
    "\n",
    "pd.options.display.float_format = format_float"
   ]
  },
  {
   "cell_type": "markdown",
   "id": "0646f25b",
   "metadata": {
    "id": "0646f25b"
   },
   "source": [
    "## Extracting Data"
   ]
  },
  {
   "cell_type": "code",
   "execution_count": 30,
   "id": "7903d60c",
   "metadata": {
    "colab": {
     "base_uri": "https://localhost:8080/"
    },
    "id": "7903d60c",
    "outputId": "20b5f5b9-77ce-4569-f187-c05aea5c7fcf"
   },
   "outputs": [
    {
     "name": "stdout",
     "output_type": "stream",
     "text": [
      "Bearer Id                         0\n",
      "Start                             0\n",
      "Start ms                          0\n",
      "End                               0\n",
      "End ms                            0\n",
      "Dur. (ms)                         0\n",
      "IMSI                              0\n",
      "MSISDN/Number                     0\n",
      "IMEI                              0\n",
      "Last Location Name                0\n",
      "Avg RTT DL (ms)                   0\n",
      "Avg RTT UL (ms)                   0\n",
      "Avg Bearer TP DL (kbps)           0\n",
      "Avg Bearer TP UL (kbps)           0\n",
      "DL TP < 50 Kbps (%)               0\n",
      "50 Kbps < DL TP < 250 Kbps (%)    0\n",
      "250 Kbps < DL TP < 1 Mbps (%)     0\n",
      "DL TP > 1 Mbps (%)                0\n",
      "UL TP < 10 Kbps (%)               0\n",
      "10 Kbps < UL TP < 50 Kbps (%)     0\n",
      "50 Kbps < UL TP < 300 Kbps (%)    0\n",
      "UL TP > 300 Kbps (%)              0\n",
      "Activity Duration DL (ms)         0\n",
      "Activity Duration UL (ms)         0\n",
      "Dur. (ms).1                       0\n",
      "Handset Manufacturer              0\n",
      "Handset Type                      0\n",
      "Nb of sec with Vol DL < 6250B     0\n",
      "Nb of sec with Vol UL < 1250B     0\n",
      "Social Media DL (Bytes)           0\n",
      "Social Media UL (Bytes)           0\n",
      "Google DL (Bytes)                 0\n",
      "Google UL (Bytes)                 0\n",
      "Email DL (Bytes)                  0\n",
      "Email UL (Bytes)                  0\n",
      "Youtube DL (Bytes)                0\n",
      "Youtube UL (Bytes)                0\n",
      "Netflix DL (Bytes)                0\n",
      "Netflix UL (Bytes)                0\n",
      "Gaming DL (Bytes)                 0\n",
      "Gaming UL (Bytes)                 0\n",
      "Other DL (Bytes)                  0\n",
      "Other UL (Bytes)                  0\n",
      "Total UL (Bytes)                  0\n",
      "Total DL (Bytes)                  0\n",
      "dtype: int64\n"
     ]
    }
   ],
   "source": [
    "info = DataFrameInfo(df_clean.df)\n",
    "info.get_null_counts()"
   ]
  },
  {
   "cell_type": "code",
   "execution_count": 31,
   "id": "17d1d430",
   "metadata": {
    "colab": {
     "base_uri": "https://localhost:8080/"
    },
    "id": "17d1d430",
    "outputId": "902a9e20-c8ed-494a-d733-6e5ac2a8cf69"
   },
   "outputs": [
    {
     "name": "stdout",
     "output_type": "stream",
     "text": [
      "Data Frame contain null values of 0.0%\n"
     ]
    }
   ],
   "source": [
    "info.null_percentage()"
   ]
  },
  {
   "cell_type": "markdown",
   "id": "AO5svY-OkM8x",
   "metadata": {
    "id": "AO5svY-OkM8x"
   },
   "source": [
    "## Exploration"
   ]
  },
  {
   "cell_type": "markdown",
   "id": "GsLiCqPI11Eg",
   "metadata": {
    "id": "GsLiCqPI11Eg"
   },
   "source": [
    "Data Exploration or Exploratory data analysis (EDA) is an approach to analyzing data sets to summarize their main characteristics which include:\n",
    "\n",
    "\n",
    "*   detection of mistakes, outliers or abnormalities\n",
    "*   determining relationships among the explanatory variables\n",
    "*   assessing the relationships between explanatory and outcome variables\n",
    "\n",
    "\n",
    "\n"
   ]
  },
  {
   "cell_type": "code",
   "execution_count": 32,
   "id": "YZLcV1ospKJT",
   "metadata": {
    "colab": {
     "base_uri": "https://localhost:8080/",
     "height": 461
    },
    "id": "YZLcV1ospKJT",
    "outputId": "c950a840-1c7d-4f91-f954-2d3b77aaadd2"
   },
   "outputs": [
    {
     "data": {
      "text/html": [
       "<div>\n",
       "<style scoped>\n",
       "    .dataframe tbody tr th:only-of-type {\n",
       "        vertical-align: middle;\n",
       "    }\n",
       "\n",
       "    .dataframe tbody tr th {\n",
       "        vertical-align: top;\n",
       "    }\n",
       "\n",
       "    .dataframe thead th {\n",
       "        text-align: right;\n",
       "    }\n",
       "</style>\n",
       "<table border=\"1\" class=\"dataframe\">\n",
       "  <thead>\n",
       "    <tr style=\"text-align: right;\">\n",
       "      <th></th>\n",
       "      <th>Bearer Id</th>\n",
       "      <th>Start</th>\n",
       "      <th>Start ms</th>\n",
       "      <th>End</th>\n",
       "      <th>End ms</th>\n",
       "      <th>IMSI</th>\n",
       "      <th>MSISDN/Number</th>\n",
       "      <th>IMEI</th>\n",
       "      <th>Last Location Name</th>\n",
       "      <th>Avg RTT DL (ms)</th>\n",
       "      <th>Avg RTT UL (ms)</th>\n",
       "      <th>Avg Bearer TP DL (kbps)</th>\n",
       "      <th>Avg Bearer TP UL (kbps)</th>\n",
       "      <th>DL TP &lt; 50 Kbps (%)</th>\n",
       "      <th>50 Kbps &lt; DL TP &lt; 250 Kbps (%)</th>\n",
       "      <th>250 Kbps &lt; DL TP &lt; 1 Mbps (%)</th>\n",
       "      <th>DL TP &gt; 1 Mbps (%)</th>\n",
       "      <th>UL TP &lt; 10 Kbps (%)</th>\n",
       "      <th>10 Kbps &lt; UL TP &lt; 50 Kbps (%)</th>\n",
       "      <th>50 Kbps &lt; UL TP &lt; 300 Kbps (%)</th>\n",
       "      <th>UL TP &gt; 300 Kbps (%)</th>\n",
       "      <th>Activity Duration DL (ms)</th>\n",
       "      <th>Activity Duration UL (ms)</th>\n",
       "      <th>Dur. (ms).1</th>\n",
       "      <th>Handset Manufacturer</th>\n",
       "      <th>Handset Type</th>\n",
       "      <th>Nb of sec with Vol DL &lt; 6250B</th>\n",
       "      <th>Nb of sec with Vol UL &lt; 1250B</th>\n",
       "      <th>Social Media DL (Bytes)</th>\n",
       "      <th>Social Media UL (Bytes)</th>\n",
       "      <th>Google DL (Bytes)</th>\n",
       "      <th>Google UL (Bytes)</th>\n",
       "      <th>Email DL (Bytes)</th>\n",
       "      <th>Email UL (Bytes)</th>\n",
       "      <th>Youtube DL (Bytes)</th>\n",
       "      <th>Youtube UL (Bytes)</th>\n",
       "      <th>Netflix DL (Bytes)</th>\n",
       "      <th>Netflix UL (Bytes)</th>\n",
       "      <th>Gaming DL (Bytes)</th>\n",
       "      <th>Gaming UL (Bytes)</th>\n",
       "      <th>Other DL (Bytes)</th>\n",
       "      <th>Other UL (Bytes)</th>\n",
       "      <th>Total UL (Bytes)</th>\n",
       "      <th>Total DL (Bytes)</th>\n",
       "    </tr>\n",
       "  </thead>\n",
       "  <tbody>\n",
       "    <tr>\n",
       "      <th>0</th>\n",
       "      <td>13,114,483,460,844,900,352.00</td>\n",
       "      <td>4/4/2019 12:01</td>\n",
       "      <td>770.00</td>\n",
       "      <td>4/25/2019 14:35</td>\n",
       "      <td>662.00</td>\n",
       "      <td>208,201,448,079,117.00</td>\n",
       "      <td>33,664,962,239.00</td>\n",
       "      <td>35,521,209,507,511.00</td>\n",
       "      <td>9.16456699548519E+015</td>\n",
       "      <td>42.00</td>\n",
       "      <td>5.00</td>\n",
       "      <td>23.00</td>\n",
       "      <td>44.00</td>\n",
       "      <td>100.00</td>\n",
       "      <td>0.00</td>\n",
       "      <td>0.00</td>\n",
       "      <td>0.00</td>\n",
       "      <td>100.00</td>\n",
       "      <td>0.00</td>\n",
       "      <td>0.00</td>\n",
       "      <td>0.00</td>\n",
       "      <td>37,624.00</td>\n",
       "      <td>38,787.00</td>\n",
       "      <td>1,823,652,892.00</td>\n",
       "      <td>Samsung</td>\n",
       "      <td>Samsung Galaxy A5 Sm-A520F</td>\n",
       "      <td>213.00</td>\n",
       "      <td>214.00</td>\n",
       "      <td>1,545,765.00</td>\n",
       "      <td>24,420.00</td>\n",
       "      <td>1,634,479.00</td>\n",
       "      <td>1,271,433.00</td>\n",
       "      <td>3,563,542.00</td>\n",
       "      <td>137,762.00</td>\n",
       "      <td>15,854,611.00</td>\n",
       "      <td>2,501,332.00</td>\n",
       "      <td>8,198,936.00</td>\n",
       "      <td>9,656,251.00</td>\n",
       "      <td>278,082,303.00</td>\n",
       "      <td>14,344,150.00</td>\n",
       "      <td>171,744,450.00</td>\n",
       "      <td>8,814,393.00</td>\n",
       "      <td>36,749,741.00</td>\n",
       "      <td>308,879,636.00</td>\n",
       "    </tr>\n",
       "    <tr>\n",
       "      <th>1</th>\n",
       "      <td>13,114,483,482,878,900,224.00</td>\n",
       "      <td>4/9/2019 13:04</td>\n",
       "      <td>235.00</td>\n",
       "      <td>4/25/2019 8:15</td>\n",
       "      <td>606.00</td>\n",
       "      <td>208,201,909,211,140.00</td>\n",
       "      <td>33,681,854,413.00</td>\n",
       "      <td>35,794,009,006,359.00</td>\n",
       "      <td>L77566A</td>\n",
       "      <td>65.00</td>\n",
       "      <td>5.00</td>\n",
       "      <td>16.00</td>\n",
       "      <td>26.00</td>\n",
       "      <td>100.00</td>\n",
       "      <td>0.00</td>\n",
       "      <td>0.00</td>\n",
       "      <td>0.00</td>\n",
       "      <td>100.00</td>\n",
       "      <td>0.00</td>\n",
       "      <td>0.00</td>\n",
       "      <td>0.00</td>\n",
       "      <td>168.00</td>\n",
       "      <td>3,560.00</td>\n",
       "      <td>1,365,104,371.00</td>\n",
       "      <td>Samsung</td>\n",
       "      <td>Samsung Galaxy J5 (Sm-J530)</td>\n",
       "      <td>971.00</td>\n",
       "      <td>1,022.00</td>\n",
       "      <td>1,926,113.00</td>\n",
       "      <td>7,165.00</td>\n",
       "      <td>3,493,924.00</td>\n",
       "      <td>920,172.00</td>\n",
       "      <td>629,046.00</td>\n",
       "      <td>308,339.00</td>\n",
       "      <td>20,247,395.00</td>\n",
       "      <td>19,111,729.00</td>\n",
       "      <td>18,338,413.00</td>\n",
       "      <td>17,227,132.00</td>\n",
       "      <td>608,750,074.00</td>\n",
       "      <td>1,170,709.00</td>\n",
       "      <td>526,904,238.00</td>\n",
       "      <td>15,055,145.00</td>\n",
       "      <td>53,800,391.00</td>\n",
       "      <td>653,384,965.00</td>\n",
       "    </tr>\n",
       "    <tr>\n",
       "      <th>2</th>\n",
       "      <td>13,114,483,484,080,500,736.00</td>\n",
       "      <td>4/9/2019 17:42</td>\n",
       "      <td>1.00</td>\n",
       "      <td>4/25/2019 11:58</td>\n",
       "      <td>652.00</td>\n",
       "      <td>208,200,314,458,056.00</td>\n",
       "      <td>33,760,627,129.00</td>\n",
       "      <td>35,281,510,359,387.00</td>\n",
       "      <td>D42335A</td>\n",
       "      <td>28.00</td>\n",
       "      <td>5.00</td>\n",
       "      <td>6.00</td>\n",
       "      <td>9.00</td>\n",
       "      <td>100.00</td>\n",
       "      <td>0.00</td>\n",
       "      <td>0.00</td>\n",
       "      <td>0.00</td>\n",
       "      <td>100.00</td>\n",
       "      <td>0.00</td>\n",
       "      <td>0.00</td>\n",
       "      <td>0.00</td>\n",
       "      <td>0.00</td>\n",
       "      <td>0.00</td>\n",
       "      <td>1,361,762,651.00</td>\n",
       "      <td>Samsung</td>\n",
       "      <td>Samsung Galaxy A8 (2018)</td>\n",
       "      <td>751.00</td>\n",
       "      <td>695.00</td>\n",
       "      <td>1,684,053.00</td>\n",
       "      <td>42,224.00</td>\n",
       "      <td>8,535,055.00</td>\n",
       "      <td>1,694,064.00</td>\n",
       "      <td>2,690,151.00</td>\n",
       "      <td>672,973.00</td>\n",
       "      <td>19,725,661.00</td>\n",
       "      <td>14,699,576.00</td>\n",
       "      <td>17,587,794.00</td>\n",
       "      <td>6,163,408.00</td>\n",
       "      <td>229,584,621.00</td>\n",
       "      <td>395,630.00</td>\n",
       "      <td>410,692,588.00</td>\n",
       "      <td>4,215,763.00</td>\n",
       "      <td>27,883,638.00</td>\n",
       "      <td>279,807,335.00</td>\n",
       "    </tr>\n",
       "    <tr>\n",
       "      <th>3</th>\n",
       "      <td>13,114,483,485,442,799,616.00</td>\n",
       "      <td>4/10/2019 0:31</td>\n",
       "      <td>486.00</td>\n",
       "      <td>4/25/2019 7:36</td>\n",
       "      <td>171.00</td>\n",
       "      <td>208,201,402,342,131.00</td>\n",
       "      <td>33,750,343,200.00</td>\n",
       "      <td>35,356,610,164,913.00</td>\n",
       "      <td>T21824A</td>\n",
       "      <td>28.00</td>\n",
       "      <td>5.00</td>\n",
       "      <td>44.00</td>\n",
       "      <td>44.00</td>\n",
       "      <td>100.00</td>\n",
       "      <td>0.00</td>\n",
       "      <td>0.00</td>\n",
       "      <td>0.00</td>\n",
       "      <td>100.00</td>\n",
       "      <td>0.00</td>\n",
       "      <td>0.00</td>\n",
       "      <td>0.00</td>\n",
       "      <td>3,330.00</td>\n",
       "      <td>37,882.00</td>\n",
       "      <td>1,321,509,685.00</td>\n",
       "      <td>NaN</td>\n",
       "      <td>NaN</td>\n",
       "      <td>17.00</td>\n",
       "      <td>207.00</td>\n",
       "      <td>644,121.00</td>\n",
       "      <td>13,372.00</td>\n",
       "      <td>9,023,734.00</td>\n",
       "      <td>2,788,027.00</td>\n",
       "      <td>1,439,754.00</td>\n",
       "      <td>631,229.00</td>\n",
       "      <td>21,388,122.00</td>\n",
       "      <td>15,146,643.00</td>\n",
       "      <td>13,994,646.00</td>\n",
       "      <td>1,097,942.00</td>\n",
       "      <td>799,538,153.00</td>\n",
       "      <td>10,849,722.00</td>\n",
       "      <td>749,039,933.00</td>\n",
       "      <td>12,797,283.00</td>\n",
       "      <td>43,324,218.00</td>\n",
       "      <td>846,028,530.00</td>\n",
       "    </tr>\n",
       "    <tr>\n",
       "      <th>4</th>\n",
       "      <td>13,114,483,499,480,700,928.00</td>\n",
       "      <td>4/12/2019 20:10</td>\n",
       "      <td>565.00</td>\n",
       "      <td>4/25/2019 10:40</td>\n",
       "      <td>954.00</td>\n",
       "      <td>208,201,401,415,120.00</td>\n",
       "      <td>33,699,795,932.00</td>\n",
       "      <td>35,407,009,745,539.00</td>\n",
       "      <td>D88865A</td>\n",
       "      <td>28.00</td>\n",
       "      <td>5.00</td>\n",
       "      <td>6.00</td>\n",
       "      <td>9.00</td>\n",
       "      <td>100.00</td>\n",
       "      <td>0.00</td>\n",
       "      <td>0.00</td>\n",
       "      <td>0.00</td>\n",
       "      <td>100.00</td>\n",
       "      <td>0.00</td>\n",
       "      <td>0.00</td>\n",
       "      <td>0.00</td>\n",
       "      <td>0.00</td>\n",
       "      <td>0.00</td>\n",
       "      <td>1,089,009,389.00</td>\n",
       "      <td>Samsung</td>\n",
       "      <td>Samsung Sm-G390F</td>\n",
       "      <td>607.00</td>\n",
       "      <td>604.00</td>\n",
       "      <td>862,600.00</td>\n",
       "      <td>50,188.00</td>\n",
       "      <td>6,248,284.00</td>\n",
       "      <td>1,500,559.00</td>\n",
       "      <td>1,936,496.00</td>\n",
       "      <td>173,853.00</td>\n",
       "      <td>15,259,380.00</td>\n",
       "      <td>18,962,873.00</td>\n",
       "      <td>17,124,581.00</td>\n",
       "      <td>415,218.00</td>\n",
       "      <td>527,707,248.00</td>\n",
       "      <td>3,529,801.00</td>\n",
       "      <td>550,709,500.00</td>\n",
       "      <td>13,910,322.00</td>\n",
       "      <td>38,542,814.00</td>\n",
       "      <td>569,138,589.00</td>\n",
       "    </tr>\n",
       "    <tr>\n",
       "      <th>...</th>\n",
       "      <td>...</td>\n",
       "      <td>...</td>\n",
       "      <td>...</td>\n",
       "      <td>...</td>\n",
       "      <td>...</td>\n",
       "      <td>...</td>\n",
       "      <td>...</td>\n",
       "      <td>...</td>\n",
       "      <td>...</td>\n",
       "      <td>...</td>\n",
       "      <td>...</td>\n",
       "      <td>...</td>\n",
       "      <td>...</td>\n",
       "      <td>...</td>\n",
       "      <td>...</td>\n",
       "      <td>...</td>\n",
       "      <td>...</td>\n",
       "      <td>...</td>\n",
       "      <td>...</td>\n",
       "      <td>...</td>\n",
       "      <td>...</td>\n",
       "      <td>...</td>\n",
       "      <td>...</td>\n",
       "      <td>...</td>\n",
       "      <td>...</td>\n",
       "      <td>...</td>\n",
       "      <td>...</td>\n",
       "      <td>...</td>\n",
       "      <td>...</td>\n",
       "      <td>...</td>\n",
       "      <td>...</td>\n",
       "      <td>...</td>\n",
       "      <td>...</td>\n",
       "      <td>...</td>\n",
       "      <td>...</td>\n",
       "      <td>...</td>\n",
       "      <td>...</td>\n",
       "      <td>...</td>\n",
       "      <td>...</td>\n",
       "      <td>...</td>\n",
       "      <td>...</td>\n",
       "      <td>...</td>\n",
       "      <td>...</td>\n",
       "      <td>...</td>\n",
       "    </tr>\n",
       "    <tr>\n",
       "      <th>148501</th>\n",
       "      <td>13,042,425,979,329,300,480.00</td>\n",
       "      <td>4/29/2019 7:28</td>\n",
       "      <td>615.00</td>\n",
       "      <td>4/30/2019 0:01</td>\n",
       "      <td>407.00</td>\n",
       "      <td>208,201,402,604,057.00</td>\n",
       "      <td>33,668,648,496.00</td>\n",
       "      <td>35,332,510,508,318.00</td>\n",
       "      <td>T85721A</td>\n",
       "      <td>313.00</td>\n",
       "      <td>9.00</td>\n",
       "      <td>63,420.00</td>\n",
       "      <td>1,393.00</td>\n",
       "      <td>54.00</td>\n",
       "      <td>23.00</td>\n",
       "      <td>9.00</td>\n",
       "      <td>12.00</td>\n",
       "      <td>96.00</td>\n",
       "      <td>3.00</td>\n",
       "      <td>0.00</td>\n",
       "      <td>0.00</td>\n",
       "      <td>3,380,381.00</td>\n",
       "      <td>2,355,730.00</td>\n",
       "      <td>59,587,792.00</td>\n",
       "      <td>NaN</td>\n",
       "      <td>NaN</td>\n",
       "      <td>4,801.00</td>\n",
       "      <td>8,448.00</td>\n",
       "      <td>962,097.00</td>\n",
       "      <td>31,078.00</td>\n",
       "      <td>1,139,573.00</td>\n",
       "      <td>126,061.00</td>\n",
       "      <td>3,459,965.00</td>\n",
       "      <td>820,142.00</td>\n",
       "      <td>6,550,499.00</td>\n",
       "      <td>18,003,146.00</td>\n",
       "      <td>22,468,983.00</td>\n",
       "      <td>7,149,728.00</td>\n",
       "      <td>784,435,351.00</td>\n",
       "      <td>12,724,751.00</td>\n",
       "      <td>321,383,162.00</td>\n",
       "      <td>14,890,486.00</td>\n",
       "      <td>53,745,392.00</td>\n",
       "      <td>819,016,468.00</td>\n",
       "    </tr>\n",
       "    <tr>\n",
       "      <th>148502</th>\n",
       "      <td>7,277,825,670,196,679,680.00</td>\n",
       "      <td>4/29/2019 7:28</td>\n",
       "      <td>451.00</td>\n",
       "      <td>4/30/2019 6:02</td>\n",
       "      <td>214.00</td>\n",
       "      <td>208,202,201,200,072.00</td>\n",
       "      <td>33,650,688,697.00</td>\n",
       "      <td>35,483,109,451,938.00</td>\n",
       "      <td>D20434A</td>\n",
       "      <td>32.00</td>\n",
       "      <td>0.00</td>\n",
       "      <td>52.00</td>\n",
       "      <td>65.00</td>\n",
       "      <td>100.00</td>\n",
       "      <td>0.00</td>\n",
       "      <td>0.00</td>\n",
       "      <td>0.00</td>\n",
       "      <td>100.00</td>\n",
       "      <td>0.00</td>\n",
       "      <td>0.00</td>\n",
       "      <td>0.00</td>\n",
       "      <td>42,376.00</td>\n",
       "      <td>41,915.00</td>\n",
       "      <td>81,230,763.00</td>\n",
       "      <td>Apple</td>\n",
       "      <td>Apple iPhone 8 Plus (A1897)</td>\n",
       "      <td>223.00</td>\n",
       "      <td>229.00</td>\n",
       "      <td>3,464,974.00</td>\n",
       "      <td>52,091.00</td>\n",
       "      <td>9,967,603.00</td>\n",
       "      <td>2,817,311.00</td>\n",
       "      <td>57,639.00</td>\n",
       "      <td>633,237.00</td>\n",
       "      <td>16,191,667.00</td>\n",
       "      <td>11,763,428.00</td>\n",
       "      <td>17,883,703.00</td>\n",
       "      <td>19,678,161.00</td>\n",
       "      <td>526,609,673.00</td>\n",
       "      <td>9,197,207.00</td>\n",
       "      <td>3,264,510.00</td>\n",
       "      <td>13,487,416.00</td>\n",
       "      <td>57,628,851.00</td>\n",
       "      <td>574,175,259.00</td>\n",
       "    </tr>\n",
       "    <tr>\n",
       "      <th>148503</th>\n",
       "      <td>7,349,883,264,234,609,664.00</td>\n",
       "      <td>4/29/2019 7:28</td>\n",
       "      <td>483.00</td>\n",
       "      <td>4/30/2019 10:41</td>\n",
       "      <td>187.00</td>\n",
       "      <td>208,201,908,153,249.00</td>\n",
       "      <td>33,663,449,963.00</td>\n",
       "      <td>35,660,508,296,467.00</td>\n",
       "      <td>D10223C</td>\n",
       "      <td>27.00</td>\n",
       "      <td>2.00</td>\n",
       "      <td>23.00</td>\n",
       "      <td>54.00</td>\n",
       "      <td>100.00</td>\n",
       "      <td>0.00</td>\n",
       "      <td>0.00</td>\n",
       "      <td>0.00</td>\n",
       "      <td>100.00</td>\n",
       "      <td>0.00</td>\n",
       "      <td>0.00</td>\n",
       "      <td>0.00</td>\n",
       "      <td>17,264.00</td>\n",
       "      <td>16,759.00</td>\n",
       "      <td>97,970,704.00</td>\n",
       "      <td>Apple</td>\n",
       "      <td>Apple iPhone Se (A1723)</td>\n",
       "      <td>105.00</td>\n",
       "      <td>102.00</td>\n",
       "      <td>2,344,568.00</td>\n",
       "      <td>7,613.00</td>\n",
       "      <td>2,229,420.00</td>\n",
       "      <td>2,185,941.00</td>\n",
       "      <td>1,954,414.00</td>\n",
       "      <td>167,304.00</td>\n",
       "      <td>13,877,234.00</td>\n",
       "      <td>8,288,284.00</td>\n",
       "      <td>19,350,146.00</td>\n",
       "      <td>21,293,148.00</td>\n",
       "      <td>626,893,062.00</td>\n",
       "      <td>4,735,033.00</td>\n",
       "      <td>712,180,387.00</td>\n",
       "      <td>2,457,758.00</td>\n",
       "      <td>39,135,081.00</td>\n",
       "      <td>666,648,844.00</td>\n",
       "    </tr>\n",
       "    <tr>\n",
       "      <th>148504</th>\n",
       "      <td>13,114,483,573,367,300,096.00</td>\n",
       "      <td>4/29/2019 7:28</td>\n",
       "      <td>283.00</td>\n",
       "      <td>4/30/2019 10:46</td>\n",
       "      <td>810.00</td>\n",
       "      <td>208,201,711,161,187.00</td>\n",
       "      <td>33,621,890,103.00</td>\n",
       "      <td>35,721,209,870,907.00</td>\n",
       "      <td>T51102A</td>\n",
       "      <td>43.00</td>\n",
       "      <td>6.00</td>\n",
       "      <td>43.00</td>\n",
       "      <td>47.00</td>\n",
       "      <td>100.00</td>\n",
       "      <td>0.00</td>\n",
       "      <td>0.00</td>\n",
       "      <td>0.00</td>\n",
       "      <td>100.00</td>\n",
       "      <td>0.00</td>\n",
       "      <td>0.00</td>\n",
       "      <td>0.00</td>\n",
       "      <td>25,003.00</td>\n",
       "      <td>28,640.00</td>\n",
       "      <td>98,249,527.00</td>\n",
       "      <td>Apple</td>\n",
       "      <td>Apple iPhone Xs (A2097)</td>\n",
       "      <td>104.00</td>\n",
       "      <td>108.00</td>\n",
       "      <td>1,245,845.00</td>\n",
       "      <td>14,394.00</td>\n",
       "      <td>3,850,890.00</td>\n",
       "      <td>2,734,579.00</td>\n",
       "      <td>1,525,734.00</td>\n",
       "      <td>532,543.00</td>\n",
       "      <td>22,660,510.00</td>\n",
       "      <td>1,855,903.00</td>\n",
       "      <td>9,963,942.00</td>\n",
       "      <td>5,065,760.00</td>\n",
       "      <td>553,539,484.00</td>\n",
       "      <td>13,394,316.00</td>\n",
       "      <td>121,100,856.00</td>\n",
       "      <td>11,314,729.00</td>\n",
       "      <td>34,912,224.00</td>\n",
       "      <td>592,786,405.00</td>\n",
       "    </tr>\n",
       "    <tr>\n",
       "      <th>148505</th>\n",
       "      <td>13,114,483,573,367,300,096.00</td>\n",
       "      <td>4/29/2019 7:28</td>\n",
       "      <td>696.00</td>\n",
       "      <td>4/30/2019 10:40</td>\n",
       "      <td>327.00</td>\n",
       "      <td>208,202,101,098,075.00</td>\n",
       "      <td>33,619,622,058.00</td>\n",
       "      <td>86,186,204,011,457.00</td>\n",
       "      <td>L88342B</td>\n",
       "      <td>37.00</td>\n",
       "      <td>5.00</td>\n",
       "      <td>34.00</td>\n",
       "      <td>37.00</td>\n",
       "      <td>100.00</td>\n",
       "      <td>0.00</td>\n",
       "      <td>0.00</td>\n",
       "      <td>0.00</td>\n",
       "      <td>100.00</td>\n",
       "      <td>0.00</td>\n",
       "      <td>0.00</td>\n",
       "      <td>0.00</td>\n",
       "      <td>13,405.00</td>\n",
       "      <td>34,088.00</td>\n",
       "      <td>97,910,631.00</td>\n",
       "      <td>Huawei</td>\n",
       "      <td>Huawei Fig-Lx1</td>\n",
       "      <td>43.00</td>\n",
       "      <td>82.00</td>\n",
       "      <td>801,547.00</td>\n",
       "      <td>21,562.00</td>\n",
       "      <td>4,189,773.00</td>\n",
       "      <td>3,567,494.00</td>\n",
       "      <td>2,228,270.00</td>\n",
       "      <td>622,644.00</td>\n",
       "      <td>8,817,106.00</td>\n",
       "      <td>8,305,402.00</td>\n",
       "      <td>3,322,253.00</td>\n",
       "      <td>13,172,589.00</td>\n",
       "      <td>352,536,971.00</td>\n",
       "      <td>2,529,475.00</td>\n",
       "      <td>814,713,113.00</td>\n",
       "      <td>1,406,930.00</td>\n",
       "      <td>29,626,096.00</td>\n",
       "      <td>371,895,920.00</td>\n",
       "    </tr>\n",
       "  </tbody>\n",
       "</table>\n",
       "<p>148506 rows × 44 columns</p>\n",
       "</div>"
      ],
      "text/plain": [
       "                           Bearer Id            Start  Start ms  \\\n",
       "0      13,114,483,460,844,900,352.00   4/4/2019 12:01    770.00   \n",
       "1      13,114,483,482,878,900,224.00   4/9/2019 13:04    235.00   \n",
       "2      13,114,483,484,080,500,736.00   4/9/2019 17:42      1.00   \n",
       "3      13,114,483,485,442,799,616.00   4/10/2019 0:31    486.00   \n",
       "4      13,114,483,499,480,700,928.00  4/12/2019 20:10    565.00   \n",
       "...                              ...              ...       ...   \n",
       "148501 13,042,425,979,329,300,480.00   4/29/2019 7:28    615.00   \n",
       "148502  7,277,825,670,196,679,680.00   4/29/2019 7:28    451.00   \n",
       "148503  7,349,883,264,234,609,664.00   4/29/2019 7:28    483.00   \n",
       "148504 13,114,483,573,367,300,096.00   4/29/2019 7:28    283.00   \n",
       "148505 13,114,483,573,367,300,096.00   4/29/2019 7:28    696.00   \n",
       "\n",
       "                    End  End ms                   IMSI     MSISDN/Number  \\\n",
       "0       4/25/2019 14:35  662.00 208,201,448,079,117.00 33,664,962,239.00   \n",
       "1        4/25/2019 8:15  606.00 208,201,909,211,140.00 33,681,854,413.00   \n",
       "2       4/25/2019 11:58  652.00 208,200,314,458,056.00 33,760,627,129.00   \n",
       "3        4/25/2019 7:36  171.00 208,201,402,342,131.00 33,750,343,200.00   \n",
       "4       4/25/2019 10:40  954.00 208,201,401,415,120.00 33,699,795,932.00   \n",
       "...                 ...     ...                    ...               ...   \n",
       "148501   4/30/2019 0:01  407.00 208,201,402,604,057.00 33,668,648,496.00   \n",
       "148502   4/30/2019 6:02  214.00 208,202,201,200,072.00 33,650,688,697.00   \n",
       "148503  4/30/2019 10:41  187.00 208,201,908,153,249.00 33,663,449,963.00   \n",
       "148504  4/30/2019 10:46  810.00 208,201,711,161,187.00 33,621,890,103.00   \n",
       "148505  4/30/2019 10:40  327.00 208,202,101,098,075.00 33,619,622,058.00   \n",
       "\n",
       "                        IMEI     Last Location Name  Avg RTT DL (ms)  \\\n",
       "0      35,521,209,507,511.00  9.16456699548519E+015            42.00   \n",
       "1      35,794,009,006,359.00                L77566A            65.00   \n",
       "2      35,281,510,359,387.00                D42335A            28.00   \n",
       "3      35,356,610,164,913.00                T21824A            28.00   \n",
       "4      35,407,009,745,539.00                D88865A            28.00   \n",
       "...                      ...                    ...              ...   \n",
       "148501 35,332,510,508,318.00                T85721A           313.00   \n",
       "148502 35,483,109,451,938.00                D20434A            32.00   \n",
       "148503 35,660,508,296,467.00                D10223C            27.00   \n",
       "148504 35,721,209,870,907.00                T51102A            43.00   \n",
       "148505 86,186,204,011,457.00                L88342B            37.00   \n",
       "\n",
       "        Avg RTT UL (ms)  Avg Bearer TP DL (kbps)  Avg Bearer TP UL (kbps)  \\\n",
       "0                  5.00                    23.00                    44.00   \n",
       "1                  5.00                    16.00                    26.00   \n",
       "2                  5.00                     6.00                     9.00   \n",
       "3                  5.00                    44.00                    44.00   \n",
       "4                  5.00                     6.00                     9.00   \n",
       "...                 ...                      ...                      ...   \n",
       "148501             9.00                63,420.00                 1,393.00   \n",
       "148502             0.00                    52.00                    65.00   \n",
       "148503             2.00                    23.00                    54.00   \n",
       "148504             6.00                    43.00                    47.00   \n",
       "148505             5.00                    34.00                    37.00   \n",
       "\n",
       "        DL TP < 50 Kbps (%)  50 Kbps < DL TP < 250 Kbps (%)  \\\n",
       "0                    100.00                            0.00   \n",
       "1                    100.00                            0.00   \n",
       "2                    100.00                            0.00   \n",
       "3                    100.00                            0.00   \n",
       "4                    100.00                            0.00   \n",
       "...                     ...                             ...   \n",
       "148501                54.00                           23.00   \n",
       "148502               100.00                            0.00   \n",
       "148503               100.00                            0.00   \n",
       "148504               100.00                            0.00   \n",
       "148505               100.00                            0.00   \n",
       "\n",
       "        250 Kbps < DL TP < 1 Mbps (%)  DL TP > 1 Mbps (%)  \\\n",
       "0                                0.00                0.00   \n",
       "1                                0.00                0.00   \n",
       "2                                0.00                0.00   \n",
       "3                                0.00                0.00   \n",
       "4                                0.00                0.00   \n",
       "...                               ...                 ...   \n",
       "148501                           9.00               12.00   \n",
       "148502                           0.00                0.00   \n",
       "148503                           0.00                0.00   \n",
       "148504                           0.00                0.00   \n",
       "148505                           0.00                0.00   \n",
       "\n",
       "        UL TP < 10 Kbps (%)  10 Kbps < UL TP < 50 Kbps (%)  \\\n",
       "0                    100.00                           0.00   \n",
       "1                    100.00                           0.00   \n",
       "2                    100.00                           0.00   \n",
       "3                    100.00                           0.00   \n",
       "4                    100.00                           0.00   \n",
       "...                     ...                            ...   \n",
       "148501                96.00                           3.00   \n",
       "148502               100.00                           0.00   \n",
       "148503               100.00                           0.00   \n",
       "148504               100.00                           0.00   \n",
       "148505               100.00                           0.00   \n",
       "\n",
       "        50 Kbps < UL TP < 300 Kbps (%)  UL TP > 300 Kbps (%)  \\\n",
       "0                                 0.00                  0.00   \n",
       "1                                 0.00                  0.00   \n",
       "2                                 0.00                  0.00   \n",
       "3                                 0.00                  0.00   \n",
       "4                                 0.00                  0.00   \n",
       "...                                ...                   ...   \n",
       "148501                            0.00                  0.00   \n",
       "148502                            0.00                  0.00   \n",
       "148503                            0.00                  0.00   \n",
       "148504                            0.00                  0.00   \n",
       "148505                            0.00                  0.00   \n",
       "\n",
       "        Activity Duration DL (ms)  Activity Duration UL (ms)      Dur. (ms).1  \\\n",
       "0                       37,624.00                  38,787.00 1,823,652,892.00   \n",
       "1                          168.00                   3,560.00 1,365,104,371.00   \n",
       "2                            0.00                       0.00 1,361,762,651.00   \n",
       "3                        3,330.00                  37,882.00 1,321,509,685.00   \n",
       "4                            0.00                       0.00 1,089,009,389.00   \n",
       "...                           ...                        ...              ...   \n",
       "148501               3,380,381.00               2,355,730.00    59,587,792.00   \n",
       "148502                  42,376.00                  41,915.00    81,230,763.00   \n",
       "148503                  17,264.00                  16,759.00    97,970,704.00   \n",
       "148504                  25,003.00                  28,640.00    98,249,527.00   \n",
       "148505                  13,405.00                  34,088.00    97,910,631.00   \n",
       "\n",
       "       Handset Manufacturer                 Handset Type  \\\n",
       "0                   Samsung   Samsung Galaxy A5 Sm-A520F   \n",
       "1                   Samsung  Samsung Galaxy J5 (Sm-J530)   \n",
       "2                   Samsung     Samsung Galaxy A8 (2018)   \n",
       "3                       NaN                          NaN   \n",
       "4                   Samsung             Samsung Sm-G390F   \n",
       "...                     ...                          ...   \n",
       "148501                  NaN                          NaN   \n",
       "148502                Apple  Apple iPhone 8 Plus (A1897)   \n",
       "148503                Apple      Apple iPhone Se (A1723)   \n",
       "148504                Apple      Apple iPhone Xs (A2097)   \n",
       "148505               Huawei               Huawei Fig-Lx1   \n",
       "\n",
       "        Nb of sec with Vol DL < 6250B  Nb of sec with Vol UL < 1250B  \\\n",
       "0                              213.00                         214.00   \n",
       "1                              971.00                       1,022.00   \n",
       "2                              751.00                         695.00   \n",
       "3                               17.00                         207.00   \n",
       "4                              607.00                         604.00   \n",
       "...                               ...                            ...   \n",
       "148501                       4,801.00                       8,448.00   \n",
       "148502                         223.00                         229.00   \n",
       "148503                         105.00                         102.00   \n",
       "148504                         104.00                         108.00   \n",
       "148505                          43.00                          82.00   \n",
       "\n",
       "        Social Media DL (Bytes)  Social Media UL (Bytes)  Google DL (Bytes)  \\\n",
       "0                  1,545,765.00                24,420.00       1,634,479.00   \n",
       "1                  1,926,113.00                 7,165.00       3,493,924.00   \n",
       "2                  1,684,053.00                42,224.00       8,535,055.00   \n",
       "3                    644,121.00                13,372.00       9,023,734.00   \n",
       "4                    862,600.00                50,188.00       6,248,284.00   \n",
       "...                         ...                      ...                ...   \n",
       "148501               962,097.00                31,078.00       1,139,573.00   \n",
       "148502             3,464,974.00                52,091.00       9,967,603.00   \n",
       "148503             2,344,568.00                 7,613.00       2,229,420.00   \n",
       "148504             1,245,845.00                14,394.00       3,850,890.00   \n",
       "148505               801,547.00                21,562.00       4,189,773.00   \n",
       "\n",
       "        Google UL (Bytes)  Email DL (Bytes)  Email UL (Bytes)  \\\n",
       "0            1,271,433.00      3,563,542.00        137,762.00   \n",
       "1              920,172.00        629,046.00        308,339.00   \n",
       "2            1,694,064.00      2,690,151.00        672,973.00   \n",
       "3            2,788,027.00      1,439,754.00        631,229.00   \n",
       "4            1,500,559.00      1,936,496.00        173,853.00   \n",
       "...                   ...               ...               ...   \n",
       "148501         126,061.00      3,459,965.00        820,142.00   \n",
       "148502       2,817,311.00         57,639.00        633,237.00   \n",
       "148503       2,185,941.00      1,954,414.00        167,304.00   \n",
       "148504       2,734,579.00      1,525,734.00        532,543.00   \n",
       "148505       3,567,494.00      2,228,270.00        622,644.00   \n",
       "\n",
       "        Youtube DL (Bytes)  Youtube UL (Bytes)  Netflix DL (Bytes)  \\\n",
       "0            15,854,611.00        2,501,332.00        8,198,936.00   \n",
       "1            20,247,395.00       19,111,729.00       18,338,413.00   \n",
       "2            19,725,661.00       14,699,576.00       17,587,794.00   \n",
       "3            21,388,122.00       15,146,643.00       13,994,646.00   \n",
       "4            15,259,380.00       18,962,873.00       17,124,581.00   \n",
       "...                    ...                 ...                 ...   \n",
       "148501        6,550,499.00       18,003,146.00       22,468,983.00   \n",
       "148502       16,191,667.00       11,763,428.00       17,883,703.00   \n",
       "148503       13,877,234.00        8,288,284.00       19,350,146.00   \n",
       "148504       22,660,510.00        1,855,903.00        9,963,942.00   \n",
       "148505        8,817,106.00        8,305,402.00        3,322,253.00   \n",
       "\n",
       "        Netflix UL (Bytes)  Gaming DL (Bytes)  Gaming UL (Bytes)  \\\n",
       "0             9,656,251.00     278,082,303.00      14,344,150.00   \n",
       "1            17,227,132.00     608,750,074.00       1,170,709.00   \n",
       "2             6,163,408.00     229,584,621.00         395,630.00   \n",
       "3             1,097,942.00     799,538,153.00      10,849,722.00   \n",
       "4               415,218.00     527,707,248.00       3,529,801.00   \n",
       "...                    ...                ...                ...   \n",
       "148501        7,149,728.00     784,435,351.00      12,724,751.00   \n",
       "148502       19,678,161.00     526,609,673.00       9,197,207.00   \n",
       "148503       21,293,148.00     626,893,062.00       4,735,033.00   \n",
       "148504        5,065,760.00     553,539,484.00      13,394,316.00   \n",
       "148505       13,172,589.00     352,536,971.00       2,529,475.00   \n",
       "\n",
       "        Other DL (Bytes)  Other UL (Bytes)  Total UL (Bytes)  Total DL (Bytes)  \n",
       "0         171,744,450.00      8,814,393.00     36,749,741.00    308,879,636.00  \n",
       "1         526,904,238.00     15,055,145.00     53,800,391.00    653,384,965.00  \n",
       "2         410,692,588.00      4,215,763.00     27,883,638.00    279,807,335.00  \n",
       "3         749,039,933.00     12,797,283.00     43,324,218.00    846,028,530.00  \n",
       "4         550,709,500.00     13,910,322.00     38,542,814.00    569,138,589.00  \n",
       "...                  ...               ...               ...               ...  \n",
       "148501    321,383,162.00     14,890,486.00     53,745,392.00    819,016,468.00  \n",
       "148502      3,264,510.00     13,487,416.00     57,628,851.00    574,175,259.00  \n",
       "148503    712,180,387.00      2,457,758.00     39,135,081.00    666,648,844.00  \n",
       "148504    121,100,856.00     11,314,729.00     34,912,224.00    592,786,405.00  \n",
       "148505    814,713,113.00      1,406,930.00     29,626,096.00    371,895,920.00  \n",
       "\n",
       "[148506 rows x 44 columns]"
      ]
     },
     "execution_count": 32,
     "metadata": {},
     "output_type": "execute_result"
    }
   ],
   "source": [
    "file_name = 'clean_telecommunication_data.csv'\n",
    "dfExp = file.read_csv(file_name)\n",
    "dfExp"
   ]
  },
  {
   "cell_type": "code",
   "execution_count": 33,
   "id": "3kpTKBZukKug",
   "metadata": {
    "colab": {
     "base_uri": "https://localhost:8080/"
    },
    "id": "3kpTKBZukKug",
    "outputId": "f1d6863c-a05c-4239-8b7e-ec2f2261ea76",
    "scrolled": true
   },
   "outputs": [
    {
     "data": {
      "text/plain": [
       "Bearer Id                         float64\n",
       "Start                              object\n",
       "Start ms                          float64\n",
       "End                                object\n",
       "End ms                            float64\n",
       "IMSI                              float64\n",
       "MSISDN/Number                     float64\n",
       "IMEI                              float64\n",
       "Last Location Name                 object\n",
       "Avg RTT DL (ms)                   float64\n",
       "Avg RTT UL (ms)                   float64\n",
       "Avg Bearer TP DL (kbps)           float64\n",
       "Avg Bearer TP UL (kbps)           float64\n",
       "DL TP < 50 Kbps (%)               float64\n",
       "50 Kbps < DL TP < 250 Kbps (%)    float64\n",
       "250 Kbps < DL TP < 1 Mbps (%)     float64\n",
       "DL TP > 1 Mbps (%)                float64\n",
       "UL TP < 10 Kbps (%)               float64\n",
       "10 Kbps < UL TP < 50 Kbps (%)     float64\n",
       "50 Kbps < UL TP < 300 Kbps (%)    float64\n",
       "UL TP > 300 Kbps (%)              float64\n",
       "Activity Duration DL (ms)         float64\n",
       "Activity Duration UL (ms)         float64\n",
       "Dur. (ms).1                       float64\n",
       "Handset Manufacturer               object\n",
       "Handset Type                       object\n",
       "Nb of sec with Vol DL < 6250B     float64\n",
       "Nb of sec with Vol UL < 1250B     float64\n",
       "Social Media DL (Bytes)           float64\n",
       "Social Media UL (Bytes)           float64\n",
       "Google DL (Bytes)                 float64\n",
       "Google UL (Bytes)                 float64\n",
       "Email DL (Bytes)                  float64\n",
       "Email UL (Bytes)                  float64\n",
       "Youtube DL (Bytes)                float64\n",
       "Youtube UL (Bytes)                float64\n",
       "Netflix DL (Bytes)                float64\n",
       "Netflix UL (Bytes)                float64\n",
       "Gaming DL (Bytes)                 float64\n",
       "Gaming UL (Bytes)                 float64\n",
       "Other DL (Bytes)                  float64\n",
       "Other UL (Bytes)                  float64\n",
       "Total UL (Bytes)                  float64\n",
       "Total DL (Bytes)                  float64\n",
       "dtype: object"
      ]
     },
     "execution_count": 33,
     "metadata": {},
     "output_type": "execute_result"
    }
   ],
   "source": [
    "dfExp.dtypes"
   ]
  },
  {
   "cell_type": "markdown",
   "id": "fXiC8WLKppcL",
   "metadata": {
    "id": "fXiC8WLKppcL"
   },
   "source": [
    "### Univariate Analysis"
   ]
  },
  {
   "cell_type": "markdown",
   "id": "TcrHiYYs1I66",
   "metadata": {
    "id": "TcrHiYYs1I66"
   },
   "source": [
    "This is mainly analysis done on particular variable only i.e we search for the data charecteristics of a variable with disregard to all the other columns"
   ]
  },
  {
   "cell_type": "markdown",
   "id": "ei6KuNsrv0Ph",
   "metadata": {
    "id": "ei6KuNsrv0Ph"
   },
   "source": [
    "#### distributions"
   ]
  },
  {
   "cell_type": "code",
   "execution_count": 34,
   "id": "bl3Bf5h5w7sk",
   "metadata": {
    "colab": {
     "base_uri": "https://localhost:8080/",
     "height": 534
    },
    "id": "bl3Bf5h5w7sk",
    "outputId": "02364d27-f0dc-45d6-ebe9-33911e88fff5"
   },
   "outputs": [
    {
     "data": {
      "image/png": "[encoded data removed]",
      "text/plain": [
       "<Figure size 1008x504 with 1 Axes>"
      ]
     },
     "metadata": {
      "needs_background": "light"
     },
     "output_type": "display_data"
    }
   ],
   "source": [
    "plot_hist(dfExp, \"Social Media DL (Bytes)\", \"blue\")"
   ]
  },
  {
   "cell_type": "code",
   "execution_count": 35,
   "id": "eOf1cAjzvsxO",
   "metadata": {
    "colab": {
     "base_uri": "https://localhost:8080/",
     "height": 534
    },
    "id": "eOf1cAjzvsxO",
    "outputId": "c817124f-7b84-4bfa-d4ae-0d69bae38174"
   },
   "outputs": [
    {
     "data": {
      "image/png": "[encoded data removed]",
      "text/plain": [
       "<Figure size 1008x504 with 1 Axes>"
      ]
     },
     "metadata": {
      "needs_background": "light"
     },
     "output_type": "display_data"
    }
   ],
   "source": [
    "plot_hist(dfExp, \"Dur. (ms).1\", \"green\")"
   ]
  },
  {
   "cell_type": "code",
   "execution_count": 36,
   "id": "13goC8OXvusT",
   "metadata": {
    "colab": {
     "base_uri": "https://localhost:8080/"
    },
    "id": "13goC8OXvusT",
    "outputId": "4677798f-b820-488e-f01a-732a043010ca"
   },
   "outputs": [
    {
     "data": {
      "text/plain": [
       "count         148,506.00\n",
       "mean      105,084,600.60\n",
       "std        81,072,729.72\n",
       "min         7,142,988.00\n",
       "25%        58,249,644.50\n",
       "50%        86,399,986.00\n",
       "75%       132,933,303.50\n",
       "max     1,859,336,442.00\n",
       "Name: Dur. (ms).1, dtype: float64"
      ]
     },
     "execution_count": 36,
     "metadata": {},
     "output_type": "execute_result"
    }
   ],
   "source": [
    "dfExp[\"Dur. (ms).1\"].describe()"
   ]
  },
  {
   "cell_type": "markdown",
   "id": "suhErKf2vvXd",
   "metadata": {
    "id": "suhErKf2vvXd"
   },
   "source": [
    "#### Outliers"
   ]
  },
  {
   "cell_type": "code",
   "execution_count": 37,
   "id": "l-6ssNTLpoTz",
   "metadata": {
    "colab": {
     "base_uri": "https://localhost:8080/",
     "height": 475
    },
    "id": "l-6ssNTLpoTz",
    "outputId": "b5f7db2f-2e13-491e-d6cc-04358efff316"
   },
   "outputs": [
    {
     "data": {
      "image/png": "[encoded data removed]",
      "text/plain": [
       "<Figure size 864x504 with 1 Axes>"
      ]
     },
     "metadata": {
      "needs_background": "light"
     },
     "output_type": "display_data"
    }
   ],
   "source": [
    "plot_box(dfExp,'Dur. (ms).1', 'Duration Box plot')"
   ]
  },
  {
   "cell_type": "code",
   "execution_count": 38,
   "id": "Zy5DgTY_of6Q",
   "metadata": {
    "colab": {
     "base_uri": "https://localhost:8080/",
     "height": 484
    },
    "id": "Zy5DgTY_of6Q",
    "outputId": "2cb8fe22-69c9-4c1c-ffeb-e844f006acbb"
   },
   "outputs": [
    {
     "data": {
      "image/png": "[encoded data removed]",
      "text/plain": [
       "<Figure size 864x504 with 1 Axes>"
      ]
     },
     "metadata": {
      "needs_background": "light"
     },
     "output_type": "display_data"
    }
   ],
   "source": [
    "plot_box(dfExp,'Google DL (Bytes)', 'green')"
   ]
  },
  {
   "cell_type": "code",
   "execution_count": null,
   "id": "S962VGTepRfA",
   "metadata": {
    "colab": {
     "base_uri": "https://localhost:8080/",
     "height": 475
    },
    "id": "S962VGTepRfA",
    "outputId": "44ce8371-ff08-4992-f7d1-3aee769ac753"
   },
   "outputs": [],
   "source": [
    "plot_box(dfExp, \"Youtube DL (Bytes)\", \"number of youtube download\")"
   ]
  },
  {
   "cell_type": "code",
   "execution_count": null,
   "id": "Tl2pXpzOpvZ2",
   "metadata": {
    "colab": {
     "base_uri": "https://localhost:8080/",
     "height": 534
    },
    "id": "Tl2pXpzOpvZ2",
    "outputId": "9ed9425f-7bb0-4377-81b1-6cdcefd74307"
   },
   "outputs": [],
   "source": [
    "plot_hist(dfExp, \"Netflix DL (Bytes)\", \"red\")"
   ]
  },
  {
   "cell_type": "code",
   "execution_count": null,
   "id": "Q3KJLJhVP8OA",
   "metadata": {
    "colab": {
     "base_uri": "https://localhost:8080/"
    },
    "id": "Q3KJLJhVP8OA",
    "outputId": "b275ee27-f4f8-417a-95e7-9914fd8fa343"
   },
   "outputs": [],
   "source": [
    "dfExp[\"Netflix DL (Bytes)\"].describe()"
   ]
  },
  {
   "cell_type": "markdown",
   "id": "lb7rNIpxzCXd",
   "metadata": {
    "id": "lb7rNIpxzCXd"
   },
   "source": [
    "#### categorical variables"
   ]
  },
  {
   "cell_type": "code",
   "execution_count": null,
   "id": "0B7412TKuwzK",
   "metadata": {
    "colab": {
     "base_uri": "https://localhost:8080/",
     "height": 463
    },
    "id": "0B7412TKuwzK",
    "outputId": "4f243a85-c3d4-443d-8142-1fa32a6f700c"
   },
   "outputs": [],
   "source": [
    "plot_count(dfExp, \"Netflix DL (Bytes)\",\"blue\")"
   ]
  },
  {
   "cell_type": "code",
   "execution_count": null,
   "id": "ZtBvwCoC0lpJ",
   "metadata": {
    "colab": {
     "base_uri": "https://localhost:8080/",
     "height": 463
    },
    "id": "ZtBvwCoC0lpJ",
    "outputId": "08aae121-9812-4f37-ded4-9106b9efec3e"
   },
   "outputs": [],
   "source": [
    "plot_count(dfExp, \"Gaming DL (Bytes)\",\"greeen\")"
   ]
  },
  {
   "cell_type": "markdown",
   "id": "msqJavkF3ksN",
   "metadata": {
    "id": "msqJavkF3ksN"
   },
   "source": [
    "### Multivariate Analysis"
   ]
  },
  {
   "cell_type": "markdown",
   "id": "nv6Uu2_t6sAO",
   "metadata": {
    "id": "nv6Uu2_t6sAO"
   },
   "source": [
    "This analysis that mainly done on two or more columns where we look for relationships between columns and how our data is distributed amoung values in multiple columns"
   ]
  },
  {
   "cell_type": "markdown",
   "id": "ZSc1mZCz7QcG",
   "metadata": {
    "id": "ZSc1mZCz7QcG"
   },
   "source": [
    "#### scatter plots"
   ]
  },
  {
   "cell_type": "code",
   "execution_count": null,
   "id": "L6gHqeO54Gmf",
   "metadata": {
    "colab": {
     "base_uri": "https://localhost:8080/",
     "height": 468
    },
    "id": "L6gHqeO54Gmf",
    "outputId": "6777bd67-7782-46fe-841c-383c5dc35fb4"
   },
   "outputs": [],
   "source": [
    "plot_scatter(dfExp.head(100), x_col=\"Gaming DL (Bytes)\", y_col=\"Total Social Media\" title=\"number of Gaming vs Total Social Media\")"
   ]
  },
  {
   "cell_type": "code",
   "execution_count": null,
   "id": "0TJpVd_X8GG6",
   "metadata": {
    "colab": {
     "base_uri": "https://localhost:8080/",
     "height": 468
    },
    "id": "0TJpVd_X8GG6",
    "outputId": "9034f470-dd6d-4815-e144-4df4c6a1deb0"
   },
   "outputs": [],
   "source": [
    "plot_scatter(dfExp.head(100), x_col=\"Gaming DL (Bytes)\", y_col=\"Total Social Media\" title=\"number of Gaming vs Total Social Media\")"
   ]
  },
  {
   "cell_type": "markdown",
   "id": "GSpf_ku4_vPd",
   "metadata": {
    "id": "GSpf_ku4_vPd"
   },
   "source": [
    "#### Box Plots"
   ]
  },
  {
   "cell_type": "code",
   "execution_count": null,
   "id": "j4IiL0OH_iOI",
   "metadata": {
    "colab": {
     "base_uri": "https://localhost:8080/",
     "height": 569
    },
    "id": "j4IiL0OH_iOI",
    "outputId": "f0283434-01b9-4732-ffd8-ef4900c5b1d0"
   },
   "outputs": [],
   "source": [
    "plot_box_multi(dfExp,  x_col=\"Gaming DL (Bytes)\", y_col=\"Total Social Media\" title=\"number of Gaming vs Total Social Media\")"
   ]
  },
  {
   "cell_type": "code",
   "execution_count": null,
   "id": "7Gln1iCC_t0B",
   "metadata": {
    "colab": {
     "base_uri": "https://localhost:8080/",
     "height": 569
    },
    "id": "7Gln1iCC_t0B",
    "outputId": "b9672c9e-d6b8-47f5-c590-97420f50ed5c"
   },
   "outputs": [],
   "source": [
    "plot_box_multi(dfExp,  x_col=\"Gaming DL (Bytes)\", y_col=\"Total Social Media\" title=\"number of Gaming vs Total Social Media\")"
   ]
  },
  {
   "cell_type": "markdown",
   "id": "93bjOTCWObU2",
   "metadata": {
    "id": "93bjOTCWObU2"
   },
   "source": [
    "#### pair plots\n",
    "\n",
    "pair plots also known as scatterplot matrix, they allow us to see both distributions of single columns and the relationship between two columns"
   ]
  },
  {
   "cell_type": "code",
   "execution_count": null,
   "id": "3gt8I3wCsyXY",
   "metadata": {
    "id": "3gt8I3wCsyXY"
   },
   "outputs": [],
   "source": [
    "dfPair = dfExp[[\"Gaming DL (Bytes)\", \"Netflix DL (Bytes)\", \"Youtube DL (Bytes)\", \"Netflix DL (Bytes)\", \"Dur. (ms).1\"]]"
   ]
  },
  {
   "cell_type": "code",
   "execution_count": null,
   "id": "LTdTm1aZCEet",
   "metadata": {
    "colab": {
     "base_uri": "https://localhost:8080/",
     "height": 1000
    },
    "id": "LTdTm1aZCEet",
    "outputId": "347ec8b2-052c-4134-cf7d-c0be8d568d7e"
   },
   "outputs": [],
   "source": [
    "sns.pairplot(dfPair, diag_kind = 'kde',\n",
    "             plot_kws = {'alpha': 0.6, 's': 80, 'edgecolor': 'k'},\n",
    "             height=4)"
   ]
  },
  {
   "cell_type": "markdown",
   "id": "b2c954b2",
   "metadata": {},
   "source": [
    "End"
   ]
  }
 ],
 "metadata": {
  "colab": {
   "collapsed_sections": [],
   "name": "Data_Exploration.ipynb",
   "provenance": []
  },
  "kernelspec": {
   "display_name": "Python 3 (ipykernel)",
   "language": "python",
   "name": "python3"
  },
  "language_info": {
   "codemirror_mode": {
    "name": "ipython",
    "version": 3
   },
   "file_extension": ".py",
   "mimetype": "text/x-python",
   "name": "python",
   "nbconvert_exporter": "python",
   "pygments_lexer": "ipython3",
   "version": "3.8.13"
  }
 },
 "nbformat": 4,
 "nbformat_minor": 5
}
