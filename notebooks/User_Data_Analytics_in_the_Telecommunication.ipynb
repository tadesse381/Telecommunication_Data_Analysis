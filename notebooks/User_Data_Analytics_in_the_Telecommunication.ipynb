{
 "cells": [
  {
   "cell_type": "markdown",
   "id": "3eb9d7cb",
   "metadata": {},
   "source": [
    "# User Analytics in the Telecommunication Industry"
   ]
  },
  {
   "cell_type": "markdown",
   "id": "b5d5700d",
   "metadata": {},
   "source": [
    "The investor is interested in purchasing TellCo, an existing mobile service provider in the Republic of Pefkakia.  TellCo’s current owners have been willing to share their financial information but have never employed anyone to look at their data that is generated automatically by their systems.\n",
    "This Project is to provide a report to analyse opportunities for growth and make a recommendation on whether TellCo is worth buying or selling. "
   ]
  },
  {
   "cell_type": "code",
   "execution_count": 1,
   "id": "a2dac686",
   "metadata": {},
   "outputs": [],
   "source": [
    "# System Modules\n",
    "import os\n",
    "import sys\n",
    "sys.path.append(os.path.abspath(os.path.join('..')))\n",
    "\n",
    "import warnings\n",
    "warnings.filterwarnings('ignore')"
   ]
  },
  {
   "cell_type": "code",
   "execution_count": 2,
   "id": "fea88890",
   "metadata": {},
   "outputs": [],
   "source": [
    "# Module imports\n",
    "import pandas as pd\n",
    "pd.set_option('max_column', None)\n",
    "pd.options.display.float_format = \"{:.2f}\".format\n",
    "\n",
    "import matplotlib.pyplot as plt\n",
    "import seaborn as sns\n",
    "\n",
    "from sklearn.preprocessing import StandardScaler\n",
    "from sklearn.decomposition import PCA\n",
    "from sklearn.preprocessing import StandardScaler\n",
    "from sklearn import preprocessing\n",
    "from sklearn.cluster import KMeans\n",
    "from sklearn.linear_model import LinearRegression\n",
    "from sklearn.preprocessing import StandardScaler\n",
    "import pickle"
   ]
  },
  {
   "cell_type": "code",
   "execution_count": 3,
   "id": "05ae6e78",
   "metadata": {},
   "outputs": [],
   "source": [
    "# My Custom Modules Importing\n",
    "from scripts import file\n",
    "from scripts import marketing\n",
    "from scripts import ploting"
   ]
  },
  {
   "cell_type": "code",
   "execution_count": 4,
   "id": "3a4bbbbc",
   "metadata": {},
   "outputs": [],
   "source": [
    "#Read the cleaned csv file and store it on data\n",
    "file_name = 'clean_telecommunication_data.csv'\n",
    "data = file.read_csv(file_name)"
   ]
  },
  {
   "cell_type": "code",
   "execution_count": 5,
   "id": "3154b8b1",
   "metadata": {},
   "outputs": [],
   "source": [
    "###################################PLOTTING FUNCTIONS###################################\n",
    "\n",
    "def plot_hist(df:pd.DataFrame, column:str, color:str)->None:\n",
    "    # plt.figure(figsize=(15, 10))\n",
    "    # fig, ax = plt.subplots(1, figsize=(12, 7))\n",
    "    sns.displot(data=df, x=column, color=color, kde=True, height=7, aspect=2)\n",
    "    plt.title(f'Distribution of {column}', size=20, fontweight='bold')\n",
    "    plt.show()\n",
    "\n",
    "def plot_count(df:pd.DataFrame, column:str) -> None:\n",
    "    plt.figure(figsize=(12, 7))\n",
    "    sns.countplot(data=df, x=column)\n",
    "    plt.title(f'Distribution of {column}', size=20, fontweight='bold')\n",
    "    plt.show()\n",
    "    \n",
    "def plot_bar(df:pd.DataFrame, x_col:str, y_col:str, title:str, xlabel:str, ylabel:str)->None:\n",
    "    plt.figure(figsize=(12, 7))\n",
    "    sns.barplot(data = df, x=x_col, y=y_col)\n",
    "    plt.title(title, size=20)\n",
    "    plt.xticks(rotation=75, fontsize=14)\n",
    "    plt.yticks( fontsize=14)\n",
    "    plt.xlabel(xlabel, fontsize=16)\n",
    "    plt.ylabel(ylabel, fontsize=16)\n",
    "    plt.show()\n",
    "\n",
    "def plot_heatmap(df:pd.DataFrame, title:str, cbar=False)->None:\n",
    "    plt.figure(figsize=(12, 7))\n",
    "    sns.heatmap(df, annot=True, cmap='viridis', vmin=0, vmax=1, fmt='.2f', linewidths=.7, cbar=cbar )\n",
    "    plt.title(title, size=18, fontweight='bold')\n",
    "    plt.show()\n",
    "\n",
    "def plot_box(df:pd.DataFrame, x_col:str, title:str) -> None:\n",
    "    plt.figure(figsize=(12, 7))\n",
    "    sns.boxplot(data = df, x=x_col)\n",
    "    plt.title(title, size=20)\n",
    "    plt.xticks(rotation=75, fontsize=14)\n",
    "    plt.show()\n",
    "\n",
    "def plot_box_multi(df:pd.DataFrame, x_col:str, y_col:str, title:str) -> None:\n",
    "    plt.figure(figsize=(12, 7))\n",
    "    sns.boxplot(data = df, x=x_col, y=y_col)\n",
    "    plt.title(title, size=20)\n",
    "    plt.xticks(rotation=75, fontsize=14)\n",
    "    plt.yticks( fontsize=14)\n",
    "    plt.show()\n",
    "\n",
    "def plot_scatter(df: pd.DataFrame, x_col: str, y_col: str, title: str, hue: str, style: str) -> None:\n",
    "    plt.figure(figsize=(12, 7))\n",
    "    sns.scatterplot(data = df, x=x_col, y=y_col, hue=hue)\n",
    "    plt.title(title, size=20)\n",
    "    plt.xticks(fontsize=14)\n",
    "    plt.yticks( fontsize=14)\n",
    "    plt.show()\n",
    "\n",
    "def format_float(value):\n",
    "    return f'{value:,.2f}'\n",
    "\n",
    "def fix_outlier(df, column):\n",
    "    df[column] = np.where(df[column] > df[column].quantile(0.95), df[column].median(),df[column])\n",
    "    \n",
    "    return df[column]\n",
    "\n",
    "\n",
    "pd.options.display.float_format = format_float"
   ]
  },
  {
   "cell_type": "markdown",
   "id": "c64131b3",
   "metadata": {},
   "source": [
    "# Task 1 - User Overview analysis"
   ]
  },
  {
   "cell_type": "markdown",
   "id": "b1f8275c",
   "metadata": {},
   "source": [
    "Exploratory Data Analysis (EDA) is an approach to analyzing datasets to summarize their main characteristics, often with visual methods. This section will familiarise oneself with the data and explore initial insights that will inform further steps in the data science process. The goal is to understand the dataset, identify the missing values & outliers if any using visual and quantitative methods to get a sense of the story it tells. "
   ]
  },
  {
   "cell_type": "markdown",
   "id": "4bbca0b1",
   "metadata": {},
   "source": [
    "## Market Analysis"
   ]
  },
  {
   "cell_type": "markdown",
   "id": "5424df4a",
   "metadata": {},
   "source": [
    "In this section, user overview analysis is performed using telecom data set. To achieve the task following sub-tasks will be done.\n",
    "1. Start by identifying the top 10 handsets used by the customers.\n",
    "2. Then, identify the top 3 handset manufacturers\n",
    "3. Next, identify the top 5 handsets per top 3 handset manufacturer\n",
    "4. Make a short interpretation and recommendation to marketing teams\n",
    "\n"
   ]
  },
  {
   "cell_type": "code",
   "execution_count": 6,
   "id": "bc401492",
   "metadata": {},
   "outputs": [
    {
     "data": {
      "text/html": [
       "<div>\n",
       "<style scoped>\n",
       "    .dataframe tbody tr th:only-of-type {\n",
       "        vertical-align: middle;\n",
       "    }\n",
       "\n",
       "    .dataframe tbody tr th {\n",
       "        vertical-align: top;\n",
       "    }\n",
       "\n",
       "    .dataframe thead th {\n",
       "        text-align: right;\n",
       "    }\n",
       "</style>\n",
       "<table border=\"1\" class=\"dataframe\">\n",
       "  <thead>\n",
       "    <tr style=\"text-align: right;\">\n",
       "      <th></th>\n",
       "      <th>MSISDN/Number</th>\n",
       "      <th>Handset Type</th>\n",
       "      <th>Handset Manufacturer</th>\n",
       "    </tr>\n",
       "  </thead>\n",
       "  <tbody>\n",
       "    <tr>\n",
       "      <th>0</th>\n",
       "      <td>33,664,962,239.00</td>\n",
       "      <td>Samsung Galaxy A5 Sm-A520F</td>\n",
       "      <td>Samsung</td>\n",
       "    </tr>\n",
       "    <tr>\n",
       "      <th>1</th>\n",
       "      <td>33,681,854,413.00</td>\n",
       "      <td>Samsung Galaxy J5 (Sm-J530)</td>\n",
       "      <td>Samsung</td>\n",
       "    </tr>\n",
       "    <tr>\n",
       "      <th>2</th>\n",
       "      <td>33,760,627,129.00</td>\n",
       "      <td>Samsung Galaxy A8 (2018)</td>\n",
       "      <td>Samsung</td>\n",
       "    </tr>\n",
       "    <tr>\n",
       "      <th>3</th>\n",
       "      <td>33,750,343,200.00</td>\n",
       "      <td>NaN</td>\n",
       "      <td>NaN</td>\n",
       "    </tr>\n",
       "    <tr>\n",
       "      <th>4</th>\n",
       "      <td>33,699,795,932.00</td>\n",
       "      <td>Samsung Sm-G390F</td>\n",
       "      <td>Samsung</td>\n",
       "    </tr>\n",
       "  </tbody>\n",
       "</table>\n",
       "</div>"
      ],
      "text/plain": [
       "      MSISDN/Number                 Handset Type Handset Manufacturer\n",
       "0 33,664,962,239.00   Samsung Galaxy A5 Sm-A520F              Samsung\n",
       "1 33,681,854,413.00  Samsung Galaxy J5 (Sm-J530)              Samsung\n",
       "2 33,760,627,129.00     Samsung Galaxy A8 (2018)              Samsung\n",
       "3 33,750,343,200.00                          NaN                  NaN\n",
       "4 33,699,795,932.00             Samsung Sm-G390F              Samsung"
      ]
     },
     "execution_count": 6,
     "metadata": {},
     "output_type": "execute_result"
    }
   ],
   "source": [
    "marketing_df = marketing.Marketing(data)\n",
    "marketing_df.filter_necessary_columns()\n",
    "marketing_df.df.head()"
   ]
  },
  {
   "cell_type": "markdown",
   "id": "9020c2f9",
   "metadata": {},
   "source": [
    "Top 10 handsets used by the customers"
   ]
  },
  {
   "cell_type": "code",
   "execution_count": 7,
   "id": "d3edb690",
   "metadata": {},
   "outputs": [
    {
     "data": {
      "text/html": [
       "<div>\n",
       "<style scoped>\n",
       "    .dataframe tbody tr th:only-of-type {\n",
       "        vertical-align: middle;\n",
       "    }\n",
       "\n",
       "    .dataframe tbody tr th {\n",
       "        vertical-align: top;\n",
       "    }\n",
       "\n",
       "    .dataframe thead th {\n",
       "        text-align: right;\n",
       "    }\n",
       "</style>\n",
       "<table border=\"1\" class=\"dataframe\">\n",
       "  <thead>\n",
       "    <tr style=\"text-align: right;\">\n",
       "      <th></th>\n",
       "      <th>Handset Type</th>\n",
       "      <th>MSISDN/Number</th>\n",
       "    </tr>\n",
       "  </thead>\n",
       "  <tbody>\n",
       "    <tr>\n",
       "      <th>315</th>\n",
       "      <td>Huawei B528S-23A</td>\n",
       "      <td>19727</td>\n",
       "    </tr>\n",
       "    <tr>\n",
       "      <th>53</th>\n",
       "      <td>Apple iPhone 6S (A1688)</td>\n",
       "      <td>9395</td>\n",
       "    </tr>\n",
       "    <tr>\n",
       "      <th>49</th>\n",
       "      <td>Apple iPhone 6 (A1586)</td>\n",
       "      <td>8993</td>\n",
       "    </tr>\n",
       "    <tr>\n",
       "      <th>59</th>\n",
       "      <td>Apple iPhone 7 (A1778)</td>\n",
       "      <td>6279</td>\n",
       "    </tr>\n",
       "    <tr>\n",
       "      <th>73</th>\n",
       "      <td>Apple iPhone Se (A1723)</td>\n",
       "      <td>5165</td>\n",
       "    </tr>\n",
       "    <tr>\n",
       "      <th>66</th>\n",
       "      <td>Apple iPhone 8 (A1905)</td>\n",
       "      <td>4977</td>\n",
       "    </tr>\n",
       "    <tr>\n",
       "      <th>78</th>\n",
       "      <td>Apple iPhone Xr (A2105)</td>\n",
       "      <td>4556</td>\n",
       "    </tr>\n",
       "    <tr>\n",
       "      <th>951</th>\n",
       "      <td>Samsung Galaxy S8 (Sm-G950F)</td>\n",
       "      <td>4464</td>\n",
       "    </tr>\n",
       "    <tr>\n",
       "      <th>75</th>\n",
       "      <td>Apple iPhone X (A1901)</td>\n",
       "      <td>3806</td>\n",
       "    </tr>\n",
       "    <tr>\n",
       "      <th>834</th>\n",
       "      <td>Samsung Galaxy A5 Sm-A520F</td>\n",
       "      <td>3700</td>\n",
       "    </tr>\n",
       "  </tbody>\n",
       "</table>\n",
       "</div>"
      ],
      "text/plain": [
       "                     Handset Type  MSISDN/Number\n",
       "315              Huawei B528S-23A          19727\n",
       "53        Apple iPhone 6S (A1688)           9395\n",
       "49         Apple iPhone 6 (A1586)           8993\n",
       "59         Apple iPhone 7 (A1778)           6279\n",
       "73        Apple iPhone Se (A1723)           5165\n",
       "66         Apple iPhone 8 (A1905)           4977\n",
       "78        Apple iPhone Xr (A2105)           4556\n",
       "951  Samsung Galaxy S8 (Sm-G950F)           4464\n",
       "75         Apple iPhone X (A1901)           3806\n",
       "834    Samsung Galaxy A5 Sm-A520F           3700"
      ]
     },
     "execution_count": 7,
     "metadata": {},
     "output_type": "execute_result"
    }
   ],
   "source": [
    "top_10_handsets =  marketing_df.get_top_handsets(10)\n",
    "top_10_handsets"
   ]
  },
  {
   "cell_type": "markdown",
   "id": "21628c69",
   "metadata": {},
   "source": [
    "Top 3 handset manufacturers"
   ]
  },
  {
   "cell_type": "code",
   "execution_count": 8,
   "id": "e515e62d",
   "metadata": {},
   "outputs": [
    {
     "data": {
      "text/html": [
       "<div>\n",
       "<style scoped>\n",
       "    .dataframe tbody tr th:only-of-type {\n",
       "        vertical-align: middle;\n",
       "    }\n",
       "\n",
       "    .dataframe tbody tr th {\n",
       "        vertical-align: top;\n",
       "    }\n",
       "\n",
       "    .dataframe thead th {\n",
       "        text-align: right;\n",
       "    }\n",
       "</style>\n",
       "<table border=\"1\" class=\"dataframe\">\n",
       "  <thead>\n",
       "    <tr style=\"text-align: right;\">\n",
       "      <th></th>\n",
       "      <th>Handset Manufacturer</th>\n",
       "      <th>MSISDN/Number</th>\n",
       "    </tr>\n",
       "  </thead>\n",
       "  <tbody>\n",
       "    <tr>\n",
       "      <th>5</th>\n",
       "      <td>Apple</td>\n",
       "      <td>59339</td>\n",
       "    </tr>\n",
       "    <tr>\n",
       "      <th>103</th>\n",
       "      <td>Samsung</td>\n",
       "      <td>40429</td>\n",
       "    </tr>\n",
       "    <tr>\n",
       "      <th>52</th>\n",
       "      <td>Huawei</td>\n",
       "      <td>34296</td>\n",
       "    </tr>\n",
       "  </tbody>\n",
       "</table>\n",
       "</div>"
      ],
      "text/plain": [
       "    Handset Manufacturer  MSISDN/Number\n",
       "5                  Apple          59339\n",
       "103              Samsung          40429\n",
       "52                Huawei          34296"
      ]
     },
     "execution_count": 8,
     "metadata": {},
     "output_type": "execute_result"
    }
   ],
   "source": [
    "top_3_manufacturers =  marketing_df.get_top_manufacturers(3)\n",
    "top_3_manufacturers"
   ]
  },
  {
   "cell_type": "markdown",
   "id": "e8848aa4",
   "metadata": {},
   "source": [
    "The top 5 handsets per top 3 handset manufacturer"
   ]
  },
  {
   "cell_type": "code",
   "execution_count": 9,
   "id": "da3d5a85",
   "metadata": {},
   "outputs": [
    {
     "name": "stdout",
     "output_type": "stream",
     "text": [
      "**** Apple ***\n",
      "Handset Type\n",
      "Apple iPhone 6S (A1688)    6744\n",
      "Apple iPhone 6 (A1586)     6245\n",
      "Apple iPhone 7 (A1778)     4675\n",
      "Apple iPhone Se (A1723)    3744\n",
      "Apple iPhone 8 (A1905)     3535\n",
      "Name: MSISDN/Number, dtype: int64\n",
      "\n",
      "**** Samsung ***\n",
      "Handset Type\n",
      "Samsung Galaxy S8 (Sm-G950F)    3232\n",
      "Samsung Galaxy J5 (Sm-J530)     2741\n",
      "Samsung Galaxy A5 Sm-A520F      2701\n",
      "Samsung Galaxy J3 (Sm-J330)     2582\n",
      "Samsung Galaxy S7 (Sm-G930X)    2288\n",
      "Name: MSISDN/Number, dtype: int64\n",
      "\n",
      "**** Huawei ***\n",
      "Handset Type\n",
      "Huawei B528S-23A                  10616\n",
      "Huawei P20 Lite Huawei Nova 3E     1526\n",
      "Huawei E5180                       1182\n",
      "Huawei P20                         1105\n",
      "Huawei Y6 2018                      757\n",
      "Name: MSISDN/Number, dtype: int64\n",
      "\n"
     ]
    }
   ],
   "source": [
    "best_phones = marketing_df.get_best_phones()"
   ]
  },
  {
   "cell_type": "markdown",
   "id": "fa0ee0a4",
   "metadata": {},
   "source": [
    "### Task 1.1 "
   ]
  },
  {
   "cell_type": "markdown",
   "id": "d3dbec56",
   "metadata": {},
   "source": [
    "Task 1.1 - Your employer wants to have an overview of the users’ behavior on some applications."
   ]
  },
  {
   "cell_type": "markdown",
   "id": "584afccd",
   "metadata": {},
   "source": [
    "Aggregate per user the following information in the column  \n",
    "1. number of xDR sessions\n",
    "2. Session duration\n",
    "3. the total download (DL) and upload (UL) data\n",
    "4. the total data volume (in Bytes) during this session for each application"
   ]
  },
  {
   "cell_type": "code",
   "execution_count": 10,
   "id": "e4803898",
   "metadata": {},
   "outputs": [
    {
     "data": {
      "text/html": [
       "<div>\n",
       "<style scoped>\n",
       "    .dataframe tbody tr th:only-of-type {\n",
       "        vertical-align: middle;\n",
       "    }\n",
       "\n",
       "    .dataframe tbody tr th {\n",
       "        vertical-align: top;\n",
       "    }\n",
       "\n",
       "    .dataframe thead th {\n",
       "        text-align: right;\n",
       "    }\n",
       "</style>\n",
       "<table border=\"1\" class=\"dataframe\">\n",
       "  <thead>\n",
       "    <tr style=\"text-align: right;\">\n",
       "      <th></th>\n",
       "      <th>Bearer Id</th>\n",
       "      <th>Dur. (ms).1</th>\n",
       "      <th>Total UL (Bytes)</th>\n",
       "      <th>Total DL (Bytes)</th>\n",
       "    </tr>\n",
       "    <tr>\n",
       "      <th>MSISDN/Number</th>\n",
       "      <th></th>\n",
       "      <th></th>\n",
       "      <th></th>\n",
       "      <th></th>\n",
       "    </tr>\n",
       "  </thead>\n",
       "  <tbody>\n",
       "    <tr>\n",
       "      <th>33,601,001,722.00</th>\n",
       "      <td>1</td>\n",
       "      <td>116,720,140.00</td>\n",
       "      <td>36,053,108.00</td>\n",
       "      <td>842,637,466.00</td>\n",
       "    </tr>\n",
       "    <tr>\n",
       "      <th>33,601,001,754.00</th>\n",
       "      <td>1</td>\n",
       "      <td>181,230,963.00</td>\n",
       "      <td>36,104,459.00</td>\n",
       "      <td>120,755,184.00</td>\n",
       "    </tr>\n",
       "    <tr>\n",
       "      <th>33,601,002,511.00</th>\n",
       "      <td>1</td>\n",
       "      <td>134,969,374.00</td>\n",
       "      <td>39,306,820.00</td>\n",
       "      <td>556,659,663.00</td>\n",
       "    </tr>\n",
       "    <tr>\n",
       "      <th>33,601,007,832.00</th>\n",
       "      <td>1</td>\n",
       "      <td>49,878,024.00</td>\n",
       "      <td>20,327,526.00</td>\n",
       "      <td>401,993,172.00</td>\n",
       "    </tr>\n",
       "    <tr>\n",
       "      <th>33,601,008,617.00</th>\n",
       "      <td>2</td>\n",
       "      <td>37,104,453.00</td>\n",
       "      <td>94,280,527.00</td>\n",
       "      <td>1,363,130,417.00</td>\n",
       "    </tr>\n",
       "  </tbody>\n",
       "</table>\n",
       "</div>"
      ],
      "text/plain": [
       "                   Bearer Id    Dur. (ms).1  Total UL (Bytes)  \\\n",
       "MSISDN/Number                                                   \n",
       "33,601,001,722.00          1 116,720,140.00     36,053,108.00   \n",
       "33,601,001,754.00          1 181,230,963.00     36,104,459.00   \n",
       "33,601,002,511.00          1 134,969,374.00     39,306,820.00   \n",
       "33,601,007,832.00          1  49,878,024.00     20,327,526.00   \n",
       "33,601,008,617.00          2  37,104,453.00     94,280,527.00   \n",
       "\n",
       "                   Total DL (Bytes)  \n",
       "MSISDN/Number                        \n",
       "33,601,001,722.00    842,637,466.00  \n",
       "33,601,001,754.00    120,755,184.00  \n",
       "33,601,002,511.00    556,659,663.00  \n",
       "33,601,007,832.00    401,993,172.00  \n",
       "33,601,008,617.00  1,363,130,417.00  "
      ]
     },
     "execution_count": 10,
     "metadata": {},
     "output_type": "execute_result"
    }
   ],
   "source": [
    "df_clean = data.copy()\n",
    "aggregate = {\"Bearer Id\": 'count', 'Dur. (ms).1':'sum', 'Total UL (Bytes)': 'sum', 'Total DL (Bytes)': 'sum'}\n",
    "aggregation_result = df_clean.groupby('MSISDN/Number').agg(aggregate)\n",
    "aggregation_result.head()"
   ]
  },
  {
   "cell_type": "markdown",
   "id": "ac4a7f3a",
   "metadata": {},
   "source": [
    "#### User beheviour ON Applications"
   ]
  },
  {
   "cell_type": "code",
   "execution_count": 11,
   "id": "4765ae79",
   "metadata": {},
   "outputs": [
    {
     "name": "stdout",
     "output_type": "stream",
     "text": [
      "<class 'pandas.core.frame.DataFrame'>\n",
      "Float64Index: 106471 entries, 33601001722.0 to 882397108489451.0\n",
      "Data columns (total 8 columns):\n",
      " #   Column              Non-Null Count   Dtype  \n",
      "---  ------              --------------   -----  \n",
      " 0   Total Social Media  106471 non-null  float64\n",
      " 1   Total Google        106471 non-null  float64\n",
      " 2   Total Youtube       106471 non-null  float64\n",
      " 3   Total Netflix       106471 non-null  float64\n",
      " 4   Total Gaming        106471 non-null  float64\n",
      " 5   Total Other         106471 non-null  float64\n",
      " 6   Total Email         106471 non-null  float64\n",
      " 7   Total               106471 non-null  float64\n",
      "dtypes: float64(8)\n",
      "memory usage: 7.3 MB\n"
     ]
    }
   ],
   "source": [
    "# determind from this variables \n",
    "# Social Media, Google, Email, Youtube, Netflix, Gaming, Other . \n",
    "aggrigate = {\n",
    "    'Total Social Media':'sum',\n",
    "    'Total Google': 'sum', \n",
    "    'Total Youtube': 'sum', \n",
    "    'Total Netflix':'sum',\n",
    "    'Total Gaming':'sum',\n",
    "    'Total Other':'sum',\n",
    "    'Total Email': 'sum',\n",
    "    'Total':'sum'\n",
    "}\n",
    "user_app_usage = df_clean.copy()\n",
    "\n",
    "user_app_usage[\"Total Google\"]    = user_app_usage[\"Google DL (Bytes)\"] + user_app_usage[\"Google UL (Bytes)\"]\n",
    "user_app_usage[\"Total Youtube\"]   = user_app_usage[\"Youtube DL (Bytes)\"] + user_app_usage[\"Youtube UL (Bytes)\"]\n",
    "user_app_usage[\"Total Netflix\"]   = user_app_usage[\"Netflix DL (Bytes)\"] + user_app_usage[\"Netflix UL (Bytes)\"]\n",
    "user_app_usage[\"Total Email\"]     = user_app_usage[\"Email DL (Bytes)\"] + user_app_usage[\"Email UL (Bytes)\"]\n",
    "user_app_usage[\"Total Gaming\"]    = user_app_usage[\"Gaming DL (Bytes)\"] + user_app_usage[\"Gaming UL (Bytes)\"]\n",
    "user_app_usage[\"Total Social Media\"] = user_app_usage[\"Social Media DL (Bytes)\"] + user_app_usage[\"Social Media UL (Bytes)\"]\n",
    "user_app_usage[\"Total Other\"]     = user_app_usage[\"Other DL (Bytes)\"] + user_app_usage[\"Other UL (Bytes)\"]\n",
    "user_app_usage[\"Total Email\"]     = user_app_usage[\"Email UL (Bytes)\"] + user_app_usage[\"Email DL (Bytes)\"]\n",
    "user_app_usage['Total']           = user_app_usage['Total UL (Bytes)'] + user_app_usage['Total DL (Bytes)']\n",
    "\n",
    "# columns = ['Total Google', 'Total Youtube', 'Total Netflix', 'Total Email', 'Total Gaming', 'Total Social Media']\n",
    "# for column in columns:\n",
    "#     user_app_usage[column] = fix_outlier(user_app_usage, column)\n",
    "\n",
    "\n",
    "user_behaviour = user_app_usage.groupby('MSISDN/Number').agg(aggrigate)\n",
    "user_behaviour.info()\n"
   ]
  },
  {
   "cell_type": "markdown",
   "id": "445b6647",
   "metadata": {},
   "source": [
    "Total download (DL) and upload (UL) data of each application"
   ]
  },
  {
   "cell_type": "code",
   "execution_count": 12,
   "id": "025bd51a",
   "metadata": {},
   "outputs": [],
   "source": [
    "user_app_usage = df_clean.copy()\n",
    "\n",
    "user_app_usage[\"Total Google\"]    = user_app_usage[\"Google DL (Bytes)\"] + user_app_usage[\"Google UL (Bytes)\"]\n",
    "user_app_usage[\"Total Youtube\"]   = user_app_usage[\"Youtube DL (Bytes)\"] + user_app_usage[\"Youtube UL (Bytes)\"]\n",
    "user_app_usage[\"Total Netflix\"]   = user_app_usage[\"Netflix DL (Bytes)\"] + user_app_usage[\"Netflix UL (Bytes)\"]\n",
    "user_app_usage[\"Total Email\"]     = user_app_usage[\"Email DL (Bytes)\"] + user_app_usage[\"Email UL (Bytes)\"]\n",
    "user_app_usage[\"Total Gaming\"]    = user_app_usage[\"Gaming DL (Bytes)\"] + user_app_usage[\"Gaming UL (Bytes)\"]\n",
    "user_app_usage[\"Total Social Media\"] = user_app_usage[\"Social Media DL (Bytes)\"] + user_app_usage[\"Social Media UL (Bytes)\"]\n",
    "user_app_usage[\"Total Other\"]     = user_app_usage[\"Other DL (Bytes)\"] + user_app_usage[\"Other UL (Bytes)\"]\n",
    "user_app_usage['Total']           = user_app_usage['Total UL (Bytes)'] + user_app_usage['Total DL (Bytes)']"
   ]
  },
  {
   "cell_type": "markdown",
   "id": "e72976aa",
   "metadata": {},
   "source": [
    "Non-Graphical Analysis of user behaviour on total data of each application"
   ]
  },
  {
   "cell_type": "code",
   "execution_count": 13,
   "id": "d28453c0",
   "metadata": {},
   "outputs": [
    {
     "data": {
      "text/html": [
       "<div>\n",
       "<style scoped>\n",
       "    .dataframe tbody tr th:only-of-type {\n",
       "        vertical-align: middle;\n",
       "    }\n",
       "\n",
       "    .dataframe tbody tr th {\n",
       "        vertical-align: top;\n",
       "    }\n",
       "\n",
       "    .dataframe thead th {\n",
       "        text-align: right;\n",
       "    }\n",
       "</style>\n",
       "<table border=\"1\" class=\"dataframe\">\n",
       "  <thead>\n",
       "    <tr style=\"text-align: right;\">\n",
       "      <th></th>\n",
       "      <th>Total Google</th>\n",
       "      <th>Total Youtube</th>\n",
       "      <th>Total Netflix</th>\n",
       "      <th>Total Email</th>\n",
       "      <th>Total Gaming</th>\n",
       "      <th>Total Social Media</th>\n",
       "      <th>Total Other</th>\n",
       "      <th>Total</th>\n",
       "    </tr>\n",
       "    <tr>\n",
       "      <th>MSISDN/Number</th>\n",
       "      <th></th>\n",
       "      <th></th>\n",
       "      <th></th>\n",
       "      <th></th>\n",
       "      <th></th>\n",
       "      <th></th>\n",
       "      <th></th>\n",
       "      <th></th>\n",
       "    </tr>\n",
       "  </thead>\n",
       "  <tbody>\n",
       "    <tr>\n",
       "      <th>33,669,799,467.00</th>\n",
       "      <td>12,271,371.00</td>\n",
       "      <td>31,834,752.00</td>\n",
       "      <td>24,541,437.00</td>\n",
       "      <td>1,974,665.00</td>\n",
       "      <td>582,355,894.00</td>\n",
       "      <td>1,365,755.00</td>\n",
       "      <td>96,383,435.00</td>\n",
       "      <td>661,834,225.00</td>\n",
       "    </tr>\n",
       "    <tr>\n",
       "      <th>33,623,420,657.00</th>\n",
       "      <td>17,355,948.00</td>\n",
       "      <td>34,256,148.00</td>\n",
       "      <td>22,360,144.00</td>\n",
       "      <td>6,626,982.00</td>\n",
       "      <td>1,025,681,330.00</td>\n",
       "      <td>2,687,541.00</td>\n",
       "      <td>846,486,221.00</td>\n",
       "      <td>1,129,208,645.00</td>\n",
       "    </tr>\n",
       "    <tr>\n",
       "      <th>33,679,703,596.00</th>\n",
       "      <td>1,169,251.00</td>\n",
       "      <td>21,664,997.00</td>\n",
       "      <td>41,684,837.00</td>\n",
       "      <td>898,784.00</td>\n",
       "      <td>280,990,783.00</td>\n",
       "      <td>2,490,603.00</td>\n",
       "      <td>712,062,117.00</td>\n",
       "      <td>357,681,836.00</td>\n",
       "    </tr>\n",
       "    <tr>\n",
       "      <th>33,665,155,790.00</th>\n",
       "      <td>22,734,113.00</td>\n",
       "      <td>41,665,906.00</td>\n",
       "      <td>53,017,613.00</td>\n",
       "      <td>3,506,075.00</td>\n",
       "      <td>653,113,791.00</td>\n",
       "      <td>4,830,021.00</td>\n",
       "      <td>472,285,738.00</td>\n",
       "      <td>797,257,066.00</td>\n",
       "    </tr>\n",
       "    <tr>\n",
       "      <th>33,652,889,187.00</th>\n",
       "      <td>2,664,393.00</td>\n",
       "      <td>20,236,264.00</td>\n",
       "      <td>31,877,949.00</td>\n",
       "      <td>3,006,994.00</td>\n",
       "      <td>539,968,340.00</td>\n",
       "      <td>3,569,043.00</td>\n",
       "      <td>395,877,589.00</td>\n",
       "      <td>613,402,083.00</td>\n",
       "    </tr>\n",
       "    <tr>\n",
       "      <th>33,603,207,226.00</th>\n",
       "      <td>24,002,464.00</td>\n",
       "      <td>57,381,721.00</td>\n",
       "      <td>22,047,782.00</td>\n",
       "      <td>4,870,278.00</td>\n",
       "      <td>484,311,987.00</td>\n",
       "      <td>1,144,540.00</td>\n",
       "      <td>624,807,395.00</td>\n",
       "      <td>609,289,617.00</td>\n",
       "    </tr>\n",
       "    <tr>\n",
       "      <th>33,761,565,438.00</th>\n",
       "      <td>9,044,723.00</td>\n",
       "      <td>14,120,669.00</td>\n",
       "      <td>31,267,811.00</td>\n",
       "      <td>4,264,075.00</td>\n",
       "      <td>219,401,715.00</td>\n",
       "      <td>996,486.00</td>\n",
       "      <td>342,274,065.00</td>\n",
       "      <td>291,893,150.00</td>\n",
       "    </tr>\n",
       "    <tr>\n",
       "      <th>33,644,018,961.00</th>\n",
       "      <td>12,571,112.00</td>\n",
       "      <td>13,623,600.00</td>\n",
       "      <td>23,502,771.00</td>\n",
       "      <td>2,141,227.00</td>\n",
       "      <td>578,248,307.00</td>\n",
       "      <td>744,625.00</td>\n",
       "      <td>793,251,297.00</td>\n",
       "      <td>641,927,819.00</td>\n",
       "    </tr>\n",
       "    <tr>\n",
       "      <th>33,658,044,793.00</th>\n",
       "      <td>7,082,272.00</td>\n",
       "      <td>11,367,969.00</td>\n",
       "      <td>24,164,010.00</td>\n",
       "      <td>1,284,607.00</td>\n",
       "      <td>70,313,358.00</td>\n",
       "      <td>596,454.00</td>\n",
       "      <td>639,881,877.00</td>\n",
       "      <td>118,033,918.00</td>\n",
       "    </tr>\n",
       "    <tr>\n",
       "      <th>33,698,732,200.00</th>\n",
       "      <td>10,522,172.00</td>\n",
       "      <td>22,370,155.00</td>\n",
       "      <td>13,098,092.00</td>\n",
       "      <td>2,062,914.00</td>\n",
       "      <td>106,776,958.00</td>\n",
       "      <td>1,306,445.00</td>\n",
       "      <td>461,281,758.00</td>\n",
       "      <td>164,938,752.00</td>\n",
       "    </tr>\n",
       "  </tbody>\n",
       "</table>\n",
       "</div>"
      ],
      "text/plain": [
       "                   Total Google  Total Youtube  Total Netflix  Total Email  \\\n",
       "MSISDN/Number                                                                \n",
       "33,669,799,467.00 12,271,371.00  31,834,752.00  24,541,437.00 1,974,665.00   \n",
       "33,623,420,657.00 17,355,948.00  34,256,148.00  22,360,144.00 6,626,982.00   \n",
       "33,679,703,596.00  1,169,251.00  21,664,997.00  41,684,837.00   898,784.00   \n",
       "33,665,155,790.00 22,734,113.00  41,665,906.00  53,017,613.00 3,506,075.00   \n",
       "33,652,889,187.00  2,664,393.00  20,236,264.00  31,877,949.00 3,006,994.00   \n",
       "33,603,207,226.00 24,002,464.00  57,381,721.00  22,047,782.00 4,870,278.00   \n",
       "33,761,565,438.00  9,044,723.00  14,120,669.00  31,267,811.00 4,264,075.00   \n",
       "33,644,018,961.00 12,571,112.00  13,623,600.00  23,502,771.00 2,141,227.00   \n",
       "33,658,044,793.00  7,082,272.00  11,367,969.00  24,164,010.00 1,284,607.00   \n",
       "33,698,732,200.00 10,522,172.00  22,370,155.00  13,098,092.00 2,062,914.00   \n",
       "\n",
       "                      Total Gaming  Total Social Media    Total Other  \\\n",
       "MSISDN/Number                                                           \n",
       "33,669,799,467.00   582,355,894.00        1,365,755.00  96,383,435.00   \n",
       "33,623,420,657.00 1,025,681,330.00        2,687,541.00 846,486,221.00   \n",
       "33,679,703,596.00   280,990,783.00        2,490,603.00 712,062,117.00   \n",
       "33,665,155,790.00   653,113,791.00        4,830,021.00 472,285,738.00   \n",
       "33,652,889,187.00   539,968,340.00        3,569,043.00 395,877,589.00   \n",
       "33,603,207,226.00   484,311,987.00        1,144,540.00 624,807,395.00   \n",
       "33,761,565,438.00   219,401,715.00          996,486.00 342,274,065.00   \n",
       "33,644,018,961.00   578,248,307.00          744,625.00 793,251,297.00   \n",
       "33,658,044,793.00    70,313,358.00          596,454.00 639,881,877.00   \n",
       "33,698,732,200.00   106,776,958.00        1,306,445.00 461,281,758.00   \n",
       "\n",
       "                             Total  \n",
       "MSISDN/Number                       \n",
       "33,669,799,467.00   661,834,225.00  \n",
       "33,623,420,657.00 1,129,208,645.00  \n",
       "33,679,703,596.00   357,681,836.00  \n",
       "33,665,155,790.00   797,257,066.00  \n",
       "33,652,889,187.00   613,402,083.00  \n",
       "33,603,207,226.00   609,289,617.00  \n",
       "33,761,565,438.00   291,893,150.00  \n",
       "33,644,018,961.00   641,927,819.00  \n",
       "33,658,044,793.00   118,033,918.00  \n",
       "33,698,732,200.00   164,938,752.00  "
      ]
     },
     "execution_count": 13,
     "metadata": {},
     "output_type": "execute_result"
    }
   ],
   "source": [
    "total_app_columns = ['MSISDN/Number','Total Google', 'Total Youtube', 'Total Netflix', 'Total Email', \\\n",
    "                     'Total Gaming', 'Total Social Media', 'Total Other', 'Total']\n",
    "user_app_behaviour = user_app_usage[total_app_columns].groupby('MSISDN/Number').sum().sample(10)\n",
    "user_app_behaviour"
   ]
  },
  {
   "cell_type": "markdown",
   "id": "d7785bba",
   "metadata": {},
   "source": [
    "### Task 1.2"
   ]
  },
  {
   "cell_type": "markdown",
   "id": "0195d079",
   "metadata": {},
   "source": [
    "Identify and treat all missing values and outliers in the dataset by replacing by the mean of the corresponding column."
   ]
  },
  {
   "cell_type": "code",
   "execution_count": 14,
   "id": "5dbb2a48",
   "metadata": {},
   "outputs": [],
   "source": [
    "column_for_analysis = ['Bearer Id','Dur. (ms).1' ,'MSISDN/Number','Total Google', 'Total Youtube', \\\n",
    "                       'Total Netflix', 'Total Email', 'Total Gaming', 'Total Social Media', 'Total Other', 'Total']\n",
    "\n",
    "user_app_behaviour = user_app_usage[column_for_analysis]"
   ]
  },
  {
   "cell_type": "markdown",
   "id": "66d94b7c",
   "metadata": {},
   "source": [
    "All  relevant variables/columns and associated data types"
   ]
  },
  {
   "cell_type": "code",
   "execution_count": 15,
   "id": "fc5e0acb",
   "metadata": {},
   "outputs": [
    {
     "name": "stdout",
     "output_type": "stream",
     "text": [
      "<class 'pandas.core.frame.DataFrame'>\n",
      "RangeIndex: 148506 entries, 0 to 148505\n",
      "Data columns (total 11 columns):\n",
      " #   Column              Non-Null Count   Dtype  \n",
      "---  ------              --------------   -----  \n",
      " 0   Bearer Id           148506 non-null  float64\n",
      " 1   Dur. (ms).1         148506 non-null  float64\n",
      " 2   MSISDN/Number       148506 non-null  float64\n",
      " 3   Total Google        148506 non-null  float64\n",
      " 4   Total Youtube       148506 non-null  float64\n",
      " 5   Total Netflix       148506 non-null  float64\n",
      " 6   Total Email         148506 non-null  float64\n",
      " 7   Total Gaming        148506 non-null  float64\n",
      " 8   Total Social Media  148506 non-null  float64\n",
      " 9   Total Other         148506 non-null  float64\n",
      " 10  Total               148506 non-null  float64\n",
      "dtypes: float64(11)\n",
      "memory usage: 12.5 MB\n"
     ]
    }
   ],
   "source": [
    "user_app_behaviour.info()"
   ]
  },
  {
   "cell_type": "markdown",
   "id": "9e22a479",
   "metadata": {},
   "source": [
    "Analyze the basic metrics (mean, median, etc) in the Dataset"
   ]
  },
  {
   "cell_type": "code",
   "execution_count": 16,
   "id": "bfae299e",
   "metadata": {},
   "outputs": [
    {
     "data": {
      "text/html": [
       "<div>\n",
       "<style scoped>\n",
       "    .dataframe tbody tr th:only-of-type {\n",
       "        vertical-align: middle;\n",
       "    }\n",
       "\n",
       "    .dataframe tbody tr th {\n",
       "        vertical-align: top;\n",
       "    }\n",
       "\n",
       "    .dataframe thead th {\n",
       "        text-align: right;\n",
       "    }\n",
       "</style>\n",
       "<table border=\"1\" class=\"dataframe\">\n",
       "  <thead>\n",
       "    <tr style=\"text-align: right;\">\n",
       "      <th></th>\n",
       "      <th>Bearer Id</th>\n",
       "      <th>Dur. (ms).1</th>\n",
       "      <th>MSISDN/Number</th>\n",
       "      <th>Total Google</th>\n",
       "      <th>Total Youtube</th>\n",
       "      <th>Total Netflix</th>\n",
       "      <th>Total Email</th>\n",
       "      <th>Total Gaming</th>\n",
       "      <th>Total Social Media</th>\n",
       "      <th>Total Other</th>\n",
       "      <th>Total</th>\n",
       "    </tr>\n",
       "  </thead>\n",
       "  <tbody>\n",
       "    <tr>\n",
       "      <th>count</th>\n",
       "      <td>148,506.00</td>\n",
       "      <td>148,506.00</td>\n",
       "      <td>148,506.00</td>\n",
       "      <td>148,506.00</td>\n",
       "      <td>148,506.00</td>\n",
       "      <td>148,506.00</td>\n",
       "      <td>148,506.00</td>\n",
       "      <td>148,506.00</td>\n",
       "      <td>148,506.00</td>\n",
       "      <td>148,506.00</td>\n",
       "      <td>148,506.00</td>\n",
       "    </tr>\n",
       "    <tr>\n",
       "      <th>mean</th>\n",
       "      <td>10,146,757,650,164,633,600.00</td>\n",
       "      <td>105,084,600.60</td>\n",
       "      <td>41,906,541,782.21</td>\n",
       "      <td>7,808,062.88</td>\n",
       "      <td>22,642,436.13</td>\n",
       "      <td>22,629,144.08</td>\n",
       "      <td>2,259,188.18</td>\n",
       "      <td>430,353,822.28</td>\n",
       "      <td>1,828,066.19</td>\n",
       "      <td>429,415,150.40</td>\n",
       "      <td>495,783,404.80</td>\n",
       "    </tr>\n",
       "    <tr>\n",
       "      <th>std</th>\n",
       "      <td>2,893,261,633,271,239,168.00</td>\n",
       "      <td>81,072,729.72</td>\n",
       "      <td>2,450,975,846,357.31</td>\n",
       "      <td>3,516,724.32</td>\n",
       "      <td>9,247,683.87</td>\n",
       "      <td>9,260,476.58</td>\n",
       "      <td>1,071,151.94</td>\n",
       "      <td>244,056,892.01</td>\n",
       "      <td>1,035,637.84</td>\n",
       "      <td>243,228,409.16</td>\n",
       "      <td>244,414,630.77</td>\n",
       "    </tr>\n",
       "    <tr>\n",
       "      <th>min</th>\n",
       "      <td>6,917,537,518,543,529,984.00</td>\n",
       "      <td>7,142,988.00</td>\n",
       "      <td>33,601,001,722.00</td>\n",
       "      <td>40,330.00</td>\n",
       "      <td>78,903.00</td>\n",
       "      <td>98,432.00</td>\n",
       "      <td>8,359.00</td>\n",
       "      <td>306,358.00</td>\n",
       "      <td>1,563.00</td>\n",
       "      <td>149,045.00</td>\n",
       "      <td>28,956,107.00</td>\n",
       "    </tr>\n",
       "    <tr>\n",
       "      <th>25%</th>\n",
       "      <td>7,349,883,247,462,785,024.00</td>\n",
       "      <td>58,249,644.50</td>\n",
       "      <td>33,651,311,444.25</td>\n",
       "      <td>4,944,994.00</td>\n",
       "      <td>15,993,736.00</td>\n",
       "      <td>15,980,157.50</td>\n",
       "      <td>1,359,336.25</td>\n",
       "      <td>218,736,240.50</td>\n",
       "      <td>932,182.75</td>\n",
       "      <td>218,668,175.00</td>\n",
       "      <td>284,528,559.25</td>\n",
       "    </tr>\n",
       "    <tr>\n",
       "      <th>50%</th>\n",
       "      <td>7,349,883,264,172,940,288.00</td>\n",
       "      <td>86,399,986.00</td>\n",
       "      <td>33,663,708,556.00</td>\n",
       "      <td>7,815,669.00</td>\n",
       "      <td>22,661,313.50</td>\n",
       "      <td>22,636,325.00</td>\n",
       "      <td>2,264,186.00</td>\n",
       "      <td>431,658,476.50</td>\n",
       "      <td>1,825,931.00</td>\n",
       "      <td>430,043,829.50</td>\n",
       "      <td>496,922,522.00</td>\n",
       "    </tr>\n",
       "    <tr>\n",
       "      <th>75%</th>\n",
       "      <td>13,042,425,978,973,898,752.00</td>\n",
       "      <td>132,933,303.50</td>\n",
       "      <td>33,683,515,176.75</td>\n",
       "      <td>10,683,066.25</td>\n",
       "      <td>29,298,239.75</td>\n",
       "      <td>29,288,322.00</td>\n",
       "      <td>3,160,024.50</td>\n",
       "      <td>641,528,161.50</td>\n",
       "      <td>2,727,493.00</td>\n",
       "      <td>639,895,974.50</td>\n",
       "      <td>706,567,698.50</td>\n",
       "    </tr>\n",
       "    <tr>\n",
       "      <th>max</th>\n",
       "      <td>13,186,541,167,134,199,808.00</td>\n",
       "      <td>1,859,336,442.00</td>\n",
       "      <td>882,397,108,489,451.00</td>\n",
       "      <td>15,528,782.00</td>\n",
       "      <td>45,190,078.00</td>\n",
       "      <td>45,198,153.00</td>\n",
       "      <td>4,518,036.00</td>\n",
       "      <td>859,202,784.00</td>\n",
       "      <td>3,650,861.00</td>\n",
       "      <td>859,520,934.00</td>\n",
       "      <td>955,984,776.00</td>\n",
       "    </tr>\n",
       "  </tbody>\n",
       "</table>\n",
       "</div>"
      ],
      "text/plain": [
       "                          Bearer Id      Dur. (ms).1          MSISDN/Number  \\\n",
       "count                    148,506.00       148,506.00             148,506.00   \n",
       "mean  10,146,757,650,164,633,600.00   105,084,600.60      41,906,541,782.21   \n",
       "std    2,893,261,633,271,239,168.00    81,072,729.72   2,450,975,846,357.31   \n",
       "min    6,917,537,518,543,529,984.00     7,142,988.00      33,601,001,722.00   \n",
       "25%    7,349,883,247,462,785,024.00    58,249,644.50      33,651,311,444.25   \n",
       "50%    7,349,883,264,172,940,288.00    86,399,986.00      33,663,708,556.00   \n",
       "75%   13,042,425,978,973,898,752.00   132,933,303.50      33,683,515,176.75   \n",
       "max   13,186,541,167,134,199,808.00 1,859,336,442.00 882,397,108,489,451.00   \n",
       "\n",
       "       Total Google  Total Youtube  Total Netflix  Total Email   Total Gaming  \\\n",
       "count    148,506.00     148,506.00     148,506.00   148,506.00     148,506.00   \n",
       "mean   7,808,062.88  22,642,436.13  22,629,144.08 2,259,188.18 430,353,822.28   \n",
       "std    3,516,724.32   9,247,683.87   9,260,476.58 1,071,151.94 244,056,892.01   \n",
       "min       40,330.00      78,903.00      98,432.00     8,359.00     306,358.00   \n",
       "25%    4,944,994.00  15,993,736.00  15,980,157.50 1,359,336.25 218,736,240.50   \n",
       "50%    7,815,669.00  22,661,313.50  22,636,325.00 2,264,186.00 431,658,476.50   \n",
       "75%   10,683,066.25  29,298,239.75  29,288,322.00 3,160,024.50 641,528,161.50   \n",
       "max   15,528,782.00  45,190,078.00  45,198,153.00 4,518,036.00 859,202,784.00   \n",
       "\n",
       "       Total Social Media    Total Other          Total  \n",
       "count          148,506.00     148,506.00     148,506.00  \n",
       "mean         1,828,066.19 429,415,150.40 495,783,404.80  \n",
       "std          1,035,637.84 243,228,409.16 244,414,630.77  \n",
       "min              1,563.00     149,045.00  28,956,107.00  \n",
       "25%            932,182.75 218,668,175.00 284,528,559.25  \n",
       "50%          1,825,931.00 430,043,829.50 496,922,522.00  \n",
       "75%          2,727,493.00 639,895,974.50 706,567,698.50  \n",
       "max          3,650,861.00 859,520,934.00 955,984,776.00  "
      ]
     },
     "execution_count": 16,
     "metadata": {},
     "output_type": "execute_result"
    }
   ],
   "source": [
    "user_app_behaviour.describe()"
   ]
  },
  {
   "cell_type": "markdown",
   "id": "5541b1f2",
   "metadata": {},
   "source": [
    "#### Graphical Analysis"
   ]
  },
  {
   "cell_type": "markdown",
   "id": "0777ede8",
   "metadata": {},
   "source": [
    "Graphical Univariate Analysis by identifying the most suitable plotting options for each variable"
   ]
  },
  {
   "cell_type": "code",
   "execution_count": 17,
   "id": "45cccbce",
   "metadata": {},
   "outputs": [
    {
     "data": {
      "text/plain": [
       "<Figure size 648x504 with 0 Axes>"
      ]
     },
     "metadata": {},
     "output_type": "display_data"
    },
    {
     "data": {
      "image/png": "[encoded data removed]",
      "text/plain": [
       "<Figure size 1008x504 with 1 Axes>"
      ]
     },
     "metadata": {
      "needs_background": "light"
     },
     "output_type": "display_data"
    }
   ],
   "source": [
    "ploting.hist(user_app_behaviour, 'Dur. (ms).1','green') "
   ]
  },
  {
   "cell_type": "code",
   "execution_count": 200,
   "id": "b3c7d588",
   "metadata": {},
   "outputs": [
    {
     "data": {
      "image/png": "[encoded data removed]",
      "text/plain": [
       "<Figure size 864x504 with 1 Axes>"
      ]
     },
     "metadata": {
      "needs_background": "light"
     },
     "output_type": "display_data"
    }
   ],
   "source": [
    "ploting.plot_box(user_app_behaviour, 'Dur. (ms).1', 'Duration Box plot')"
   ]
  },
  {
   "cell_type": "code",
   "execution_count": 201,
   "id": "b80512f7",
   "metadata": {},
   "outputs": [
    {
     "data": {
      "text/plain": [
       "<Figure size 648x504 with 0 Axes>"
      ]
     },
     "metadata": {},
     "output_type": "display_data"
    },
    {
     "data": {
      "image/png": "[encoded data removed]",
      "text/plain": [
       "<Figure size 1008x504 with 1 Axes>"
      ]
     },
     "metadata": {
      "needs_background": "light"
     },
     "output_type": "display_data"
    }
   ],
   "source": [
    "ploting.hist(user_app_behaviour, 'Total Google', 'green')"
   ]
  },
  {
   "cell_type": "code",
   "execution_count": 202,
   "id": "549a99ef",
   "metadata": {},
   "outputs": [
    {
     "data": {
      "text/plain": [
       "<Figure size 648x504 with 0 Axes>"
      ]
     },
     "metadata": {},
     "output_type": "display_data"
    },
    {
     "data": {
      "image/png": "[encoded data removed]",
      "text/plain": [
       "<Figure size 1008x504 with 1 Axes>"
      ]
     },
     "metadata": {
      "needs_background": "light"
     },
     "output_type": "display_data"
    }
   ],
   "source": [
    "ploting.hist(user_app_behaviour, 'Total Youtube', 'blue')"
   ]
  },
  {
   "cell_type": "code",
   "execution_count": 203,
   "id": "0d2f6a6b",
   "metadata": {},
   "outputs": [
    {
     "data": {
      "text/plain": [
       "<Figure size 648x504 with 0 Axes>"
      ]
     },
     "metadata": {},
     "output_type": "display_data"
    },
    {
     "data": {
      "image/png": "[encoded data removed]",
      "text/plain": [
       "<Figure size 1008x504 with 1 Axes>"
      ]
     },
     "metadata": {
      "needs_background": "light"
     },
     "output_type": "display_data"
    }
   ],
   "source": [
    "ploting.hist(user_app_behaviour, 'Total Netflix', 'red')"
   ]
  },
  {
   "cell_type": "code",
   "execution_count": 204,
   "id": "6f951463",
   "metadata": {},
   "outputs": [
    {
     "data": {
      "text/plain": [
       "<Figure size 648x504 with 0 Axes>"
      ]
     },
     "metadata": {},
     "output_type": "display_data"
    },
    {
     "data": {
      "image/png": "[encoded data removed]",
      "text/plain": [
       "<Figure size 1008x504 with 1 Axes>"
      ]
     },
     "metadata": {
      "needs_background": "light"
     },
     "output_type": "display_data"
    }
   ],
   "source": [
    "ploting.hist(user_app_behaviour, 'Total Email', 'green')"
   ]
  },
  {
   "cell_type": "code",
   "execution_count": 205,
   "id": "8f6948e0",
   "metadata": {},
   "outputs": [
    {
     "data": {
      "text/plain": [
       "<Figure size 648x504 with 0 Axes>"
      ]
     },
     "metadata": {},
     "output_type": "display_data"
    },
    {
     "data": {
      "image/png": "[encoded data removed]",
      "text/plain": [
       "<Figure size 1008x504 with 1 Axes>"
      ]
     },
     "metadata": {
      "needs_background": "light"
     },
     "output_type": "display_data"
    }
   ],
   "source": [
    "ploting.hist(user_app_behaviour, 'Total Gaming', 'blue')"
   ]
  },
  {
   "cell_type": "code",
   "execution_count": 206,
   "id": "9d9a4c8d",
   "metadata": {},
   "outputs": [
    {
     "data": {
      "text/plain": [
       "<Figure size 648x504 with 0 Axes>"
      ]
     },
     "metadata": {},
     "output_type": "display_data"
    },
    {
     "data": {
      "image/png": "[encoded data removed]",
      "text/plain": [
       "<Figure size 1008x504 with 1 Axes>"
      ]
     },
     "metadata": {
      "needs_background": "light"
     },
     "output_type": "display_data"
    }
   ],
   "source": [
    "ploting.hist(user_app_behaviour, 'Total Social Media', 'red')"
   ]
  },
  {
   "cell_type": "markdown",
   "id": "772ee500",
   "metadata": {},
   "source": [
    "Bivariate Analysis – explore the relationship between each application & the total DL+UL data "
   ]
  },
  {
   "cell_type": "code",
   "execution_count": 207,
   "id": "b71b1f1c",
   "metadata": {},
   "outputs": [
    {
     "data": {
      "image/png": "[encoded data removed]",
      "text/plain": [
       "<Figure size 864x504 with 1 Axes>"
      ]
     },
     "metadata": {
      "needs_background": "light"
     },
     "output_type": "display_data"
    }
   ],
   "source": [
    "per_user = user_app_behaviour.groupby('MSISDN/Number').sum()\n",
    "ploting.plot_scatter(per_user, 'Total', 'Total Gaming', 'Total Gaming Vs Total Data', None, None)"
   ]
  },
  {
   "cell_type": "code",
   "execution_count": 208,
   "id": "1bc75a44",
   "metadata": {},
   "outputs": [
    {
     "data": {
      "image/png": "[encoded data removed]",
      "text/plain": [
       "<Figure size 864x504 with 1 Axes>"
      ]
     },
     "metadata": {
      "needs_background": "light"
     },
     "output_type": "display_data"
    }
   ],
   "source": [
    "ploting.plot_scatter(per_user, 'Total', 'Total Other', 'Total Others Vs Total Data', None, None)"
   ]
  },
  {
   "cell_type": "code",
   "execution_count": 209,
   "id": "56e9cd79",
   "metadata": {},
   "outputs": [
    {
     "data": {
      "image/png": "[encoded data removed]",
      "text/plain": [
       "<Figure size 864x504 with 1 Axes>"
      ]
     },
     "metadata": {
      "needs_background": "light"
     },
     "output_type": "display_data"
    }
   ],
   "source": [
    "ploting.plot_scatter(per_user, 'Total', 'Total Google', 'Total Google Vs Total Data', None, None)"
   ]
  },
  {
   "cell_type": "code",
   "execution_count": 210,
   "id": "4f9cda72",
   "metadata": {},
   "outputs": [
    {
     "data": {
      "image/png": "[encoded data removed]",
      "text/plain": [
       "<Figure size 864x504 with 1 Axes>"
      ]
     },
     "metadata": {
      "needs_background": "light"
     },
     "output_type": "display_data"
    }
   ],
   "source": [
    "ploting.plot_scatter(per_user, 'Total', 'Total Youtube', 'Total Youtube Vs Total Data', None, None)"
   ]
  },
  {
   "cell_type": "code",
   "execution_count": 211,
   "id": "cfa0008c",
   "metadata": {},
   "outputs": [
    {
     "data": {
      "text/html": [
       "<div>\n",
       "<style scoped>\n",
       "    .dataframe tbody tr th:only-of-type {\n",
       "        vertical-align: middle;\n",
       "    }\n",
       "\n",
       "    .dataframe tbody tr th {\n",
       "        vertical-align: top;\n",
       "    }\n",
       "\n",
       "    .dataframe thead th {\n",
       "        text-align: right;\n",
       "    }\n",
       "</style>\n",
       "<table border=\"1\" class=\"dataframe\">\n",
       "  <thead>\n",
       "    <tr style=\"text-align: right;\">\n",
       "      <th></th>\n",
       "      <th>Bearer Id</th>\n",
       "      <th>Dur. (ms).1</th>\n",
       "      <th>Total Google</th>\n",
       "      <th>Total Youtube</th>\n",
       "      <th>Total Netflix</th>\n",
       "      <th>Total Email</th>\n",
       "      <th>Total Gaming</th>\n",
       "      <th>Total Social Media</th>\n",
       "      <th>Total Other</th>\n",
       "      <th>Total</th>\n",
       "    </tr>\n",
       "    <tr>\n",
       "      <th>MSISDN/Number</th>\n",
       "      <th></th>\n",
       "      <th></th>\n",
       "      <th></th>\n",
       "      <th></th>\n",
       "      <th></th>\n",
       "      <th></th>\n",
       "      <th></th>\n",
       "      <th></th>\n",
       "      <th></th>\n",
       "      <th></th>\n",
       "    </tr>\n",
       "  </thead>\n",
       "  <tbody>\n",
       "    <tr>\n",
       "      <th>33,601,001,722.00</th>\n",
       "      <td>13,114,483,554,762,799,104.00</td>\n",
       "      <td>116,720,140.00</td>\n",
       "      <td>4,389,005.00</td>\n",
       "      <td>21,624,548.00</td>\n",
       "      <td>27,180,981.00</td>\n",
       "      <td>1,331,362.00</td>\n",
       "      <td>812,458,661.00</td>\n",
       "      <td>2,232,135.00</td>\n",
       "      <td>386,570,872.00</td>\n",
       "      <td>878,690,574.00</td>\n",
       "    </tr>\n",
       "    <tr>\n",
       "      <th>33,601,001,754.00</th>\n",
       "      <td>7,349,883,260,786,089,984.00</td>\n",
       "      <td>181,230,963.00</td>\n",
       "      <td>5,334,863.00</td>\n",
       "      <td>12,432,223.00</td>\n",
       "      <td>11,221,763.00</td>\n",
       "      <td>3,307,781.00</td>\n",
       "      <td>119,750,078.00</td>\n",
       "      <td>2,660,565.00</td>\n",
       "      <td>281,710,071.00</td>\n",
       "      <td>156,859,643.00</td>\n",
       "    </tr>\n",
       "    <tr>\n",
       "      <th>33,601,002,511.00</th>\n",
       "      <td>7,349,883,263,388,680,192.00</td>\n",
       "      <td>134,969,374.00</td>\n",
       "      <td>3,443,126.00</td>\n",
       "      <td>21,333,570.00</td>\n",
       "      <td>19,353,900.00</td>\n",
       "      <td>3,205,380.00</td>\n",
       "      <td>538,827,713.00</td>\n",
       "      <td>3,195,623.00</td>\n",
       "      <td>501,693,672.00</td>\n",
       "      <td>595,966,483.00</td>\n",
       "    </tr>\n",
       "    <tr>\n",
       "      <th>33,601,007,832.00</th>\n",
       "      <td>13,042,425,972,781,099,008.00</td>\n",
       "      <td>49,878,024.00</td>\n",
       "      <td>9,678,493.00</td>\n",
       "      <td>6,977,321.00</td>\n",
       "      <td>1,942,092.00</td>\n",
       "      <td>2,284,670.00</td>\n",
       "      <td>391,126,127.00</td>\n",
       "      <td>280,294.00</td>\n",
       "      <td>35,279,702.00</td>\n",
       "      <td>422,320,698.00</td>\n",
       "    </tr>\n",
       "    <tr>\n",
       "      <th>33,601,008,617.00</th>\n",
       "      <td>14,627,708,905,718,919,168.00</td>\n",
       "      <td>37,104,453.00</td>\n",
       "      <td>18,499,616.00</td>\n",
       "      <td>41,533,002.00</td>\n",
       "      <td>49,201,724.00</td>\n",
       "      <td>3,305,469.00</td>\n",
       "      <td>1,314,797,820.00</td>\n",
       "      <td>2,912,542.00</td>\n",
       "      <td>804,804,484.00</td>\n",
       "      <td>1,457,410,944.00</td>\n",
       "    </tr>\n",
       "    <tr>\n",
       "      <th>...</th>\n",
       "      <td>...</td>\n",
       "      <td>...</td>\n",
       "      <td>...</td>\n",
       "      <td>...</td>\n",
       "      <td>...</td>\n",
       "      <td>...</td>\n",
       "      <td>...</td>\n",
       "      <td>...</td>\n",
       "      <td>...</td>\n",
       "      <td>...</td>\n",
       "    </tr>\n",
       "    <tr>\n",
       "      <th>33,789,996,170.00</th>\n",
       "      <td>13,042,425,959,639,599,104.00</td>\n",
       "      <td>8,810,688.00</td>\n",
       "      <td>7,531,269.00</td>\n",
       "      <td>26,647,843.00</td>\n",
       "      <td>14,902,538.00</td>\n",
       "      <td>1,006,915.00</td>\n",
       "      <td>660,361,359.00</td>\n",
       "      <td>300,183.00</td>\n",
       "      <td>295,282,817.00</td>\n",
       "      <td>714,641,641.00</td>\n",
       "    </tr>\n",
       "    <tr>\n",
       "      <th>33,789,997,247.00</th>\n",
       "      <td>13,114,483,558,421,200,896.00</td>\n",
       "      <td>140,988,659.00</td>\n",
       "      <td>5,429,705.00</td>\n",
       "      <td>19,851,572.00</td>\n",
       "      <td>8,531,060.00</td>\n",
       "      <td>2,514,097.00</td>\n",
       "      <td>437,003,292.00</td>\n",
       "      <td>498,569.00</td>\n",
       "      <td>211,115,113.00</td>\n",
       "      <td>480,307,335.00</td>\n",
       "    </tr>\n",
       "    <tr>\n",
       "      <th>3,197,020,876,596.00</th>\n",
       "      <td>7,277,825,624,788,950,016.00</td>\n",
       "      <td>877,385,325.00</td>\n",
       "      <td>10,438,660.00</td>\n",
       "      <td>11,959,905.00</td>\n",
       "      <td>26,592,300.00</td>\n",
       "      <td>1,520,771.00</td>\n",
       "      <td>178,048,738.00</td>\n",
       "      <td>715,224.00</td>\n",
       "      <td>470,526,473.00</td>\n",
       "      <td>232,123,971.00</td>\n",
       "    </tr>\n",
       "    <tr>\n",
       "      <th>337,000,037,000,919.00</th>\n",
       "      <td>7,349,883,258,102,979,584.00</td>\n",
       "      <td>253,030,201.00</td>\n",
       "      <td>9,830,617.00</td>\n",
       "      <td>36,734,940.00</td>\n",
       "      <td>30,905,042.00</td>\n",
       "      <td>3,318,582.00</td>\n",
       "      <td>510,142,695.00</td>\n",
       "      <td>521,566.00</td>\n",
       "      <td>149,188,439.00</td>\n",
       "      <td>596,287,824.00</td>\n",
       "    </tr>\n",
       "    <tr>\n",
       "      <th>882,397,108,489,451.00</th>\n",
       "      <td>7,277,825,601,573,409,792.00</td>\n",
       "      <td>869,844,200.00</td>\n",
       "      <td>9,218,647.00</td>\n",
       "      <td>40,940,710.00</td>\n",
       "      <td>28,846,230.00</td>\n",
       "      <td>3,330,974.00</td>\n",
       "      <td>43,070,260.00</td>\n",
       "      <td>1,546,088.00</td>\n",
       "      <td>401,360,457.00</td>\n",
       "      <td>139,153,646.00</td>\n",
       "    </tr>\n",
       "  </tbody>\n",
       "</table>\n",
       "<p>106471 rows × 10 columns</p>\n",
       "</div>"
      ],
      "text/plain": [
       "                                           Bearer Id    Dur. (ms).1  \\\n",
       "MSISDN/Number                                                         \n",
       "33,601,001,722.00      13,114,483,554,762,799,104.00 116,720,140.00   \n",
       "33,601,001,754.00       7,349,883,260,786,089,984.00 181,230,963.00   \n",
       "33,601,002,511.00       7,349,883,263,388,680,192.00 134,969,374.00   \n",
       "33,601,007,832.00      13,042,425,972,781,099,008.00  49,878,024.00   \n",
       "33,601,008,617.00      14,627,708,905,718,919,168.00  37,104,453.00   \n",
       "...                                              ...            ...   \n",
       "33,789,996,170.00      13,042,425,959,639,599,104.00   8,810,688.00   \n",
       "33,789,997,247.00      13,114,483,558,421,200,896.00 140,988,659.00   \n",
       "3,197,020,876,596.00    7,277,825,624,788,950,016.00 877,385,325.00   \n",
       "337,000,037,000,919.00  7,349,883,258,102,979,584.00 253,030,201.00   \n",
       "882,397,108,489,451.00  7,277,825,601,573,409,792.00 869,844,200.00   \n",
       "\n",
       "                        Total Google  Total Youtube  Total Netflix  \\\n",
       "MSISDN/Number                                                        \n",
       "33,601,001,722.00       4,389,005.00  21,624,548.00  27,180,981.00   \n",
       "33,601,001,754.00       5,334,863.00  12,432,223.00  11,221,763.00   \n",
       "33,601,002,511.00       3,443,126.00  21,333,570.00  19,353,900.00   \n",
       "33,601,007,832.00       9,678,493.00   6,977,321.00   1,942,092.00   \n",
       "33,601,008,617.00      18,499,616.00  41,533,002.00  49,201,724.00   \n",
       "...                              ...            ...            ...   \n",
       "33,789,996,170.00       7,531,269.00  26,647,843.00  14,902,538.00   \n",
       "33,789,997,247.00       5,429,705.00  19,851,572.00   8,531,060.00   \n",
       "3,197,020,876,596.00   10,438,660.00  11,959,905.00  26,592,300.00   \n",
       "337,000,037,000,919.00  9,830,617.00  36,734,940.00  30,905,042.00   \n",
       "882,397,108,489,451.00  9,218,647.00  40,940,710.00  28,846,230.00   \n",
       "\n",
       "                        Total Email     Total Gaming  Total Social Media  \\\n",
       "MSISDN/Number                                                              \n",
       "33,601,001,722.00      1,331,362.00   812,458,661.00        2,232,135.00   \n",
       "33,601,001,754.00      3,307,781.00   119,750,078.00        2,660,565.00   \n",
       "33,601,002,511.00      3,205,380.00   538,827,713.00        3,195,623.00   \n",
       "33,601,007,832.00      2,284,670.00   391,126,127.00          280,294.00   \n",
       "33,601,008,617.00      3,305,469.00 1,314,797,820.00        2,912,542.00   \n",
       "...                             ...              ...                 ...   \n",
       "33,789,996,170.00      1,006,915.00   660,361,359.00          300,183.00   \n",
       "33,789,997,247.00      2,514,097.00   437,003,292.00          498,569.00   \n",
       "3,197,020,876,596.00   1,520,771.00   178,048,738.00          715,224.00   \n",
       "337,000,037,000,919.00 3,318,582.00   510,142,695.00          521,566.00   \n",
       "882,397,108,489,451.00 3,330,974.00    43,070,260.00        1,546,088.00   \n",
       "\n",
       "                          Total Other            Total  \n",
       "MSISDN/Number                                           \n",
       "33,601,001,722.00      386,570,872.00   878,690,574.00  \n",
       "33,601,001,754.00      281,710,071.00   156,859,643.00  \n",
       "33,601,002,511.00      501,693,672.00   595,966,483.00  \n",
       "33,601,007,832.00       35,279,702.00   422,320,698.00  \n",
       "33,601,008,617.00      804,804,484.00 1,457,410,944.00  \n",
       "...                               ...              ...  \n",
       "33,789,996,170.00      295,282,817.00   714,641,641.00  \n",
       "33,789,997,247.00      211,115,113.00   480,307,335.00  \n",
       "3,197,020,876,596.00   470,526,473.00   232,123,971.00  \n",
       "337,000,037,000,919.00 149,188,439.00   596,287,824.00  \n",
       "882,397,108,489,451.00 401,360,457.00   139,153,646.00  \n",
       "\n",
       "[106471 rows x 10 columns]"
      ]
     },
     "execution_count": 211,
     "metadata": {},
     "output_type": "execute_result"
    }
   ],
   "source": [
    "per_user"
   ]
  },
  {
   "cell_type": "markdown",
   "id": "325a59bb",
   "metadata": {},
   "source": [
    "Correlation Analysis – compute a correlation matrix for Social Media data, Google data, Email data, Youtube data, Netflix data, Gaming data, Other data \n"
   ]
  },
  {
   "cell_type": "code",
   "execution_count": 212,
   "id": "65497bb2",
   "metadata": {},
   "outputs": [
    {
     "data": {
      "image/png": "[encoded data removed]",
      "text/plain": [
       "<Figure size 864x504 with 1 Axes>"
      ]
     },
     "metadata": {
      "needs_background": "light"
     },
     "output_type": "display_data"
    }
   ],
   "source": [
    "correlation = user_app_behaviour.corr()\n",
    "ploting.plot_heatmap(correlation, 'Correlation B/n  Applications')"
   ]
  },
  {
   "cell_type": "markdown",
   "id": "74d35737",
   "metadata": {},
   "source": [
    "Variable transformations – segment the users into top five decile classes based on the total duration for all sessions"
   ]
  },
  {
   "cell_type": "code",
   "execution_count": 213,
   "id": "f3956be9",
   "metadata": {},
   "outputs": [
    {
     "data": {
      "text/html": [
       "<div>\n",
       "<style scoped>\n",
       "    .dataframe tbody tr th:only-of-type {\n",
       "        vertical-align: middle;\n",
       "    }\n",
       "\n",
       "    .dataframe tbody tr th {\n",
       "        vertical-align: top;\n",
       "    }\n",
       "\n",
       "    .dataframe thead th {\n",
       "        text-align: right;\n",
       "    }\n",
       "</style>\n",
       "<table border=\"1\" class=\"dataframe\">\n",
       "  <thead>\n",
       "    <tr style=\"text-align: right;\">\n",
       "      <th></th>\n",
       "      <th>Bearer Id</th>\n",
       "      <th>Dur. (ms).1</th>\n",
       "      <th>Total Google</th>\n",
       "      <th>Total Youtube</th>\n",
       "      <th>Total Netflix</th>\n",
       "      <th>Total Email</th>\n",
       "      <th>Total Gaming</th>\n",
       "      <th>Total Social Media</th>\n",
       "      <th>Total Other</th>\n",
       "      <th>Total</th>\n",
       "      <th>Decile</th>\n",
       "    </tr>\n",
       "    <tr>\n",
       "      <th>MSISDN/Number</th>\n",
       "      <th></th>\n",
       "      <th></th>\n",
       "      <th></th>\n",
       "      <th></th>\n",
       "      <th></th>\n",
       "      <th></th>\n",
       "      <th></th>\n",
       "      <th></th>\n",
       "      <th></th>\n",
       "      <th></th>\n",
       "      <th></th>\n",
       "    </tr>\n",
       "  </thead>\n",
       "  <tbody>\n",
       "    <tr>\n",
       "      <th>33,601,001,722.00</th>\n",
       "      <td>13,114,483,554,762,799,104.00</td>\n",
       "      <td>116,720,140.00</td>\n",
       "      <td>4,389,005.00</td>\n",
       "      <td>21,624,548.00</td>\n",
       "      <td>27,180,981.00</td>\n",
       "      <td>1,331,362.00</td>\n",
       "      <td>812,458,661.00</td>\n",
       "      <td>2,232,135.00</td>\n",
       "      <td>386,570,872.00</td>\n",
       "      <td>878,690,574.00</td>\n",
       "      <td>2</td>\n",
       "    </tr>\n",
       "    <tr>\n",
       "      <th>33,601,001,754.00</th>\n",
       "      <td>7,349,883,260,786,089,984.00</td>\n",
       "      <td>181,230,963.00</td>\n",
       "      <td>5,334,863.00</td>\n",
       "      <td>12,432,223.00</td>\n",
       "      <td>11,221,763.00</td>\n",
       "      <td>3,307,781.00</td>\n",
       "      <td>119,750,078.00</td>\n",
       "      <td>2,660,565.00</td>\n",
       "      <td>281,710,071.00</td>\n",
       "      <td>156,859,643.00</td>\n",
       "      <td>3</td>\n",
       "    </tr>\n",
       "    <tr>\n",
       "      <th>33,601,002,511.00</th>\n",
       "      <td>7,349,883,263,388,680,192.00</td>\n",
       "      <td>134,969,374.00</td>\n",
       "      <td>3,443,126.00</td>\n",
       "      <td>21,333,570.00</td>\n",
       "      <td>19,353,900.00</td>\n",
       "      <td>3,205,380.00</td>\n",
       "      <td>538,827,713.00</td>\n",
       "      <td>3,195,623.00</td>\n",
       "      <td>501,693,672.00</td>\n",
       "      <td>595,966,483.00</td>\n",
       "      <td>3</td>\n",
       "    </tr>\n",
       "    <tr>\n",
       "      <th>33,601,007,832.00</th>\n",
       "      <td>13,042,425,972,781,099,008.00</td>\n",
       "      <td>49,878,024.00</td>\n",
       "      <td>9,678,493.00</td>\n",
       "      <td>6,977,321.00</td>\n",
       "      <td>1,942,092.00</td>\n",
       "      <td>2,284,670.00</td>\n",
       "      <td>391,126,127.00</td>\n",
       "      <td>280,294.00</td>\n",
       "      <td>35,279,702.00</td>\n",
       "      <td>422,320,698.00</td>\n",
       "      <td>0</td>\n",
       "    </tr>\n",
       "    <tr>\n",
       "      <th>33,601,008,617.00</th>\n",
       "      <td>14,627,708,905,718,919,168.00</td>\n",
       "      <td>37,104,453.00</td>\n",
       "      <td>18,499,616.00</td>\n",
       "      <td>41,533,002.00</td>\n",
       "      <td>49,201,724.00</td>\n",
       "      <td>3,305,469.00</td>\n",
       "      <td>1,314,797,820.00</td>\n",
       "      <td>2,912,542.00</td>\n",
       "      <td>804,804,484.00</td>\n",
       "      <td>1,457,410,944.00</td>\n",
       "      <td>0</td>\n",
       "    </tr>\n",
       "  </tbody>\n",
       "</table>\n",
       "</div>"
      ],
      "text/plain": [
       "                                      Bearer Id    Dur. (ms).1  Total Google  \\\n",
       "MSISDN/Number                                                                  \n",
       "33,601,001,722.00 13,114,483,554,762,799,104.00 116,720,140.00  4,389,005.00   \n",
       "33,601,001,754.00  7,349,883,260,786,089,984.00 181,230,963.00  5,334,863.00   \n",
       "33,601,002,511.00  7,349,883,263,388,680,192.00 134,969,374.00  3,443,126.00   \n",
       "33,601,007,832.00 13,042,425,972,781,099,008.00  49,878,024.00  9,678,493.00   \n",
       "33,601,008,617.00 14,627,708,905,718,919,168.00  37,104,453.00 18,499,616.00   \n",
       "\n",
       "                   Total Youtube  Total Netflix  Total Email     Total Gaming  \\\n",
       "MSISDN/Number                                                                   \n",
       "33,601,001,722.00  21,624,548.00  27,180,981.00 1,331,362.00   812,458,661.00   \n",
       "33,601,001,754.00  12,432,223.00  11,221,763.00 3,307,781.00   119,750,078.00   \n",
       "33,601,002,511.00  21,333,570.00  19,353,900.00 3,205,380.00   538,827,713.00   \n",
       "33,601,007,832.00   6,977,321.00   1,942,092.00 2,284,670.00   391,126,127.00   \n",
       "33,601,008,617.00  41,533,002.00  49,201,724.00 3,305,469.00 1,314,797,820.00   \n",
       "\n",
       "                   Total Social Media    Total Other            Total  Decile  \n",
       "MSISDN/Number                                                                  \n",
       "33,601,001,722.00        2,232,135.00 386,570,872.00   878,690,574.00       2  \n",
       "33,601,001,754.00        2,660,565.00 281,710,071.00   156,859,643.00       3  \n",
       "33,601,002,511.00        3,195,623.00 501,693,672.00   595,966,483.00       3  \n",
       "33,601,007,832.00          280,294.00  35,279,702.00   422,320,698.00       0  \n",
       "33,601,008,617.00        2,912,542.00 804,804,484.00 1,457,410,944.00       0  "
      ]
     },
     "execution_count": 213,
     "metadata": {},
     "output_type": "execute_result"
    }
   ],
   "source": [
    "per_user['Decile'] = pd.qcut(per_user['Dur. (ms).1'], 5, labels = False)\n",
    "per_user.head()"
   ]
  },
  {
   "cell_type": "markdown",
   "id": "bb64ead6",
   "metadata": {},
   "source": [
    "Compute the total data (DL+UL) per decile class"
   ]
  },
  {
   "cell_type": "code",
   "execution_count": 214,
   "id": "5cea98ce",
   "metadata": {},
   "outputs": [
    {
     "data": {
      "text/html": [
       "<div>\n",
       "<style scoped>\n",
       "    .dataframe tbody tr th:only-of-type {\n",
       "        vertical-align: middle;\n",
       "    }\n",
       "\n",
       "    .dataframe tbody tr th {\n",
       "        vertical-align: top;\n",
       "    }\n",
       "\n",
       "    .dataframe thead th {\n",
       "        text-align: right;\n",
       "    }\n",
       "</style>\n",
       "<table border=\"1\" class=\"dataframe\">\n",
       "  <thead>\n",
       "    <tr style=\"text-align: right;\">\n",
       "      <th></th>\n",
       "      <th>Total Google</th>\n",
       "      <th>Total Youtube</th>\n",
       "      <th>Total Netflix</th>\n",
       "      <th>Total Email</th>\n",
       "      <th>Total Gaming</th>\n",
       "      <th>Total Social Media</th>\n",
       "      <th>Total Other</th>\n",
       "      <th>Total</th>\n",
       "      <th>Dur. (ms).1</th>\n",
       "    </tr>\n",
       "    <tr>\n",
       "      <th>Decile</th>\n",
       "      <th></th>\n",
       "      <th></th>\n",
       "      <th></th>\n",
       "      <th></th>\n",
       "      <th></th>\n",
       "      <th></th>\n",
       "      <th></th>\n",
       "      <th></th>\n",
       "      <th></th>\n",
       "    </tr>\n",
       "  </thead>\n",
       "  <tbody>\n",
       "    <tr>\n",
       "      <th>0</th>\n",
       "      <td>181,129,667,623.00</td>\n",
       "      <td>524,620,530,456.00</td>\n",
       "      <td>527,205,923,764.00</td>\n",
       "      <td>52,525,076,389.00</td>\n",
       "      <td>10,010,339,898,089.00</td>\n",
       "      <td>42,578,772,802.00</td>\n",
       "      <td>9,915,185,541,379.00</td>\n",
       "      <td>11,529,809,163,943.00</td>\n",
       "      <td>649,849,851,113.00</td>\n",
       "    </tr>\n",
       "    <tr>\n",
       "      <th>1</th>\n",
       "      <td>185,920,562,138.00</td>\n",
       "      <td>539,149,263,676.00</td>\n",
       "      <td>537,959,082,249.00</td>\n",
       "      <td>53,459,906,808.00</td>\n",
       "      <td>10,226,035,438,507.00</td>\n",
       "      <td>43,251,861,914.00</td>\n",
       "      <td>10,218,649,317,319.00</td>\n",
       "      <td>11,782,368,894,813.00</td>\n",
       "      <td>1,684,389,295,917.00</td>\n",
       "    </tr>\n",
       "    <tr>\n",
       "      <th>2</th>\n",
       "      <td>192,753,380,265.00</td>\n",
       "      <td>558,285,501,376.00</td>\n",
       "      <td>559,178,839,109.00</td>\n",
       "      <td>55,817,731,361.00</td>\n",
       "      <td>10,649,917,865,871.00</td>\n",
       "      <td>45,074,510,790.00</td>\n",
       "      <td>10,706,583,058,488.00</td>\n",
       "      <td>12,265,584,703,748.00</td>\n",
       "      <td>2,250,654,856,754.00</td>\n",
       "    </tr>\n",
       "    <tr>\n",
       "      <th>3</th>\n",
       "      <td>219,062,828,651.00</td>\n",
       "      <td>635,640,855,302.00</td>\n",
       "      <td>633,327,385,395.00</td>\n",
       "      <td>63,428,822,493.00</td>\n",
       "      <td>12,096,731,729,061.00</td>\n",
       "      <td>51,647,215,007.00</td>\n",
       "      <td>12,011,891,291,459.00</td>\n",
       "      <td>13,931,724,616,345.00</td>\n",
       "      <td>3,442,556,107,345.00</td>\n",
       "    </tr>\n",
       "    <tr>\n",
       "      <th>4</th>\n",
       "      <td>380,677,748,040.00</td>\n",
       "      <td>1,104,841,469,255.00</td>\n",
       "      <td>1,102,892,440,255.00</td>\n",
       "      <td>110,271,463,097.00</td>\n",
       "      <td>20,927,099,800,138.00</td>\n",
       "      <td>88,926,437,590.00</td>\n",
       "      <td>20,918,417,117,378.00</td>\n",
       "      <td>24,117,322,934,511.00</td>\n",
       "      <td>7,578,243,584,973.00</td>\n",
       "    </tr>\n",
       "  </tbody>\n",
       "</table>\n",
       "</div>"
      ],
      "text/plain": [
       "             Total Google        Total Youtube        Total Netflix  \\\n",
       "Decile                                                                \n",
       "0      181,129,667,623.00   524,620,530,456.00   527,205,923,764.00   \n",
       "1      185,920,562,138.00   539,149,263,676.00   537,959,082,249.00   \n",
       "2      192,753,380,265.00   558,285,501,376.00   559,178,839,109.00   \n",
       "3      219,062,828,651.00   635,640,855,302.00   633,327,385,395.00   \n",
       "4      380,677,748,040.00 1,104,841,469,255.00 1,102,892,440,255.00   \n",
       "\n",
       "              Total Email          Total Gaming  Total Social Media  \\\n",
       "Decile                                                                \n",
       "0       52,525,076,389.00 10,010,339,898,089.00   42,578,772,802.00   \n",
       "1       53,459,906,808.00 10,226,035,438,507.00   43,251,861,914.00   \n",
       "2       55,817,731,361.00 10,649,917,865,871.00   45,074,510,790.00   \n",
       "3       63,428,822,493.00 12,096,731,729,061.00   51,647,215,007.00   \n",
       "4      110,271,463,097.00 20,927,099,800,138.00   88,926,437,590.00   \n",
       "\n",
       "                 Total Other                 Total          Dur. (ms).1  \n",
       "Decile                                                                   \n",
       "0       9,915,185,541,379.00 11,529,809,163,943.00   649,849,851,113.00  \n",
       "1      10,218,649,317,319.00 11,782,368,894,813.00 1,684,389,295,917.00  \n",
       "2      10,706,583,058,488.00 12,265,584,703,748.00 2,250,654,856,754.00  \n",
       "3      12,011,891,291,459.00 13,931,724,616,345.00 3,442,556,107,345.00  \n",
       "4      20,918,417,117,378.00 24,117,322,934,511.00 7,578,243,584,973.00  "
      ]
     },
     "execution_count": 214,
     "metadata": {},
     "output_type": "execute_result"
    }
   ],
   "source": [
    "decile_data_usage = per_user.groupby('Decile').sum()\n",
    "filter_columns = total_app_columns[1:]\n",
    "filter_columns.append('Dur. (ms).1')\n",
    "decile_data_usage[filter_columns]"
   ]
  },
  {
   "cell_type": "code",
   "execution_count": 215,
   "id": "7fc5ef6c",
   "metadata": {},
   "outputs": [
    {
     "data": {
      "image/png": "[encoded data removed]",
      "text/plain": [
       "<Figure size 864x504 with 1 Axes>"
      ]
     },
     "metadata": {
      "needs_background": "light"
     },
     "output_type": "display_data"
    }
   ],
   "source": [
    "ploting.plot_scatter(per_user, 'Total', 'Dur. (ms).1', 'Duration Vs Total Data', None, None)"
   ]
  },
  {
   "cell_type": "markdown",
   "id": "39c2c9ee",
   "metadata": {},
   "source": [
    "Dimensionality Reduction – perform a principal component analysis to reduce the dimensions of data  \n"
   ]
  },
  {
   "cell_type": "code",
   "execution_count": 216,
   "id": "3cf063f9",
   "metadata": {},
   "outputs": [
    {
     "data": {
      "text/html": [
       "<div>\n",
       "<style scoped>\n",
       "    .dataframe tbody tr th:only-of-type {\n",
       "        vertical-align: middle;\n",
       "    }\n",
       "\n",
       "    .dataframe tbody tr th {\n",
       "        vertical-align: top;\n",
       "    }\n",
       "\n",
       "    .dataframe thead th {\n",
       "        text-align: right;\n",
       "    }\n",
       "</style>\n",
       "<table border=\"1\" class=\"dataframe\">\n",
       "  <thead>\n",
       "    <tr style=\"text-align: right;\">\n",
       "      <th></th>\n",
       "      <th>PC 1</th>\n",
       "      <th>PC 2</th>\n",
       "      <th>PC 3</th>\n",
       "      <th>PC 4</th>\n",
       "    </tr>\n",
       "  </thead>\n",
       "  <tbody>\n",
       "    <tr>\n",
       "      <th>0</th>\n",
       "      <td>-0.73</td>\n",
       "      <td>-0.06</td>\n",
       "      <td>-1.10</td>\n",
       "      <td>-0.05</td>\n",
       "    </tr>\n",
       "    <tr>\n",
       "      <th>1</th>\n",
       "      <td>-1.72</td>\n",
       "      <td>1.37</td>\n",
       "      <td>0.46</td>\n",
       "      <td>-0.00</td>\n",
       "    </tr>\n",
       "    <tr>\n",
       "      <th>2</th>\n",
       "      <td>-0.81</td>\n",
       "      <td>0.76</td>\n",
       "      <td>-0.34</td>\n",
       "      <td>-0.38</td>\n",
       "    </tr>\n",
       "    <tr>\n",
       "      <th>3</th>\n",
       "      <td>-2.48</td>\n",
       "      <td>-0.77</td>\n",
       "      <td>-0.27</td>\n",
       "      <td>0.78</td>\n",
       "    </tr>\n",
       "    <tr>\n",
       "      <th>4</th>\n",
       "      <td>1.54</td>\n",
       "      <td>-2.29</td>\n",
       "      <td>-1.01</td>\n",
       "      <td>0.16</td>\n",
       "    </tr>\n",
       "  </tbody>\n",
       "</table>\n",
       "</div>"
      ],
      "text/plain": [
       "   PC 1  PC 2  PC 3  PC 4\n",
       "0 -0.73 -0.06 -1.10 -0.05\n",
       "1 -1.72  1.37  0.46 -0.00\n",
       "2 -0.81  0.76 -0.34 -0.38\n",
       "3 -2.48 -0.77 -0.27  0.78\n",
       "4  1.54 -2.29 -1.01  0.16"
      ]
     },
     "execution_count": 216,
     "metadata": {},
     "output_type": "execute_result"
    }
   ],
   "source": [
    "pca_scaled = StandardScaler().fit_transform(X=per_user)\n",
    "pca = PCA(n_components=4)\n",
    "pca.fit(pca_scaled)\n",
    "score = pca.transform(pca_scaled)\n",
    "\n",
    "\n",
    "principalDf = pd.DataFrame(data = score\n",
    "             , columns = ['PC 1', 'PC 2', 'PC 3', 'PC 4'])\n",
    "principalDf.head()"
   ]
  },
  {
   "cell_type": "code",
   "execution_count": 217,
   "id": "0839a307",
   "metadata": {},
   "outputs": [
    {
     "data": {
      "text/plain": [
       "array([7.16404541, 0.93833109, 0.65061523, 0.41269441])"
      ]
     },
     "execution_count": 217,
     "metadata": {},
     "output_type": "execute_result"
    }
   ],
   "source": [
    "pca.explained_variance_"
   ]
  },
  {
   "cell_type": "markdown",
   "id": "3225a4a9",
   "metadata": {},
   "source": [
    "End of Market Analysis Code"
   ]
  },
  {
   "cell_type": "markdown",
   "id": "7e9e8140",
   "metadata": {},
   "source": [
    "## Task 2 - User Engagement analysis"
   ]
  },
  {
   "cell_type": "markdown",
   "id": "f9cc3857",
   "metadata": {},
   "source": [
    "Track the user’s engagement using the following engagement metrics: \n",
    "1. sessions frequency \n",
    "2. the duration of the session \n",
    "3. the sessions total traffic (download and upload (bytes))\n"
   ]
  },
  {
   "cell_type": "markdown",
   "id": "4922bb4f",
   "metadata": {},
   "source": [
    "### Task 2.1-"
   ]
  },
  {
   "cell_type": "markdown",
   "id": "43aeefcf",
   "metadata": {},
   "source": [
    "#### Aggregate the above metrics per customer id (MSISDN) and report the top 10 customers per engagement metric "
   ]
  },
  {
   "cell_type": "code",
   "execution_count": 47,
   "id": "5102cfcf",
   "metadata": {},
   "outputs": [
    {
     "data": {
      "text/html": [
       "<div>\n",
       "<style scoped>\n",
       "    .dataframe tbody tr th:only-of-type {\n",
       "        vertical-align: middle;\n",
       "    }\n",
       "\n",
       "    .dataframe tbody tr th {\n",
       "        vertical-align: top;\n",
       "    }\n",
       "\n",
       "    .dataframe thead th {\n",
       "        text-align: right;\n",
       "    }\n",
       "</style>\n",
       "<table border=\"1\" class=\"dataframe\">\n",
       "  <thead>\n",
       "    <tr style=\"text-align: right;\">\n",
       "      <th></th>\n",
       "      <th>Bearer Id</th>\n",
       "      <th>Dur. (ms).1</th>\n",
       "      <th>Total</th>\n",
       "    </tr>\n",
       "    <tr>\n",
       "      <th>MSISDN/Number</th>\n",
       "      <th></th>\n",
       "      <th></th>\n",
       "      <th></th>\n",
       "    </tr>\n",
       "  </thead>\n",
       "  <tbody>\n",
       "    <tr>\n",
       "      <th>33,601,001,722.00</th>\n",
       "      <td>1</td>\n",
       "      <td>116,720,140.00</td>\n",
       "      <td>878,690,574.00</td>\n",
       "    </tr>\n",
       "    <tr>\n",
       "      <th>33,601,001,754.00</th>\n",
       "      <td>1</td>\n",
       "      <td>181,230,963.00</td>\n",
       "      <td>156,859,643.00</td>\n",
       "    </tr>\n",
       "    <tr>\n",
       "      <th>33,601,002,511.00</th>\n",
       "      <td>1</td>\n",
       "      <td>134,969,374.00</td>\n",
       "      <td>595,966,483.00</td>\n",
       "    </tr>\n",
       "    <tr>\n",
       "      <th>33,601,007,832.00</th>\n",
       "      <td>1</td>\n",
       "      <td>49,878,024.00</td>\n",
       "      <td>422,320,698.00</td>\n",
       "    </tr>\n",
       "    <tr>\n",
       "      <th>33,601,008,617.00</th>\n",
       "      <td>2</td>\n",
       "      <td>37,104,453.00</td>\n",
       "      <td>1,457,410,944.00</td>\n",
       "    </tr>\n",
       "  </tbody>\n",
       "</table>\n",
       "</div>"
      ],
      "text/plain": [
       "                   Bearer Id    Dur. (ms).1            Total\n",
       "MSISDN/Number                                               \n",
       "33,601,001,722.00          1 116,720,140.00   878,690,574.00\n",
       "33,601,001,754.00          1 181,230,963.00   156,859,643.00\n",
       "33,601,002,511.00          1 134,969,374.00   595,966,483.00\n",
       "33,601,007,832.00          1  49,878,024.00   422,320,698.00\n",
       "33,601,008,617.00          2  37,104,453.00 1,457,410,944.00"
      ]
     },
     "execution_count": 47,
     "metadata": {},
     "output_type": "execute_result"
    }
   ],
   "source": [
    "df_task2 = df_clean.copy()\n",
    "df_task2['Total'] = df_task2['Total UL (Bytes)'] + df_task2['Total DL (Bytes)']\n",
    "df_task2 = df_task2.groupby('MSISDN/Number')\\\n",
    "    .agg({\"Bearer Id\": \"count\", 'Dur. (ms).1':'sum', 'Total':'sum'})\n",
    "\n",
    "df_task2.head()"
   ]
  },
  {
   "cell_type": "code",
   "execution_count": 48,
   "id": "d58495b8",
   "metadata": {},
   "outputs": [
    {
     "data": {
      "text/html": [
       "<div>\n",
       "<style scoped>\n",
       "    .dataframe tbody tr th:only-of-type {\n",
       "        vertical-align: middle;\n",
       "    }\n",
       "\n",
       "    .dataframe tbody tr th {\n",
       "        vertical-align: top;\n",
       "    }\n",
       "\n",
       "    .dataframe thead th {\n",
       "        text-align: right;\n",
       "    }\n",
       "</style>\n",
       "<table border=\"1\" class=\"dataframe\">\n",
       "  <thead>\n",
       "    <tr style=\"text-align: right;\">\n",
       "      <th></th>\n",
       "      <th>Bearer Id</th>\n",
       "      <th>Dur. (ms).1</th>\n",
       "      <th>Total</th>\n",
       "    </tr>\n",
       "    <tr>\n",
       "      <th>MSISDN/Number</th>\n",
       "      <th></th>\n",
       "      <th></th>\n",
       "      <th></th>\n",
       "    </tr>\n",
       "  </thead>\n",
       "  <tbody>\n",
       "    <tr>\n",
       "      <th>33,626,320,676.00</th>\n",
       "      <td>18</td>\n",
       "      <td>8,791,936,680.00</td>\n",
       "      <td>7,971,167,261.00</td>\n",
       "    </tr>\n",
       "    <tr>\n",
       "      <th>33,614,892,860.00</th>\n",
       "      <td>17</td>\n",
       "      <td>9,966,905,758.00</td>\n",
       "      <td>8,846,226,494.00</td>\n",
       "    </tr>\n",
       "    <tr>\n",
       "      <th>33,625,779,332.00</th>\n",
       "      <td>17</td>\n",
       "      <td>18,553,763,486.00</td>\n",
       "      <td>8,499,620,722.00</td>\n",
       "    </tr>\n",
       "    <tr>\n",
       "      <th>33,659,725,664.00</th>\n",
       "      <td>16</td>\n",
       "      <td>4,035,436,251.00</td>\n",
       "      <td>7,705,862,783.00</td>\n",
       "    </tr>\n",
       "    <tr>\n",
       "      <th>33,760,536,639.00</th>\n",
       "      <td>15</td>\n",
       "      <td>9,279,442,000.00</td>\n",
       "      <td>8,514,773,963.00</td>\n",
       "    </tr>\n",
       "    <tr>\n",
       "      <th>33,675,877,202.00</th>\n",
       "      <td>15</td>\n",
       "      <td>4,865,953,827.00</td>\n",
       "      <td>7,891,110,608.00</td>\n",
       "    </tr>\n",
       "    <tr>\n",
       "      <th>33,667,163,239.00</th>\n",
       "      <td>13</td>\n",
       "      <td>8,744,922,020.00</td>\n",
       "      <td>5,618,394,054.00</td>\n",
       "    </tr>\n",
       "    <tr>\n",
       "      <th>33,604,515,716.00</th>\n",
       "      <td>12</td>\n",
       "      <td>5,207,995,411.00</td>\n",
       "      <td>5,487,855,293.00</td>\n",
       "    </tr>\n",
       "    <tr>\n",
       "      <th>33,760,413,819.00</th>\n",
       "      <td>12</td>\n",
       "      <td>5,321,673,794.00</td>\n",
       "      <td>7,132,370,514.00</td>\n",
       "    </tr>\n",
       "    <tr>\n",
       "      <th>33,603,127,838.00</th>\n",
       "      <td>12</td>\n",
       "      <td>6,287,767,483.00</td>\n",
       "      <td>4,976,195,043.00</td>\n",
       "    </tr>\n",
       "  </tbody>\n",
       "</table>\n",
       "</div>"
      ],
      "text/plain": [
       "                   Bearer Id       Dur. (ms).1            Total\n",
       "MSISDN/Number                                                  \n",
       "33,626,320,676.00         18  8,791,936,680.00 7,971,167,261.00\n",
       "33,614,892,860.00         17  9,966,905,758.00 8,846,226,494.00\n",
       "33,625,779,332.00         17 18,553,763,486.00 8,499,620,722.00\n",
       "33,659,725,664.00         16  4,035,436,251.00 7,705,862,783.00\n",
       "33,760,536,639.00         15  9,279,442,000.00 8,514,773,963.00\n",
       "33,675,877,202.00         15  4,865,953,827.00 7,891,110,608.00\n",
       "33,667,163,239.00         13  8,744,922,020.00 5,618,394,054.00\n",
       "33,604,515,716.00         12  5,207,995,411.00 5,487,855,293.00\n",
       "33,760,413,819.00         12  5,321,673,794.00 7,132,370,514.00\n",
       "33,603,127,838.00         12  6,287,767,483.00 4,976,195,043.00"
      ]
     },
     "execution_count": 48,
     "metadata": {},
     "output_type": "execute_result"
    }
   ],
   "source": [
    "### Top 10 Beaerer id\n",
    "df_task2.sort_values(by='Bearer Id', ascending=False).head(10)"
   ]
  },
  {
   "cell_type": "code",
   "execution_count": 49,
   "id": "cea682fe",
   "metadata": {},
   "outputs": [
    {
     "data": {
      "text/html": [
       "<div>\n",
       "<style scoped>\n",
       "    .dataframe tbody tr th:only-of-type {\n",
       "        vertical-align: middle;\n",
       "    }\n",
       "\n",
       "    .dataframe tbody tr th {\n",
       "        vertical-align: top;\n",
       "    }\n",
       "\n",
       "    .dataframe thead th {\n",
       "        text-align: right;\n",
       "    }\n",
       "</style>\n",
       "<table border=\"1\" class=\"dataframe\">\n",
       "  <thead>\n",
       "    <tr style=\"text-align: right;\">\n",
       "      <th></th>\n",
       "      <th>Bearer Id</th>\n",
       "      <th>Dur. (ms).1</th>\n",
       "      <th>Total</th>\n",
       "    </tr>\n",
       "    <tr>\n",
       "      <th>MSISDN/Number</th>\n",
       "      <th></th>\n",
       "      <th></th>\n",
       "      <th></th>\n",
       "    </tr>\n",
       "  </thead>\n",
       "  <tbody>\n",
       "    <tr>\n",
       "      <th>33,625,779,332.00</th>\n",
       "      <td>17</td>\n",
       "      <td>18,553,763,486.00</td>\n",
       "      <td>8,499,620,722.00</td>\n",
       "    </tr>\n",
       "    <tr>\n",
       "      <th>33,614,892,860.00</th>\n",
       "      <td>17</td>\n",
       "      <td>9,966,905,758.00</td>\n",
       "      <td>8,846,226,494.00</td>\n",
       "    </tr>\n",
       "    <tr>\n",
       "      <th>33,760,536,639.00</th>\n",
       "      <td>15</td>\n",
       "      <td>9,279,442,000.00</td>\n",
       "      <td>8,514,773,963.00</td>\n",
       "    </tr>\n",
       "    <tr>\n",
       "      <th>33,626,320,676.00</th>\n",
       "      <td>18</td>\n",
       "      <td>8,791,936,680.00</td>\n",
       "      <td>7,971,167,261.00</td>\n",
       "    </tr>\n",
       "    <tr>\n",
       "      <th>33,667,163,239.00</th>\n",
       "      <td>13</td>\n",
       "      <td>8,744,922,020.00</td>\n",
       "      <td>5,618,394,054.00</td>\n",
       "    </tr>\n",
       "    <tr>\n",
       "      <th>33,662,840,755.00</th>\n",
       "      <td>9</td>\n",
       "      <td>6,614,274,287.00</td>\n",
       "      <td>4,000,097,981.00</td>\n",
       "    </tr>\n",
       "    <tr>\n",
       "      <th>33,664,693,736.00</th>\n",
       "      <td>9</td>\n",
       "      <td>6,288,735,771.00</td>\n",
       "      <td>5,682,007,334.00</td>\n",
       "    </tr>\n",
       "    <tr>\n",
       "      <th>33,603,127,838.00</th>\n",
       "      <td>12</td>\n",
       "      <td>6,287,767,483.00</td>\n",
       "      <td>4,976,195,043.00</td>\n",
       "    </tr>\n",
       "    <tr>\n",
       "      <th>33,667,456,716.00</th>\n",
       "      <td>6</td>\n",
       "      <td>5,649,885,358.00</td>\n",
       "      <td>2,600,521,941.00</td>\n",
       "    </tr>\n",
       "    <tr>\n",
       "      <th>33,760,413,819.00</th>\n",
       "      <td>12</td>\n",
       "      <td>5,321,673,794.00</td>\n",
       "      <td>7,132,370,514.00</td>\n",
       "    </tr>\n",
       "  </tbody>\n",
       "</table>\n",
       "</div>"
      ],
      "text/plain": [
       "                   Bearer Id       Dur. (ms).1            Total\n",
       "MSISDN/Number                                                  \n",
       "33,625,779,332.00         17 18,553,763,486.00 8,499,620,722.00\n",
       "33,614,892,860.00         17  9,966,905,758.00 8,846,226,494.00\n",
       "33,760,536,639.00         15  9,279,442,000.00 8,514,773,963.00\n",
       "33,626,320,676.00         18  8,791,936,680.00 7,971,167,261.00\n",
       "33,667,163,239.00         13  8,744,922,020.00 5,618,394,054.00\n",
       "33,662,840,755.00          9  6,614,274,287.00 4,000,097,981.00\n",
       "33,664,693,736.00          9  6,288,735,771.00 5,682,007,334.00\n",
       "33,603,127,838.00         12  6,287,767,483.00 4,976,195,043.00\n",
       "33,667,456,716.00          6  5,649,885,358.00 2,600,521,941.00\n",
       "33,760,413,819.00         12  5,321,673,794.00 7,132,370,514.00"
      ]
     },
     "execution_count": 49,
     "metadata": {},
     "output_type": "execute_result"
    }
   ],
   "source": [
    "### Top 10 Duration\n",
    "df_task2.sort_values(by='Dur. (ms).1', ascending=False).head(10)"
   ]
  },
  {
   "cell_type": "code",
   "execution_count": 50,
   "id": "2997b9cc",
   "metadata": {},
   "outputs": [
    {
     "data": {
      "text/html": [
       "<div>\n",
       "<style scoped>\n",
       "    .dataframe tbody tr th:only-of-type {\n",
       "        vertical-align: middle;\n",
       "    }\n",
       "\n",
       "    .dataframe tbody tr th {\n",
       "        vertical-align: top;\n",
       "    }\n",
       "\n",
       "    .dataframe thead th {\n",
       "        text-align: right;\n",
       "    }\n",
       "</style>\n",
       "<table border=\"1\" class=\"dataframe\">\n",
       "  <thead>\n",
       "    <tr style=\"text-align: right;\">\n",
       "      <th></th>\n",
       "      <th>Bearer Id</th>\n",
       "      <th>Dur. (ms).1</th>\n",
       "      <th>Total</th>\n",
       "    </tr>\n",
       "    <tr>\n",
       "      <th>MSISDN/Number</th>\n",
       "      <th></th>\n",
       "      <th></th>\n",
       "      <th></th>\n",
       "    </tr>\n",
       "  </thead>\n",
       "  <tbody>\n",
       "    <tr>\n",
       "      <th>33,614,892,860.00</th>\n",
       "      <td>17</td>\n",
       "      <td>9,966,905,758.00</td>\n",
       "      <td>8,846,226,494.00</td>\n",
       "    </tr>\n",
       "    <tr>\n",
       "      <th>33,760,536,639.00</th>\n",
       "      <td>15</td>\n",
       "      <td>9,279,442,000.00</td>\n",
       "      <td>8,514,773,963.00</td>\n",
       "    </tr>\n",
       "    <tr>\n",
       "      <th>33,625,779,332.00</th>\n",
       "      <td>17</td>\n",
       "      <td>18,553,763,486.00</td>\n",
       "      <td>8,499,620,722.00</td>\n",
       "    </tr>\n",
       "    <tr>\n",
       "      <th>33,626,320,676.00</th>\n",
       "      <td>18</td>\n",
       "      <td>8,791,936,680.00</td>\n",
       "      <td>7,971,167,261.00</td>\n",
       "    </tr>\n",
       "    <tr>\n",
       "      <th>33,675,877,202.00</th>\n",
       "      <td>15</td>\n",
       "      <td>4,865,953,827.00</td>\n",
       "      <td>7,891,110,608.00</td>\n",
       "    </tr>\n",
       "    <tr>\n",
       "      <th>33,659,725,664.00</th>\n",
       "      <td>16</td>\n",
       "      <td>4,035,436,251.00</td>\n",
       "      <td>7,705,862,783.00</td>\n",
       "    </tr>\n",
       "    <tr>\n",
       "      <th>33,666,464,084.00</th>\n",
       "      <td>11</td>\n",
       "      <td>4,536,763,706.00</td>\n",
       "      <td>7,308,500,938.00</td>\n",
       "    </tr>\n",
       "    <tr>\n",
       "      <th>33,760,413,819.00</th>\n",
       "      <td>12</td>\n",
       "      <td>5,321,673,794.00</td>\n",
       "      <td>7,132,370,514.00</td>\n",
       "    </tr>\n",
       "    <tr>\n",
       "      <th>33,664,712,899.00</th>\n",
       "      <td>11</td>\n",
       "      <td>2,927,790,274.00</td>\n",
       "      <td>6,872,018,208.00</td>\n",
       "    </tr>\n",
       "    <tr>\n",
       "      <th>33,698,792,269.00</th>\n",
       "      <td>11</td>\n",
       "      <td>5,169,133,917.00</td>\n",
       "      <td>6,540,899,126.00</td>\n",
       "    </tr>\n",
       "  </tbody>\n",
       "</table>\n",
       "</div>"
      ],
      "text/plain": [
       "                   Bearer Id       Dur. (ms).1            Total\n",
       "MSISDN/Number                                                  \n",
       "33,614,892,860.00         17  9,966,905,758.00 8,846,226,494.00\n",
       "33,760,536,639.00         15  9,279,442,000.00 8,514,773,963.00\n",
       "33,625,779,332.00         17 18,553,763,486.00 8,499,620,722.00\n",
       "33,626,320,676.00         18  8,791,936,680.00 7,971,167,261.00\n",
       "33,675,877,202.00         15  4,865,953,827.00 7,891,110,608.00\n",
       "33,659,725,664.00         16  4,035,436,251.00 7,705,862,783.00\n",
       "33,666,464,084.00         11  4,536,763,706.00 7,308,500,938.00\n",
       "33,760,413,819.00         12  5,321,673,794.00 7,132,370,514.00\n",
       "33,664,712,899.00         11  2,927,790,274.00 6,872,018,208.00\n",
       "33,698,792,269.00         11  5,169,133,917.00 6,540,899,126.00"
      ]
     },
     "execution_count": 50,
     "metadata": {},
     "output_type": "execute_result"
    }
   ],
   "source": [
    "df_task2.sort_values(by='Total', ascending=False).head(10)"
   ]
  },
  {
   "cell_type": "markdown",
   "id": "ba14515e",
   "metadata": {},
   "source": [
    "#### Normalize each engagement metric and run a k-means (k=3) to classify customers in three groups of engagement. "
   ]
  },
  {
   "cell_type": "code",
   "execution_count": 51,
   "id": "9b0c6099",
   "metadata": {},
   "outputs": [],
   "source": [
    "min_max_scaler = preprocessing.MinMaxScaler()\n",
    "df_values = df_task2.values\n",
    "\n",
    "scalled_values = min_max_scaler.fit_transform(df_values)\n",
    "df_normalized = pd.DataFrame(data=scalled_values, columns=df_task2.columns)\n",
    "\n",
    "\n",
    "kmeans = KMeans(n_clusters=3).fit(df_normalized)"
   ]
  },
  {
   "cell_type": "code",
   "execution_count": 52,
   "id": "c830b799",
   "metadata": {},
   "outputs": [
    {
     "name": "stdout",
     "output_type": "stream",
     "text": [
      "[[0.00247574 0.00540041 0.0524537 ]\n",
      " [0.19123448 0.03035409 0.25516341]\n",
      " [0.06920623 0.01114335 0.12391076]]\n"
     ]
    }
   ],
   "source": [
    "print(kmeans.cluster_centers_)"
   ]
  },
  {
   "cell_type": "markdown",
   "id": "9420a537",
   "metadata": {},
   "source": [
    "#### Compute the minimum, maximum, average & total non- normalized metrics for each cluster. Interpret your results visually with accompanying text explaining your findings."
   ]
  },
  {
   "cell_type": "code",
   "execution_count": 53,
   "id": "ee7658ba",
   "metadata": {},
   "outputs": [],
   "source": [
    "cluster = kmeans.predict(df_normalized)\n",
    "engagement_df = df_task2.copy()\n",
    "engagement_df['cluster-engagement']  = cluster\n"
   ]
  },
  {
   "cell_type": "code",
   "execution_count": 54,
   "id": "de361396",
   "metadata": {},
   "outputs": [],
   "source": [
    "cluster_group_df = engagement_df.groupby('cluster-engagement')\n",
    "cluster_0 = cluster_group_df.get_group(0)\n",
    "cluster_1 = cluster_group_df.get_group(1)\n",
    "cluster_2 = cluster_group_df.get_group(2)"
   ]
  },
  {
   "cell_type": "code",
   "execution_count": 55,
   "id": "fd0781cf",
   "metadata": {},
   "outputs": [
    {
     "data": {
      "image/png": "[encoded data removed]",
      "text/plain": [
       "<Figure size 864x504 with 1 Axes>"
      ]
     },
     "metadata": {
      "needs_background": "light"
     },
     "output_type": "display_data"
    }
   ],
   "source": [
    "# Cluster 0\n",
    "plot_scatter(engagement_df,\"Bearer Id\", \"Total\",\"Clustering with Kmean\", \"cluster-engagement\", \"\")"
   ]
  },
  {
   "cell_type": "code",
   "execution_count": 56,
   "id": "7a52ddc6",
   "metadata": {},
   "outputs": [
    {
     "data": {
      "text/html": [
       "<div>\n",
       "<style scoped>\n",
       "    .dataframe tbody tr th:only-of-type {\n",
       "        vertical-align: middle;\n",
       "    }\n",
       "\n",
       "    .dataframe tbody tr th {\n",
       "        vertical-align: top;\n",
       "    }\n",
       "\n",
       "    .dataframe thead th {\n",
       "        text-align: right;\n",
       "    }\n",
       "</style>\n",
       "<table border=\"1\" class=\"dataframe\">\n",
       "  <thead>\n",
       "    <tr style=\"text-align: right;\">\n",
       "      <th></th>\n",
       "      <th>Bearer Id</th>\n",
       "      <th>Dur. (ms).1</th>\n",
       "      <th>Total</th>\n",
       "      <th>cluster-engagement</th>\n",
       "    </tr>\n",
       "  </thead>\n",
       "  <tbody>\n",
       "    <tr>\n",
       "      <th>count</th>\n",
       "      <td>80,809.00</td>\n",
       "      <td>80,809.00</td>\n",
       "      <td>80,809.00</td>\n",
       "      <td>80,809.00</td>\n",
       "    </tr>\n",
       "    <tr>\n",
       "      <th>mean</th>\n",
       "      <td>1.04</td>\n",
       "      <td>107,329,642.62</td>\n",
       "      <td>495,560,528.13</td>\n",
       "      <td>0.00</td>\n",
       "    </tr>\n",
       "    <tr>\n",
       "      <th>std</th>\n",
       "      <td>0.20</td>\n",
       "      <td>78,565,220.07</td>\n",
       "      <td>240,191,076.94</td>\n",
       "      <td>0.00</td>\n",
       "    </tr>\n",
       "    <tr>\n",
       "      <th>min</th>\n",
       "      <td>1.00</td>\n",
       "      <td>7,142,988.00</td>\n",
       "      <td>33,249,009.00</td>\n",
       "      <td>0.00</td>\n",
       "    </tr>\n",
       "    <tr>\n",
       "      <th>25%</th>\n",
       "      <td>1.00</td>\n",
       "      <td>56,524,945.00</td>\n",
       "      <td>292,153,799.00</td>\n",
       "      <td>0.00</td>\n",
       "    </tr>\n",
       "    <tr>\n",
       "      <th>50%</th>\n",
       "      <td>1.00</td>\n",
       "      <td>86,408,081.00</td>\n",
       "      <td>497,148,653.00</td>\n",
       "      <td>0.00</td>\n",
       "    </tr>\n",
       "    <tr>\n",
       "      <th>75%</th>\n",
       "      <td>1.00</td>\n",
       "      <td>142,389,789.00</td>\n",
       "      <td>698,545,952.00</td>\n",
       "      <td>0.00</td>\n",
       "    </tr>\n",
       "    <tr>\n",
       "      <th>max</th>\n",
       "      <td>2.00</td>\n",
       "      <td>1,573,420,996.00</td>\n",
       "      <td>950,760,661.00</td>\n",
       "      <td>0.00</td>\n",
       "    </tr>\n",
       "  </tbody>\n",
       "</table>\n",
       "</div>"
      ],
      "text/plain": [
       "       Bearer Id      Dur. (ms).1          Total  cluster-engagement\n",
       "count  80,809.00        80,809.00      80,809.00           80,809.00\n",
       "mean        1.04   107,329,642.62 495,560,528.13                0.00\n",
       "std         0.20    78,565,220.07 240,191,076.94                0.00\n",
       "min         1.00     7,142,988.00  33,249,009.00                0.00\n",
       "25%         1.00    56,524,945.00 292,153,799.00                0.00\n",
       "50%         1.00    86,408,081.00 497,148,653.00                0.00\n",
       "75%         1.00   142,389,789.00 698,545,952.00                0.00\n",
       "max         2.00 1,573,420,996.00 950,760,661.00                0.00"
      ]
     },
     "execution_count": 56,
     "metadata": {},
     "output_type": "execute_result"
    }
   ],
   "source": [
    "# cluster 0\n",
    "cluster_0.describe()"
   ]
  },
  {
   "cell_type": "code",
   "execution_count": 57,
   "id": "f6d8e626",
   "metadata": {},
   "outputs": [
    {
     "data": {
      "text/html": [
       "<div>\n",
       "<style scoped>\n",
       "    .dataframe tbody tr th:only-of-type {\n",
       "        vertical-align: middle;\n",
       "    }\n",
       "\n",
       "    .dataframe tbody tr th {\n",
       "        vertical-align: top;\n",
       "    }\n",
       "\n",
       "    .dataframe thead th {\n",
       "        text-align: right;\n",
       "    }\n",
       "</style>\n",
       "<table border=\"1\" class=\"dataframe\">\n",
       "  <thead>\n",
       "    <tr style=\"text-align: right;\">\n",
       "      <th></th>\n",
       "      <th>Bearer Id</th>\n",
       "      <th>Dur. (ms).1</th>\n",
       "      <th>Total</th>\n",
       "      <th>cluster-engagement</th>\n",
       "    </tr>\n",
       "  </thead>\n",
       "  <tbody>\n",
       "    <tr>\n",
       "      <th>count</th>\n",
       "      <td>4,054.00</td>\n",
       "      <td>4,054.00</td>\n",
       "      <td>4,054.00</td>\n",
       "      <td>4,054.00</td>\n",
       "    </tr>\n",
       "    <tr>\n",
       "      <th>mean</th>\n",
       "      <td>4.25</td>\n",
       "      <td>570,170,073.46</td>\n",
       "      <td>2,282,235,097.89</td>\n",
       "      <td>1.00</td>\n",
       "    </tr>\n",
       "    <tr>\n",
       "      <th>std</th>\n",
       "      <td>1.23</td>\n",
       "      <td>666,605,538.26</td>\n",
       "      <td>653,056,177.84</td>\n",
       "      <td>0.00</td>\n",
       "    </tr>\n",
       "    <tr>\n",
       "      <th>min</th>\n",
       "      <td>3.00</td>\n",
       "      <td>46,899,075.00</td>\n",
       "      <td>1,085,993,876.00</td>\n",
       "      <td>1.00</td>\n",
       "    </tr>\n",
       "    <tr>\n",
       "      <th>25%</th>\n",
       "      <td>4.00</td>\n",
       "      <td>334,922,725.75</td>\n",
       "      <td>1,885,759,031.75</td>\n",
       "      <td>1.00</td>\n",
       "    </tr>\n",
       "    <tr>\n",
       "      <th>50%</th>\n",
       "      <td>4.00</td>\n",
       "      <td>422,926,095.50</td>\n",
       "      <td>2,137,620,052.00</td>\n",
       "      <td>1.00</td>\n",
       "    </tr>\n",
       "    <tr>\n",
       "      <th>75%</th>\n",
       "      <td>5.00</td>\n",
       "      <td>535,446,712.50</td>\n",
       "      <td>2,540,772,700.00</td>\n",
       "      <td>1.00</td>\n",
       "    </tr>\n",
       "    <tr>\n",
       "      <th>max</th>\n",
       "      <td>18.00</td>\n",
       "      <td>18,553,763,486.00</td>\n",
       "      <td>8,846,226,494.00</td>\n",
       "      <td>1.00</td>\n",
       "    </tr>\n",
       "  </tbody>\n",
       "</table>\n",
       "</div>"
      ],
      "text/plain": [
       "       Bearer Id       Dur. (ms).1            Total  cluster-engagement\n",
       "count   4,054.00          4,054.00         4,054.00            4,054.00\n",
       "mean        4.25    570,170,073.46 2,282,235,097.89                1.00\n",
       "std         1.23    666,605,538.26   653,056,177.84                0.00\n",
       "min         3.00     46,899,075.00 1,085,993,876.00                1.00\n",
       "25%         4.00    334,922,725.75 1,885,759,031.75                1.00\n",
       "50%         4.00    422,926,095.50 2,137,620,052.00                1.00\n",
       "75%         5.00    535,446,712.50 2,540,772,700.00                1.00\n",
       "max        18.00 18,553,763,486.00 8,846,226,494.00                1.00"
      ]
     },
     "execution_count": 57,
     "metadata": {},
     "output_type": "execute_result"
    }
   ],
   "source": [
    "# cluster 1\n",
    "cluster_1.describe()"
   ]
  },
  {
   "cell_type": "code",
   "execution_count": 58,
   "id": "8f74ced8",
   "metadata": {},
   "outputs": [
    {
     "data": {
      "text/html": [
       "<div>\n",
       "<style scoped>\n",
       "    .dataframe tbody tr th:only-of-type {\n",
       "        vertical-align: middle;\n",
       "    }\n",
       "\n",
       "    .dataframe tbody tr th {\n",
       "        vertical-align: top;\n",
       "    }\n",
       "\n",
       "    .dataframe thead th {\n",
       "        text-align: right;\n",
       "    }\n",
       "</style>\n",
       "<table border=\"1\" class=\"dataframe\">\n",
       "  <thead>\n",
       "    <tr style=\"text-align: right;\">\n",
       "      <th></th>\n",
       "      <th>Bearer Id</th>\n",
       "      <th>Dur. (ms).1</th>\n",
       "      <th>Total</th>\n",
       "      <th>cluster-engagement</th>\n",
       "    </tr>\n",
       "  </thead>\n",
       "  <tbody>\n",
       "    <tr>\n",
       "      <th>count</th>\n",
       "      <td>21,608.00</td>\n",
       "      <td>21,608.00</td>\n",
       "      <td>21,608.00</td>\n",
       "      <td>21,608.00</td>\n",
       "    </tr>\n",
       "    <tr>\n",
       "      <th>mean</th>\n",
       "      <td>2.18</td>\n",
       "      <td>213,857,049.59</td>\n",
       "      <td>1,125,919,960.61</td>\n",
       "      <td>2.00</td>\n",
       "    </tr>\n",
       "    <tr>\n",
       "      <th>std</th>\n",
       "      <td>0.41</td>\n",
       "      <td>145,317,331.13</td>\n",
       "      <td>296,051,999.90</td>\n",
       "      <td>0.00</td>\n",
       "    </tr>\n",
       "    <tr>\n",
       "      <th>min</th>\n",
       "      <td>2.00</td>\n",
       "      <td>18,235,797.00</td>\n",
       "      <td>284,218,230.00</td>\n",
       "      <td>2.00</td>\n",
       "    </tr>\n",
       "    <tr>\n",
       "      <th>25%</th>\n",
       "      <td>2.00</td>\n",
       "      <td>116,302,490.25</td>\n",
       "      <td>893,094,600.75</td>\n",
       "      <td>2.00</td>\n",
       "    </tr>\n",
       "    <tr>\n",
       "      <th>50%</th>\n",
       "      <td>2.00</td>\n",
       "      <td>181,756,398.50</td>\n",
       "      <td>1,099,991,316.50</td>\n",
       "      <td>2.00</td>\n",
       "    </tr>\n",
       "    <tr>\n",
       "      <th>75%</th>\n",
       "      <td>2.00</td>\n",
       "      <td>268,038,527.25</td>\n",
       "      <td>1,345,636,884.25</td>\n",
       "      <td>2.00</td>\n",
       "    </tr>\n",
       "    <tr>\n",
       "      <th>max</th>\n",
       "      <td>4.00</td>\n",
       "      <td>3,174,824,601.00</td>\n",
       "      <td>1,873,330,284.00</td>\n",
       "      <td>2.00</td>\n",
       "    </tr>\n",
       "  </tbody>\n",
       "</table>\n",
       "</div>"
      ],
      "text/plain": [
       "       Bearer Id      Dur. (ms).1            Total  cluster-engagement\n",
       "count  21,608.00        21,608.00        21,608.00           21,608.00\n",
       "mean        2.18   213,857,049.59 1,125,919,960.61                2.00\n",
       "std         0.41   145,317,331.13   296,051,999.90                0.00\n",
       "min         2.00    18,235,797.00   284,218,230.00                2.00\n",
       "25%         2.00   116,302,490.25   893,094,600.75                2.00\n",
       "50%         2.00   181,756,398.50 1,099,991,316.50                2.00\n",
       "75%         2.00   268,038,527.25 1,345,636,884.25                2.00\n",
       "max         4.00 3,174,824,601.00 1,873,330,284.00                2.00"
      ]
     },
     "execution_count": 58,
     "metadata": {},
     "output_type": "execute_result"
    }
   ],
   "source": [
    "# cluster 2\n",
    "cluster_2.describe()"
   ]
  },
  {
   "cell_type": "markdown",
   "id": "85ca078b",
   "metadata": {},
   "source": [
    "#### Aggregate user total traffic per application and derive the top 10 most engaged users per application"
   ]
  },
  {
   "cell_type": "code",
   "execution_count": 59,
   "id": "fc4ae3c7",
   "metadata": {},
   "outputs": [
    {
     "data": {
      "text/html": [
       "<div>\n",
       "<style scoped>\n",
       "    .dataframe tbody tr th:only-of-type {\n",
       "        vertical-align: middle;\n",
       "    }\n",
       "\n",
       "    .dataframe tbody tr th {\n",
       "        vertical-align: top;\n",
       "    }\n",
       "\n",
       "    .dataframe thead th {\n",
       "        text-align: right;\n",
       "    }\n",
       "</style>\n",
       "<table border=\"1\" class=\"dataframe\">\n",
       "  <thead>\n",
       "    <tr style=\"text-align: right;\">\n",
       "      <th></th>\n",
       "      <th>MSISDN/Number</th>\n",
       "      <th>Total Social Media</th>\n",
       "    </tr>\n",
       "  </thead>\n",
       "  <tbody>\n",
       "    <tr>\n",
       "      <th>13467</th>\n",
       "      <td>33,626,320,676.00</td>\n",
       "      <td>43,374,779.00</td>\n",
       "    </tr>\n",
       "    <tr>\n",
       "      <th>92584</th>\n",
       "      <td>33,760,536,639.00</td>\n",
       "      <td>39,783,189.00</td>\n",
       "    </tr>\n",
       "    <tr>\n",
       "      <th>36909</th>\n",
       "      <td>33,659,725,664.00</td>\n",
       "      <td>35,412,358.00</td>\n",
       "    </tr>\n",
       "    <tr>\n",
       "      <th>6404</th>\n",
       "      <td>33,614,892,860.00</td>\n",
       "      <td>28,294,544.00</td>\n",
       "    </tr>\n",
       "    <tr>\n",
       "      <th>13123</th>\n",
       "      <td>33,625,779,332.00</td>\n",
       "      <td>27,135,500.00</td>\n",
       "    </tr>\n",
       "  </tbody>\n",
       "</table>\n",
       "</div>"
      ],
      "text/plain": [
       "          MSISDN/Number  Total Social Media\n",
       "13467 33,626,320,676.00       43,374,779.00\n",
       "92584 33,760,536,639.00       39,783,189.00\n",
       "36909 33,659,725,664.00       35,412,358.00\n",
       "6404  33,614,892,860.00       28,294,544.00\n",
       "13123 33,625,779,332.00       27,135,500.00"
      ]
     },
     "execution_count": 59,
     "metadata": {},
     "output_type": "execute_result"
    }
   ],
   "source": [
    "# total trafic, Application, user -> top to users\n",
    "engagement = user_behaviour.reset_index().copy()\n",
    "\n",
    "# Social Media engagement\n",
    "engagement[['MSISDN/Number','Total Social Media']].sort_values(by='Total Social Media',ascending=False).head(5)"
   ]
  },
  {
   "cell_type": "code",
   "execution_count": 60,
   "id": "e94f90b6",
   "metadata": {},
   "outputs": [
    {
     "data": {
      "text/html": [
       "<div>\n",
       "<style scoped>\n",
       "    .dataframe tbody tr th:only-of-type {\n",
       "        vertical-align: middle;\n",
       "    }\n",
       "\n",
       "    .dataframe tbody tr th {\n",
       "        vertical-align: top;\n",
       "    }\n",
       "\n",
       "    .dataframe thead th {\n",
       "        text-align: right;\n",
       "    }\n",
       "</style>\n",
       "<table border=\"1\" class=\"dataframe\">\n",
       "  <thead>\n",
       "    <tr style=\"text-align: right;\">\n",
       "      <th></th>\n",
       "      <th>MSISDN/Number</th>\n",
       "      <th>Total Google</th>\n",
       "    </tr>\n",
       "  </thead>\n",
       "  <tbody>\n",
       "    <tr>\n",
       "      <th>13467</th>\n",
       "      <td>33,626,320,676.00</td>\n",
       "      <td>152,191,852.00</td>\n",
       "    </tr>\n",
       "    <tr>\n",
       "      <th>13123</th>\n",
       "      <td>33,625,779,332.00</td>\n",
       "      <td>142,307,915.00</td>\n",
       "    </tr>\n",
       "    <tr>\n",
       "      <th>6404</th>\n",
       "      <td>33,614,892,860.00</td>\n",
       "      <td>127,973,787.00</td>\n",
       "    </tr>\n",
       "    <tr>\n",
       "      <th>92584</th>\n",
       "      <td>33,760,536,639.00</td>\n",
       "      <td>123,223,099.00</td>\n",
       "    </tr>\n",
       "    <tr>\n",
       "      <th>36909</th>\n",
       "      <td>33,659,725,664.00</td>\n",
       "      <td>116,516,345.00</td>\n",
       "    </tr>\n",
       "  </tbody>\n",
       "</table>\n",
       "</div>"
      ],
      "text/plain": [
       "          MSISDN/Number   Total Google\n",
       "13467 33,626,320,676.00 152,191,852.00\n",
       "13123 33,625,779,332.00 142,307,915.00\n",
       "6404  33,614,892,860.00 127,973,787.00\n",
       "92584 33,760,536,639.00 123,223,099.00\n",
       "36909 33,659,725,664.00 116,516,345.00"
      ]
     },
     "execution_count": 60,
     "metadata": {},
     "output_type": "execute_result"
    }
   ],
   "source": [
    "# Google Engagement\n",
    "engagement[['MSISDN/Number','Total Google']].sort_values(by='Total Google',ascending=False).head(5)"
   ]
  },
  {
   "cell_type": "code",
   "execution_count": 61,
   "id": "91a63849",
   "metadata": {},
   "outputs": [
    {
     "data": {
      "text/html": [
       "<div>\n",
       "<style scoped>\n",
       "    .dataframe tbody tr th:only-of-type {\n",
       "        vertical-align: middle;\n",
       "    }\n",
       "\n",
       "    .dataframe tbody tr th {\n",
       "        vertical-align: top;\n",
       "    }\n",
       "\n",
       "    .dataframe thead th {\n",
       "        text-align: right;\n",
       "    }\n",
       "</style>\n",
       "<table border=\"1\" class=\"dataframe\">\n",
       "  <thead>\n",
       "    <tr style=\"text-align: right;\">\n",
       "      <th></th>\n",
       "      <th>MSISDN/Number</th>\n",
       "      <th>Total Gaming</th>\n",
       "    </tr>\n",
       "  </thead>\n",
       "  <tbody>\n",
       "    <tr>\n",
       "      <th>6404</th>\n",
       "      <td>33,614,892,860.00</td>\n",
       "      <td>7,749,432,234.00</td>\n",
       "    </tr>\n",
       "    <tr>\n",
       "      <th>92584</th>\n",
       "      <td>33,760,536,639.00</td>\n",
       "      <td>7,461,045,228.00</td>\n",
       "    </tr>\n",
       "    <tr>\n",
       "      <th>13123</th>\n",
       "      <td>33,625,779,332.00</td>\n",
       "      <td>7,326,673,487.00</td>\n",
       "    </tr>\n",
       "    <tr>\n",
       "      <th>76077</th>\n",
       "      <td>33,675,877,202.00</td>\n",
       "      <td>6,970,567,597.00</td>\n",
       "    </tr>\n",
       "    <tr>\n",
       "      <th>13467</th>\n",
       "      <td>33,626,320,676.00</td>\n",
       "      <td>6,887,572,116.00</td>\n",
       "    </tr>\n",
       "  </tbody>\n",
       "</table>\n",
       "</div>"
      ],
      "text/plain": [
       "          MSISDN/Number     Total Gaming\n",
       "6404  33,614,892,860.00 7,749,432,234.00\n",
       "92584 33,760,536,639.00 7,461,045,228.00\n",
       "13123 33,625,779,332.00 7,326,673,487.00\n",
       "76077 33,675,877,202.00 6,970,567,597.00\n",
       "13467 33,626,320,676.00 6,887,572,116.00"
      ]
     },
     "execution_count": 61,
     "metadata": {},
     "output_type": "execute_result"
    }
   ],
   "source": [
    "engagement[['MSISDN/Number','Total Gaming']].sort_values(by='Total Gaming',ascending=False).head(5)"
   ]
  },
  {
   "cell_type": "markdown",
   "id": "6561f27a",
   "metadata": {},
   "source": [
    "#### Plot the top 3 most used applications using appropriate charts."
   ]
  },
  {
   "cell_type": "code",
   "execution_count": 62,
   "id": "beb49d9c",
   "metadata": {},
   "outputs": [
    {
     "data": {
      "text/html": [
       "<div>\n",
       "<style scoped>\n",
       "    .dataframe tbody tr th:only-of-type {\n",
       "        vertical-align: middle;\n",
       "    }\n",
       "\n",
       "    .dataframe tbody tr th {\n",
       "        vertical-align: top;\n",
       "    }\n",
       "\n",
       "    .dataframe thead th {\n",
       "        text-align: right;\n",
       "    }\n",
       "</style>\n",
       "<table border=\"1\" class=\"dataframe\">\n",
       "  <thead>\n",
       "    <tr style=\"text-align: right;\">\n",
       "      <th></th>\n",
       "      <th>Application</th>\n",
       "      <th>counts</th>\n",
       "    </tr>\n",
       "  </thead>\n",
       "  <tbody>\n",
       "    <tr>\n",
       "      <th>3</th>\n",
       "      <td>Total Gaming</td>\n",
       "      <td>63,910,124,731,666.00</td>\n",
       "    </tr>\n",
       "    <tr>\n",
       "      <th>4</th>\n",
       "      <td>Total Other</td>\n",
       "      <td>63,770,726,326,023.00</td>\n",
       "    </tr>\n",
       "    <tr>\n",
       "      <th>1</th>\n",
       "      <td>Total Youtube</td>\n",
       "      <td>3,362,537,620,065.00</td>\n",
       "    </tr>\n",
       "  </tbody>\n",
       "</table>\n",
       "</div>"
      ],
      "text/plain": [
       "     Application                counts\n",
       "3   Total Gaming 63,910,124,731,666.00\n",
       "4    Total Other 63,770,726,326,023.00\n",
       "1  Total Youtube  3,362,537,620,065.00"
      ]
     },
     "execution_count": 62,
     "metadata": {},
     "output_type": "execute_result"
    }
   ],
   "source": [
    "data = []\n",
    "\n",
    "# Remove 'MSISDN/Number' and 'Total' from columns list\n",
    "columns = user_behaviour.columns.tolist()[1:-1]\n",
    "\n",
    "for column in columns:\n",
    "    data.append(user_behaviour[column].sum())\n",
    "\n",
    "data_df = pd.DataFrame({\"Application\": columns, \"counts\":data})\n",
    "\n",
    "data_df.sort_values(by='counts', ascending=False)[:3]"
   ]
  },
  {
   "cell_type": "code",
   "execution_count": 63,
   "id": "7165d2ea",
   "metadata": {},
   "outputs": [
    {
     "data": {
      "image/png": "[encoded data removed]",
      "text/plain": [
       "<Figure size 864x504 with 1 Axes>"
      ]
     },
     "metadata": {
      "needs_background": "light"
     },
     "output_type": "display_data"
    }
   ],
   "source": [
    "plot_bar(data_df,data_df['Application'], data_df['counts'], \"Applications Data usage\", \"App Name\", \"Data\")"
   ]
  },
  {
   "cell_type": "markdown",
   "id": "10ac5f81",
   "metadata": {},
   "source": [
    "#### Using k-means clustering algorithm, group users in k engagement clusters based on the engagement metrics: \n",
    "1. What is the optimized value of k (use elbow method for this)?  \n",
    "2. Interpret your findings.\n"
   ]
  },
  {
   "cell_type": "code",
   "execution_count": 64,
   "id": "47779703",
   "metadata": {},
   "outputs": [],
   "source": [
    "distortions = []\n",
    "K = range(1,10)\n",
    "for k in K:\n",
    "    kmeanModel = KMeans(n_clusters=k)\n",
    "    kmeanModel.fit(df_normalized)\n",
    "    distortions.append(kmeanModel.inertia_)"
   ]
  },
  {
   "cell_type": "code",
   "execution_count": 65,
   "id": "c976c984",
   "metadata": {},
   "outputs": [
    {
     "data": {
      "image/png": "[encoded data removed]",
      "text/plain": [
       "<Figure size 1152x576 with 1 Axes>"
      ]
     },
     "metadata": {
      "needs_background": "light"
     },
     "output_type": "display_data"
    }
   ],
   "source": [
    "plt.figure(figsize=(16,8))\n",
    "plt.plot(K, distortions, 'bx-')\n",
    "plt.xlabel('k')\n",
    "plt.ylabel('Distortion')\n",
    "plt.title('The Elbow Method showing the optimal k')\n",
    "plt.show()"
   ]
  },
  {
   "cell_type": "code",
   "execution_count": 66,
   "id": "cf1d3572",
   "metadata": {},
   "outputs": [
    {
     "data": {
      "text/plain": [
       "MSISDN/Number\n",
       "33,601,001,722.00         0\n",
       "33,601,001,754.00         0\n",
       "33,601,002,511.00         0\n",
       "33,601,007,832.00         0\n",
       "33,601,008,617.00         2\n",
       "                         ..\n",
       "33,789,996,170.00         0\n",
       "33,789,997,247.00         0\n",
       "3,197,020,876,596.00      0\n",
       "337,000,037,000,919.00    0\n",
       "882,397,108,489,451.00    0\n",
       "Name: cluster, Length: 106471, dtype: int32"
      ]
     },
     "execution_count": 66,
     "metadata": {},
     "output_type": "execute_result"
    }
   ],
   "source": [
    "### so Number 3 is the optimum, and we should run with 3 cluster\n",
    "kmeans = KMeans(n_clusters=3)\n",
    "kmeans.fit(df_normalized)\n",
    "\n",
    "cluster = kmeans.predict(df_normalized)\n",
    "cluster_df = df_task2.copy()\n",
    "cluster_df['cluster']  = cluster\n",
    "cluster_df['cluster']"
   ]
  },
  {
   "cell_type": "markdown",
   "id": "d84bb3d1",
   "metadata": {},
   "source": [
    "# Task 3"
   ]
  },
  {
   "cell_type": "markdown",
   "id": "d42e408f",
   "metadata": {},
   "source": [
    "Aggregate, per customer, the following information (treat missing & outliers by replacing by the mean or the mode of the corresponding variable):\n",
    "1. Average TCP retransmission\n",
    "2. Average RTT\n",
    "3. Handset type\n",
    "4. Average throughput\n"
   ]
  },
  {
   "cell_type": "markdown",
   "id": "0fb88a38",
   "metadata": {},
   "source": [
    "### How much of the data is Null ? "
   ]
  },
  {
   "cell_type": "code",
   "execution_count": 67,
   "id": "3653dd18",
   "metadata": {},
   "outputs": [
    {
     "name": "stdout",
     "output_type": "stream",
     "text": [
      "Data Fraame contain null values of 0.27%\n"
     ]
    }
   ],
   "source": [
    "def null_percentage(df):\n",
    "    number_of_rows, number_of_columns = df.shape\n",
    "    df_size = number_of_rows * number_of_columns\n",
    "    \n",
    "    null_size = (df.isnull().sum()).sum()\n",
    "    percentage = round((null_size / df_size) * 100, 2)\n",
    "    print(f\"Data Fraame contain null values of { percentage }%\")\n",
    "\n",
    "null_percentage(df)"
   ]
  },
  {
   "cell_type": "code",
   "execution_count": 68,
   "id": "024003ef",
   "metadata": {},
   "outputs": [
    {
     "name": "stdout",
     "output_type": "stream",
     "text": [
      "Data Fraame contain null values of 20.92%\n"
     ]
    },
    {
     "data": {
      "text/plain": [
       "MSISDN/Number                   1066\n",
       "Handset Type                    9559\n",
       "TCP DL Retrans. Vol (Bytes)    88146\n",
       "TCP UL Retrans. Vol (Bytes)    96649\n",
       "Avg RTT DL (ms)                27829\n",
       "Avg RTT UL (ms)                27812\n",
       "Avg Bearer TP DL (kbps)            1\n",
       "Avg Bearer TP UL (kbps)            1\n",
       "dtype: int64"
      ]
     },
     "execution_count": 68,
     "metadata": {},
     "output_type": "execute_result"
    }
   ],
   "source": [
    "'''\n",
    "TCP DL Retrans. Vol (Bytes)\n",
    "TCP UL Retrans. Vol (Bytes)\n",
    "\n",
    "Avg RTT DL (ms)\n",
    "Avg RTT UL (ms)\n",
    "\n",
    "Handset type\n",
    "\n",
    "Avg Bearer TP DL (kbps)\n",
    "Avg Bearer TP UL (kbps)\n",
    "\n",
    "'''\n",
    "#Read the cleaned csv file and store it on data\n",
    "file_name = 'Week1_challenge_data_source.csv'\n",
    "df_task_3 = file.read_csv(file_name)\n",
    "new_netwok_df = df_task_3[['MSISDN/Number', 'Handset Type','TCP DL Retrans. Vol (Bytes)', 'TCP UL Retrans. Vol (Bytes)',\\\n",
    "                         'Avg RTT DL (ms)', 'Avg RTT UL (ms)',\\\n",
    "                         'Avg Bearer TP DL (kbps)', 'Avg Bearer TP UL (kbps)']]\n",
    "\n",
    "\n",
    "null_percentage(new_netwok_df)\n",
    "new_netwok_df.isnull().sum()\n",
    "#new_netwok_df = data.copy()\n",
    "#new_netwok_df.info()\n",
    "#new_netwok_df['Total TCP Retrans'] = new_netwok_df['TCP DL Retrans. Vol (Bytes)'] +new_netwok_df['TCP UL Retrans. Vol (Bytes)']\n",
    "#new_netwok_df['Total Throughput'] = new_netwok_df['Avg Bearer TP DL (kbps)'] + new_netwok_df['Avg Bearer TP DL (kbps)']\n",
    "\n",
    "#new_netwok_df['Total RTT'] = new_netwok_df['Avg RTT DL (ms)'] + new_netwok_df['Avg RTT UL (ms)']\n",
    "\n",
    "#new_netwok_df.head()"
   ]
  },
  {
   "cell_type": "code",
   "execution_count": 69,
   "id": "3d8d8a81",
   "metadata": {},
   "outputs": [],
   "source": [
    "## Fill Mising Values\n",
    "for col in new_netwok_df.columns:\n",
    "    if(new_netwok_df[col].isnull().sum()):\n",
    "        new_netwok_df[col] = new_netwok_df[col].fillna(new_netwok_df[col].mode()[0])"
   ]
  },
  {
   "cell_type": "code",
   "execution_count": 70,
   "id": "4da177ac",
   "metadata": {},
   "outputs": [
    {
     "name": "stdout",
     "output_type": "stream",
     "text": [
      "Data Fraame contain null values of 0.0%\n"
     ]
    },
    {
     "data": {
      "text/plain": [
       "MSISDN/Number                  0\n",
       "Handset Type                   0\n",
       "TCP DL Retrans. Vol (Bytes)    0\n",
       "TCP UL Retrans. Vol (Bytes)    0\n",
       "Avg RTT DL (ms)                0\n",
       "Avg RTT UL (ms)                0\n",
       "Avg Bearer TP DL (kbps)        0\n",
       "Avg Bearer TP UL (kbps)        0\n",
       "dtype: int64"
      ]
     },
     "execution_count": 70,
     "metadata": {},
     "output_type": "execute_result"
    }
   ],
   "source": [
    "null_percentage(new_netwok_df)\n",
    "new_netwok_df.isnull().sum()"
   ]
  },
  {
   "cell_type": "code",
   "execution_count": 71,
   "id": "a57f6523",
   "metadata": {},
   "outputs": [
    {
     "data": {
      "text/html": [
       "<div>\n",
       "<style scoped>\n",
       "    .dataframe tbody tr th:only-of-type {\n",
       "        vertical-align: middle;\n",
       "    }\n",
       "\n",
       "    .dataframe tbody tr th {\n",
       "        vertical-align: top;\n",
       "    }\n",
       "\n",
       "    .dataframe thead th {\n",
       "        text-align: right;\n",
       "    }\n",
       "</style>\n",
       "<table border=\"1\" class=\"dataframe\">\n",
       "  <thead>\n",
       "    <tr style=\"text-align: right;\">\n",
       "      <th></th>\n",
       "      <th>MSISDN/Number</th>\n",
       "      <th>Handset Type</th>\n",
       "      <th>TCP DL Retrans. Vol (Bytes)</th>\n",
       "      <th>TCP UL Retrans. Vol (Bytes)</th>\n",
       "      <th>Avg RTT DL (ms)</th>\n",
       "      <th>Avg RTT UL (ms)</th>\n",
       "      <th>Avg Bearer TP DL (kbps)</th>\n",
       "      <th>Avg Bearer TP UL (kbps)</th>\n",
       "      <th>Total TCP Retrans</th>\n",
       "      <th>Total Throughput</th>\n",
       "      <th>Total RTT</th>\n",
       "    </tr>\n",
       "  </thead>\n",
       "  <tbody>\n",
       "    <tr>\n",
       "      <th>0</th>\n",
       "      <td>33,664,962,239.00</td>\n",
       "      <td>Samsung Galaxy A5 Sm-A520F</td>\n",
       "      <td>1,330.00</td>\n",
       "      <td>1,330.00</td>\n",
       "      <td>42.00</td>\n",
       "      <td>5.00</td>\n",
       "      <td>23.00</td>\n",
       "      <td>44.00</td>\n",
       "      <td>2,660.00</td>\n",
       "      <td>46.00</td>\n",
       "      <td>47.00</td>\n",
       "    </tr>\n",
       "    <tr>\n",
       "      <th>1</th>\n",
       "      <td>33,681,854,413.00</td>\n",
       "      <td>Samsung Galaxy J5 (Sm-J530)</td>\n",
       "      <td>1,330.00</td>\n",
       "      <td>1,330.00</td>\n",
       "      <td>65.00</td>\n",
       "      <td>5.00</td>\n",
       "      <td>16.00</td>\n",
       "      <td>26.00</td>\n",
       "      <td>2,660.00</td>\n",
       "      <td>32.00</td>\n",
       "      <td>70.00</td>\n",
       "    </tr>\n",
       "    <tr>\n",
       "      <th>2</th>\n",
       "      <td>33,760,627,129.00</td>\n",
       "      <td>Samsung Galaxy A8 (2018)</td>\n",
       "      <td>1,330.00</td>\n",
       "      <td>1,330.00</td>\n",
       "      <td>28.00</td>\n",
       "      <td>5.00</td>\n",
       "      <td>6.00</td>\n",
       "      <td>9.00</td>\n",
       "      <td>2,660.00</td>\n",
       "      <td>12.00</td>\n",
       "      <td>33.00</td>\n",
       "    </tr>\n",
       "    <tr>\n",
       "      <th>3</th>\n",
       "      <td>33,750,343,200.00</td>\n",
       "      <td>Huawei B528S-23A</td>\n",
       "      <td>1,330.00</td>\n",
       "      <td>1,330.00</td>\n",
       "      <td>28.00</td>\n",
       "      <td>5.00</td>\n",
       "      <td>44.00</td>\n",
       "      <td>44.00</td>\n",
       "      <td>2,660.00</td>\n",
       "      <td>88.00</td>\n",
       "      <td>33.00</td>\n",
       "    </tr>\n",
       "    <tr>\n",
       "      <th>4</th>\n",
       "      <td>33,699,795,932.00</td>\n",
       "      <td>Samsung Sm-G390F</td>\n",
       "      <td>1,330.00</td>\n",
       "      <td>1,330.00</td>\n",
       "      <td>28.00</td>\n",
       "      <td>5.00</td>\n",
       "      <td>6.00</td>\n",
       "      <td>9.00</td>\n",
       "      <td>2,660.00</td>\n",
       "      <td>12.00</td>\n",
       "      <td>33.00</td>\n",
       "    </tr>\n",
       "  </tbody>\n",
       "</table>\n",
       "</div>"
      ],
      "text/plain": [
       "      MSISDN/Number                 Handset Type  TCP DL Retrans. Vol (Bytes)  \\\n",
       "0 33,664,962,239.00   Samsung Galaxy A5 Sm-A520F                     1,330.00   \n",
       "1 33,681,854,413.00  Samsung Galaxy J5 (Sm-J530)                     1,330.00   \n",
       "2 33,760,627,129.00     Samsung Galaxy A8 (2018)                     1,330.00   \n",
       "3 33,750,343,200.00             Huawei B528S-23A                     1,330.00   \n",
       "4 33,699,795,932.00             Samsung Sm-G390F                     1,330.00   \n",
       "\n",
       "   TCP UL Retrans. Vol (Bytes)  Avg RTT DL (ms)  Avg RTT UL (ms)  \\\n",
       "0                     1,330.00            42.00             5.00   \n",
       "1                     1,330.00            65.00             5.00   \n",
       "2                     1,330.00            28.00             5.00   \n",
       "3                     1,330.00            28.00             5.00   \n",
       "4                     1,330.00            28.00             5.00   \n",
       "\n",
       "   Avg Bearer TP DL (kbps)  Avg Bearer TP UL (kbps)  Total TCP Retrans  \\\n",
       "0                    23.00                    44.00           2,660.00   \n",
       "1                    16.00                    26.00           2,660.00   \n",
       "2                     6.00                     9.00           2,660.00   \n",
       "3                    44.00                    44.00           2,660.00   \n",
       "4                     6.00                     9.00           2,660.00   \n",
       "\n",
       "   Total Throughput  Total RTT  \n",
       "0             46.00      47.00  \n",
       "1             32.00      70.00  \n",
       "2             12.00      33.00  \n",
       "3             88.00      33.00  \n",
       "4             12.00      33.00  "
      ]
     },
     "execution_count": 71,
     "metadata": {},
     "output_type": "execute_result"
    }
   ],
   "source": [
    "new_netwok_df['Total TCP Retrans'] = new_netwok_df['TCP DL Retrans. Vol (Bytes)'] +\\\n",
    "    new_netwok_df['TCP UL Retrans. Vol (Bytes)']\n",
    "new_netwok_df['Total Throughput'] = new_netwok_df['Avg Bearer TP DL (kbps)'] +\\\n",
    "    new_netwok_df['Avg Bearer TP DL (kbps)']\n",
    "\n",
    "new_netwok_df['Total RTT'] = new_netwok_df['Avg RTT DL (ms)'] + new_netwok_df['Avg RTT UL (ms)']\n",
    "\n",
    "new_netwok_df.head()\n"
   ]
  },
  {
   "cell_type": "code",
   "execution_count": 72,
   "id": "7d00c4d6",
   "metadata": {},
   "outputs": [
    {
     "data": {
      "text/html": [
       "<div>\n",
       "<style scoped>\n",
       "    .dataframe tbody tr th:only-of-type {\n",
       "        vertical-align: middle;\n",
       "    }\n",
       "\n",
       "    .dataframe tbody tr th {\n",
       "        vertical-align: top;\n",
       "    }\n",
       "\n",
       "    .dataframe thead th {\n",
       "        text-align: right;\n",
       "    }\n",
       "</style>\n",
       "<table border=\"1\" class=\"dataframe\">\n",
       "  <thead>\n",
       "    <tr style=\"text-align: right;\">\n",
       "      <th></th>\n",
       "      <th>MSISDN/Number</th>\n",
       "      <th>Handset Type</th>\n",
       "      <th>Total TCP Retrans</th>\n",
       "      <th>Total Throughput</th>\n",
       "      <th>Total RTT</th>\n",
       "    </tr>\n",
       "  </thead>\n",
       "  <tbody>\n",
       "    <tr>\n",
       "      <th>0</th>\n",
       "      <td>33,601,001,722.00</td>\n",
       "      <td>Huawei P20 Lite Huawei Nova 3E</td>\n",
       "      <td>2,660.00</td>\n",
       "      <td>74.00</td>\n",
       "      <td>46.00</td>\n",
       "    </tr>\n",
       "    <tr>\n",
       "      <th>1</th>\n",
       "      <td>33,601,001,754.00</td>\n",
       "      <td>Apple iPhone 7 (A1778)</td>\n",
       "      <td>2,660.00</td>\n",
       "      <td>96.00</td>\n",
       "      <td>31.00</td>\n",
       "    </tr>\n",
       "    <tr>\n",
       "      <th>2</th>\n",
       "      <td>33,601,002,511.00</td>\n",
       "      <td>Huawei B528S-23A</td>\n",
       "      <td>2,660.00</td>\n",
       "      <td>96.00</td>\n",
       "      <td>33.00</td>\n",
       "    </tr>\n",
       "    <tr>\n",
       "      <th>3</th>\n",
       "      <td>33,601,007,832.00</td>\n",
       "      <td>Apple iPhone 5S (A1457)</td>\n",
       "      <td>2,396.00</td>\n",
       "      <td>408.00</td>\n",
       "      <td>84.00</td>\n",
       "    </tr>\n",
       "    <tr>\n",
       "      <th>4</th>\n",
       "      <td>33,601,008,617.00</td>\n",
       "      <td>Apple iPhone Se (A1723)</td>\n",
       "      <td>9,373,492.00</td>\n",
       "      <td>80,790.00</td>\n",
       "      <td>119.00</td>\n",
       "    </tr>\n",
       "  </tbody>\n",
       "</table>\n",
       "</div>"
      ],
      "text/plain": [
       "      MSISDN/Number                    Handset Type  Total TCP Retrans  \\\n",
       "0 33,601,001,722.00  Huawei P20 Lite Huawei Nova 3E           2,660.00   \n",
       "1 33,601,001,754.00          Apple iPhone 7 (A1778)           2,660.00   \n",
       "2 33,601,002,511.00                Huawei B528S-23A           2,660.00   \n",
       "3 33,601,007,832.00         Apple iPhone 5S (A1457)           2,396.00   \n",
       "4 33,601,008,617.00         Apple iPhone Se (A1723)       9,373,492.00   \n",
       "\n",
       "   Total Throughput  Total RTT  \n",
       "0             74.00      46.00  \n",
       "1             96.00      31.00  \n",
       "2             96.00      33.00  \n",
       "3            408.00      84.00  \n",
       "4         80,790.00     119.00  "
      ]
     },
     "execution_count": 72,
     "metadata": {},
     "output_type": "execute_result"
    }
   ],
   "source": [
    "aggregate = {'Handset Type':'first','Total TCP Retrans':'sum', 'Total Throughput':'sum', 'Total RTT':'sum'}\n",
    "columns = ['MSISDN/Number','Bearer Id','Handset Type', 'Total TCP Retrans', 'Total Throughput', 'Total RTT']\n",
    "network_per_user_df = new_netwok_df.groupby('MSISDN/Number').agg(aggregate).reset_index()\n",
    "network_per_user_df.head()"
   ]
  },
  {
   "cell_type": "markdown",
   "id": "ffe1d22e",
   "metadata": {},
   "source": [
    "Compute & list 10 of the top, bottom and most frequent:\n",
    "1. TCP values in the dataset. \n",
    "2. RTT values in the dataset.\n",
    "3. Throughput values in the dataset.\n"
   ]
  },
  {
   "cell_type": "code",
   "execution_count": 73,
   "id": "fa7f254e",
   "metadata": {},
   "outputs": [
    {
     "data": {
      "image/png": "[encoded data removed]",
      "text/plain": [
       "<Figure size 864x504 with 1 Axes>"
      ]
     },
     "metadata": {
      "needs_background": "light"
     },
     "output_type": "display_data"
    }
   ],
   "source": [
    "# top 5\n",
    "result = network_per_user_df.sort_values(by='Total TCP Retrans', ascending=False)[:100]\n",
    "plot_bar(result, result['Handset Type'], result['Total TCP Retrans'], 'Highest Total TCP Retrans Handsets','','')"
   ]
  },
  {
   "cell_type": "code",
   "execution_count": 74,
   "id": "16e60428",
   "metadata": {},
   "outputs": [
    {
     "data": {
      "text/html": [
       "<div>\n",
       "<style scoped>\n",
       "    .dataframe tbody tr th:only-of-type {\n",
       "        vertical-align: middle;\n",
       "    }\n",
       "\n",
       "    .dataframe tbody tr th {\n",
       "        vertical-align: top;\n",
       "    }\n",
       "\n",
       "    .dataframe thead th {\n",
       "        text-align: right;\n",
       "    }\n",
       "</style>\n",
       "<table border=\"1\" class=\"dataframe\">\n",
       "  <thead>\n",
       "    <tr style=\"text-align: right;\">\n",
       "      <th></th>\n",
       "      <th>MSISDN/Number</th>\n",
       "      <th>Handset Type</th>\n",
       "      <th>Total TCP Retrans</th>\n",
       "      <th>Total Throughput</th>\n",
       "      <th>Total RTT</th>\n",
       "    </tr>\n",
       "  </thead>\n",
       "  <tbody>\n",
       "    <tr>\n",
       "      <th>23472</th>\n",
       "      <td>33,650,128,412.00</td>\n",
       "      <td>Apple iPhone 5S (A1457)</td>\n",
       "      <td>97.00</td>\n",
       "      <td>60,460.00</td>\n",
       "      <td>48.00</td>\n",
       "    </tr>\n",
       "    <tr>\n",
       "      <th>6359</th>\n",
       "      <td>33,614,777,138.00</td>\n",
       "      <td>Huawei Ascend Mate7</td>\n",
       "      <td>128.00</td>\n",
       "      <td>16,996.00</td>\n",
       "      <td>64.00</td>\n",
       "    </tr>\n",
       "    <tr>\n",
       "      <th>96977</th>\n",
       "      <td>33,762,062,356.00</td>\n",
       "      <td>Apple iPhone 8 (A1905)</td>\n",
       "      <td>129.00</td>\n",
       "      <td>63,080.00</td>\n",
       "      <td>41.00</td>\n",
       "    </tr>\n",
       "    <tr>\n",
       "      <th>13546</th>\n",
       "      <td>33,626,357,513.00</td>\n",
       "      <td>Apple iPhone 7 (A1778)</td>\n",
       "      <td>134.00</td>\n",
       "      <td>20,256.00</td>\n",
       "      <td>40.00</td>\n",
       "    </tr>\n",
       "    <tr>\n",
       "      <th>2177</th>\n",
       "      <td>33,607,833,304.00</td>\n",
       "      <td>Apple iPhone 5C (A1529)</td>\n",
       "      <td>143.00</td>\n",
       "      <td>32,484.00</td>\n",
       "      <td>32.00</td>\n",
       "    </tr>\n",
       "  </tbody>\n",
       "</table>\n",
       "</div>"
      ],
      "text/plain": [
       "          MSISDN/Number             Handset Type  Total TCP Retrans  \\\n",
       "23472 33,650,128,412.00  Apple iPhone 5S (A1457)              97.00   \n",
       "6359  33,614,777,138.00      Huawei Ascend Mate7             128.00   \n",
       "96977 33,762,062,356.00   Apple iPhone 8 (A1905)             129.00   \n",
       "13546 33,626,357,513.00   Apple iPhone 7 (A1778)             134.00   \n",
       "2177  33,607,833,304.00  Apple iPhone 5C (A1529)             143.00   \n",
       "\n",
       "       Total Throughput  Total RTT  \n",
       "23472         60,460.00      48.00  \n",
       "6359          16,996.00      64.00  \n",
       "96977         63,080.00      41.00  \n",
       "13546         20,256.00      40.00  \n",
       "2177          32,484.00      32.00  "
      ]
     },
     "execution_count": 74,
     "metadata": {},
     "output_type": "execute_result"
    }
   ],
   "source": [
    "# Bottom 5\n",
    "network_per_user_df.sort_values(by='Total TCP Retrans', ascending=True)[:5]"
   ]
  },
  {
   "cell_type": "code",
   "execution_count": 75,
   "id": "8972cae2",
   "metadata": {},
   "outputs": [
    {
     "data": {
      "text/plain": [
       "2,660.00     47449\n",
       "5,320.00      7662\n",
       "7,980.00      1108\n",
       "2,624.00       363\n",
       "10,640.00      293\n",
       "Name: Total TCP Retrans, dtype: int64"
      ]
     },
     "execution_count": 75,
     "metadata": {},
     "output_type": "execute_result"
    }
   ],
   "source": [
    "# most frequent\n",
    "network_per_user_df['Total TCP Retrans'].value_counts().head(5)"
   ]
  },
  {
   "cell_type": "markdown",
   "id": "b5defa37",
   "metadata": {},
   "source": [
    "Compute & report:\n",
    "1. The distribution of the average throughput  per handset type and provide interpretation for your findings.\n",
    "2. The average TCP retransmission view per handset type and provide interpretation for your findings."
   ]
  },
  {
   "cell_type": "code",
   "execution_count": 76,
   "id": "d2d3e438",
   "metadata": {},
   "outputs": [
    {
     "data": {
      "text/html": [
       "<div>\n",
       "<style scoped>\n",
       "    .dataframe tbody tr th:only-of-type {\n",
       "        vertical-align: middle;\n",
       "    }\n",
       "\n",
       "    .dataframe tbody tr th {\n",
       "        vertical-align: top;\n",
       "    }\n",
       "\n",
       "    .dataframe thead th {\n",
       "        text-align: right;\n",
       "    }\n",
       "</style>\n",
       "<table border=\"1\" class=\"dataframe\">\n",
       "  <thead>\n",
       "    <tr style=\"text-align: right;\">\n",
       "      <th></th>\n",
       "      <th>Handset Type</th>\n",
       "      <th>Total Throughput</th>\n",
       "    </tr>\n",
       "  </thead>\n",
       "  <tbody>\n",
       "    <tr>\n",
       "      <th>316</th>\n",
       "      <td>Huawei B528S-23A</td>\n",
       "      <td>1,635,829,034.00</td>\n",
       "    </tr>\n",
       "    <tr>\n",
       "      <th>59</th>\n",
       "      <td>Apple iPhone 7 (A1778)</td>\n",
       "      <td>135,674,378.00</td>\n",
       "    </tr>\n",
       "    <tr>\n",
       "      <th>53</th>\n",
       "      <td>Apple iPhone 6S (A1688)</td>\n",
       "      <td>130,004,954.00</td>\n",
       "    </tr>\n",
       "    <tr>\n",
       "      <th>49</th>\n",
       "      <td>Apple iPhone 6 (A1586)</td>\n",
       "      <td>118,531,110.00</td>\n",
       "    </tr>\n",
       "    <tr>\n",
       "      <th>953</th>\n",
       "      <td>Samsung Galaxy S8 (Sm-G950F)</td>\n",
       "      <td>113,334,542.00</td>\n",
       "    </tr>\n",
       "  </tbody>\n",
       "</table>\n",
       "</div>"
      ],
      "text/plain": [
       "                     Handset Type  Total Throughput\n",
       "316              Huawei B528S-23A  1,635,829,034.00\n",
       "59         Apple iPhone 7 (A1778)    135,674,378.00\n",
       "53        Apple iPhone 6S (A1688)    130,004,954.00\n",
       "49         Apple iPhone 6 (A1586)    118,531,110.00\n",
       "953  Samsung Galaxy S8 (Sm-G950F)    113,334,542.00"
      ]
     },
     "execution_count": 76,
     "metadata": {},
     "output_type": "execute_result"
    }
   ],
   "source": [
    "handset_throughput = network_per_user_df.groupby('Handset Type').agg({'Total Throughput': 'sum'}).reset_index()\n",
    "handset_throughput.sort_values(by='Total Throughput', ascending=False).head(5)\n",
    "\n",
    "## Huawi is leading but apple is follwoing closely"
   ]
  },
  {
   "cell_type": "code",
   "execution_count": 77,
   "id": "40c1f1a7",
   "metadata": {},
   "outputs": [
    {
     "data": {
      "text/html": [
       "<div>\n",
       "<style scoped>\n",
       "    .dataframe tbody tr th:only-of-type {\n",
       "        vertical-align: middle;\n",
       "    }\n",
       "\n",
       "    .dataframe tbody tr th {\n",
       "        vertical-align: top;\n",
       "    }\n",
       "\n",
       "    .dataframe thead th {\n",
       "        text-align: right;\n",
       "    }\n",
       "</style>\n",
       "<table border=\"1\" class=\"dataframe\">\n",
       "  <thead>\n",
       "    <tr style=\"text-align: right;\">\n",
       "      <th></th>\n",
       "      <th>Handset Type</th>\n",
       "      <th>Total RTT</th>\n",
       "    </tr>\n",
       "  </thead>\n",
       "  <tbody>\n",
       "    <tr>\n",
       "      <th>316</th>\n",
       "      <td>Huawei B528S-23A</td>\n",
       "      <td>3,994,572.00</td>\n",
       "    </tr>\n",
       "    <tr>\n",
       "      <th>49</th>\n",
       "      <td>Apple iPhone 6 (A1586)</td>\n",
       "      <td>913,046.00</td>\n",
       "    </tr>\n",
       "    <tr>\n",
       "      <th>53</th>\n",
       "      <td>Apple iPhone 6S (A1688)</td>\n",
       "      <td>730,817.00</td>\n",
       "    </tr>\n",
       "    <tr>\n",
       "      <th>59</th>\n",
       "      <td>Apple iPhone 7 (A1778)</td>\n",
       "      <td>703,139.00</td>\n",
       "    </tr>\n",
       "    <tr>\n",
       "      <th>66</th>\n",
       "      <td>Apple iPhone 8 (A1905)</td>\n",
       "      <td>506,222.00</td>\n",
       "    </tr>\n",
       "  </tbody>\n",
       "</table>\n",
       "</div>"
      ],
      "text/plain": [
       "                Handset Type    Total RTT\n",
       "316         Huawei B528S-23A 3,994,572.00\n",
       "49    Apple iPhone 6 (A1586)   913,046.00\n",
       "53   Apple iPhone 6S (A1688)   730,817.00\n",
       "59    Apple iPhone 7 (A1778)   703,139.00\n",
       "66    Apple iPhone 8 (A1905)   506,222.00"
      ]
     },
     "execution_count": 77,
     "metadata": {},
     "output_type": "execute_result"
    }
   ],
   "source": [
    "handset_rtt = network_per_user_df.groupby('Handset Type').agg({'Total RTT': 'sum'}).reset_index()\n",
    "handset_rtt.sort_values(by='Total RTT', ascending=False).head(5)\n",
    "\n",
    "\n",
    "### HUawei is leading but apple is following a lot"
   ]
  },
  {
   "cell_type": "markdown",
   "id": "051553b5",
   "metadata": {},
   "source": [
    "**Task 3.4** - Using the experience metrics above, perform a k-means clustering (where k = 3) to segment users into groups of experiences and provide a brief description of each cluster. (The description must define each group based on your understanding of the data)\n"
   ]
  },
  {
   "cell_type": "code",
   "execution_count": 78,
   "id": "eee3d189",
   "metadata": {},
   "outputs": [
    {
     "data": {
      "text/html": [
       "<div>\n",
       "<style scoped>\n",
       "    .dataframe tbody tr th:only-of-type {\n",
       "        vertical-align: middle;\n",
       "    }\n",
       "\n",
       "    .dataframe tbody tr th {\n",
       "        vertical-align: top;\n",
       "    }\n",
       "\n",
       "    .dataframe thead th {\n",
       "        text-align: right;\n",
       "    }\n",
       "</style>\n",
       "<table border=\"1\" class=\"dataframe\">\n",
       "  <thead>\n",
       "    <tr style=\"text-align: right;\">\n",
       "      <th></th>\n",
       "      <th>Total TCP Retrans</th>\n",
       "      <th>Total Throughput</th>\n",
       "      <th>Total RTT</th>\n",
       "    </tr>\n",
       "    <tr>\n",
       "      <th>MSISDN/Number</th>\n",
       "      <th></th>\n",
       "      <th></th>\n",
       "      <th></th>\n",
       "    </tr>\n",
       "  </thead>\n",
       "  <tbody>\n",
       "    <tr>\n",
       "      <th>33,601,001,722.00</th>\n",
       "      <td>2,660.00</td>\n",
       "      <td>74.00</td>\n",
       "      <td>46.00</td>\n",
       "    </tr>\n",
       "    <tr>\n",
       "      <th>33,601,001,754.00</th>\n",
       "      <td>2,660.00</td>\n",
       "      <td>96.00</td>\n",
       "      <td>31.00</td>\n",
       "    </tr>\n",
       "    <tr>\n",
       "      <th>33,601,002,511.00</th>\n",
       "      <td>2,660.00</td>\n",
       "      <td>96.00</td>\n",
       "      <td>33.00</td>\n",
       "    </tr>\n",
       "    <tr>\n",
       "      <th>33,601,007,832.00</th>\n",
       "      <td>2,396.00</td>\n",
       "      <td>408.00</td>\n",
       "      <td>84.00</td>\n",
       "    </tr>\n",
       "    <tr>\n",
       "      <th>33,601,008,617.00</th>\n",
       "      <td>9,373,492.00</td>\n",
       "      <td>80,790.00</td>\n",
       "      <td>119.00</td>\n",
       "    </tr>\n",
       "  </tbody>\n",
       "</table>\n",
       "</div>"
      ],
      "text/plain": [
       "                   Total TCP Retrans  Total Throughput  Total RTT\n",
       "MSISDN/Number                                                    \n",
       "33,601,001,722.00           2,660.00             74.00      46.00\n",
       "33,601,001,754.00           2,660.00             96.00      31.00\n",
       "33,601,002,511.00           2,660.00             96.00      33.00\n",
       "33,601,007,832.00           2,396.00            408.00      84.00\n",
       "33,601,008,617.00       9,373,492.00         80,790.00     119.00"
      ]
     },
     "execution_count": 78,
     "metadata": {},
     "output_type": "execute_result"
    }
   ],
   "source": [
    "handset= network_per_user_df['Handset Type'].unique()\n",
    "\n",
    "# catagory = {}\n",
    "# for index, each in enumerate(handset.tolist()):\n",
    "#     catagory[each] = index\n",
    "\n",
    "net_cluster_df = network_per_user_df.copy()\n",
    "net_cluster_df.drop('Handset Type', axis=1, inplace=True)\n",
    "net_cluster_df = net_cluster_df.set_index('MSISDN/Number')\n",
    "\n",
    "net_cluster_df.head()\n",
    "# new_netwok_df[\"Handset Type\"] = [catagory[x] for x in new_netwok_df[\"Handset Type\"]]"
   ]
  },
  {
   "cell_type": "code",
   "execution_count": 79,
   "id": "cb2a9e4f",
   "metadata": {},
   "outputs": [],
   "source": [
    "## First normalize the Data, Then Cluster\n",
    "min_max_scaler = preprocessing.MinMaxScaler()\n",
    "network_values = net_cluster_df.values\n",
    "\n",
    "scalled_values = min_max_scaler.fit_transform(network_values)\n",
    "df_network_normalized = pd.DataFrame(data=scalled_values, columns=df_task2.columns)\n",
    "\n",
    "\n",
    "kmeans = KMeans(n_clusters=3).fit(df_normalized)"
   ]
  },
  {
   "cell_type": "code",
   "execution_count": 80,
   "id": "561eff32",
   "metadata": {},
   "outputs": [
    {
     "data": {
      "text/html": [
       "<div>\n",
       "<style scoped>\n",
       "    .dataframe tbody tr th:only-of-type {\n",
       "        vertical-align: middle;\n",
       "    }\n",
       "\n",
       "    .dataframe tbody tr th {\n",
       "        vertical-align: top;\n",
       "    }\n",
       "\n",
       "    .dataframe thead th {\n",
       "        text-align: right;\n",
       "    }\n",
       "</style>\n",
       "<table border=\"1\" class=\"dataframe\">\n",
       "  <thead>\n",
       "    <tr style=\"text-align: right;\">\n",
       "      <th></th>\n",
       "      <th>Handset Type</th>\n",
       "      <th>Total TCP Retrans</th>\n",
       "      <th>Total Throughput</th>\n",
       "      <th>Total RTT</th>\n",
       "      <th>cluster-experiance</th>\n",
       "    </tr>\n",
       "    <tr>\n",
       "      <th>MSISDN/Number</th>\n",
       "      <th></th>\n",
       "      <th></th>\n",
       "      <th></th>\n",
       "      <th></th>\n",
       "      <th></th>\n",
       "    </tr>\n",
       "  </thead>\n",
       "  <tbody>\n",
       "    <tr>\n",
       "      <th>33,601,001,722.00</th>\n",
       "      <td>Huawei P20 Lite Huawei Nova 3E</td>\n",
       "      <td>2,660.00</td>\n",
       "      <td>74.00</td>\n",
       "      <td>46.00</td>\n",
       "      <td>0</td>\n",
       "    </tr>\n",
       "    <tr>\n",
       "      <th>33,601,001,754.00</th>\n",
       "      <td>Apple iPhone 7 (A1778)</td>\n",
       "      <td>2,660.00</td>\n",
       "      <td>96.00</td>\n",
       "      <td>31.00</td>\n",
       "      <td>0</td>\n",
       "    </tr>\n",
       "    <tr>\n",
       "      <th>33,601,002,511.00</th>\n",
       "      <td>Huawei B528S-23A</td>\n",
       "      <td>2,660.00</td>\n",
       "      <td>96.00</td>\n",
       "      <td>33.00</td>\n",
       "      <td>0</td>\n",
       "    </tr>\n",
       "    <tr>\n",
       "      <th>33,601,007,832.00</th>\n",
       "      <td>Apple iPhone 5S (A1457)</td>\n",
       "      <td>2,396.00</td>\n",
       "      <td>408.00</td>\n",
       "      <td>84.00</td>\n",
       "      <td>0</td>\n",
       "    </tr>\n",
       "    <tr>\n",
       "      <th>33,601,008,617.00</th>\n",
       "      <td>Apple iPhone Se (A1723)</td>\n",
       "      <td>9,373,492.00</td>\n",
       "      <td>80,790.00</td>\n",
       "      <td>119.00</td>\n",
       "      <td>0</td>\n",
       "    </tr>\n",
       "  </tbody>\n",
       "</table>\n",
       "</div>"
      ],
      "text/plain": [
       "                                     Handset Type  Total TCP Retrans  \\\n",
       "MSISDN/Number                                                          \n",
       "33,601,001,722.00  Huawei P20 Lite Huawei Nova 3E           2,660.00   \n",
       "33,601,001,754.00          Apple iPhone 7 (A1778)           2,660.00   \n",
       "33,601,002,511.00                Huawei B528S-23A           2,660.00   \n",
       "33,601,007,832.00         Apple iPhone 5S (A1457)           2,396.00   \n",
       "33,601,008,617.00         Apple iPhone Se (A1723)       9,373,492.00   \n",
       "\n",
       "                   Total Throughput  Total RTT  cluster-experiance  \n",
       "MSISDN/Number                                                       \n",
       "33,601,001,722.00             74.00      46.00                   0  \n",
       "33,601,001,754.00             96.00      31.00                   0  \n",
       "33,601,002,511.00             96.00      33.00                   0  \n",
       "33,601,007,832.00            408.00      84.00                   0  \n",
       "33,601,008,617.00         80,790.00     119.00                   0  "
      ]
     },
     "execution_count": 80,
     "metadata": {},
     "output_type": "execute_result"
    }
   ],
   "source": [
    "cluster = kmeans.predict(df_network_normalized)\n",
    "experiance_df = network_per_user_df.copy()\n",
    "experiance_df['cluster-experiance']  = cluster\n",
    "experiance_df = experiance_df.set_index('MSISDN/Number')\n",
    "experiance_df.head()"
   ]
  },
  {
   "cell_type": "code",
   "execution_count": 81,
   "id": "327ed92c",
   "metadata": {},
   "outputs": [
    {
     "data": {
      "image/png": "[encoded data removed]",
      "text/plain": [
       "<Figure size 864x504 with 1 Axes>"
      ]
     },
     "metadata": {
      "needs_background": "light"
     },
     "output_type": "display_data"
    }
   ],
   "source": [
    "plot_scatter(experiance_df,\"Total Throughput\", \"Total RTT\",\"Clustering with Kmean\", \"cluster-experiance\", \"\")"
   ]
  },
  {
   "cell_type": "code",
   "execution_count": 82,
   "id": "75268aac",
   "metadata": {},
   "outputs": [
    {
     "data": {
      "text/plain": [
       "0    106607\n",
       "1       183\n",
       "2        66\n",
       "Name: cluster-experiance, dtype: int64"
      ]
     },
     "execution_count": 82,
     "metadata": {},
     "output_type": "execute_result"
    }
   ],
   "source": [
    "experiance_df['cluster-experiance'].value_counts()\n",
    "## dont' know what kind of description am gonna provide for this "
   ]
  },
  {
   "cell_type": "markdown",
   "id": "bf58fcd8",
   "metadata": {},
   "source": [
    "## Task 4"
   ]
  },
  {
   "cell_type": "markdown",
   "id": "3fd1d70e",
   "metadata": {},
   "source": [
    "1. engagement score to each user. Consider the engagement score as the Euclidean distance between the user data point & the less engaged cluster (use the first clustering for this) \n",
    "\n",
    "2. experience score to each user. Consider the experience score as the Euclidean distance between the user data point & the worst experience’s cluster."
   ]
  },
  {
   "cell_type": "code",
   "execution_count": 83,
   "id": "fe04bdd5",
   "metadata": {},
   "outputs": [
    {
     "data": {
      "text/plain": [
       "Bearer Id                      1.04\n",
       "Dur. (ms).1          107,329,642.62\n",
       "Total                495,560,528.13\n",
       "cluster-engagement             0.00\n",
       "dtype: float64"
      ]
     },
     "execution_count": 83,
     "metadata": {},
     "output_type": "execute_result"
    }
   ],
   "source": [
    "## Engagement Score\n",
    "lowest_engagement = engagement_df.groupby('cluster-engagement').get_group(0).mean()\n",
    "lowest_engagement"
   ]
  },
  {
   "cell_type": "code",
   "execution_count": 86,
   "id": "67470264",
   "metadata": {},
   "outputs": [
    {
     "data": {
      "text/html": [
       "<div>\n",
       "<style scoped>\n",
       "    .dataframe tbody tr th:only-of-type {\n",
       "        vertical-align: middle;\n",
       "    }\n",
       "\n",
       "    .dataframe tbody tr th {\n",
       "        vertical-align: top;\n",
       "    }\n",
       "\n",
       "    .dataframe thead th {\n",
       "        text-align: right;\n",
       "    }\n",
       "</style>\n",
       "<table border=\"1\" class=\"dataframe\">\n",
       "  <thead>\n",
       "    <tr style=\"text-align: right;\">\n",
       "      <th></th>\n",
       "      <th>Bearer Id</th>\n",
       "      <th>Dur. (ms).1</th>\n",
       "      <th>Total</th>\n",
       "      <th>cluster-engagement</th>\n",
       "      <th>engagement score</th>\n",
       "    </tr>\n",
       "    <tr>\n",
       "      <th>MSISDN/Number</th>\n",
       "      <th></th>\n",
       "      <th></th>\n",
       "      <th></th>\n",
       "      <th></th>\n",
       "      <th></th>\n",
       "    </tr>\n",
       "  </thead>\n",
       "  <tbody>\n",
       "    <tr>\n",
       "      <th>33,601,001,722.00</th>\n",
       "      <td>1</td>\n",
       "      <td>116,720,140.00</td>\n",
       "      <td>878,690,574.00</td>\n",
       "      <td>0</td>\n",
       "      <td>383,245,108.89</td>\n",
       "    </tr>\n",
       "    <tr>\n",
       "      <th>33,601,001,754.00</th>\n",
       "      <td>1</td>\n",
       "      <td>181,230,963.00</td>\n",
       "      <td>156,859,643.00</td>\n",
       "      <td>0</td>\n",
       "      <td>346,669,431.51</td>\n",
       "    </tr>\n",
       "    <tr>\n",
       "      <th>33,601,002,511.00</th>\n",
       "      <td>1</td>\n",
       "      <td>134,969,374.00</td>\n",
       "      <td>595,966,483.00</td>\n",
       "      <td>0</td>\n",
       "      <td>104,140,820.64</td>\n",
       "    </tr>\n",
       "    <tr>\n",
       "      <th>33,601,007,832.00</th>\n",
       "      <td>1</td>\n",
       "      <td>49,878,024.00</td>\n",
       "      <td>422,320,698.00</td>\n",
       "      <td>0</td>\n",
       "      <td>93,084,699.06</td>\n",
       "    </tr>\n",
       "    <tr>\n",
       "      <th>33,601,008,617.00</th>\n",
       "      <td>2</td>\n",
       "      <td>37,104,453.00</td>\n",
       "      <td>1,457,410,944.00</td>\n",
       "      <td>2</td>\n",
       "      <td>964,410,597.08</td>\n",
       "    </tr>\n",
       "  </tbody>\n",
       "</table>\n",
       "</div>"
      ],
      "text/plain": [
       "                   Bearer Id    Dur. (ms).1            Total  \\\n",
       "MSISDN/Number                                                  \n",
       "33,601,001,722.00          1 116,720,140.00   878,690,574.00   \n",
       "33,601,001,754.00          1 181,230,963.00   156,859,643.00   \n",
       "33,601,002,511.00          1 134,969,374.00   595,966,483.00   \n",
       "33,601,007,832.00          1  49,878,024.00   422,320,698.00   \n",
       "33,601,008,617.00          2  37,104,453.00 1,457,410,944.00   \n",
       "\n",
       "                   cluster-engagement  engagement score  \n",
       "MSISDN/Number                                            \n",
       "33,601,001,722.00                   0    383,245,108.89  \n",
       "33,601,001,754.00                   0    346,669,431.51  \n",
       "33,601,002,511.00                   0    104,140,820.64  \n",
       "33,601,007,832.00                   0     93,084,699.06  \n",
       "33,601,008,617.00                   2    964,410,597.08  "
      ]
     },
     "execution_count": 86,
     "metadata": {},
     "output_type": "execute_result"
    }
   ],
   "source": [
    "def get_engagement_score(df, lowest):\n",
    "    x = float(lowest['Bearer Id'])\n",
    "    y = float(lowest['Dur. (ms).1'])\n",
    "    z = float(lowest['Total'])\n",
    "    new_df = df.copy()\n",
    "    new_df['engagement score'] = ((df['Bearer Id'] - x)**2 + (df['Dur. (ms).1'] - y)**2 + (df['Total'] - z)**2)**0.5\n",
    "    return new_df\n",
    "engagement_scored_df = get_engagement_score(engagement_df, lowest_engagement)\n",
    "engagement_scored_df.head()"
   ]
  },
  {
   "cell_type": "code",
   "execution_count": 87,
   "id": "701459b6",
   "metadata": {},
   "outputs": [
    {
     "data": {
      "text/plain": [
       "Total TCP Retrans    5,812,494.28\n",
       "Total Throughput        36,520.28\n",
       "Total RTT                  148.43\n",
       "cluster-experiance           0.00\n",
       "dtype: float64"
      ]
     },
     "execution_count": 87,
     "metadata": {},
     "output_type": "execute_result"
    }
   ],
   "source": [
    "lowest_experiance = experiance_df.groupby('cluster-experiance').get_group(0).mean()\n",
    "lowest_experiance"
   ]
  },
  {
   "cell_type": "code",
   "execution_count": 88,
   "id": "bb56e6fc",
   "metadata": {},
   "outputs": [
    {
     "data": {
      "text/html": [
       "<div>\n",
       "<style scoped>\n",
       "    .dataframe tbody tr th:only-of-type {\n",
       "        vertical-align: middle;\n",
       "    }\n",
       "\n",
       "    .dataframe tbody tr th {\n",
       "        vertical-align: top;\n",
       "    }\n",
       "\n",
       "    .dataframe thead th {\n",
       "        text-align: right;\n",
       "    }\n",
       "</style>\n",
       "<table border=\"1\" class=\"dataframe\">\n",
       "  <thead>\n",
       "    <tr style=\"text-align: right;\">\n",
       "      <th></th>\n",
       "      <th>Handset Type</th>\n",
       "      <th>Total TCP Retrans</th>\n",
       "      <th>Total Throughput</th>\n",
       "      <th>Total RTT</th>\n",
       "      <th>cluster-experiance</th>\n",
       "      <th>experience score</th>\n",
       "    </tr>\n",
       "    <tr>\n",
       "      <th>MSISDN/Number</th>\n",
       "      <th></th>\n",
       "      <th></th>\n",
       "      <th></th>\n",
       "      <th></th>\n",
       "      <th></th>\n",
       "      <th></th>\n",
       "    </tr>\n",
       "  </thead>\n",
       "  <tbody>\n",
       "    <tr>\n",
       "      <th>33,601,001,722.00</th>\n",
       "      <td>Huawei P20 Lite Huawei Nova 3E</td>\n",
       "      <td>2,660.00</td>\n",
       "      <td>74.00</td>\n",
       "      <td>46.00</td>\n",
       "      <td>0</td>\n",
       "      <td>5,809,948.60</td>\n",
       "    </tr>\n",
       "    <tr>\n",
       "      <th>33,601,001,754.00</th>\n",
       "      <td>Apple iPhone 7 (A1778)</td>\n",
       "      <td>2,660.00</td>\n",
       "      <td>96.00</td>\n",
       "      <td>31.00</td>\n",
       "      <td>0</td>\n",
       "      <td>5,809,948.46</td>\n",
       "    </tr>\n",
       "    <tr>\n",
       "      <th>33,601,002,511.00</th>\n",
       "      <td>Huawei B528S-23A</td>\n",
       "      <td>2,660.00</td>\n",
       "      <td>96.00</td>\n",
       "      <td>33.00</td>\n",
       "      <td>0</td>\n",
       "      <td>5,809,948.46</td>\n",
       "    </tr>\n",
       "    <tr>\n",
       "      <th>33,601,007,832.00</th>\n",
       "      <td>Apple iPhone 5S (A1457)</td>\n",
       "      <td>2,396.00</td>\n",
       "      <td>408.00</td>\n",
       "      <td>84.00</td>\n",
       "      <td>0</td>\n",
       "      <td>5,810,210.51</td>\n",
       "    </tr>\n",
       "    <tr>\n",
       "      <th>33,601,008,617.00</th>\n",
       "      <td>Apple iPhone Se (A1723)</td>\n",
       "      <td>9,373,492.00</td>\n",
       "      <td>80,790.00</td>\n",
       "      <td>119.00</td>\n",
       "      <td>0</td>\n",
       "      <td>3,561,272.88</td>\n",
       "    </tr>\n",
       "  </tbody>\n",
       "</table>\n",
       "</div>"
      ],
      "text/plain": [
       "                                     Handset Type  Total TCP Retrans  \\\n",
       "MSISDN/Number                                                          \n",
       "33,601,001,722.00  Huawei P20 Lite Huawei Nova 3E           2,660.00   \n",
       "33,601,001,754.00          Apple iPhone 7 (A1778)           2,660.00   \n",
       "33,601,002,511.00                Huawei B528S-23A           2,660.00   \n",
       "33,601,007,832.00         Apple iPhone 5S (A1457)           2,396.00   \n",
       "33,601,008,617.00         Apple iPhone Se (A1723)       9,373,492.00   \n",
       "\n",
       "                   Total Throughput  Total RTT  cluster-experiance  \\\n",
       "MSISDN/Number                                                        \n",
       "33,601,001,722.00             74.00      46.00                   0   \n",
       "33,601,001,754.00             96.00      31.00                   0   \n",
       "33,601,002,511.00             96.00      33.00                   0   \n",
       "33,601,007,832.00            408.00      84.00                   0   \n",
       "33,601,008,617.00         80,790.00     119.00                   0   \n",
       "\n",
       "                   experience score  \n",
       "MSISDN/Number                        \n",
       "33,601,001,722.00      5,809,948.60  \n",
       "33,601,001,754.00      5,809,948.46  \n",
       "33,601,002,511.00      5,809,948.46  \n",
       "33,601,007,832.00      5,810,210.51  \n",
       "33,601,008,617.00      3,561,272.88  "
      ]
     },
     "execution_count": 88,
     "metadata": {},
     "output_type": "execute_result"
    }
   ],
   "source": [
    "def get_experiance_score(df, low):\n",
    "    x = float(low['Total RTT'])\n",
    "    y = float(low['Total TCP Retrans'])\n",
    "    z = float(low['Total Throughput'])\n",
    "    new_df = df.copy()\n",
    "    new_df['experience score'] = ((df['Total RTT'] - x)**2 + (df['Total TCP Retrans'] - y)**2 \\\n",
    "                              + (df['Total Throughput'] - z)**2 )**0.5\n",
    "    return new_df\n",
    "experiance_scored_df = get_experiance_score(experiance_df, lowest_experiance)\n",
    "experiance_scored_df.head()"
   ]
  },
  {
   "cell_type": "markdown",
   "id": "c2fda581",
   "metadata": {},
   "source": [
    "Task 4.2 - Consider the average of both engagement & experience scores as  the satisfaction score & report the top 10 satisfied customer "
   ]
  },
  {
   "cell_type": "code",
   "execution_count": 89,
   "id": "9838cc82",
   "metadata": {},
   "outputs": [],
   "source": [
    "satisfaction_df = pd.merge(engagement_scored_df[\"engagement score\"], experiance_scored_df['experience score'], on='MSISDN/Number')\n",
    "satisfaction_df['satisfaction score'] = (satisfaction_df['engagement score'] + satisfaction_df['experience score']) / 2\n"
   ]
  },
  {
   "cell_type": "code",
   "execution_count": 90,
   "id": "b3bef56e",
   "metadata": {},
   "outputs": [
    {
     "data": {
      "text/html": [
       "<div>\n",
       "<style scoped>\n",
       "    .dataframe tbody tr th:only-of-type {\n",
       "        vertical-align: middle;\n",
       "    }\n",
       "\n",
       "    .dataframe tbody tr th {\n",
       "        vertical-align: top;\n",
       "    }\n",
       "\n",
       "    .dataframe thead th {\n",
       "        text-align: right;\n",
       "    }\n",
       "</style>\n",
       "<table border=\"1\" class=\"dataframe\">\n",
       "  <thead>\n",
       "    <tr style=\"text-align: right;\">\n",
       "      <th></th>\n",
       "      <th>engagement score</th>\n",
       "      <th>experience score</th>\n",
       "      <th>satisfaction score</th>\n",
       "    </tr>\n",
       "    <tr>\n",
       "      <th>MSISDN/Number</th>\n",
       "      <th></th>\n",
       "      <th></th>\n",
       "      <th></th>\n",
       "    </tr>\n",
       "  </thead>\n",
       "  <tbody>\n",
       "    <tr>\n",
       "      <th>33,626,320,676.00</th>\n",
       "      <td>11,458,930,814.79</td>\n",
       "      <td>10,469,967,346.82</td>\n",
       "      <td>10,964,449,080.80</td>\n",
       "    </tr>\n",
       "    <tr>\n",
       "      <th>33,625,779,332.00</th>\n",
       "      <td>20,108,105,358.91</td>\n",
       "      <td>5,477,520.15</td>\n",
       "      <td>10,056,791,439.53</td>\n",
       "    </tr>\n",
       "    <tr>\n",
       "      <th>33,614,892,860.00</th>\n",
       "      <td>12,920,714,502.24</td>\n",
       "      <td>2,444,244.17</td>\n",
       "      <td>6,461,579,373.20</td>\n",
       "    </tr>\n",
       "    <tr>\n",
       "      <th>33,760,536,639.00</th>\n",
       "      <td>12,183,407,947.30</td>\n",
       "      <td>28,726,943.38</td>\n",
       "      <td>6,106,067,445.34</td>\n",
       "    </tr>\n",
       "    <tr>\n",
       "      <th>33,667,725,464.00</th>\n",
       "      <td>1,740,477,563.16</td>\n",
       "      <td>8,348,396,631.43</td>\n",
       "      <td>5,044,437,097.30</td>\n",
       "    </tr>\n",
       "  </tbody>\n",
       "</table>\n",
       "</div>"
      ],
      "text/plain": [
       "                   engagement score  experience score  satisfaction score\n",
       "MSISDN/Number                                                            \n",
       "33,626,320,676.00 11,458,930,814.79 10,469,967,346.82   10,964,449,080.80\n",
       "33,625,779,332.00 20,108,105,358.91      5,477,520.15   10,056,791,439.53\n",
       "33,614,892,860.00 12,920,714,502.24      2,444,244.17    6,461,579,373.20\n",
       "33,760,536,639.00 12,183,407,947.30     28,726,943.38    6,106,067,445.34\n",
       "33,667,725,464.00  1,740,477,563.16  8,348,396,631.43    5,044,437,097.30"
      ]
     },
     "execution_count": 90,
     "metadata": {},
     "output_type": "execute_result"
    }
   ],
   "source": [
    "satisfaction_df.sort_values(by='satisfaction score', ascending=False).head(5)"
   ]
  },
  {
   "cell_type": "markdown",
   "id": "90505557",
   "metadata": {},
   "source": [
    "Task 4.3 - Build a regression model of your choice to predict the satisfaction score of a customer. "
   ]
  },
  {
   "cell_type": "code",
   "execution_count": 92,
   "id": "b584b9cf",
   "metadata": {},
   "outputs": [
    {
     "data": {
      "text/html": [
       "<div>\n",
       "<style scoped>\n",
       "    .dataframe tbody tr th:only-of-type {\n",
       "        vertical-align: middle;\n",
       "    }\n",
       "\n",
       "    .dataframe tbody tr th {\n",
       "        vertical-align: top;\n",
       "    }\n",
       "\n",
       "    .dataframe thead th {\n",
       "        text-align: right;\n",
       "    }\n",
       "</style>\n",
       "<table border=\"1\" class=\"dataframe\">\n",
       "  <thead>\n",
       "    <tr style=\"text-align: right;\">\n",
       "      <th></th>\n",
       "      <th>Bearer Id</th>\n",
       "      <th>Dur. (ms).1</th>\n",
       "      <th>Total</th>\n",
       "      <th>Total RTT</th>\n",
       "      <th>Total TCP Retrans</th>\n",
       "      <th>Total Throughput</th>\n",
       "      <th>satisfaction score</th>\n",
       "    </tr>\n",
       "    <tr>\n",
       "      <th>MSISDN/Number</th>\n",
       "      <th></th>\n",
       "      <th></th>\n",
       "      <th></th>\n",
       "      <th></th>\n",
       "      <th></th>\n",
       "      <th></th>\n",
       "      <th></th>\n",
       "    </tr>\n",
       "  </thead>\n",
       "  <tbody>\n",
       "    <tr>\n",
       "      <th>33,601,001,722.00</th>\n",
       "      <td>1</td>\n",
       "      <td>116,720,140.00</td>\n",
       "      <td>878,690,574.00</td>\n",
       "      <td>46.00</td>\n",
       "      <td>2,660.00</td>\n",
       "      <td>74.00</td>\n",
       "      <td>194,527,528.75</td>\n",
       "    </tr>\n",
       "    <tr>\n",
       "      <th>33,601,001,754.00</th>\n",
       "      <td>1</td>\n",
       "      <td>181,230,963.00</td>\n",
       "      <td>156,859,643.00</td>\n",
       "      <td>31.00</td>\n",
       "      <td>2,660.00</td>\n",
       "      <td>96.00</td>\n",
       "      <td>176,239,689.98</td>\n",
       "    </tr>\n",
       "    <tr>\n",
       "      <th>33,601,002,511.00</th>\n",
       "      <td>1</td>\n",
       "      <td>134,969,374.00</td>\n",
       "      <td>595,966,483.00</td>\n",
       "      <td>33.00</td>\n",
       "      <td>2,660.00</td>\n",
       "      <td>96.00</td>\n",
       "      <td>54,975,384.55</td>\n",
       "    </tr>\n",
       "    <tr>\n",
       "      <th>33,601,007,832.00</th>\n",
       "      <td>1</td>\n",
       "      <td>49,878,024.00</td>\n",
       "      <td>422,320,698.00</td>\n",
       "      <td>84.00</td>\n",
       "      <td>2,396.00</td>\n",
       "      <td>408.00</td>\n",
       "      <td>49,447,454.79</td>\n",
       "    </tr>\n",
       "    <tr>\n",
       "      <th>33,601,008,617.00</th>\n",
       "      <td>2</td>\n",
       "      <td>37,104,453.00</td>\n",
       "      <td>1,457,410,944.00</td>\n",
       "      <td>119.00</td>\n",
       "      <td>9,373,492.00</td>\n",
       "      <td>80,790.00</td>\n",
       "      <td>483,985,934.98</td>\n",
       "    </tr>\n",
       "  </tbody>\n",
       "</table>\n",
       "</div>"
      ],
      "text/plain": [
       "                   Bearer Id    Dur. (ms).1            Total  Total RTT  \\\n",
       "MSISDN/Number                                                             \n",
       "33,601,001,722.00          1 116,720,140.00   878,690,574.00      46.00   \n",
       "33,601,001,754.00          1 181,230,963.00   156,859,643.00      31.00   \n",
       "33,601,002,511.00          1 134,969,374.00   595,966,483.00      33.00   \n",
       "33,601,007,832.00          1  49,878,024.00   422,320,698.00      84.00   \n",
       "33,601,008,617.00          2  37,104,453.00 1,457,410,944.00     119.00   \n",
       "\n",
       "                   Total TCP Retrans  Total Throughput  satisfaction score  \n",
       "MSISDN/Number                                                               \n",
       "33,601,001,722.00           2,660.00             74.00      194,527,528.75  \n",
       "33,601,001,754.00           2,660.00             96.00      176,239,689.98  \n",
       "33,601,002,511.00           2,660.00             96.00       54,975,384.55  \n",
       "33,601,007,832.00           2,396.00            408.00       49,447,454.79  \n",
       "33,601,008,617.00       9,373,492.00         80,790.00      483,985,934.98  "
      ]
     },
     "execution_count": 92,
     "metadata": {},
     "output_type": "execute_result"
    }
   ],
   "source": [
    "    \n",
    "regretion_df = pd.merge(engagement_df[['Bearer Id', 'Dur. (ms).1', 'Total']],\\\n",
    "                        experiance_df[['Total RTT','Total TCP Retrans', 'Total Throughput']],\\\n",
    "                       on='MSISDN/Number')\n",
    "regretion_df = pd.merge(regretion_df,satisfaction_df['satisfaction score'], on='MSISDN/Number' )\n",
    "regretion_df.head()"
   ]
  },
  {
   "cell_type": "code",
   "execution_count": 93,
   "id": "ea14f774",
   "metadata": {},
   "outputs": [
    {
     "data": {
      "text/plain": [
       "(106471, 6)"
      ]
     },
     "execution_count": 93,
     "metadata": {},
     "output_type": "execute_result"
    }
   ],
   "source": [
    "X = regretion_df[['Bearer Id', 'Dur. (ms).1', 'Total','Total RTT','Total TCP Retrans', 'Total Throughput']].values\n",
    "X = StandardScaler().fit_transform(X)\n",
    "X.shape"
   ]
  },
  {
   "cell_type": "code",
   "execution_count": 94,
   "id": "a2ec80ee",
   "metadata": {},
   "outputs": [
    {
     "data": {
      "text/plain": [
       "(106471, 1)"
      ]
     },
     "execution_count": 94,
     "metadata": {},
     "output_type": "execute_result"
    }
   ],
   "source": [
    "y = regretion_df[['satisfaction score']].values\n",
    "y = StandardScaler().fit_transform(y)\n",
    "y.shape"
   ]
  },
  {
   "cell_type": "code",
   "execution_count": 96,
   "id": "1e0f6274",
   "metadata": {},
   "outputs": [
    {
     "data": {
      "text/plain": [
       "0.8585292842561847"
      ]
     },
     "execution_count": 96,
     "metadata": {},
     "output_type": "execute_result"
    }
   ],
   "source": [
    "model = LinearRegression().fit(X, y)\n",
    "model.score(X, y)"
   ]
  },
  {
   "cell_type": "code",
   "execution_count": 97,
   "id": "0cb79c26",
   "metadata": {},
   "outputs": [],
   "source": [
    "pickle.dump(model, open('../models/satisfaction_model.sav', 'wb'))"
   ]
  },
  {
   "cell_type": "markdown",
   "id": "5bab1a2c",
   "metadata": {},
   "source": [
    "Task 4.4 - Run a k-means (k=2) on the engagement & the experience score ."
   ]
  },
  {
   "cell_type": "code",
   "execution_count": 98,
   "id": "59818970",
   "metadata": {},
   "outputs": [],
   "source": [
    "eng_exp_df = satisfaction_df[['engagement score', 'experience score']]"
   ]
  },
  {
   "cell_type": "code",
   "execution_count": 99,
   "id": "a7f11268",
   "metadata": {},
   "outputs": [],
   "source": [
    "min_max_scaler = preprocessing.MinMaxScaler()\n",
    "eng_exp_values = eng_exp_df.values\n",
    "\n",
    "scalled_values = min_max_scaler.fit_transform(eng_exp_values)\n",
    "eng_exp_normalized = pd.DataFrame(data=scalled_values, columns=eng_exp_df.columns)\n",
    "\n",
    "\n",
    "kmeans = KMeans(n_clusters=2).fit(eng_exp_normalized)"
   ]
  },
  {
   "cell_type": "markdown",
   "id": "eab12dde",
   "metadata": {},
   "source": [
    "Task 4.5 - Aggregate the average satisfaction & experience score per cluster. "
   ]
  },
  {
   "cell_type": "code",
   "execution_count": 100,
   "id": "2bf697a5",
   "metadata": {},
   "outputs": [
    {
     "data": {
      "text/plain": [
       "1    95663\n",
       "0    10808\n",
       "Name: clusters, dtype: int64"
      ]
     },
     "execution_count": 100,
     "metadata": {},
     "output_type": "execute_result"
    }
   ],
   "source": [
    "eng_exp_df['clusters'] = kmeans.labels_\n",
    "eng_exp_df['clusters'].value_counts()"
   ]
  },
  {
   "cell_type": "code",
   "execution_count": 101,
   "id": "249475c5",
   "metadata": {},
   "outputs": [
    {
     "data": {
      "text/html": [
       "<div>\n",
       "<style scoped>\n",
       "    .dataframe tbody tr th:only-of-type {\n",
       "        vertical-align: middle;\n",
       "    }\n",
       "\n",
       "    .dataframe tbody tr th {\n",
       "        vertical-align: top;\n",
       "    }\n",
       "\n",
       "    .dataframe thead th {\n",
       "        text-align: right;\n",
       "    }\n",
       "</style>\n",
       "<table border=\"1\" class=\"dataframe\">\n",
       "  <thead>\n",
       "    <tr style=\"text-align: right;\">\n",
       "      <th></th>\n",
       "      <th>engagement score</th>\n",
       "      <th>experience score</th>\n",
       "    </tr>\n",
       "    <tr>\n",
       "      <th>clusters</th>\n",
       "      <th></th>\n",
       "      <th></th>\n",
       "    </tr>\n",
       "  </thead>\n",
       "  <tbody>\n",
       "    <tr>\n",
       "      <th>0</th>\n",
       "      <td>1,338,017,648.66</td>\n",
       "      <td>75,914,114.02</td>\n",
       "    </tr>\n",
       "    <tr>\n",
       "      <th>1</th>\n",
       "      <td>265,278,550.01</td>\n",
       "      <td>9,827,631.38</td>\n",
       "    </tr>\n",
       "  </tbody>\n",
       "</table>\n",
       "</div>"
      ],
      "text/plain": [
       "          engagement score  experience score\n",
       "clusters                                    \n",
       "0         1,338,017,648.66     75,914,114.02\n",
       "1           265,278,550.01      9,827,631.38"
      ]
     },
     "execution_count": 101,
     "metadata": {},
     "output_type": "execute_result"
    }
   ],
   "source": [
    "result = eng_exp_df.groupby('clusters').mean()\n",
    "result"
   ]
  },
  {
   "cell_type": "markdown",
   "id": "330ac80d",
   "metadata": {},
   "source": [
    "Task 4.6 - Export your final table containing all user id + engagement, experience & satisfaction scores in your local MySQL database. Report a screenshot of a select query output on the exported table. "
   ]
  },
  {
   "cell_type": "code",
   "execution_count": 102,
   "id": "fbe770ce",
   "metadata": {},
   "outputs": [],
   "source": [
    "satisfaction_df = satisfaction_df.reset_index()\n",
    "satisfaction_df.head()\n",
    "satisfaction_df.to_csv('../data/user_satisfaction.csv')"
   ]
  },
  {
   "cell_type": "code",
   "execution_count": null,
   "id": "bcbd7da3",
   "metadata": {},
   "outputs": [],
   "source": []
  }
 ],
 "metadata": {
  "kernelspec": {
   "display_name": "Python 3 (ipykernel)",
   "language": "python",
   "name": "python3"
  },
  "language_info": {
   "codemirror_mode": {
    "name": "ipython",
    "version": 3
   },
   "file_extension": ".py",
   "mimetype": "text/x-python",
   "name": "python",
   "nbconvert_exporter": "python",
   "pygments_lexer": "ipython3",
   "version": "3.8.13"
  }
 },
 "nbformat": 4,
 "nbformat_minor": 5
}
