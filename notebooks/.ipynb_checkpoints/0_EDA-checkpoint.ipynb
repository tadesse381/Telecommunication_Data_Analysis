{
 "cells": [
  {
   "cell_type": "markdown",
   "id": "64643360",
   "metadata": {},
   "source": [
    "# Exploratory Data Analysis (EDA)"
   ]
  },
  {
   "cell_type": "markdown",
   "id": "b92743d8",
   "metadata": {},
   "source": [
    "This notebook will help us understand The Telecom Data. Some of the Tasks we will cover in here are.\n",
    "- View and count Null Values in the dataset\n",
    "- Get General Information About the dataset\n",
    "- Check the skewness of the data\n",
    "- remove and impute columns with null values\n",
    "- save cleaned dataframe"
   ]
  },
  {
   "cell_type": "code",
   "execution_count": 1,
   "id": "5595e5fa",
   "metadata": {},
   "outputs": [],
   "source": [
    "# System Modules\n",
    "import os\n",
    "import sys\n",
    "sys.path.append(os.path.abspath(os.path.join('..')))\n",
    "\n",
    "import warnings\n",
    "warnings.filterwarnings('ignore')"
   ]
  },
  {
   "cell_type": "code",
   "execution_count": 5,
   "id": "d6f6d777",
   "metadata": {},
   "outputs": [],
   "source": [
    "# Module imports\n",
    "import pandas as pd\n",
    "pd.set_option('max_column', None)\n",
    "pd.options.display.float_format = \"{:.2f}\".format\n",
    "\n"
   ]
  },
  {
   "cell_type": "code",
   "execution_count": 6,
   "id": "e9b0cebe",
   "metadata": {},
   "outputs": [],
   "source": [
    "# Custom Modules\n",
    "from scripts import file\n",
    "from scripts.df_info import DataFrameInfo\n",
    "from scripts.df_cleaning import DataFrameCleaning\n"
   ]
  },
  {
   "cell_type": "code",
   "execution_count": 7,
   "id": "7d793278",
   "metadata": {},
   "outputs": [],
   "source": [
    "file_name = 'Week1_challenge_data_source.csv'\n",
    "data = file.read_csv(file_name)"
   ]
  },
  {
   "cell_type": "code",
   "execution_count": null,
   "id": "fb3481d9",
   "metadata": {},
   "outputs": [],
   "source": []
  },
  {
   "cell_type": "markdown",
   "id": "b2551096",
   "metadata": {},
   "source": [
    "## Information About The Data"
   ]
  },
  {
   "cell_type": "code",
   "execution_count": 8,
   "id": "d4ab57bb",
   "metadata": {},
   "outputs": [
    {
     "name": "stdout",
     "output_type": "stream",
     "text": [
      "Data Frame contain 150001 rows and 55 columns\n"
     ]
    }
   ],
   "source": [
    "df_info = DataFrameInfo(data)\n",
    "df_info.info()"
   ]
  },
  {
   "cell_type": "code",
   "execution_count": 9,
   "id": "a63b635c",
   "metadata": {},
   "outputs": [
    {
     "name": "stdout",
     "output_type": "stream",
     "text": [
      "<class 'pandas.core.frame.DataFrame'>\n",
      "RangeIndex: 150001 entries, 0 to 150000\n",
      "Data columns (total 55 columns):\n",
      " #   Column                                    Non-Null Count   Dtype  \n",
      "---  ------                                    --------------   -----  \n",
      " 0   Bearer Id                                 149010 non-null  float64\n",
      " 1   Start                                     150000 non-null  object \n",
      " 2   Start ms                                  150000 non-null  float64\n",
      " 3   End                                       150000 non-null  object \n",
      " 4   End ms                                    150000 non-null  float64\n",
      " 5   Dur. (ms)                                 150000 non-null  float64\n",
      " 6   IMSI                                      149431 non-null  float64\n",
      " 7   MSISDN/Number                             148935 non-null  float64\n",
      " 8   IMEI                                      149429 non-null  float64\n",
      " 9   Last Location Name                        148848 non-null  object \n",
      " 10  Avg RTT DL (ms)                           122172 non-null  float64\n",
      " 11  Avg RTT UL (ms)                           122189 non-null  float64\n",
      " 12  Avg Bearer TP DL (kbps)                   150000 non-null  float64\n",
      " 13  Avg Bearer TP UL (kbps)                   150000 non-null  float64\n",
      " 14  TCP DL Retrans. Vol (Bytes)               61855 non-null   float64\n",
      " 15  TCP UL Retrans. Vol (Bytes)               53352 non-null   float64\n",
      " 16  DL TP < 50 Kbps (%)                       149247 non-null  float64\n",
      " 17  50 Kbps < DL TP < 250 Kbps (%)            149247 non-null  float64\n",
      " 18  250 Kbps < DL TP < 1 Mbps (%)             149247 non-null  float64\n",
      " 19  DL TP > 1 Mbps (%)                        149247 non-null  float64\n",
      " 20  UL TP < 10 Kbps (%)                       149209 non-null  float64\n",
      " 21  10 Kbps < UL TP < 50 Kbps (%)             149209 non-null  float64\n",
      " 22  50 Kbps < UL TP < 300 Kbps (%)            149209 non-null  float64\n",
      " 23  UL TP > 300 Kbps (%)                      149209 non-null  float64\n",
      " 24  HTTP DL (Bytes)                           68527 non-null   float64\n",
      " 25  HTTP UL (Bytes)                           68191 non-null   float64\n",
      " 26  Activity Duration DL (ms)                 150000 non-null  float64\n",
      " 27  Activity Duration UL (ms)                 150000 non-null  float64\n",
      " 28  Dur. (ms).1                               150000 non-null  float64\n",
      " 29  Handset Manufacturer                      140442 non-null  object \n",
      " 30  Handset Type                              140442 non-null  object \n",
      " 31  Nb of sec with 125000B < Vol DL           52463 non-null   float64\n",
      " 32  Nb of sec with 1250B < Vol UL < 6250B     57107 non-null   float64\n",
      " 33  Nb of sec with 31250B < Vol DL < 125000B  56415 non-null   float64\n",
      " 34  Nb of sec with 37500B < Vol UL            19747 non-null   float64\n",
      " 35  Nb of sec with 6250B < Vol DL < 31250B    61684 non-null   float64\n",
      " 36  Nb of sec with 6250B < Vol UL < 37500B    38158 non-null   float64\n",
      " 37  Nb of sec with Vol DL < 6250B             149246 non-null  float64\n",
      " 38  Nb of sec with Vol UL < 1250B             149208 non-null  float64\n",
      " 39  Social Media DL (Bytes)                   150001 non-null  float64\n",
      " 40  Social Media UL (Bytes)                   150001 non-null  float64\n",
      " 41  Google DL (Bytes)                         150001 non-null  float64\n",
      " 42  Google UL (Bytes)                         150001 non-null  float64\n",
      " 43  Email DL (Bytes)                          150001 non-null  float64\n",
      " 44  Email UL (Bytes)                          150001 non-null  float64\n",
      " 45  Youtube DL (Bytes)                        150001 non-null  float64\n",
      " 46  Youtube UL (Bytes)                        150001 non-null  float64\n",
      " 47  Netflix DL (Bytes)                        150001 non-null  float64\n",
      " 48  Netflix UL (Bytes)                        150001 non-null  float64\n",
      " 49  Gaming DL (Bytes)                         150001 non-null  float64\n",
      " 50  Gaming UL (Bytes)                         150001 non-null  float64\n",
      " 51  Other DL (Bytes)                          150001 non-null  float64\n",
      " 52  Other UL (Bytes)                          150001 non-null  float64\n",
      " 53  Total UL (Bytes)                          150000 non-null  float64\n",
      " 54  Total DL (Bytes)                          150000 non-null  float64\n",
      "dtypes: float64(50), object(5)\n",
      "memory usage: 62.9+ MB\n",
      "None\n"
     ]
    }
   ],
   "source": [
    "df_info.detail_info()"
   ]
  },
  {
   "cell_type": "markdown",
   "id": "3d83a332",
   "metadata": {},
   "source": [
    "### Null Percentage"
   ]
  },
  {
   "cell_type": "code",
   "execution_count": 10,
   "id": "52511ae4",
   "metadata": {},
   "outputs": [
    {
     "name": "stdout",
     "output_type": "stream",
     "text": [
      "Data Frame contain null values of 12.72%\n"
     ]
    }
   ],
   "source": [
    "df_info.null_percentage()"
   ]
  },
  {
   "cell_type": "code",
   "execution_count": 8,
   "id": "7543778b",
   "metadata": {},
   "outputs": [
    {
     "name": "stdout",
     "output_type": "stream",
     "text": [
      "Bearer Id                                      991\n",
      "Start                                            1\n",
      "Start ms                                         1\n",
      "End                                              1\n",
      "End ms                                           1\n",
      "Dur. (ms)                                        1\n",
      "IMSI                                           570\n",
      "MSISDN/Number                                 1066\n",
      "IMEI                                           572\n",
      "Last Location Name                            1153\n",
      "Avg RTT DL (ms)                              27829\n",
      "Avg RTT UL (ms)                              27812\n",
      "Avg Bearer TP DL (kbps)                          1\n",
      "Avg Bearer TP UL (kbps)                          1\n",
      "TCP DL Retrans. Vol (Bytes)                  88146\n",
      "TCP UL Retrans. Vol (Bytes)                  96649\n",
      "DL TP < 50 Kbps (%)                            754\n",
      "50 Kbps < DL TP < 250 Kbps (%)                 754\n",
      "250 Kbps < DL TP < 1 Mbps (%)                  754\n",
      "DL TP > 1 Mbps (%)                             754\n",
      "UL TP < 10 Kbps (%)                            792\n",
      "10 Kbps < UL TP < 50 Kbps (%)                  792\n",
      "50 Kbps < UL TP < 300 Kbps (%)                 792\n",
      "UL TP > 300 Kbps (%)                           792\n",
      "HTTP DL (Bytes)                              81474\n",
      "HTTP UL (Bytes)                              81810\n",
      "Activity Duration DL (ms)                        1\n",
      "Activity Duration UL (ms)                        1\n",
      "Dur. (ms).1                                      1\n",
      "Handset Manufacturer                          9559\n",
      "Handset Type                                  9559\n",
      "Nb of sec with 125000B < Vol DL              97538\n",
      "Nb of sec with 1250B < Vol UL < 6250B        92894\n",
      "Nb of sec with 31250B < Vol DL < 125000B     93586\n",
      "Nb of sec with 37500B < Vol UL              130254\n",
      "Nb of sec with 6250B < Vol DL < 31250B       88317\n",
      "Nb of sec with 6250B < Vol UL < 37500B      111843\n",
      "Nb of sec with Vol DL < 6250B                  755\n",
      "Nb of sec with Vol UL < 1250B                  793\n",
      "Social Media DL (Bytes)                          0\n",
      "Social Media UL (Bytes)                          0\n",
      "Google DL (Bytes)                                0\n",
      "Google UL (Bytes)                                0\n",
      "Email DL (Bytes)                                 0\n",
      "Email UL (Bytes)                                 0\n",
      "Youtube DL (Bytes)                               0\n",
      "Youtube UL (Bytes)                               0\n",
      "Netflix DL (Bytes)                               0\n",
      "Netflix UL (Bytes)                               0\n",
      "Gaming DL (Bytes)                                0\n",
      "Gaming UL (Bytes)                                0\n",
      "Other DL (Bytes)                                 0\n",
      "Other UL (Bytes)                                 0\n",
      "Total UL (Bytes)                                 1\n",
      "Total DL (Bytes)                                 1\n",
      "dtype: int64\n"
     ]
    }
   ],
   "source": [
    "df_info.get_null_counts()"
   ]
  },
  {
   "cell_type": "markdown",
   "id": "d2c8f326",
   "metadata": {},
   "source": [
    "### Skewness of The DataFrame.\n",
    "Skewness Tells us how the data is distributed."
   ]
  },
  {
   "cell_type": "code",
   "execution_count": 9,
   "id": "e1f8746d",
   "metadata": {},
   "outputs": [
    {
     "name": "stdout",
     "output_type": "stream",
     "text": [
      "Bearer Id                                    0.03\n",
      "Start ms                                     0.00\n",
      "End ms                                      -0.00\n",
      "Dur. (ms)                                    3.95\n",
      "IMSI                                        41.05\n",
      "MSISDN/Number                              332.16\n",
      "IMEI                                         1.07\n",
      "Avg RTT DL (ms)                             62.91\n",
      "Avg RTT UL (ms)                             28.46\n",
      "Avg Bearer TP DL (kbps)                      2.59\n",
      "Avg Bearer TP UL (kbps)                      4.50\n",
      "TCP DL Retrans. Vol (Bytes)                 15.95\n",
      "TCP UL Retrans. Vol (Bytes)                 84.11\n",
      "DL TP < 50 Kbps (%)                         -2.30\n",
      "50 Kbps < DL TP < 250 Kbps (%)               3.27\n",
      "250 Kbps < DL TP < 1 Mbps (%)                4.57\n",
      "DL TP > 1 Mbps (%)                           5.37\n",
      "UL TP < 10 Kbps (%)                         -8.99\n",
      "10 Kbps < UL TP < 50 Kbps (%)               10.94\n",
      "50 Kbps < UL TP < 300 Kbps (%)              21.88\n",
      "UL TP > 300 Kbps (%)                        36.17\n",
      "HTTP DL (Bytes)                             38.94\n",
      "HTTP UL (Bytes)                             32.47\n",
      "Activity Duration DL (ms)                    5.87\n",
      "Activity Duration UL (ms)                    7.38\n",
      "Dur. (ms).1                                  3.95\n",
      "Nb of sec with 125000B < Vol DL              6.59\n",
      "Nb of sec with 1250B < Vol UL < 6250B       22.04\n",
      "Nb of sec with 31250B < Vol DL < 125000B     6.61\n",
      "Nb of sec with 37500B < Vol UL              21.56\n",
      "Nb of sec with 6250B < Vol DL < 31250B       6.90\n",
      "Nb of sec with 6250B < Vol UL < 37500B      19.64\n",
      "Nb of sec with Vol DL < 6250B                9.04\n",
      "Nb of sec with Vol UL < 1250B                7.50\n",
      "Social Media DL (Bytes)                     -0.00\n",
      "Social Media UL (Bytes)                     -0.00\n",
      "Google DL (Bytes)                           -0.01\n",
      "Google UL (Bytes)                            0.00\n",
      "Email DL (Bytes)                            -0.00\n",
      "Email UL (Bytes)                             0.01\n",
      "Youtube DL (Bytes)                           0.00\n",
      "Youtube UL (Bytes)                          -0.00\n",
      "Netflix DL (Bytes)                          -0.00\n",
      "Netflix UL (Bytes)                          -0.00\n",
      "Gaming DL (Bytes)                           -0.00\n",
      "Gaming UL (Bytes)                           -0.00\n",
      "Other DL (Bytes)                             0.00\n",
      "Other UL (Bytes)                             0.00\n",
      "Total UL (Bytes)                            -0.00\n",
      "Total DL (Bytes)                            -0.00\n",
      "dtype: float64\n"
     ]
    }
   ],
   "source": [
    "df_info.skewness()"
   ]
  },
  {
   "cell_type": "code",
   "execution_count": null,
   "id": "22caff9d",
   "metadata": {},
   "outputs": [],
   "source": []
  },
  {
   "cell_type": "markdown",
   "id": "af04fa8b",
   "metadata": {},
   "source": [
    "## Data Cleaning"
   ]
  },
  {
   "cell_type": "code",
   "execution_count": 10,
   "id": "059a0082",
   "metadata": {},
   "outputs": [],
   "source": [
    "df_clean = DataFrameCleaning(data)"
   ]
  },
  {
   "cell_type": "markdown",
   "id": "e71e75f2",
   "metadata": {},
   "source": [
    "Columns with More than 30% null, After Identifying columns\n",
    "remove them from our dataset"
   ]
  },
  {
   "cell_type": "code",
   "execution_count": 11,
   "id": "c476e29c",
   "metadata": {},
   "outputs": [
    {
     "name": "stdout",
     "output_type": "stream",
     "text": [
      "List Of Columns with More than 30% Null Values\n",
      "['TCP DL Retrans. Vol (Bytes)', 'TCP UL Retrans. Vol (Bytes)', 'HTTP DL (Bytes)', 'HTTP UL (Bytes)', 'Nb of sec with 125000B < Vol DL', 'Nb of sec with 1250B < Vol UL < 6250B', 'Nb of sec with 31250B < Vol DL < 125000B', 'Nb of sec with 37500B < Vol UL', 'Nb of sec with 6250B < Vol DL < 31250B', 'Nb of sec with 6250B < Vol UL < 37500B']\n"
     ]
    }
   ],
   "source": [
    "bad_columns = df_clean.get_column_with_many_null()\n",
    "print(\"List Of Columns with More than 30% Null Values\")\n",
    "print(bad_columns)"
   ]
  },
  {
   "cell_type": "code",
   "execution_count": 12,
   "id": "9b2eeed8",
   "metadata": {},
   "outputs": [],
   "source": [
    "## Remove Bad columns\n",
    "df_clean.drop_columns(bad_columns)\n",
    "df_clean.drop_column('Dur. (ms).1')"
   ]
  },
  {
   "cell_type": "code",
   "execution_count": 13,
   "id": "49777f02",
   "metadata": {},
   "outputs": [
    {
     "name": "stdout",
     "output_type": "stream",
     "text": [
      "Number Of Columns with More than 30% Null Values After Clean Up\n",
      "[]\n"
     ]
    }
   ],
   "source": [
    "bad_columns = df_clean.get_column_with_many_null()\n",
    "print(\"Number Of Columns with More than 30% Null Values After Clean Up\")\n",
    "print(bad_columns)"
   ]
  },
  {
   "cell_type": "markdown",
   "id": "b2d277cf",
   "metadata": {},
   "source": [
    "### Handle Null Values"
   ]
  },
  {
   "cell_type": "markdown",
   "id": "823501f9",
   "metadata": {},
   "source": [
    "Remove rows with small null values"
   ]
  },
  {
   "cell_type": "code",
   "execution_count": 14,
   "id": "79a56bc0",
   "metadata": {},
   "outputs": [],
   "source": [
    "df_clean.drop_rows(['Bearer Id', 'MSISDN/Number'])"
   ]
  },
  {
   "cell_type": "code",
   "execution_count": 15,
   "id": "8d1e9d1e",
   "metadata": {
    "scrolled": true
   },
   "outputs": [
    {
     "name": "stdout",
     "output_type": "stream",
     "text": [
      "Bearer Id                             0\n",
      "Start                                 0\n",
      "Start ms                              0\n",
      "End                                   0\n",
      "End ms                                0\n",
      "Dur. (ms)                             0\n",
      "IMSI                                  0\n",
      "MSISDN/Number                         0\n",
      "IMEI                                  0\n",
      "Last Location Name                  160\n",
      "Avg RTT DL (ms)                   27636\n",
      "Avg RTT UL (ms)                   27616\n",
      "Avg Bearer TP DL (kbps)               0\n",
      "Avg Bearer TP UL (kbps)               0\n",
      "DL TP < 50 Kbps (%)                 712\n",
      "50 Kbps < DL TP < 250 Kbps (%)      712\n",
      "250 Kbps < DL TP < 1 Mbps (%)       712\n",
      "DL TP > 1 Mbps (%)                  712\n",
      "UL TP < 10 Kbps (%)                 767\n",
      "10 Kbps < UL TP < 50 Kbps (%)       767\n",
      "50 Kbps < UL TP < 300 Kbps (%)      767\n",
      "UL TP > 300 Kbps (%)                767\n",
      "Activity Duration DL (ms)             0\n",
      "Activity Duration UL (ms)             0\n",
      "Handset Manufacturer               8904\n",
      "Handset Type                       8904\n",
      "Nb of sec with Vol DL < 6250B       713\n",
      "Nb of sec with Vol UL < 1250B       768\n",
      "Social Media DL (Bytes)               0\n",
      "Social Media UL (Bytes)               0\n",
      "Google DL (Bytes)                     0\n",
      "Google UL (Bytes)                     0\n",
      "Email DL (Bytes)                      0\n",
      "Email UL (Bytes)                      0\n",
      "Youtube DL (Bytes)                    0\n",
      "Youtube UL (Bytes)                    0\n",
      "Netflix DL (Bytes)                    0\n",
      "Netflix UL (Bytes)                    0\n",
      "Gaming DL (Bytes)                     0\n",
      "Gaming UL (Bytes)                     0\n",
      "Other DL (Bytes)                      0\n",
      "Other UL (Bytes)                      0\n",
      "Total UL (Bytes)                      0\n",
      "Total DL (Bytes)                      0\n",
      "dtype: int64\n"
     ]
    }
   ],
   "source": [
    "info = DataFrameInfo(df_clean.df)\n",
    "info.get_null_counts()"
   ]
  },
  {
   "cell_type": "markdown",
   "id": "e5b988b6",
   "metadata": {},
   "source": [
    "Fill Object Columns with mode"
   ]
  },
  {
   "cell_type": "code",
   "execution_count": 16,
   "id": "337c434b",
   "metadata": {},
   "outputs": [],
   "source": [
    "columns_object_type = ['Last Location Name', 'Handset Manufacturer', 'Handset Type']\n",
    "df_clean.fill_catagorical_columns(columns_object_type)"
   ]
  },
  {
   "cell_type": "code",
   "execution_count": 17,
   "id": "495ee7af",
   "metadata": {},
   "outputs": [
    {
     "name": "stdout",
     "output_type": "stream",
     "text": [
      "Bearer Id                             0\n",
      "Start                                 0\n",
      "Start ms                              0\n",
      "End                                   0\n",
      "End ms                                0\n",
      "Dur. (ms)                             0\n",
      "IMSI                                  0\n",
      "MSISDN/Number                         0\n",
      "IMEI                                  0\n",
      "Last Location Name                    0\n",
      "Avg RTT DL (ms)                   27636\n",
      "Avg RTT UL (ms)                   27616\n",
      "Avg Bearer TP DL (kbps)               0\n",
      "Avg Bearer TP UL (kbps)               0\n",
      "DL TP < 50 Kbps (%)                 712\n",
      "50 Kbps < DL TP < 250 Kbps (%)      712\n",
      "250 Kbps < DL TP < 1 Mbps (%)       712\n",
      "DL TP > 1 Mbps (%)                  712\n",
      "UL TP < 10 Kbps (%)                 767\n",
      "10 Kbps < UL TP < 50 Kbps (%)       767\n",
      "50 Kbps < UL TP < 300 Kbps (%)      767\n",
      "UL TP > 300 Kbps (%)                767\n",
      "Activity Duration DL (ms)             0\n",
      "Activity Duration UL (ms)             0\n",
      "Handset Manufacturer                  0\n",
      "Handset Type                          0\n",
      "Nb of sec with Vol DL < 6250B       713\n",
      "Nb of sec with Vol UL < 1250B       768\n",
      "Social Media DL (Bytes)               0\n",
      "Social Media UL (Bytes)               0\n",
      "Google DL (Bytes)                     0\n",
      "Google UL (Bytes)                     0\n",
      "Email DL (Bytes)                      0\n",
      "Email UL (Bytes)                      0\n",
      "Youtube DL (Bytes)                    0\n",
      "Youtube UL (Bytes)                    0\n",
      "Netflix DL (Bytes)                    0\n",
      "Netflix UL (Bytes)                    0\n",
      "Gaming DL (Bytes)                     0\n",
      "Gaming UL (Bytes)                     0\n",
      "Other DL (Bytes)                      0\n",
      "Other UL (Bytes)                      0\n",
      "Total UL (Bytes)                      0\n",
      "Total DL (Bytes)                      0\n",
      "dtype: int64\n"
     ]
    }
   ],
   "source": [
    "info = DataFrameInfo(df_clean.df)\n",
    "info.get_null_counts()"
   ]
  },
  {
   "cell_type": "markdown",
   "id": "d2e21f82",
   "metadata": {},
   "source": [
    "Fill Other null columns with mode, Other columns don't have significance importance for future analysis but to keep things clean we need to save them with no null value"
   ]
  },
  {
   "cell_type": "code",
   "execution_count": 18,
   "id": "5f37a496",
   "metadata": {},
   "outputs": [],
   "source": [
    "all_columns = df_clean.df.columns\n",
    "df_clean.fill_catagorical_columns(all_columns)"
   ]
  },
  {
   "cell_type": "code",
   "execution_count": 19,
   "id": "eda03154",
   "metadata": {},
   "outputs": [
    {
     "name": "stdout",
     "output_type": "stream",
     "text": [
      "Bearer Id                         0\n",
      "Start                             0\n",
      "Start ms                          0\n",
      "End                               0\n",
      "End ms                            0\n",
      "Dur. (ms)                         0\n",
      "IMSI                              0\n",
      "MSISDN/Number                     0\n",
      "IMEI                              0\n",
      "Last Location Name                0\n",
      "Avg RTT DL (ms)                   0\n",
      "Avg RTT UL (ms)                   0\n",
      "Avg Bearer TP DL (kbps)           0\n",
      "Avg Bearer TP UL (kbps)           0\n",
      "DL TP < 50 Kbps (%)               0\n",
      "50 Kbps < DL TP < 250 Kbps (%)    0\n",
      "250 Kbps < DL TP < 1 Mbps (%)     0\n",
      "DL TP > 1 Mbps (%)                0\n",
      "UL TP < 10 Kbps (%)               0\n",
      "10 Kbps < UL TP < 50 Kbps (%)     0\n",
      "50 Kbps < UL TP < 300 Kbps (%)    0\n",
      "UL TP > 300 Kbps (%)              0\n",
      "Activity Duration DL (ms)         0\n",
      "Activity Duration UL (ms)         0\n",
      "Handset Manufacturer              0\n",
      "Handset Type                      0\n",
      "Nb of sec with Vol DL < 6250B     0\n",
      "Nb of sec with Vol UL < 1250B     0\n",
      "Social Media DL (Bytes)           0\n",
      "Social Media UL (Bytes)           0\n",
      "Google DL (Bytes)                 0\n",
      "Google UL (Bytes)                 0\n",
      "Email DL (Bytes)                  0\n",
      "Email UL (Bytes)                  0\n",
      "Youtube DL (Bytes)                0\n",
      "Youtube UL (Bytes)                0\n",
      "Netflix DL (Bytes)                0\n",
      "Netflix UL (Bytes)                0\n",
      "Gaming DL (Bytes)                 0\n",
      "Gaming UL (Bytes)                 0\n",
      "Other DL (Bytes)                  0\n",
      "Other UL (Bytes)                  0\n",
      "Total UL (Bytes)                  0\n",
      "Total DL (Bytes)                  0\n",
      "dtype: int64\n"
     ]
    }
   ],
   "source": [
    "info = DataFrameInfo(df_clean.df)\n",
    "info.get_null_counts()"
   ]
  },
  {
   "cell_type": "code",
   "execution_count": 20,
   "id": "ef428f72",
   "metadata": {},
   "outputs": [],
   "source": [
    "df_clean.fix_outliers('Dur. (ms)')"
   ]
  },
  {
   "cell_type": "code",
   "execution_count": 21,
   "id": "575c0ca5",
   "metadata": {},
   "outputs": [
    {
     "name": "stdout",
     "output_type": "stream",
     "text": [
      "Bearer Id                           0.02\n",
      "Start ms                            0.00\n",
      "End ms                             -0.00\n",
      "Dur. (ms)                           0.81\n",
      "IMSI                             -269.35\n",
      "MSISDN/Number                     331.68\n",
      "IMEI                                1.07\n",
      "Avg RTT DL (ms)                    73.61\n",
      "Avg RTT UL (ms)                    31.62\n",
      "Avg Bearer TP DL (kbps)             2.59\n",
      "Avg Bearer TP UL (kbps)             4.50\n",
      "DL TP < 50 Kbps (%)                -2.31\n",
      "50 Kbps < DL TP < 250 Kbps (%)      3.29\n",
      "250 Kbps < DL TP < 1 Mbps (%)       4.59\n",
      "DL TP > 1 Mbps (%)                  5.37\n",
      "UL TP < 10 Kbps (%)                -9.02\n",
      "10 Kbps < UL TP < 50 Kbps (%)      10.99\n",
      "50 Kbps < UL TP < 300 Kbps (%)     21.91\n",
      "UL TP > 300 Kbps (%)               36.19\n",
      "Activity Duration DL (ms)           5.85\n",
      "Activity Duration UL (ms)           7.36\n",
      "Nb of sec with Vol DL < 6250B       9.04\n",
      "Nb of sec with Vol UL < 1250B       7.50\n",
      "Social Media DL (Bytes)            -0.00\n",
      "Social Media UL (Bytes)            -0.00\n",
      "Google DL (Bytes)                  -0.01\n",
      "Google UL (Bytes)                   0.00\n",
      "Email DL (Bytes)                   -0.00\n",
      "Email UL (Bytes)                    0.01\n",
      "Youtube DL (Bytes)                  0.00\n",
      "Youtube UL (Bytes)                 -0.00\n",
      "Netflix DL (Bytes)                 -0.00\n",
      "Netflix UL (Bytes)                 -0.00\n",
      "Gaming DL (Bytes)                  -0.00\n",
      "Gaming UL (Bytes)                  -0.00\n",
      "Other DL (Bytes)                    0.00\n",
      "Other UL (Bytes)                    0.00\n",
      "Total UL (Bytes)                   -0.00\n",
      "Total DL (Bytes)                   -0.00\n",
      "dtype: float64\n"
     ]
    }
   ],
   "source": [
    "info = DataFrameInfo(df_clean.df)\n",
    "info.skewness()"
   ]
  },
  {
   "cell_type": "markdown",
   "id": "427e6e4b",
   "metadata": {},
   "source": [
    "## Null percentage After data cleaning"
   ]
  },
  {
   "cell_type": "code",
   "execution_count": 22,
   "id": "9740176e",
   "metadata": {},
   "outputs": [
    {
     "name": "stdout",
     "output_type": "stream",
     "text": [
      "Data Frame contain null values of 0.0%\n"
     ]
    }
   ],
   "source": [
    "info.null_percentage()"
   ]
  },
  {
   "cell_type": "code",
   "execution_count": 23,
   "id": "d83e589d",
   "metadata": {},
   "outputs": [],
   "source": [
    "# df_clean.save_clean()"
   ]
  },
  {
   "cell_type": "code",
   "execution_count": null,
   "id": "7e9f4145",
   "metadata": {},
   "outputs": [],
   "source": []
  }
 ],
 "metadata": {
  "kernelspec": {
   "display_name": "Python 3 (ipykernel)",
   "language": "python",
   "name": "python3"
  },
  "language_info": {
   "codemirror_mode": {
    "name": "ipython",
    "version": 3
   },
   "file_extension": ".py",
   "mimetype": "text/x-python",
   "name": "python",
   "nbconvert_exporter": "python",
   "pygments_lexer": "ipython3",
   "version": "3.8.13"
  }
 },
 "nbformat": 4,
 "nbformat_minor": 5
}
