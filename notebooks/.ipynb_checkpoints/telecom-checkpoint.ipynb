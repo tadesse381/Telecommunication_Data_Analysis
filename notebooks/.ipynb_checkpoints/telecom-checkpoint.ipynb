{
 "cells": [
  {
   "cell_type": "code",
   "execution_count": 1,
   "id": "ac37fd4c",
   "metadata": {},
   "outputs": [
    {
     "data": {
      "text/plain": [
       "'\\nTellCo, an existing mobile service provider in the Republic of Pefkakia.\\n\\nThe Data set is **month** of **aggregated data** on **xDR**. \\n\\nThe Goal of this project is to Give insight Wether To buy or \\nLeave the Mobile Service Provider\\n'"
      ]
     },
     "execution_count": 1,
     "metadata": {},
     "output_type": "execute_result"
    }
   ],
   "source": [
    "###### TellCo #######\n",
    "\n",
    "'''\n",
    "TellCo, an existing mobile service provider in the Republic of Pefkakia.\n",
    "\n",
    "The Data set is **month** of **aggregated data** on **xDR**. \n",
    "\n",
    "The Goal of this project is to Give insight Wether To buy or \n",
    "Leave the Mobile Service Provider\n",
    "'''\n"
   ]
  },
  {
   "cell_type": "code",
   "execution_count": 2,
   "id": "4a08b031",
   "metadata": {},
   "outputs": [],
   "source": [
    "# Modules\n",
    "import pandas as pd\n",
    "pd.set_option('max_column', None)\n",
    "\n",
    "import warnings\n",
    "warnings.filterwarnings('ignore')\n",
    "\n",
    "import seaborn as sns\n",
    "import matplotlib.pyplot as plt\n",
    "import numpy as np\n",
    "from sklearn.decomposition import PCA\n",
    "from sklearn.preprocessing import StandardScaler\n",
    "from sklearn import preprocessing\n",
    "from sklearn.cluster import KMeans\n",
    "\n",
    "\n",
    "from sklearn.linear_model import LinearRegression\n",
    "from sklearn.preprocessing import StandardScaler\n",
    "import pickle"
   ]
  },
  {
   "cell_type": "code",
   "execution_count": 3,
   "id": "22530867",
   "metadata": {},
   "outputs": [],
   "source": [
    "# Read File\n",
    "file_name = 'Week1_challenge_data_source.csv'\n",
    "row_file = pd.read_csv(f'../data/{file_name}', na_values=['?','Na','NaN', 'undefined', None])"
   ]
  },
  {
   "cell_type": "markdown",
   "id": "1cd928c8",
   "metadata": {},
   "source": [
    "## Data Overview And Cleaning\n"
   ]
  },
  {
   "cell_type": "markdown",
   "id": "115e8864",
   "metadata": {},
   "source": [
    "### Sample view of dataset"
   ]
  },
  {
   "cell_type": "code",
   "execution_count": 4,
   "id": "2bc37d36",
   "metadata": {},
   "outputs": [
    {
     "data": {
      "text/html": [
       "<div>\n",
       "<style scoped>\n",
       "    .dataframe tbody tr th:only-of-type {\n",
       "        vertical-align: middle;\n",
       "    }\n",
       "\n",
       "    .dataframe tbody tr th {\n",
       "        vertical-align: top;\n",
       "    }\n",
       "\n",
       "    .dataframe thead th {\n",
       "        text-align: right;\n",
       "    }\n",
       "</style>\n",
       "<table border=\"1\" class=\"dataframe\">\n",
       "  <thead>\n",
       "    <tr style=\"text-align: right;\">\n",
       "      <th></th>\n",
       "      <th>Bearer Id</th>\n",
       "      <th>Start</th>\n",
       "      <th>Start ms</th>\n",
       "      <th>End</th>\n",
       "      <th>End ms</th>\n",
       "      <th>Dur. (ms)</th>\n",
       "      <th>IMSI</th>\n",
       "      <th>MSISDN/Number</th>\n",
       "      <th>IMEI</th>\n",
       "      <th>Last Location Name</th>\n",
       "      <th>Avg RTT DL (ms)</th>\n",
       "      <th>Avg RTT UL (ms)</th>\n",
       "      <th>Avg Bearer TP DL (kbps)</th>\n",
       "      <th>Avg Bearer TP UL (kbps)</th>\n",
       "      <th>TCP DL Retrans. Vol (Bytes)</th>\n",
       "      <th>TCP UL Retrans. Vol (Bytes)</th>\n",
       "      <th>DL TP &lt; 50 Kbps (%)</th>\n",
       "      <th>50 Kbps &lt; DL TP &lt; 250 Kbps (%)</th>\n",
       "      <th>250 Kbps &lt; DL TP &lt; 1 Mbps (%)</th>\n",
       "      <th>DL TP &gt; 1 Mbps (%)</th>\n",
       "      <th>UL TP &lt; 10 Kbps (%)</th>\n",
       "      <th>10 Kbps &lt; UL TP &lt; 50 Kbps (%)</th>\n",
       "      <th>50 Kbps &lt; UL TP &lt; 300 Kbps (%)</th>\n",
       "      <th>UL TP &gt; 300 Kbps (%)</th>\n",
       "      <th>HTTP DL (Bytes)</th>\n",
       "      <th>HTTP UL (Bytes)</th>\n",
       "      <th>Activity Duration DL (ms)</th>\n",
       "      <th>Activity Duration UL (ms)</th>\n",
       "      <th>Dur. (ms).1</th>\n",
       "      <th>Handset Manufacturer</th>\n",
       "      <th>Handset Type</th>\n",
       "      <th>Nb of sec with 125000B &lt; Vol DL</th>\n",
       "      <th>Nb of sec with 1250B &lt; Vol UL &lt; 6250B</th>\n",
       "      <th>Nb of sec with 31250B &lt; Vol DL &lt; 125000B</th>\n",
       "      <th>Nb of sec with 37500B &lt; Vol UL</th>\n",
       "      <th>Nb of sec with 6250B &lt; Vol DL &lt; 31250B</th>\n",
       "      <th>Nb of sec with 6250B &lt; Vol UL &lt; 37500B</th>\n",
       "      <th>Nb of sec with Vol DL &lt; 6250B</th>\n",
       "      <th>Nb of sec with Vol UL &lt; 1250B</th>\n",
       "      <th>Social Media DL (Bytes)</th>\n",
       "      <th>Social Media UL (Bytes)</th>\n",
       "      <th>Google DL (Bytes)</th>\n",
       "      <th>Google UL (Bytes)</th>\n",
       "      <th>Email DL (Bytes)</th>\n",
       "      <th>Email UL (Bytes)</th>\n",
       "      <th>Youtube DL (Bytes)</th>\n",
       "      <th>Youtube UL (Bytes)</th>\n",
       "      <th>Netflix DL (Bytes)</th>\n",
       "      <th>Netflix UL (Bytes)</th>\n",
       "      <th>Gaming DL (Bytes)</th>\n",
       "      <th>Gaming UL (Bytes)</th>\n",
       "      <th>Other DL (Bytes)</th>\n",
       "      <th>Other UL (Bytes)</th>\n",
       "      <th>Total UL (Bytes)</th>\n",
       "      <th>Total DL (Bytes)</th>\n",
       "    </tr>\n",
       "  </thead>\n",
       "  <tbody>\n",
       "    <tr>\n",
       "      <th>0</th>\n",
       "      <td>1.311448e+19</td>\n",
       "      <td>4/4/2019 12:01</td>\n",
       "      <td>770.0</td>\n",
       "      <td>4/25/2019 14:35</td>\n",
       "      <td>662.0</td>\n",
       "      <td>1823652.0</td>\n",
       "      <td>2.082014e+14</td>\n",
       "      <td>3.366496e+10</td>\n",
       "      <td>3.552121e+13</td>\n",
       "      <td>9164566995485190</td>\n",
       "      <td>42.0</td>\n",
       "      <td>5.0</td>\n",
       "      <td>23.0</td>\n",
       "      <td>44.0</td>\n",
       "      <td>NaN</td>\n",
       "      <td>NaN</td>\n",
       "      <td>100.0</td>\n",
       "      <td>0.0</td>\n",
       "      <td>0.0</td>\n",
       "      <td>0.0</td>\n",
       "      <td>100.0</td>\n",
       "      <td>0.0</td>\n",
       "      <td>0.0</td>\n",
       "      <td>0.0</td>\n",
       "      <td>NaN</td>\n",
       "      <td>NaN</td>\n",
       "      <td>37624.0</td>\n",
       "      <td>38787.0</td>\n",
       "      <td>1.823653e+09</td>\n",
       "      <td>Samsung</td>\n",
       "      <td>Samsung Galaxy A5 Sm-A520F</td>\n",
       "      <td>NaN</td>\n",
       "      <td>NaN</td>\n",
       "      <td>NaN</td>\n",
       "      <td>NaN</td>\n",
       "      <td>NaN</td>\n",
       "      <td>NaN</td>\n",
       "      <td>213.0</td>\n",
       "      <td>214.0</td>\n",
       "      <td>1545765.0</td>\n",
       "      <td>24420.0</td>\n",
       "      <td>1634479.0</td>\n",
       "      <td>1271433.0</td>\n",
       "      <td>3563542.0</td>\n",
       "      <td>137762.0</td>\n",
       "      <td>15854611.0</td>\n",
       "      <td>2501332.0</td>\n",
       "      <td>8198936.0</td>\n",
       "      <td>9656251.0</td>\n",
       "      <td>278082303.0</td>\n",
       "      <td>14344150.0</td>\n",
       "      <td>171744450.0</td>\n",
       "      <td>8814393.0</td>\n",
       "      <td>36749741.0</td>\n",
       "      <td>308879636.0</td>\n",
       "    </tr>\n",
       "    <tr>\n",
       "      <th>1</th>\n",
       "      <td>1.311448e+19</td>\n",
       "      <td>4/9/2019 13:04</td>\n",
       "      <td>235.0</td>\n",
       "      <td>4/25/2019 8:15</td>\n",
       "      <td>606.0</td>\n",
       "      <td>1365104.0</td>\n",
       "      <td>2.082019e+14</td>\n",
       "      <td>3.368185e+10</td>\n",
       "      <td>3.579401e+13</td>\n",
       "      <td>L77566A</td>\n",
       "      <td>65.0</td>\n",
       "      <td>5.0</td>\n",
       "      <td>16.0</td>\n",
       "      <td>26.0</td>\n",
       "      <td>NaN</td>\n",
       "      <td>NaN</td>\n",
       "      <td>100.0</td>\n",
       "      <td>0.0</td>\n",
       "      <td>0.0</td>\n",
       "      <td>0.0</td>\n",
       "      <td>100.0</td>\n",
       "      <td>0.0</td>\n",
       "      <td>0.0</td>\n",
       "      <td>0.0</td>\n",
       "      <td>NaN</td>\n",
       "      <td>NaN</td>\n",
       "      <td>168.0</td>\n",
       "      <td>3560.0</td>\n",
       "      <td>1.365104e+09</td>\n",
       "      <td>Samsung</td>\n",
       "      <td>Samsung Galaxy J5 (Sm-J530)</td>\n",
       "      <td>NaN</td>\n",
       "      <td>NaN</td>\n",
       "      <td>NaN</td>\n",
       "      <td>NaN</td>\n",
       "      <td>NaN</td>\n",
       "      <td>NaN</td>\n",
       "      <td>971.0</td>\n",
       "      <td>1022.0</td>\n",
       "      <td>1926113.0</td>\n",
       "      <td>7165.0</td>\n",
       "      <td>3493924.0</td>\n",
       "      <td>920172.0</td>\n",
       "      <td>629046.0</td>\n",
       "      <td>308339.0</td>\n",
       "      <td>20247395.0</td>\n",
       "      <td>19111729.0</td>\n",
       "      <td>18338413.0</td>\n",
       "      <td>17227132.0</td>\n",
       "      <td>608750074.0</td>\n",
       "      <td>1170709.0</td>\n",
       "      <td>526904238.0</td>\n",
       "      <td>15055145.0</td>\n",
       "      <td>53800391.0</td>\n",
       "      <td>653384965.0</td>\n",
       "    </tr>\n",
       "    <tr>\n",
       "      <th>2</th>\n",
       "      <td>1.311448e+19</td>\n",
       "      <td>4/9/2019 17:42</td>\n",
       "      <td>1.0</td>\n",
       "      <td>4/25/2019 11:58</td>\n",
       "      <td>652.0</td>\n",
       "      <td>1361762.0</td>\n",
       "      <td>2.082003e+14</td>\n",
       "      <td>3.376063e+10</td>\n",
       "      <td>3.528151e+13</td>\n",
       "      <td>D42335A</td>\n",
       "      <td>NaN</td>\n",
       "      <td>NaN</td>\n",
       "      <td>6.0</td>\n",
       "      <td>9.0</td>\n",
       "      <td>NaN</td>\n",
       "      <td>NaN</td>\n",
       "      <td>100.0</td>\n",
       "      <td>0.0</td>\n",
       "      <td>0.0</td>\n",
       "      <td>0.0</td>\n",
       "      <td>100.0</td>\n",
       "      <td>0.0</td>\n",
       "      <td>0.0</td>\n",
       "      <td>0.0</td>\n",
       "      <td>NaN</td>\n",
       "      <td>NaN</td>\n",
       "      <td>0.0</td>\n",
       "      <td>0.0</td>\n",
       "      <td>1.361763e+09</td>\n",
       "      <td>Samsung</td>\n",
       "      <td>Samsung Galaxy A8 (2018)</td>\n",
       "      <td>NaN</td>\n",
       "      <td>NaN</td>\n",
       "      <td>NaN</td>\n",
       "      <td>NaN</td>\n",
       "      <td>NaN</td>\n",
       "      <td>NaN</td>\n",
       "      <td>751.0</td>\n",
       "      <td>695.0</td>\n",
       "      <td>1684053.0</td>\n",
       "      <td>42224.0</td>\n",
       "      <td>8535055.0</td>\n",
       "      <td>1694064.0</td>\n",
       "      <td>2690151.0</td>\n",
       "      <td>672973.0</td>\n",
       "      <td>19725661.0</td>\n",
       "      <td>14699576.0</td>\n",
       "      <td>17587794.0</td>\n",
       "      <td>6163408.0</td>\n",
       "      <td>229584621.0</td>\n",
       "      <td>395630.0</td>\n",
       "      <td>410692588.0</td>\n",
       "      <td>4215763.0</td>\n",
       "      <td>27883638.0</td>\n",
       "      <td>279807335.0</td>\n",
       "    </tr>\n",
       "    <tr>\n",
       "      <th>3</th>\n",
       "      <td>1.311448e+19</td>\n",
       "      <td>4/10/2019 0:31</td>\n",
       "      <td>486.0</td>\n",
       "      <td>4/25/2019 7:36</td>\n",
       "      <td>171.0</td>\n",
       "      <td>1321509.0</td>\n",
       "      <td>2.082014e+14</td>\n",
       "      <td>3.375034e+10</td>\n",
       "      <td>3.535661e+13</td>\n",
       "      <td>T21824A</td>\n",
       "      <td>NaN</td>\n",
       "      <td>NaN</td>\n",
       "      <td>44.0</td>\n",
       "      <td>44.0</td>\n",
       "      <td>NaN</td>\n",
       "      <td>NaN</td>\n",
       "      <td>100.0</td>\n",
       "      <td>0.0</td>\n",
       "      <td>0.0</td>\n",
       "      <td>0.0</td>\n",
       "      <td>100.0</td>\n",
       "      <td>0.0</td>\n",
       "      <td>0.0</td>\n",
       "      <td>0.0</td>\n",
       "      <td>NaN</td>\n",
       "      <td>NaN</td>\n",
       "      <td>3330.0</td>\n",
       "      <td>37882.0</td>\n",
       "      <td>1.321510e+09</td>\n",
       "      <td>NaN</td>\n",
       "      <td>NaN</td>\n",
       "      <td>NaN</td>\n",
       "      <td>NaN</td>\n",
       "      <td>NaN</td>\n",
       "      <td>NaN</td>\n",
       "      <td>NaN</td>\n",
       "      <td>NaN</td>\n",
       "      <td>17.0</td>\n",
       "      <td>207.0</td>\n",
       "      <td>644121.0</td>\n",
       "      <td>13372.0</td>\n",
       "      <td>9023734.0</td>\n",
       "      <td>2788027.0</td>\n",
       "      <td>1439754.0</td>\n",
       "      <td>631229.0</td>\n",
       "      <td>21388122.0</td>\n",
       "      <td>15146643.0</td>\n",
       "      <td>13994646.0</td>\n",
       "      <td>1097942.0</td>\n",
       "      <td>799538153.0</td>\n",
       "      <td>10849722.0</td>\n",
       "      <td>749039933.0</td>\n",
       "      <td>12797283.0</td>\n",
       "      <td>43324218.0</td>\n",
       "      <td>846028530.0</td>\n",
       "    </tr>\n",
       "    <tr>\n",
       "      <th>4</th>\n",
       "      <td>1.311448e+19</td>\n",
       "      <td>4/12/2019 20:10</td>\n",
       "      <td>565.0</td>\n",
       "      <td>4/25/2019 10:40</td>\n",
       "      <td>954.0</td>\n",
       "      <td>1089009.0</td>\n",
       "      <td>2.082014e+14</td>\n",
       "      <td>3.369980e+10</td>\n",
       "      <td>3.540701e+13</td>\n",
       "      <td>D88865A</td>\n",
       "      <td>NaN</td>\n",
       "      <td>NaN</td>\n",
       "      <td>6.0</td>\n",
       "      <td>9.0</td>\n",
       "      <td>NaN</td>\n",
       "      <td>NaN</td>\n",
       "      <td>100.0</td>\n",
       "      <td>0.0</td>\n",
       "      <td>0.0</td>\n",
       "      <td>0.0</td>\n",
       "      <td>100.0</td>\n",
       "      <td>0.0</td>\n",
       "      <td>0.0</td>\n",
       "      <td>0.0</td>\n",
       "      <td>NaN</td>\n",
       "      <td>NaN</td>\n",
       "      <td>0.0</td>\n",
       "      <td>0.0</td>\n",
       "      <td>1.089009e+09</td>\n",
       "      <td>Samsung</td>\n",
       "      <td>Samsung Sm-G390F</td>\n",
       "      <td>NaN</td>\n",
       "      <td>NaN</td>\n",
       "      <td>NaN</td>\n",
       "      <td>NaN</td>\n",
       "      <td>NaN</td>\n",
       "      <td>NaN</td>\n",
       "      <td>607.0</td>\n",
       "      <td>604.0</td>\n",
       "      <td>862600.0</td>\n",
       "      <td>50188.0</td>\n",
       "      <td>6248284.0</td>\n",
       "      <td>1500559.0</td>\n",
       "      <td>1936496.0</td>\n",
       "      <td>173853.0</td>\n",
       "      <td>15259380.0</td>\n",
       "      <td>18962873.0</td>\n",
       "      <td>17124581.0</td>\n",
       "      <td>415218.0</td>\n",
       "      <td>527707248.0</td>\n",
       "      <td>3529801.0</td>\n",
       "      <td>550709500.0</td>\n",
       "      <td>13910322.0</td>\n",
       "      <td>38542814.0</td>\n",
       "      <td>569138589.0</td>\n",
       "    </tr>\n",
       "  </tbody>\n",
       "</table>\n",
       "</div>"
      ],
      "text/plain": [
       "      Bearer Id            Start  Start ms              End  End ms  \\\n",
       "0  1.311448e+19   4/4/2019 12:01     770.0  4/25/2019 14:35   662.0   \n",
       "1  1.311448e+19   4/9/2019 13:04     235.0   4/25/2019 8:15   606.0   \n",
       "2  1.311448e+19   4/9/2019 17:42       1.0  4/25/2019 11:58   652.0   \n",
       "3  1.311448e+19   4/10/2019 0:31     486.0   4/25/2019 7:36   171.0   \n",
       "4  1.311448e+19  4/12/2019 20:10     565.0  4/25/2019 10:40   954.0   \n",
       "\n",
       "   Dur. (ms)          IMSI  MSISDN/Number          IMEI Last Location Name  \\\n",
       "0  1823652.0  2.082014e+14   3.366496e+10  3.552121e+13   9164566995485190   \n",
       "1  1365104.0  2.082019e+14   3.368185e+10  3.579401e+13            L77566A   \n",
       "2  1361762.0  2.082003e+14   3.376063e+10  3.528151e+13            D42335A   \n",
       "3  1321509.0  2.082014e+14   3.375034e+10  3.535661e+13            T21824A   \n",
       "4  1089009.0  2.082014e+14   3.369980e+10  3.540701e+13            D88865A   \n",
       "\n",
       "   Avg RTT DL (ms)  Avg RTT UL (ms)  Avg Bearer TP DL (kbps)  \\\n",
       "0             42.0              5.0                     23.0   \n",
       "1             65.0              5.0                     16.0   \n",
       "2              NaN              NaN                      6.0   \n",
       "3              NaN              NaN                     44.0   \n",
       "4              NaN              NaN                      6.0   \n",
       "\n",
       "   Avg Bearer TP UL (kbps)  TCP DL Retrans. Vol (Bytes)  \\\n",
       "0                     44.0                          NaN   \n",
       "1                     26.0                          NaN   \n",
       "2                      9.0                          NaN   \n",
       "3                     44.0                          NaN   \n",
       "4                      9.0                          NaN   \n",
       "\n",
       "   TCP UL Retrans. Vol (Bytes)  DL TP < 50 Kbps (%)  \\\n",
       "0                          NaN                100.0   \n",
       "1                          NaN                100.0   \n",
       "2                          NaN                100.0   \n",
       "3                          NaN                100.0   \n",
       "4                          NaN                100.0   \n",
       "\n",
       "   50 Kbps < DL TP < 250 Kbps (%)  250 Kbps < DL TP < 1 Mbps (%)  \\\n",
       "0                             0.0                            0.0   \n",
       "1                             0.0                            0.0   \n",
       "2                             0.0                            0.0   \n",
       "3                             0.0                            0.0   \n",
       "4                             0.0                            0.0   \n",
       "\n",
       "   DL TP > 1 Mbps (%)  UL TP < 10 Kbps (%)  10 Kbps < UL TP < 50 Kbps (%)  \\\n",
       "0                 0.0                100.0                            0.0   \n",
       "1                 0.0                100.0                            0.0   \n",
       "2                 0.0                100.0                            0.0   \n",
       "3                 0.0                100.0                            0.0   \n",
       "4                 0.0                100.0                            0.0   \n",
       "\n",
       "   50 Kbps < UL TP < 300 Kbps (%)  UL TP > 300 Kbps (%)  HTTP DL (Bytes)  \\\n",
       "0                             0.0                   0.0              NaN   \n",
       "1                             0.0                   0.0              NaN   \n",
       "2                             0.0                   0.0              NaN   \n",
       "3                             0.0                   0.0              NaN   \n",
       "4                             0.0                   0.0              NaN   \n",
       "\n",
       "   HTTP UL (Bytes)  Activity Duration DL (ms)  Activity Duration UL (ms)  \\\n",
       "0              NaN                    37624.0                    38787.0   \n",
       "1              NaN                      168.0                     3560.0   \n",
       "2              NaN                        0.0                        0.0   \n",
       "3              NaN                     3330.0                    37882.0   \n",
       "4              NaN                        0.0                        0.0   \n",
       "\n",
       "    Dur. (ms).1 Handset Manufacturer                 Handset Type  \\\n",
       "0  1.823653e+09              Samsung   Samsung Galaxy A5 Sm-A520F   \n",
       "1  1.365104e+09              Samsung  Samsung Galaxy J5 (Sm-J530)   \n",
       "2  1.361763e+09              Samsung     Samsung Galaxy A8 (2018)   \n",
       "3  1.321510e+09                  NaN                          NaN   \n",
       "4  1.089009e+09              Samsung             Samsung Sm-G390F   \n",
       "\n",
       "   Nb of sec with 125000B < Vol DL  Nb of sec with 1250B < Vol UL < 6250B  \\\n",
       "0                              NaN                                    NaN   \n",
       "1                              NaN                                    NaN   \n",
       "2                              NaN                                    NaN   \n",
       "3                              NaN                                    NaN   \n",
       "4                              NaN                                    NaN   \n",
       "\n",
       "   Nb of sec with 31250B < Vol DL < 125000B  Nb of sec with 37500B < Vol UL  \\\n",
       "0                                       NaN                             NaN   \n",
       "1                                       NaN                             NaN   \n",
       "2                                       NaN                             NaN   \n",
       "3                                       NaN                             NaN   \n",
       "4                                       NaN                             NaN   \n",
       "\n",
       "   Nb of sec with 6250B < Vol DL < 31250B  \\\n",
       "0                                     NaN   \n",
       "1                                     NaN   \n",
       "2                                     NaN   \n",
       "3                                     NaN   \n",
       "4                                     NaN   \n",
       "\n",
       "   Nb of sec with 6250B < Vol UL < 37500B  Nb of sec with Vol DL < 6250B  \\\n",
       "0                                     NaN                          213.0   \n",
       "1                                     NaN                          971.0   \n",
       "2                                     NaN                          751.0   \n",
       "3                                     NaN                           17.0   \n",
       "4                                     NaN                          607.0   \n",
       "\n",
       "   Nb of sec with Vol UL < 1250B  Social Media DL (Bytes)  \\\n",
       "0                          214.0                1545765.0   \n",
       "1                         1022.0                1926113.0   \n",
       "2                          695.0                1684053.0   \n",
       "3                          207.0                 644121.0   \n",
       "4                          604.0                 862600.0   \n",
       "\n",
       "   Social Media UL (Bytes)  Google DL (Bytes)  Google UL (Bytes)  \\\n",
       "0                  24420.0          1634479.0          1271433.0   \n",
       "1                   7165.0          3493924.0           920172.0   \n",
       "2                  42224.0          8535055.0          1694064.0   \n",
       "3                  13372.0          9023734.0          2788027.0   \n",
       "4                  50188.0          6248284.0          1500559.0   \n",
       "\n",
       "   Email DL (Bytes)  Email UL (Bytes)  Youtube DL (Bytes)  Youtube UL (Bytes)  \\\n",
       "0         3563542.0          137762.0          15854611.0           2501332.0   \n",
       "1          629046.0          308339.0          20247395.0          19111729.0   \n",
       "2         2690151.0          672973.0          19725661.0          14699576.0   \n",
       "3         1439754.0          631229.0          21388122.0          15146643.0   \n",
       "4         1936496.0          173853.0          15259380.0          18962873.0   \n",
       "\n",
       "   Netflix DL (Bytes)  Netflix UL (Bytes)  Gaming DL (Bytes)  \\\n",
       "0           8198936.0           9656251.0        278082303.0   \n",
       "1          18338413.0          17227132.0        608750074.0   \n",
       "2          17587794.0           6163408.0        229584621.0   \n",
       "3          13994646.0           1097942.0        799538153.0   \n",
       "4          17124581.0            415218.0        527707248.0   \n",
       "\n",
       "   Gaming UL (Bytes)  Other DL (Bytes)  Other UL (Bytes)  Total UL (Bytes)  \\\n",
       "0         14344150.0       171744450.0         8814393.0        36749741.0   \n",
       "1          1170709.0       526904238.0        15055145.0        53800391.0   \n",
       "2           395630.0       410692588.0         4215763.0        27883638.0   \n",
       "3         10849722.0       749039933.0        12797283.0        43324218.0   \n",
       "4          3529801.0       550709500.0        13910322.0        38542814.0   \n",
       "\n",
       "   Total DL (Bytes)  \n",
       "0       308879636.0  \n",
       "1       653384965.0  \n",
       "2       279807335.0  \n",
       "3       846028530.0  \n",
       "4       569138589.0  "
      ]
     },
     "execution_count": 4,
     "metadata": {},
     "output_type": "execute_result"
    }
   ],
   "source": [
    "df = row_file # Need this for future use\n",
    "df.head()"
   ]
  },
  {
   "cell_type": "code",
   "execution_count": 5,
   "id": "42aa41b8",
   "metadata": {},
   "outputs": [
    {
     "data": {
      "text/plain": [
       "Index(['Bearer Id', 'Start', 'Start ms', 'End', 'End ms', 'Dur. (ms)', 'IMSI',\n",
       "       'MSISDN/Number', 'IMEI', 'Last Location Name', 'Avg RTT DL (ms)',\n",
       "       'Avg RTT UL (ms)', 'Avg Bearer TP DL (kbps)', 'Avg Bearer TP UL (kbps)',\n",
       "       'TCP DL Retrans. Vol (Bytes)', 'TCP UL Retrans. Vol (Bytes)',\n",
       "       'DL TP < 50 Kbps (%)', '50 Kbps < DL TP < 250 Kbps (%)',\n",
       "       '250 Kbps < DL TP < 1 Mbps (%)', 'DL TP > 1 Mbps (%)',\n",
       "       'UL TP < 10 Kbps (%)', '10 Kbps < UL TP < 50 Kbps (%)',\n",
       "       '50 Kbps < UL TP < 300 Kbps (%)', 'UL TP > 300 Kbps (%)',\n",
       "       'HTTP DL (Bytes)', 'HTTP UL (Bytes)', 'Activity Duration DL (ms)',\n",
       "       'Activity Duration UL (ms)', 'Dur. (ms).1', 'Handset Manufacturer',\n",
       "       'Handset Type', 'Nb of sec with 125000B < Vol DL',\n",
       "       'Nb of sec with 1250B < Vol UL < 6250B',\n",
       "       'Nb of sec with 31250B < Vol DL < 125000B',\n",
       "       'Nb of sec with 37500B < Vol UL',\n",
       "       'Nb of sec with 6250B < Vol DL < 31250B',\n",
       "       'Nb of sec with 6250B < Vol UL < 37500B',\n",
       "       'Nb of sec with Vol DL < 6250B', 'Nb of sec with Vol UL < 1250B',\n",
       "       'Social Media DL (Bytes)', 'Social Media UL (Bytes)',\n",
       "       'Google DL (Bytes)', 'Google UL (Bytes)', 'Email DL (Bytes)',\n",
       "       'Email UL (Bytes)', 'Youtube DL (Bytes)', 'Youtube UL (Bytes)',\n",
       "       'Netflix DL (Bytes)', 'Netflix UL (Bytes)', 'Gaming DL (Bytes)',\n",
       "       'Gaming UL (Bytes)', 'Other DL (Bytes)', 'Other UL (Bytes)',\n",
       "       'Total UL (Bytes)', 'Total DL (Bytes)'],\n",
       "      dtype='object')"
      ]
     },
     "execution_count": 5,
     "metadata": {},
     "output_type": "execute_result"
    }
   ],
   "source": [
    "df.columns"
   ]
  },
  {
   "cell_type": "code",
   "execution_count": 6,
   "id": "a9a179c3",
   "metadata": {},
   "outputs": [
    {
     "name": "stdout",
     "output_type": "stream",
     "text": [
      "Data Frame Contains 150001 rows and 55 columns\n"
     ]
    }
   ],
   "source": [
    "print(f'Data Frame Contains {df.shape[0]} rows and {df.shape[1]} columns')"
   ]
  },
  {
   "cell_type": "markdown",
   "id": "69d341b0",
   "metadata": {},
   "source": [
    "### How much of the data is Null ? "
   ]
  },
  {
   "cell_type": "code",
   "execution_count": 7,
   "id": "04713518",
   "metadata": {},
   "outputs": [
    {
     "name": "stdout",
     "output_type": "stream",
     "text": [
      "Data Fraame contain null values of 12.72%\n"
     ]
    }
   ],
   "source": [
    "def null_percentage(df):\n",
    "    number_of_rows, number_of_columns = df.shape\n",
    "    df_size = number_of_rows * number_of_columns\n",
    "    \n",
    "    null_size = (df.isnull().sum()).sum()\n",
    "    percentage = round((null_size / df_size) * 100, 2)\n",
    "    print(f\"Data Fraame contain null values of { percentage }%\")\n",
    "\n",
    "null_percentage(df)"
   ]
  },
  {
   "cell_type": "markdown",
   "id": "e68004a9",
   "metadata": {},
   "source": [
    "### Dataset Info"
   ]
  },
  {
   "cell_type": "code",
   "execution_count": 8,
   "id": "3960fe8d",
   "metadata": {},
   "outputs": [
    {
     "name": "stdout",
     "output_type": "stream",
     "text": [
      "<class 'pandas.core.frame.DataFrame'>\n",
      "RangeIndex: 150001 entries, 0 to 150000\n",
      "Data columns (total 55 columns):\n",
      " #   Column                                    Non-Null Count   Dtype  \n",
      "---  ------                                    --------------   -----  \n",
      " 0   Bearer Id                                 149010 non-null  float64\n",
      " 1   Start                                     150000 non-null  object \n",
      " 2   Start ms                                  150000 non-null  float64\n",
      " 3   End                                       150000 non-null  object \n",
      " 4   End ms                                    150000 non-null  float64\n",
      " 5   Dur. (ms)                                 150000 non-null  float64\n",
      " 6   IMSI                                      149431 non-null  float64\n",
      " 7   MSISDN/Number                             148935 non-null  float64\n",
      " 8   IMEI                                      149429 non-null  float64\n",
      " 9   Last Location Name                        148848 non-null  object \n",
      " 10  Avg RTT DL (ms)                           122172 non-null  float64\n",
      " 11  Avg RTT UL (ms)                           122189 non-null  float64\n",
      " 12  Avg Bearer TP DL (kbps)                   150000 non-null  float64\n",
      " 13  Avg Bearer TP UL (kbps)                   150000 non-null  float64\n",
      " 14  TCP DL Retrans. Vol (Bytes)               61855 non-null   float64\n",
      " 15  TCP UL Retrans. Vol (Bytes)               53352 non-null   float64\n",
      " 16  DL TP < 50 Kbps (%)                       149247 non-null  float64\n",
      " 17  50 Kbps < DL TP < 250 Kbps (%)            149247 non-null  float64\n",
      " 18  250 Kbps < DL TP < 1 Mbps (%)             149247 non-null  float64\n",
      " 19  DL TP > 1 Mbps (%)                        149247 non-null  float64\n",
      " 20  UL TP < 10 Kbps (%)                       149209 non-null  float64\n",
      " 21  10 Kbps < UL TP < 50 Kbps (%)             149209 non-null  float64\n",
      " 22  50 Kbps < UL TP < 300 Kbps (%)            149209 non-null  float64\n",
      " 23  UL TP > 300 Kbps (%)                      149209 non-null  float64\n",
      " 24  HTTP DL (Bytes)                           68527 non-null   float64\n",
      " 25  HTTP UL (Bytes)                           68191 non-null   float64\n",
      " 26  Activity Duration DL (ms)                 150000 non-null  float64\n",
      " 27  Activity Duration UL (ms)                 150000 non-null  float64\n",
      " 28  Dur. (ms).1                               150000 non-null  float64\n",
      " 29  Handset Manufacturer                      140442 non-null  object \n",
      " 30  Handset Type                              140442 non-null  object \n",
      " 31  Nb of sec with 125000B < Vol DL           52463 non-null   float64\n",
      " 32  Nb of sec with 1250B < Vol UL < 6250B     57107 non-null   float64\n",
      " 33  Nb of sec with 31250B < Vol DL < 125000B  56415 non-null   float64\n",
      " 34  Nb of sec with 37500B < Vol UL            19747 non-null   float64\n",
      " 35  Nb of sec with 6250B < Vol DL < 31250B    61684 non-null   float64\n",
      " 36  Nb of sec with 6250B < Vol UL < 37500B    38158 non-null   float64\n",
      " 37  Nb of sec with Vol DL < 6250B             149246 non-null  float64\n",
      " 38  Nb of sec with Vol UL < 1250B             149208 non-null  float64\n",
      " 39  Social Media DL (Bytes)                   150001 non-null  float64\n",
      " 40  Social Media UL (Bytes)                   150001 non-null  float64\n",
      " 41  Google DL (Bytes)                         150001 non-null  float64\n",
      " 42  Google UL (Bytes)                         150001 non-null  float64\n",
      " 43  Email DL (Bytes)                          150001 non-null  float64\n",
      " 44  Email UL (Bytes)                          150001 non-null  float64\n",
      " 45  Youtube DL (Bytes)                        150001 non-null  float64\n",
      " 46  Youtube UL (Bytes)                        150001 non-null  float64\n",
      " 47  Netflix DL (Bytes)                        150001 non-null  float64\n",
      " 48  Netflix UL (Bytes)                        150001 non-null  float64\n",
      " 49  Gaming DL (Bytes)                         150001 non-null  float64\n",
      " 50  Gaming UL (Bytes)                         150001 non-null  float64\n",
      " 51  Other DL (Bytes)                          150001 non-null  float64\n",
      " 52  Other UL (Bytes)                          150001 non-null  float64\n",
      " 53  Total UL (Bytes)                          150000 non-null  float64\n",
      " 54  Total DL (Bytes)                          150000 non-null  float64\n",
      "dtypes: float64(50), object(5)\n",
      "memory usage: 62.9+ MB\n"
     ]
    }
   ],
   "source": [
    "df.info()"
   ]
  },
  {
   "cell_type": "code",
   "execution_count": null,
   "id": "f43d0766",
   "metadata": {},
   "outputs": [],
   "source": []
  },
  {
   "cell_type": "markdown",
   "id": "72da629e",
   "metadata": {},
   "source": [
    "#### Columns Null Values"
   ]
  },
  {
   "cell_type": "code",
   "execution_count": 9,
   "id": "81ad72f3",
   "metadata": {},
   "outputs": [
    {
     "data": {
      "text/plain": [
       "Bearer Id                                      991\n",
       "Start                                            1\n",
       "Start ms                                         1\n",
       "End                                              1\n",
       "End ms                                           1\n",
       "Dur. (ms)                                        1\n",
       "IMSI                                           570\n",
       "MSISDN/Number                                 1066\n",
       "IMEI                                           572\n",
       "Last Location Name                            1153\n",
       "Avg RTT DL (ms)                              27829\n",
       "Avg RTT UL (ms)                              27812\n",
       "Avg Bearer TP DL (kbps)                          1\n",
       "Avg Bearer TP UL (kbps)                          1\n",
       "TCP DL Retrans. Vol (Bytes)                  88146\n",
       "TCP UL Retrans. Vol (Bytes)                  96649\n",
       "DL TP < 50 Kbps (%)                            754\n",
       "50 Kbps < DL TP < 250 Kbps (%)                 754\n",
       "250 Kbps < DL TP < 1 Mbps (%)                  754\n",
       "DL TP > 1 Mbps (%)                             754\n",
       "UL TP < 10 Kbps (%)                            792\n",
       "10 Kbps < UL TP < 50 Kbps (%)                  792\n",
       "50 Kbps < UL TP < 300 Kbps (%)                 792\n",
       "UL TP > 300 Kbps (%)                           792\n",
       "HTTP DL (Bytes)                              81474\n",
       "HTTP UL (Bytes)                              81810\n",
       "Activity Duration DL (ms)                        1\n",
       "Activity Duration UL (ms)                        1\n",
       "Dur. (ms).1                                      1\n",
       "Handset Manufacturer                          9559\n",
       "Handset Type                                  9559\n",
       "Nb of sec with 125000B < Vol DL              97538\n",
       "Nb of sec with 1250B < Vol UL < 6250B        92894\n",
       "Nb of sec with 31250B < Vol DL < 125000B     93586\n",
       "Nb of sec with 37500B < Vol UL              130254\n",
       "Nb of sec with 6250B < Vol DL < 31250B       88317\n",
       "Nb of sec with 6250B < Vol UL < 37500B      111843\n",
       "Nb of sec with Vol DL < 6250B                  755\n",
       "Nb of sec with Vol UL < 1250B                  793\n",
       "Social Media DL (Bytes)                          0\n",
       "Social Media UL (Bytes)                          0\n",
       "Google DL (Bytes)                                0\n",
       "Google UL (Bytes)                                0\n",
       "Email DL (Bytes)                                 0\n",
       "Email UL (Bytes)                                 0\n",
       "Youtube DL (Bytes)                               0\n",
       "Youtube UL (Bytes)                               0\n",
       "Netflix DL (Bytes)                               0\n",
       "Netflix UL (Bytes)                               0\n",
       "Gaming DL (Bytes)                                0\n",
       "Gaming UL (Bytes)                                0\n",
       "Other DL (Bytes)                                 0\n",
       "Other UL (Bytes)                                 0\n",
       "Total UL (Bytes)                                 1\n",
       "Total DL (Bytes)                                 1\n",
       "dtype: int64"
      ]
     },
     "execution_count": 9,
     "metadata": {},
     "output_type": "execute_result"
    }
   ],
   "source": [
    "df.isnull().sum()"
   ]
  },
  {
   "cell_type": "markdown",
   "id": "7674d523",
   "metadata": {},
   "source": [
    "### Data Cleaning"
   ]
  },
  {
   "cell_type": "markdown",
   "id": "ed48914a",
   "metadata": {},
   "source": [
    "**I plan to drop rows with Null 'Bearer Id' and 'MSISDN/Number' thinkig they were unique But that is not the case**"
   ]
  },
  {
   "cell_type": "code",
   "execution_count": 10,
   "id": "55e2a9d1",
   "metadata": {},
   "outputs": [],
   "source": [
    "df['Bearer Id'].value_counts()\n",
    "df['MSISDN/Number'].value_counts()\n",
    "df.dropna(subset=['Bearer Id', 'MSISDN/Number'], inplace=True)"
   ]
  },
  {
   "cell_type": "code",
   "execution_count": 11,
   "id": "0e1a82f9",
   "metadata": {
    "scrolled": true
   },
   "outputs": [
    {
     "data": {
      "text/plain": [
       "Bearer Id                                        0\n",
       "Start                                            0\n",
       "Start ms                                         0\n",
       "End                                              0\n",
       "End ms                                           0\n",
       "Dur. (ms)                                        0\n",
       "IMSI                                             0\n",
       "MSISDN/Number                                    0\n",
       "IMEI                                             0\n",
       "Last Location Name                             160\n",
       "Avg RTT DL (ms)                              27636\n",
       "Avg RTT UL (ms)                              27616\n",
       "Avg Bearer TP DL (kbps)                          0\n",
       "Avg Bearer TP UL (kbps)                          0\n",
       "TCP DL Retrans. Vol (Bytes)                  87764\n",
       "TCP UL Retrans. Vol (Bytes)                  96128\n",
       "DL TP < 50 Kbps (%)                            712\n",
       "50 Kbps < DL TP < 250 Kbps (%)                 712\n",
       "250 Kbps < DL TP < 1 Mbps (%)                  712\n",
       "DL TP > 1 Mbps (%)                             712\n",
       "UL TP < 10 Kbps (%)                            767\n",
       "10 Kbps < UL TP < 50 Kbps (%)                  767\n",
       "50 Kbps < UL TP < 300 Kbps (%)                 767\n",
       "UL TP > 300 Kbps (%)                           767\n",
       "HTTP DL (Bytes)                              81129\n",
       "HTTP UL (Bytes)                              81475\n",
       "Activity Duration DL (ms)                        0\n",
       "Activity Duration UL (ms)                        0\n",
       "Dur. (ms).1                                      0\n",
       "Handset Manufacturer                          8904\n",
       "Handset Type                                  8904\n",
       "Nb of sec with 125000B < Vol DL              96775\n",
       "Nb of sec with 1250B < Vol UL < 6250B        92269\n",
       "Nb of sec with 31250B < Vol DL < 125000B     92978\n",
       "Nb of sec with 37500B < Vol UL              128950\n",
       "Nb of sec with 6250B < Vol DL < 31250B       87838\n",
       "Nb of sec with 6250B < Vol UL < 37500B      110803\n",
       "Nb of sec with Vol DL < 6250B                  713\n",
       "Nb of sec with Vol UL < 1250B                  768\n",
       "Social Media DL (Bytes)                          0\n",
       "Social Media UL (Bytes)                          0\n",
       "Google DL (Bytes)                                0\n",
       "Google UL (Bytes)                                0\n",
       "Email DL (Bytes)                                 0\n",
       "Email UL (Bytes)                                 0\n",
       "Youtube DL (Bytes)                               0\n",
       "Youtube UL (Bytes)                               0\n",
       "Netflix DL (Bytes)                               0\n",
       "Netflix UL (Bytes)                               0\n",
       "Gaming DL (Bytes)                                0\n",
       "Gaming UL (Bytes)                                0\n",
       "Other DL (Bytes)                                 0\n",
       "Other UL (Bytes)                                 0\n",
       "Total UL (Bytes)                                 0\n",
       "Total DL (Bytes)                                 0\n",
       "dtype: int64"
      ]
     },
     "execution_count": 11,
     "metadata": {},
     "output_type": "execute_result"
    }
   ],
   "source": [
    "df.isnull().sum()"
   ]
  },
  {
   "cell_type": "markdown",
   "id": "a5f107e9",
   "metadata": {},
   "source": [
    "#### Drop columns with more than 30% null Values"
   ]
  },
  {
   "cell_type": "code",
   "execution_count": 12,
   "id": "f4c66ddd",
   "metadata": {},
   "outputs": [
    {
     "name": "stdout",
     "output_type": "stream",
     "text": [
      "['TCP DL Retrans. Vol (Bytes)', 'TCP UL Retrans. Vol (Bytes)', 'HTTP DL (Bytes)', 'HTTP UL (Bytes)', 'Nb of sec with 125000B < Vol DL', 'Nb of sec with 1250B < Vol UL < 6250B', 'Nb of sec with 31250B < Vol DL < 125000B', 'Nb of sec with 37500B < Vol UL', 'Nb of sec with 6250B < Vol DL < 31250B', 'Nb of sec with 6250B < Vol UL < 37500B', 'Dur. (ms).1']\n",
      "Shape After Droping columns with more than 30% Null\n",
      "rows: 148506\tcolumns:44\n"
     ]
    }
   ],
   "source": [
    "def drop_column_with_many_null(df):\n",
    "    df_size = df.shape[0]\n",
    "    \n",
    "    columns_list = df.columns\n",
    "    bad_columns = []\n",
    "    \n",
    "    for column in columns_list:\n",
    "        null_per_column = df[column].isnull().sum()\n",
    "        percentage = round( (null_per_column / df_size) * 100 , 2)\n",
    "        \n",
    "        if(percentage > 30):\n",
    "            bad_columns.append(column)\n",
    "    bad_columns.append('Dur. (ms).1')\n",
    "    return bad_columns\n",
    "\n",
    "bad_columns = drop_column_with_many_null(df)\n",
    "print(bad_columns)\n",
    "df_clean = df.drop(bad_columns, axis=1)\n",
    "\n",
    "shape = df_clean.shape\n",
    "print(\"Shape After Droping columns with more than 30% Null\")\n",
    "print(f\"rows: {shape[0]}\\tcolumns:{shape[1]}\")"
   ]
  },
  {
   "cell_type": "code",
   "execution_count": 13,
   "id": "209ff184",
   "metadata": {},
   "outputs": [
    {
     "data": {
      "text/plain": [
       "Index(['Bearer Id', 'Start', 'Start ms', 'End', 'End ms', 'Dur. (ms)', 'IMSI',\n",
       "       'MSISDN/Number', 'IMEI', 'Last Location Name', 'Avg RTT DL (ms)',\n",
       "       'Avg RTT UL (ms)', 'Avg Bearer TP DL (kbps)', 'Avg Bearer TP UL (kbps)',\n",
       "       'DL TP < 50 Kbps (%)', '50 Kbps < DL TP < 250 Kbps (%)',\n",
       "       '250 Kbps < DL TP < 1 Mbps (%)', 'DL TP > 1 Mbps (%)',\n",
       "       'UL TP < 10 Kbps (%)', '10 Kbps < UL TP < 50 Kbps (%)',\n",
       "       '50 Kbps < UL TP < 300 Kbps (%)', 'UL TP > 300 Kbps (%)',\n",
       "       'Activity Duration DL (ms)', 'Activity Duration UL (ms)',\n",
       "       'Handset Manufacturer', 'Handset Type', 'Nb of sec with Vol DL < 6250B',\n",
       "       'Nb of sec with Vol UL < 1250B', 'Social Media DL (Bytes)',\n",
       "       'Social Media UL (Bytes)', 'Google DL (Bytes)', 'Google UL (Bytes)',\n",
       "       'Email DL (Bytes)', 'Email UL (Bytes)', 'Youtube DL (Bytes)',\n",
       "       'Youtube UL (Bytes)', 'Netflix DL (Bytes)', 'Netflix UL (Bytes)',\n",
       "       'Gaming DL (Bytes)', 'Gaming UL (Bytes)', 'Other DL (Bytes)',\n",
       "       'Other UL (Bytes)', 'Total UL (Bytes)', 'Total DL (Bytes)'],\n",
       "      dtype='object')"
      ]
     },
     "execution_count": 13,
     "metadata": {},
     "output_type": "execute_result"
    }
   ],
   "source": [
    "df_clean.columns"
   ]
  },
  {
   "cell_type": "code",
   "execution_count": 14,
   "id": "d8bb9729",
   "metadata": {},
   "outputs": [
    {
     "data": {
      "text/html": [
       "<div>\n",
       "<style scoped>\n",
       "    .dataframe tbody tr th:only-of-type {\n",
       "        vertical-align: middle;\n",
       "    }\n",
       "\n",
       "    .dataframe tbody tr th {\n",
       "        vertical-align: top;\n",
       "    }\n",
       "\n",
       "    .dataframe thead th {\n",
       "        text-align: right;\n",
       "    }\n",
       "</style>\n",
       "<table border=\"1\" class=\"dataframe\">\n",
       "  <thead>\n",
       "    <tr style=\"text-align: right;\">\n",
       "      <th></th>\n",
       "      <th>Bearer Id</th>\n",
       "      <th>Start ms</th>\n",
       "      <th>End ms</th>\n",
       "      <th>Dur. (ms)</th>\n",
       "      <th>IMSI</th>\n",
       "      <th>MSISDN/Number</th>\n",
       "      <th>IMEI</th>\n",
       "      <th>Avg RTT DL (ms)</th>\n",
       "      <th>Avg RTT UL (ms)</th>\n",
       "      <th>Avg Bearer TP DL (kbps)</th>\n",
       "      <th>Avg Bearer TP UL (kbps)</th>\n",
       "      <th>DL TP &lt; 50 Kbps (%)</th>\n",
       "      <th>50 Kbps &lt; DL TP &lt; 250 Kbps (%)</th>\n",
       "      <th>250 Kbps &lt; DL TP &lt; 1 Mbps (%)</th>\n",
       "      <th>DL TP &gt; 1 Mbps (%)</th>\n",
       "      <th>UL TP &lt; 10 Kbps (%)</th>\n",
       "      <th>10 Kbps &lt; UL TP &lt; 50 Kbps (%)</th>\n",
       "      <th>50 Kbps &lt; UL TP &lt; 300 Kbps (%)</th>\n",
       "      <th>UL TP &gt; 300 Kbps (%)</th>\n",
       "      <th>Activity Duration DL (ms)</th>\n",
       "      <th>Activity Duration UL (ms)</th>\n",
       "      <th>Nb of sec with Vol DL &lt; 6250B</th>\n",
       "      <th>Nb of sec with Vol UL &lt; 1250B</th>\n",
       "      <th>Social Media DL (Bytes)</th>\n",
       "      <th>Social Media UL (Bytes)</th>\n",
       "      <th>Google DL (Bytes)</th>\n",
       "      <th>Google UL (Bytes)</th>\n",
       "      <th>Email DL (Bytes)</th>\n",
       "      <th>Email UL (Bytes)</th>\n",
       "      <th>Youtube DL (Bytes)</th>\n",
       "      <th>Youtube UL (Bytes)</th>\n",
       "      <th>Netflix DL (Bytes)</th>\n",
       "      <th>Netflix UL (Bytes)</th>\n",
       "      <th>Gaming DL (Bytes)</th>\n",
       "      <th>Gaming UL (Bytes)</th>\n",
       "      <th>Other DL (Bytes)</th>\n",
       "      <th>Other UL (Bytes)</th>\n",
       "      <th>Total UL (Bytes)</th>\n",
       "      <th>Total DL (Bytes)</th>\n",
       "    </tr>\n",
       "  </thead>\n",
       "  <tbody>\n",
       "    <tr>\n",
       "      <th>count</th>\n",
       "      <td>1.485060e+05</td>\n",
       "      <td>148506.000000</td>\n",
       "      <td>148506.000000</td>\n",
       "      <td>1.485060e+05</td>\n",
       "      <td>1.485060e+05</td>\n",
       "      <td>1.485060e+05</td>\n",
       "      <td>1.485060e+05</td>\n",
       "      <td>120870.000000</td>\n",
       "      <td>120890.000000</td>\n",
       "      <td>148506.000000</td>\n",
       "      <td>148506.000000</td>\n",
       "      <td>147794.000000</td>\n",
       "      <td>147794.000000</td>\n",
       "      <td>147794.000000</td>\n",
       "      <td>147794.000000</td>\n",
       "      <td>147739.000000</td>\n",
       "      <td>147739.000000</td>\n",
       "      <td>147739.000000</td>\n",
       "      <td>147739.000000</td>\n",
       "      <td>1.485060e+05</td>\n",
       "      <td>1.485060e+05</td>\n",
       "      <td>147793.000000</td>\n",
       "      <td>147738.000000</td>\n",
       "      <td>1.485060e+05</td>\n",
       "      <td>148506.000000</td>\n",
       "      <td>1.485060e+05</td>\n",
       "      <td>1.485060e+05</td>\n",
       "      <td>1.485060e+05</td>\n",
       "      <td>148506.000000</td>\n",
       "      <td>1.485060e+05</td>\n",
       "      <td>1.485060e+05</td>\n",
       "      <td>1.485060e+05</td>\n",
       "      <td>1.485060e+05</td>\n",
       "      <td>1.485060e+05</td>\n",
       "      <td>1.485060e+05</td>\n",
       "      <td>1.485060e+05</td>\n",
       "      <td>1.485060e+05</td>\n",
       "      <td>1.485060e+05</td>\n",
       "      <td>1.485060e+05</td>\n",
       "    </tr>\n",
       "    <tr>\n",
       "      <th>mean</th>\n",
       "      <td>1.014676e+19</td>\n",
       "      <td>499.205143</td>\n",
       "      <td>498.640196</td>\n",
       "      <td>1.050841e+05</td>\n",
       "      <td>2.082016e+14</td>\n",
       "      <td>4.190654e+10</td>\n",
       "      <td>4.850068e+13</td>\n",
       "      <td>106.199942</td>\n",
       "      <td>17.628232</td>\n",
       "      <td>13287.521413</td>\n",
       "      <td>1770.598488</td>\n",
       "      <td>92.869974</td>\n",
       "      <td>3.051680</td>\n",
       "      <td>1.713757</td>\n",
       "      <td>1.610370</td>\n",
       "      <td>98.533197</td>\n",
       "      <td>0.775300</td>\n",
       "      <td>0.148275</td>\n",
       "      <td>0.079221</td>\n",
       "      <td>1.837842e+06</td>\n",
       "      <td>1.414773e+06</td>\n",
       "      <td>3733.072662</td>\n",
       "      <td>4034.702825</td>\n",
       "      <td>1.795144e+06</td>\n",
       "      <td>32922.085512</td>\n",
       "      <td>5.751770e+06</td>\n",
       "      <td>2.056293e+06</td>\n",
       "      <td>1.791785e+06</td>\n",
       "      <td>467403.486896</td>\n",
       "      <td>1.163387e+07</td>\n",
       "      <td>1.100857e+07</td>\n",
       "      <td>1.162724e+07</td>\n",
       "      <td>1.100190e+07</td>\n",
       "      <td>4.220642e+08</td>\n",
       "      <td>8.289600e+06</td>\n",
       "      <td>4.211525e+08</td>\n",
       "      <td>8.262685e+06</td>\n",
       "      <td>4.111937e+07</td>\n",
       "      <td>4.546640e+08</td>\n",
       "    </tr>\n",
       "    <tr>\n",
       "      <th>std</th>\n",
       "      <td>2.893262e+18</td>\n",
       "      <td>288.563193</td>\n",
       "      <td>288.070129</td>\n",
       "      <td>8.107274e+04</td>\n",
       "      <td>1.524347e+10</td>\n",
       "      <td>2.450976e+12</td>\n",
       "      <td>2.243217e+13</td>\n",
       "      <td>587.069542</td>\n",
       "      <td>84.754524</td>\n",
       "      <td>23993.477306</td>\n",
       "      <td>4630.305972</td>\n",
       "      <td>13.033642</td>\n",
       "      <td>6.203029</td>\n",
       "      <td>4.160142</td>\n",
       "      <td>4.826791</td>\n",
       "      <td>4.641162</td>\n",
       "      <td>3.225483</td>\n",
       "      <td>1.629694</td>\n",
       "      <td>1.300348</td>\n",
       "      <td>5.717904e+06</td>\n",
       "      <td>4.661844e+06</td>\n",
       "      <td>9202.519817</td>\n",
       "      <td>10193.069337</td>\n",
       "      <td>1.035470e+06</td>\n",
       "      <td>19008.988276</td>\n",
       "      <td>3.308755e+06</td>\n",
       "      <td>1.189939e+06</td>\n",
       "      <td>1.035956e+06</td>\n",
       "      <td>269981.911953</td>\n",
       "      <td>6.711236e+06</td>\n",
       "      <td>6.345625e+06</td>\n",
       "      <td>6.724994e+06</td>\n",
       "      <td>6.357930e+06</td>\n",
       "      <td>2.440043e+08</td>\n",
       "      <td>4.781967e+06</td>\n",
       "      <td>2.431639e+08</td>\n",
       "      <td>4.768806e+06</td>\n",
       "      <td>1.127844e+07</td>\n",
       "      <td>2.441791e+08</td>\n",
       "    </tr>\n",
       "    <tr>\n",
       "      <th>min</th>\n",
       "      <td>6.917538e+18</td>\n",
       "      <td>0.000000</td>\n",
       "      <td>0.000000</td>\n",
       "      <td>7.142000e+03</td>\n",
       "      <td>2.040471e+14</td>\n",
       "      <td>3.360100e+10</td>\n",
       "      <td>4.400152e+11</td>\n",
       "      <td>0.000000</td>\n",
       "      <td>0.000000</td>\n",
       "      <td>0.000000</td>\n",
       "      <td>0.000000</td>\n",
       "      <td>0.000000</td>\n",
       "      <td>0.000000</td>\n",
       "      <td>0.000000</td>\n",
       "      <td>0.000000</td>\n",
       "      <td>0.000000</td>\n",
       "      <td>0.000000</td>\n",
       "      <td>0.000000</td>\n",
       "      <td>0.000000</td>\n",
       "      <td>0.000000e+00</td>\n",
       "      <td>0.000000e+00</td>\n",
       "      <td>1.000000</td>\n",
       "      <td>1.000000</td>\n",
       "      <td>1.200000e+01</td>\n",
       "      <td>0.000000</td>\n",
       "      <td>2.070000e+02</td>\n",
       "      <td>3.000000e+00</td>\n",
       "      <td>1.400000e+01</td>\n",
       "      <td>2.000000</td>\n",
       "      <td>5.300000e+01</td>\n",
       "      <td>1.050000e+02</td>\n",
       "      <td>4.200000e+01</td>\n",
       "      <td>3.500000e+01</td>\n",
       "      <td>2.516000e+03</td>\n",
       "      <td>5.900000e+01</td>\n",
       "      <td>3.290000e+03</td>\n",
       "      <td>1.480000e+02</td>\n",
       "      <td>2.866892e+06</td>\n",
       "      <td>7.114041e+06</td>\n",
       "    </tr>\n",
       "    <tr>\n",
       "      <th>25%</th>\n",
       "      <td>7.349883e+18</td>\n",
       "      <td>250.000000</td>\n",
       "      <td>251.000000</td>\n",
       "      <td>5.824875e+04</td>\n",
       "      <td>2.082014e+14</td>\n",
       "      <td>3.365131e+10</td>\n",
       "      <td>3.546071e+13</td>\n",
       "      <td>32.000000</td>\n",
       "      <td>2.000000</td>\n",
       "      <td>43.000000</td>\n",
       "      <td>47.000000</td>\n",
       "      <td>91.000000</td>\n",
       "      <td>0.000000</td>\n",
       "      <td>0.000000</td>\n",
       "      <td>0.000000</td>\n",
       "      <td>99.000000</td>\n",
       "      <td>0.000000</td>\n",
       "      <td>0.000000</td>\n",
       "      <td>0.000000</td>\n",
       "      <td>1.484800e+04</td>\n",
       "      <td>2.149900e+04</td>\n",
       "      <td>87.000000</td>\n",
       "      <td>106.000000</td>\n",
       "      <td>8.990445e+05</td>\n",
       "      <td>16431.000000</td>\n",
       "      <td>2.883393e+06</td>\n",
       "      <td>1.023967e+06</td>\n",
       "      <td>8.926208e+05</td>\n",
       "      <td>233445.000000</td>\n",
       "      <td>5.833290e+06</td>\n",
       "      <td>5.515832e+06</td>\n",
       "      <td>5.778898e+06</td>\n",
       "      <td>5.476774e+06</td>\n",
       "      <td>2.104765e+08</td>\n",
       "      <td>4.130680e+06</td>\n",
       "      <td>2.103042e+08</td>\n",
       "      <td>4.144179e+06</td>\n",
       "      <td>3.321828e+07</td>\n",
       "      <td>2.431263e+08</td>\n",
       "    </tr>\n",
       "    <tr>\n",
       "      <th>50%</th>\n",
       "      <td>7.349883e+18</td>\n",
       "      <td>499.000000</td>\n",
       "      <td>500.000000</td>\n",
       "      <td>8.639900e+04</td>\n",
       "      <td>2.082015e+14</td>\n",
       "      <td>3.366371e+10</td>\n",
       "      <td>3.572231e+13</td>\n",
       "      <td>45.000000</td>\n",
       "      <td>5.000000</td>\n",
       "      <td>63.000000</td>\n",
       "      <td>62.000000</td>\n",
       "      <td>100.000000</td>\n",
       "      <td>0.000000</td>\n",
       "      <td>0.000000</td>\n",
       "      <td>0.000000</td>\n",
       "      <td>100.000000</td>\n",
       "      <td>0.000000</td>\n",
       "      <td>0.000000</td>\n",
       "      <td>0.000000</td>\n",
       "      <td>3.901850e+04</td>\n",
       "      <td>4.648100e+04</td>\n",
       "      <td>201.000000</td>\n",
       "      <td>216.000000</td>\n",
       "      <td>1.793860e+06</td>\n",
       "      <td>32917.000000</td>\n",
       "      <td>5.767399e+06</td>\n",
       "      <td>2.054222e+06</td>\n",
       "      <td>1.793642e+06</td>\n",
       "      <td>466419.000000</td>\n",
       "      <td>1.161596e+07</td>\n",
       "      <td>1.101232e+07</td>\n",
       "      <td>1.164238e+07</td>\n",
       "      <td>1.099937e+07</td>\n",
       "      <td>4.234669e+08</td>\n",
       "      <td>8.291650e+06</td>\n",
       "      <td>4.218618e+08</td>\n",
       "      <td>8.266016e+06</td>\n",
       "      <td>4.114196e+07</td>\n",
       "      <td>4.559408e+08</td>\n",
       "    </tr>\n",
       "    <tr>\n",
       "      <th>75%</th>\n",
       "      <td>1.304243e+19</td>\n",
       "      <td>749.000000</td>\n",
       "      <td>749.000000</td>\n",
       "      <td>1.329328e+05</td>\n",
       "      <td>2.082018e+14</td>\n",
       "      <td>3.368352e+10</td>\n",
       "      <td>8.611970e+13</td>\n",
       "      <td>69.000000</td>\n",
       "      <td>15.000000</td>\n",
       "      <td>19699.500000</td>\n",
       "      <td>1116.000000</td>\n",
       "      <td>100.000000</td>\n",
       "      <td>4.000000</td>\n",
       "      <td>1.000000</td>\n",
       "      <td>0.000000</td>\n",
       "      <td>100.000000</td>\n",
       "      <td>0.000000</td>\n",
       "      <td>0.000000</td>\n",
       "      <td>0.000000</td>\n",
       "      <td>6.763042e+05</td>\n",
       "      <td>5.947800e+05</td>\n",
       "      <td>2651.000000</td>\n",
       "      <td>2438.000000</td>\n",
       "      <td>2.694777e+06</td>\n",
       "      <td>49330.000000</td>\n",
       "      <td>8.624195e+06</td>\n",
       "      <td>3.088294e+06</td>\n",
       "      <td>2.689880e+06</td>\n",
       "      <td>700481.750000</td>\n",
       "      <td>1.744639e+07</td>\n",
       "      <td>1.651456e+07</td>\n",
       "      <td>1.747092e+07</td>\n",
       "      <td>1.650285e+07</td>\n",
       "      <td>6.332750e+08</td>\n",
       "      <td>1.243226e+07</td>\n",
       "      <td>6.316338e+08</td>\n",
       "      <td>1.238049e+07</td>\n",
       "      <td>4.903252e+07</td>\n",
       "      <td>6.657542e+08</td>\n",
       "    </tr>\n",
       "    <tr>\n",
       "      <th>max</th>\n",
       "      <td>1.318654e+19</td>\n",
       "      <td>999.000000</td>\n",
       "      <td>999.000000</td>\n",
       "      <td>1.859336e+06</td>\n",
       "      <td>2.082522e+14</td>\n",
       "      <td>8.823971e+14</td>\n",
       "      <td>9.900120e+13</td>\n",
       "      <td>96923.000000</td>\n",
       "      <td>7120.000000</td>\n",
       "      <td>378160.000000</td>\n",
       "      <td>58613.000000</td>\n",
       "      <td>100.000000</td>\n",
       "      <td>93.000000</td>\n",
       "      <td>100.000000</td>\n",
       "      <td>94.000000</td>\n",
       "      <td>100.000000</td>\n",
       "      <td>98.000000</td>\n",
       "      <td>100.000000</td>\n",
       "      <td>96.000000</td>\n",
       "      <td>1.365365e+08</td>\n",
       "      <td>1.449113e+08</td>\n",
       "      <td>604061.000000</td>\n",
       "      <td>604122.000000</td>\n",
       "      <td>3.586064e+06</td>\n",
       "      <td>65870.000000</td>\n",
       "      <td>1.146283e+07</td>\n",
       "      <td>4.121357e+06</td>\n",
       "      <td>3.586146e+06</td>\n",
       "      <td>936418.000000</td>\n",
       "      <td>2.325910e+07</td>\n",
       "      <td>2.201196e+07</td>\n",
       "      <td>2.325919e+07</td>\n",
       "      <td>2.201196e+07</td>\n",
       "      <td>8.434419e+08</td>\n",
       "      <td>1.655879e+07</td>\n",
       "      <td>8.434425e+08</td>\n",
       "      <td>1.655882e+07</td>\n",
       "      <td>7.833131e+07</td>\n",
       "      <td>9.029696e+08</td>\n",
       "    </tr>\n",
       "  </tbody>\n",
       "</table>\n",
       "</div>"
      ],
      "text/plain": [
       "          Bearer Id       Start ms         End ms     Dur. (ms)          IMSI  \\\n",
       "count  1.485060e+05  148506.000000  148506.000000  1.485060e+05  1.485060e+05   \n",
       "mean   1.014676e+19     499.205143     498.640196  1.050841e+05  2.082016e+14   \n",
       "std    2.893262e+18     288.563193     288.070129  8.107274e+04  1.524347e+10   \n",
       "min    6.917538e+18       0.000000       0.000000  7.142000e+03  2.040471e+14   \n",
       "25%    7.349883e+18     250.000000     251.000000  5.824875e+04  2.082014e+14   \n",
       "50%    7.349883e+18     499.000000     500.000000  8.639900e+04  2.082015e+14   \n",
       "75%    1.304243e+19     749.000000     749.000000  1.329328e+05  2.082018e+14   \n",
       "max    1.318654e+19     999.000000     999.000000  1.859336e+06  2.082522e+14   \n",
       "\n",
       "       MSISDN/Number          IMEI  Avg RTT DL (ms)  Avg RTT UL (ms)  \\\n",
       "count   1.485060e+05  1.485060e+05    120870.000000    120890.000000   \n",
       "mean    4.190654e+10  4.850068e+13       106.199942        17.628232   \n",
       "std     2.450976e+12  2.243217e+13       587.069542        84.754524   \n",
       "min     3.360100e+10  4.400152e+11         0.000000         0.000000   \n",
       "25%     3.365131e+10  3.546071e+13        32.000000         2.000000   \n",
       "50%     3.366371e+10  3.572231e+13        45.000000         5.000000   \n",
       "75%     3.368352e+10  8.611970e+13        69.000000        15.000000   \n",
       "max     8.823971e+14  9.900120e+13     96923.000000      7120.000000   \n",
       "\n",
       "       Avg Bearer TP DL (kbps)  Avg Bearer TP UL (kbps)  DL TP < 50 Kbps (%)  \\\n",
       "count            148506.000000            148506.000000        147794.000000   \n",
       "mean              13287.521413              1770.598488            92.869974   \n",
       "std               23993.477306              4630.305972            13.033642   \n",
       "min                   0.000000                 0.000000             0.000000   \n",
       "25%                  43.000000                47.000000            91.000000   \n",
       "50%                  63.000000                62.000000           100.000000   \n",
       "75%               19699.500000              1116.000000           100.000000   \n",
       "max              378160.000000             58613.000000           100.000000   \n",
       "\n",
       "       50 Kbps < DL TP < 250 Kbps (%)  250 Kbps < DL TP < 1 Mbps (%)  \\\n",
       "count                   147794.000000                  147794.000000   \n",
       "mean                         3.051680                       1.713757   \n",
       "std                          6.203029                       4.160142   \n",
       "min                          0.000000                       0.000000   \n",
       "25%                          0.000000                       0.000000   \n",
       "50%                          0.000000                       0.000000   \n",
       "75%                          4.000000                       1.000000   \n",
       "max                         93.000000                     100.000000   \n",
       "\n",
       "       DL TP > 1 Mbps (%)  UL TP < 10 Kbps (%)  10 Kbps < UL TP < 50 Kbps (%)  \\\n",
       "count       147794.000000        147739.000000                  147739.000000   \n",
       "mean             1.610370            98.533197                       0.775300   \n",
       "std              4.826791             4.641162                       3.225483   \n",
       "min              0.000000             0.000000                       0.000000   \n",
       "25%              0.000000            99.000000                       0.000000   \n",
       "50%              0.000000           100.000000                       0.000000   \n",
       "75%              0.000000           100.000000                       0.000000   \n",
       "max             94.000000           100.000000                      98.000000   \n",
       "\n",
       "       50 Kbps < UL TP < 300 Kbps (%)  UL TP > 300 Kbps (%)  \\\n",
       "count                   147739.000000         147739.000000   \n",
       "mean                         0.148275              0.079221   \n",
       "std                          1.629694              1.300348   \n",
       "min                          0.000000              0.000000   \n",
       "25%                          0.000000              0.000000   \n",
       "50%                          0.000000              0.000000   \n",
       "75%                          0.000000              0.000000   \n",
       "max                        100.000000             96.000000   \n",
       "\n",
       "       Activity Duration DL (ms)  Activity Duration UL (ms)  \\\n",
       "count               1.485060e+05               1.485060e+05   \n",
       "mean                1.837842e+06               1.414773e+06   \n",
       "std                 5.717904e+06               4.661844e+06   \n",
       "min                 0.000000e+00               0.000000e+00   \n",
       "25%                 1.484800e+04               2.149900e+04   \n",
       "50%                 3.901850e+04               4.648100e+04   \n",
       "75%                 6.763042e+05               5.947800e+05   \n",
       "max                 1.365365e+08               1.449113e+08   \n",
       "\n",
       "       Nb of sec with Vol DL < 6250B  Nb of sec with Vol UL < 1250B  \\\n",
       "count                  147793.000000                  147738.000000   \n",
       "mean                     3733.072662                    4034.702825   \n",
       "std                      9202.519817                   10193.069337   \n",
       "min                         1.000000                       1.000000   \n",
       "25%                        87.000000                     106.000000   \n",
       "50%                       201.000000                     216.000000   \n",
       "75%                      2651.000000                    2438.000000   \n",
       "max                    604061.000000                  604122.000000   \n",
       "\n",
       "       Social Media DL (Bytes)  Social Media UL (Bytes)  Google DL (Bytes)  \\\n",
       "count             1.485060e+05            148506.000000       1.485060e+05   \n",
       "mean              1.795144e+06             32922.085512       5.751770e+06   \n",
       "std               1.035470e+06             19008.988276       3.308755e+06   \n",
       "min               1.200000e+01                 0.000000       2.070000e+02   \n",
       "25%               8.990445e+05             16431.000000       2.883393e+06   \n",
       "50%               1.793860e+06             32917.000000       5.767399e+06   \n",
       "75%               2.694777e+06             49330.000000       8.624195e+06   \n",
       "max               3.586064e+06             65870.000000       1.146283e+07   \n",
       "\n",
       "       Google UL (Bytes)  Email DL (Bytes)  Email UL (Bytes)  \\\n",
       "count       1.485060e+05      1.485060e+05     148506.000000   \n",
       "mean        2.056293e+06      1.791785e+06     467403.486896   \n",
       "std         1.189939e+06      1.035956e+06     269981.911953   \n",
       "min         3.000000e+00      1.400000e+01          2.000000   \n",
       "25%         1.023967e+06      8.926208e+05     233445.000000   \n",
       "50%         2.054222e+06      1.793642e+06     466419.000000   \n",
       "75%         3.088294e+06      2.689880e+06     700481.750000   \n",
       "max         4.121357e+06      3.586146e+06     936418.000000   \n",
       "\n",
       "       Youtube DL (Bytes)  Youtube UL (Bytes)  Netflix DL (Bytes)  \\\n",
       "count        1.485060e+05        1.485060e+05        1.485060e+05   \n",
       "mean         1.163387e+07        1.100857e+07        1.162724e+07   \n",
       "std          6.711236e+06        6.345625e+06        6.724994e+06   \n",
       "min          5.300000e+01        1.050000e+02        4.200000e+01   \n",
       "25%          5.833290e+06        5.515832e+06        5.778898e+06   \n",
       "50%          1.161596e+07        1.101232e+07        1.164238e+07   \n",
       "75%          1.744639e+07        1.651456e+07        1.747092e+07   \n",
       "max          2.325910e+07        2.201196e+07        2.325919e+07   \n",
       "\n",
       "       Netflix UL (Bytes)  Gaming DL (Bytes)  Gaming UL (Bytes)  \\\n",
       "count        1.485060e+05       1.485060e+05       1.485060e+05   \n",
       "mean         1.100190e+07       4.220642e+08       8.289600e+06   \n",
       "std          6.357930e+06       2.440043e+08       4.781967e+06   \n",
       "min          3.500000e+01       2.516000e+03       5.900000e+01   \n",
       "25%          5.476774e+06       2.104765e+08       4.130680e+06   \n",
       "50%          1.099937e+07       4.234669e+08       8.291650e+06   \n",
       "75%          1.650285e+07       6.332750e+08       1.243226e+07   \n",
       "max          2.201196e+07       8.434419e+08       1.655879e+07   \n",
       "\n",
       "       Other DL (Bytes)  Other UL (Bytes)  Total UL (Bytes)  Total DL (Bytes)  \n",
       "count      1.485060e+05      1.485060e+05      1.485060e+05      1.485060e+05  \n",
       "mean       4.211525e+08      8.262685e+06      4.111937e+07      4.546640e+08  \n",
       "std        2.431639e+08      4.768806e+06      1.127844e+07      2.441791e+08  \n",
       "min        3.290000e+03      1.480000e+02      2.866892e+06      7.114041e+06  \n",
       "25%        2.103042e+08      4.144179e+06      3.321828e+07      2.431263e+08  \n",
       "50%        4.218618e+08      8.266016e+06      4.114196e+07      4.559408e+08  \n",
       "75%        6.316338e+08      1.238049e+07      4.903252e+07      6.657542e+08  \n",
       "max        8.434425e+08      1.655882e+07      7.833131e+07      9.029696e+08  "
      ]
     },
     "execution_count": 14,
     "metadata": {},
     "output_type": "execute_result"
    }
   ],
   "source": [
    "df_clean.describe()"
   ]
  },
  {
   "cell_type": "markdown",
   "id": "a0ff322a",
   "metadata": {},
   "source": [
    "#### Fill Columns of Object with Mode"
   ]
  },
  {
   "cell_type": "code",
   "execution_count": 15,
   "id": "32a61b2a",
   "metadata": {},
   "outputs": [],
   "source": [
    "columns_object_type = ['Start', 'End', 'Last Location Name', 'Handset Manufacturer', 'Handset Type']\n",
    "\n",
    "for column in columns_object_type:\n",
    "    mode = df_clean[column].mode()[0]\n",
    "    df_clean[column] = df_clean[column].fillna(mode)"
   ]
  },
  {
   "cell_type": "markdown",
   "id": "4315c23b",
   "metadata": {},
   "source": [
    "#### Fill Positive and Negative Skew columns with Median"
   ]
  },
  {
   "cell_type": "markdown",
   "id": "505496ff",
   "metadata": {},
   "source": [
    "#### Fill Columns with skew of ( 0 ) with Mean or Median"
   ]
  },
  {
   "cell_type": "code",
   "execution_count": 16,
   "id": "679bb646",
   "metadata": {},
   "outputs": [
    {
     "name": "stdout",
     "output_type": "stream",
     "text": [
      "<class 'pandas.core.frame.DataFrame'>\n",
      "Int64Index: 148506 entries, 0 to 149999\n",
      "Data columns (total 44 columns):\n",
      " #   Column                          Non-Null Count   Dtype  \n",
      "---  ------                          --------------   -----  \n",
      " 0   Bearer Id                       148506 non-null  float64\n",
      " 1   Start                           148506 non-null  object \n",
      " 2   Start ms                        148506 non-null  float64\n",
      " 3   End                             148506 non-null  object \n",
      " 4   End ms                          148506 non-null  float64\n",
      " 5   Dur. (ms)                       148506 non-null  float64\n",
      " 6   IMSI                            148506 non-null  float64\n",
      " 7   MSISDN/Number                   148506 non-null  float64\n",
      " 8   IMEI                            148506 non-null  float64\n",
      " 9   Last Location Name              148506 non-null  object \n",
      " 10  Avg RTT DL (ms)                 120870 non-null  float64\n",
      " 11  Avg RTT UL (ms)                 120890 non-null  float64\n",
      " 12  Avg Bearer TP DL (kbps)         148506 non-null  float64\n",
      " 13  Avg Bearer TP UL (kbps)         148506 non-null  float64\n",
      " 14  DL TP < 50 Kbps (%)             147794 non-null  float64\n",
      " 15  50 Kbps < DL TP < 250 Kbps (%)  147794 non-null  float64\n",
      " 16  250 Kbps < DL TP < 1 Mbps (%)   147794 non-null  float64\n",
      " 17  DL TP > 1 Mbps (%)              147794 non-null  float64\n",
      " 18  UL TP < 10 Kbps (%)             147739 non-null  float64\n",
      " 19  10 Kbps < UL TP < 50 Kbps (%)   147739 non-null  float64\n",
      " 20  50 Kbps < UL TP < 300 Kbps (%)  147739 non-null  float64\n",
      " 21  UL TP > 300 Kbps (%)            147739 non-null  float64\n",
      " 22  Activity Duration DL (ms)       148506 non-null  float64\n",
      " 23  Activity Duration UL (ms)       148506 non-null  float64\n",
      " 24  Handset Manufacturer            148506 non-null  object \n",
      " 25  Handset Type                    148506 non-null  object \n",
      " 26  Nb of sec with Vol DL < 6250B   147793 non-null  float64\n",
      " 27  Nb of sec with Vol UL < 1250B   147738 non-null  float64\n",
      " 28  Social Media DL (Bytes)         148506 non-null  float64\n",
      " 29  Social Media UL (Bytes)         148506 non-null  float64\n",
      " 30  Google DL (Bytes)               148506 non-null  float64\n",
      " 31  Google UL (Bytes)               148506 non-null  float64\n",
      " 32  Email DL (Bytes)                148506 non-null  float64\n",
      " 33  Email UL (Bytes)                148506 non-null  float64\n",
      " 34  Youtube DL (Bytes)              148506 non-null  float64\n",
      " 35  Youtube UL (Bytes)              148506 non-null  float64\n",
      " 36  Netflix DL (Bytes)              148506 non-null  float64\n",
      " 37  Netflix UL (Bytes)              148506 non-null  float64\n",
      " 38  Gaming DL (Bytes)               148506 non-null  float64\n",
      " 39  Gaming UL (Bytes)               148506 non-null  float64\n",
      " 40  Other DL (Bytes)                148506 non-null  float64\n",
      " 41  Other UL (Bytes)                148506 non-null  float64\n",
      " 42  Total UL (Bytes)                148506 non-null  float64\n",
      " 43  Total DL (Bytes)                148506 non-null  float64\n",
      "dtypes: float64(39), object(5)\n",
      "memory usage: 51.0+ MB\n"
     ]
    }
   ],
   "source": [
    "df_clean.info()"
   ]
  },
  {
   "cell_type": "code",
   "execution_count": 17,
   "id": "d1c25bbc",
   "metadata": {},
   "outputs": [],
   "source": [
    "## i could get away by filling them all with Median\n",
    "for column in df_clean.columns:\n",
    "    # if column have null value fill \n",
    "    if(df[column].isnull().sum() > 0):\n",
    "        mode = df_clean[column].mode()[0]\n",
    "        df_clean[column] = df_clean[column].fillna(mode)"
   ]
  },
  {
   "cell_type": "code",
   "execution_count": 18,
   "id": "c5e6442a",
   "metadata": {},
   "outputs": [
    {
     "data": {
      "text/plain": [
       "Bearer Id                         0\n",
       "Start                             0\n",
       "Start ms                          0\n",
       "End                               0\n",
       "End ms                            0\n",
       "Dur. (ms)                         0\n",
       "IMSI                              0\n",
       "MSISDN/Number                     0\n",
       "IMEI                              0\n",
       "Last Location Name                0\n",
       "Avg RTT DL (ms)                   0\n",
       "Avg RTT UL (ms)                   0\n",
       "Avg Bearer TP DL (kbps)           0\n",
       "Avg Bearer TP UL (kbps)           0\n",
       "DL TP < 50 Kbps (%)               0\n",
       "50 Kbps < DL TP < 250 Kbps (%)    0\n",
       "250 Kbps < DL TP < 1 Mbps (%)     0\n",
       "DL TP > 1 Mbps (%)                0\n",
       "UL TP < 10 Kbps (%)               0\n",
       "10 Kbps < UL TP < 50 Kbps (%)     0\n",
       "50 Kbps < UL TP < 300 Kbps (%)    0\n",
       "UL TP > 300 Kbps (%)              0\n",
       "Activity Duration DL (ms)         0\n",
       "Activity Duration UL (ms)         0\n",
       "Handset Manufacturer              0\n",
       "Handset Type                      0\n",
       "Nb of sec with Vol DL < 6250B     0\n",
       "Nb of sec with Vol UL < 1250B     0\n",
       "Social Media DL (Bytes)           0\n",
       "Social Media UL (Bytes)           0\n",
       "Google DL (Bytes)                 0\n",
       "Google UL (Bytes)                 0\n",
       "Email DL (Bytes)                  0\n",
       "Email UL (Bytes)                  0\n",
       "Youtube DL (Bytes)                0\n",
       "Youtube UL (Bytes)                0\n",
       "Netflix DL (Bytes)                0\n",
       "Netflix UL (Bytes)                0\n",
       "Gaming DL (Bytes)                 0\n",
       "Gaming UL (Bytes)                 0\n",
       "Other DL (Bytes)                  0\n",
       "Other UL (Bytes)                  0\n",
       "Total UL (Bytes)                  0\n",
       "Total DL (Bytes)                  0\n",
       "dtype: int64"
      ]
     },
     "execution_count": 18,
     "metadata": {},
     "output_type": "execute_result"
    }
   ],
   "source": [
    "df_clean.isnull().sum()"
   ]
  },
  {
   "cell_type": "code",
   "execution_count": 19,
   "id": "35b1b375",
   "metadata": {},
   "outputs": [
    {
     "name": "stdout",
     "output_type": "stream",
     "text": [
      "Data Fraame contain null values of 0.0%\n"
     ]
    }
   ],
   "source": [
    "null_percentage(df_clean)"
   ]
  },
  {
   "cell_type": "code",
   "execution_count": 20,
   "id": "771d8673",
   "metadata": {},
   "outputs": [],
   "source": [
    "### save the cleaned data\n",
    "# for_save_df = df_clean.set_index('Bearer Id')\n",
    "# for_save_df.to_csv('../data/clean_telco.csv')"
   ]
  },
  {
   "cell_type": "code",
   "execution_count": 21,
   "id": "86265ee5",
   "metadata": {},
   "outputs": [],
   "source": [
    "###################################PLOTTING FUNCTIONS###################################\n",
    "\n",
    "def plot_hist(df:pd.DataFrame, column:str, color:str)->None:\n",
    "    # plt.figure(figsize=(15, 10))\n",
    "    # fig, ax = plt.subplots(1, figsize=(12, 7))\n",
    "    sns.displot(data=df, x=column, color=color, kde=True, height=7, aspect=2)\n",
    "    plt.title(f'Distribution of {column}', size=20, fontweight='bold')\n",
    "    plt.show()\n",
    "\n",
    "def plot_count(df:pd.DataFrame, column:str) -> None:\n",
    "    plt.figure(figsize=(12, 7))\n",
    "    sns.countplot(data=df, x=column)\n",
    "    plt.title(f'Distribution of {column}', size=20, fontweight='bold')\n",
    "    plt.show()\n",
    "    \n",
    "def plot_bar(df:pd.DataFrame, x_col:str, y_col:str, title:str, xlabel:str, ylabel:str)->None:\n",
    "    plt.figure(figsize=(12, 7))\n",
    "    sns.barplot(data = df, x=x_col, y=y_col)\n",
    "    plt.title(title, size=20)\n",
    "    plt.xticks(rotation=75, fontsize=14)\n",
    "    plt.yticks( fontsize=14)\n",
    "    plt.xlabel(xlabel, fontsize=16)\n",
    "    plt.ylabel(ylabel, fontsize=16)\n",
    "    plt.show()\n",
    "\n",
    "def plot_heatmap(df:pd.DataFrame, title:str, cbar=False)->None:\n",
    "    plt.figure(figsize=(12, 7))\n",
    "    sns.heatmap(df, annot=True, cmap='viridis', vmin=0, vmax=1, fmt='.2f', linewidths=.7, cbar=cbar )\n",
    "    plt.title(title, size=18, fontweight='bold')\n",
    "    plt.show()\n",
    "\n",
    "def plot_box(df:pd.DataFrame, x_col:str, title:str) -> None:\n",
    "    plt.figure(figsize=(12, 7))\n",
    "    sns.boxplot(data = df, x=x_col)\n",
    "    plt.title(title, size=20)\n",
    "    plt.xticks(rotation=75, fontsize=14)\n",
    "    plt.show()\n",
    "\n",
    "def plot_box_multi(df:pd.DataFrame, x_col:str, y_col:str, title:str) -> None:\n",
    "    plt.figure(figsize=(12, 7))\n",
    "    sns.boxplot(data = df, x=x_col, y=y_col)\n",
    "    plt.title(title, size=20)\n",
    "    plt.xticks(rotation=75, fontsize=14)\n",
    "    plt.yticks( fontsize=14)\n",
    "    plt.show()\n",
    "\n",
    "def plot_scatter(df: pd.DataFrame, x_col: str, y_col: str, title: str, hue: str, style: str) -> None:\n",
    "    plt.figure(figsize=(12, 7))\n",
    "    sns.scatterplot(data = df, x=x_col, y=y_col, hue=hue)\n",
    "    plt.title(title, size=20)\n",
    "    plt.xticks(fontsize=14)\n",
    "    plt.yticks( fontsize=14)\n",
    "    plt.show()\n",
    "\n",
    "def format_float(value):\n",
    "    return f'{value:,.2f}'\n",
    "\n",
    "def fix_outlier(df, column):\n",
    "    df[column] = np.where(df[column] > df[column].quantile(0.95), df[column].median(),df[column])\n",
    "    \n",
    "    return df[column]\n",
    "\n",
    "\n",
    "pd.options.display.float_format = format_float\n"
   ]
  },
  {
   "cell_type": "markdown",
   "id": "9b0aa9f9",
   "metadata": {},
   "source": [
    "### Fix outliers of each columns"
   ]
  },
  {
   "cell_type": "code",
   "execution_count": 22,
   "id": "fa1754b8",
   "metadata": {},
   "outputs": [],
   "source": [
    "# columns_object_type = ['Start', 'End', 'Last Location Name', 'Handset Manufacturer', 'Handset Type']\n",
    "# for column in df_clean.columns:\n",
    "#     if(column not in columns_object_type):\n",
    "#         df_clean[column] = fix_outlier(df_clean, column)\n",
    "\n"
   ]
  },
  {
   "cell_type": "code",
   "execution_count": null,
   "id": "640822fe",
   "metadata": {},
   "outputs": [],
   "source": []
  },
  {
   "cell_type": "code",
   "execution_count": null,
   "id": "b1a84589",
   "metadata": {},
   "outputs": [],
   "source": []
  },
  {
   "cell_type": "markdown",
   "id": "889739f8",
   "metadata": {},
   "source": [
    "Sub-Task\n",
    "1. Start by identifying the top 10 handsets used by the customers.\n",
    "2. Then, identify the top 3 handset manufacturers\n",
    "3. Next, identify the top 5 handsets per top 3 handset manufacturer\n",
    "4. Make a short interpretation and recommendation to marketing teams\n"
   ]
  },
  {
   "cell_type": "code",
   "execution_count": 23,
   "id": "2b23216d",
   "metadata": {},
   "outputs": [
    {
     "data": {
      "text/html": [
       "<div>\n",
       "<style scoped>\n",
       "    .dataframe tbody tr th:only-of-type {\n",
       "        vertical-align: middle;\n",
       "    }\n",
       "\n",
       "    .dataframe tbody tr th {\n",
       "        vertical-align: top;\n",
       "    }\n",
       "\n",
       "    .dataframe thead th {\n",
       "        text-align: right;\n",
       "    }\n",
       "</style>\n",
       "<table border=\"1\" class=\"dataframe\">\n",
       "  <thead>\n",
       "    <tr style=\"text-align: right;\">\n",
       "      <th></th>\n",
       "      <th>Handset Type</th>\n",
       "      <th>MSISDN/Number</th>\n",
       "    </tr>\n",
       "  </thead>\n",
       "  <tbody>\n",
       "    <tr>\n",
       "      <th>315</th>\n",
       "      <td>Huawei B528S-23A</td>\n",
       "      <td>28631</td>\n",
       "    </tr>\n",
       "    <tr>\n",
       "      <th>53</th>\n",
       "      <td>Apple iPhone 6S (A1688)</td>\n",
       "      <td>9395</td>\n",
       "    </tr>\n",
       "    <tr>\n",
       "      <th>49</th>\n",
       "      <td>Apple iPhone 6 (A1586)</td>\n",
       "      <td>8993</td>\n",
       "    </tr>\n",
       "    <tr>\n",
       "      <th>59</th>\n",
       "      <td>Apple iPhone 7 (A1778)</td>\n",
       "      <td>6279</td>\n",
       "    </tr>\n",
       "    <tr>\n",
       "      <th>73</th>\n",
       "      <td>Apple iPhone Se (A1723)</td>\n",
       "      <td>5165</td>\n",
       "    </tr>\n",
       "    <tr>\n",
       "      <th>66</th>\n",
       "      <td>Apple iPhone 8 (A1905)</td>\n",
       "      <td>4977</td>\n",
       "    </tr>\n",
       "    <tr>\n",
       "      <th>78</th>\n",
       "      <td>Apple iPhone Xr (A2105)</td>\n",
       "      <td>4556</td>\n",
       "    </tr>\n",
       "    <tr>\n",
       "      <th>951</th>\n",
       "      <td>Samsung Galaxy S8 (Sm-G950F)</td>\n",
       "      <td>4464</td>\n",
       "    </tr>\n",
       "    <tr>\n",
       "      <th>75</th>\n",
       "      <td>Apple iPhone X (A1901)</td>\n",
       "      <td>3806</td>\n",
       "    </tr>\n",
       "    <tr>\n",
       "      <th>834</th>\n",
       "      <td>Samsung Galaxy A5 Sm-A520F</td>\n",
       "      <td>3700</td>\n",
       "    </tr>\n",
       "  </tbody>\n",
       "</table>\n",
       "</div>"
      ],
      "text/plain": [
       "                     Handset Type  MSISDN/Number\n",
       "315              Huawei B528S-23A          28631\n",
       "53        Apple iPhone 6S (A1688)           9395\n",
       "49         Apple iPhone 6 (A1586)           8993\n",
       "59         Apple iPhone 7 (A1778)           6279\n",
       "73        Apple iPhone Se (A1723)           5165\n",
       "66         Apple iPhone 8 (A1905)           4977\n",
       "78        Apple iPhone Xr (A2105)           4556\n",
       "951  Samsung Galaxy S8 (Sm-G950F)           4464\n",
       "75         Apple iPhone X (A1901)           3806\n",
       "834    Samsung Galaxy A5 Sm-A520F           3700"
      ]
     },
     "execution_count": 23,
     "metadata": {},
     "output_type": "execute_result"
    }
   ],
   "source": [
    "top_10_handset = df_clean.groupby(\"Handset Type\").agg({\"MSISDN/Number\":'count'}).reset_index()\n",
    "top_10_handset = top_10_handset.sort_values(by='MSISDN/Number', ascending=False).head(10)\n",
    "\n",
    "# plot_bar(top_10_handset, top_10_handset['Handset Type'], top_10_handset['MSISDN/Number'], \"count\", \"Phone type\", \"Count\")\n",
    "top_10_handset"
   ]
  },
  {
   "cell_type": "code",
   "execution_count": 24,
   "id": "f681d9d5",
   "metadata": {},
   "outputs": [
    {
     "data": {
      "text/plain": [
       "Handset Manufacturer\n",
       "Apple      49127\n",
       "Samsung    30647\n",
       "Huawei     21628\n",
       "Name: MSISDN/Number, dtype: int64"
      ]
     },
     "execution_count": 24,
     "metadata": {},
     "output_type": "execute_result"
    }
   ],
   "source": [
    "top_3_manufacturers = df_clean.groupby(\"Handset Manufacturer\")['MSISDN/Number'].nunique().nlargest(3)\n",
    "top_3_manufacturers"
   ]
  },
  {
   "cell_type": "code",
   "execution_count": 25,
   "id": "2805cad3",
   "metadata": {},
   "outputs": [
    {
     "name": "stdout",
     "output_type": "stream",
     "text": [
      "**** Apple ***\n",
      "Handset Type\n",
      "Apple iPhone 6S (A1688)    6744\n",
      "Huawei B528S-23A           6650\n",
      "Apple iPhone 6 (A1586)     6245\n",
      "Apple iPhone 7 (A1778)     4675\n",
      "Apple iPhone Se (A1723)    3744\n",
      "Name: MSISDN/Number, dtype: int64\n",
      "\n",
      "**** Samsung **\n",
      "Handset Type\n",
      "Samsung Galaxy S8 (Sm-G950F)    3232\n",
      "Samsung Galaxy J5 (Sm-J530)     2741\n",
      "Samsung Galaxy A5 Sm-A520F      2701\n",
      "Samsung Galaxy J3 (Sm-J330)     2582\n",
      "Samsung Galaxy S7 (Sm-G930X)    2288\n",
      "Name: MSISDN/Number, dtype: int64\n",
      "\n",
      "*** Huawei ***\n",
      "Handset Type\n",
      "Huawei B528S-23A                  10616\n",
      "Huawei P20 Lite Huawei Nova 3E     1526\n",
      "Huawei E5180                       1182\n",
      "Huawei P20                         1105\n",
      "Huawei Y6 2018                      757\n",
      "Name: MSISDN/Number, dtype: int64\n"
     ]
    }
   ],
   "source": [
    "manufacturers = df_clean.groupby(\"Handset Manufacturer\")\n",
    "\n",
    "apple_top_5 = manufacturers.get_group('Apple').groupby(\"Handset Type\")['MSISDN/Number'].nunique().nlargest(5)\n",
    "samsung_top_5 = manufacturers.get_group('Samsung').groupby(\"Handset Type\")['MSISDN/Number'].nunique().nlargest(5)\n",
    "huawei_top_5 = manufacturers.get_group('Huawei').groupby(\"Handset Type\")['MSISDN/Number'].nunique().nlargest(5)\n",
    "\n",
    "\n",
    "print(\"**** Apple ***\")\n",
    "print(apple_top_5)\n",
    "print()\n",
    "print(\"**** Samsung **\")\n",
    "print(samsung_top_5)\n",
    "print()\n",
    "print(\"*** Huawei ***\")\n",
    "print(huawei_top_5)"
   ]
  },
  {
   "cell_type": "markdown",
   "id": "c240c79c",
   "metadata": {},
   "source": [
    "## Begin Analysis "
   ]
  },
  {
   "cell_type": "markdown",
   "id": "3b5c8343",
   "metadata": {},
   "source": [
    "### Task 1.1"
   ]
  },
  {
   "cell_type": "markdown",
   "id": "1a1978b8",
   "metadata": {},
   "source": [
    "Aggregate per user the following information in the column  \n",
    "1. number of xDR sessions\n",
    "2. Session duration\n",
    "3. the total download (DL) and upload (UL) data\n",
    "4. the total data volume (in Bytes) during this session for each application\n"
   ]
  },
  {
   "cell_type": "code",
   "execution_count": 26,
   "id": "96a16c77",
   "metadata": {},
   "outputs": [
    {
     "data": {
      "text/html": [
       "<div>\n",
       "<style scoped>\n",
       "    .dataframe tbody tr th:only-of-type {\n",
       "        vertical-align: middle;\n",
       "    }\n",
       "\n",
       "    .dataframe tbody tr th {\n",
       "        vertical-align: top;\n",
       "    }\n",
       "\n",
       "    .dataframe thead th {\n",
       "        text-align: right;\n",
       "    }\n",
       "</style>\n",
       "<table border=\"1\" class=\"dataframe\">\n",
       "  <thead>\n",
       "    <tr style=\"text-align: right;\">\n",
       "      <th></th>\n",
       "      <th>Bearer Id</th>\n",
       "      <th>Dur. (ms)</th>\n",
       "      <th>Total UL (Bytes)</th>\n",
       "      <th>Total DL (Bytes)</th>\n",
       "    </tr>\n",
       "    <tr>\n",
       "      <th>MSISDN/Number</th>\n",
       "      <th></th>\n",
       "      <th></th>\n",
       "      <th></th>\n",
       "      <th></th>\n",
       "    </tr>\n",
       "  </thead>\n",
       "  <tbody>\n",
       "    <tr>\n",
       "      <th>33,601,001,722.00</th>\n",
       "      <td>1</td>\n",
       "      <td>116,720.00</td>\n",
       "      <td>36,053,108.00</td>\n",
       "      <td>842,637,466.00</td>\n",
       "    </tr>\n",
       "    <tr>\n",
       "      <th>33,601,001,754.00</th>\n",
       "      <td>1</td>\n",
       "      <td>181,230.00</td>\n",
       "      <td>36,104,459.00</td>\n",
       "      <td>120,755,184.00</td>\n",
       "    </tr>\n",
       "    <tr>\n",
       "      <th>33,601,002,511.00</th>\n",
       "      <td>1</td>\n",
       "      <td>134,969.00</td>\n",
       "      <td>39,306,820.00</td>\n",
       "      <td>556,659,663.00</td>\n",
       "    </tr>\n",
       "    <tr>\n",
       "      <th>33,601,007,832.00</th>\n",
       "      <td>1</td>\n",
       "      <td>49,878.00</td>\n",
       "      <td>20,327,526.00</td>\n",
       "      <td>401,993,172.00</td>\n",
       "    </tr>\n",
       "    <tr>\n",
       "      <th>33,601,008,617.00</th>\n",
       "      <td>2</td>\n",
       "      <td>37,104.00</td>\n",
       "      <td>94,280,527.00</td>\n",
       "      <td>1,363,130,417.00</td>\n",
       "    </tr>\n",
       "  </tbody>\n",
       "</table>\n",
       "</div>"
      ],
      "text/plain": [
       "                   Bearer Id  Dur. (ms)  Total UL (Bytes)  Total DL (Bytes)\n",
       "MSISDN/Number                                                              \n",
       "33,601,001,722.00          1 116,720.00     36,053,108.00    842,637,466.00\n",
       "33,601,001,754.00          1 181,230.00     36,104,459.00    120,755,184.00\n",
       "33,601,002,511.00          1 134,969.00     39,306,820.00    556,659,663.00\n",
       "33,601,007,832.00          1  49,878.00     20,327,526.00    401,993,172.00\n",
       "33,601,008,617.00          2  37,104.00     94,280,527.00  1,363,130,417.00"
      ]
     },
     "execution_count": 26,
     "metadata": {},
     "output_type": "execute_result"
    }
   ],
   "source": [
    "aggrigate = {\"Bearer Id\": 'count', 'Dur. (ms)':'sum', 'Total UL (Bytes)': 'sum', 'Total DL (Bytes)': 'sum'}\n",
    "aggrigation_result = df_clean.groupby('MSISDN/Number').agg(aggrigate)\n",
    "aggrigation_result.head()"
   ]
  },
  {
   "cell_type": "markdown",
   "id": "99809e84",
   "metadata": {},
   "source": [
    "#### User beheviour ON Applications"
   ]
  },
  {
   "cell_type": "code",
   "execution_count": 27,
   "id": "ab58277d",
   "metadata": {},
   "outputs": [
    {
     "name": "stdout",
     "output_type": "stream",
     "text": [
      "<class 'pandas.core.frame.DataFrame'>\n",
      "Float64Index: 106471 entries, 33601001722.0 to 882397108489451.0\n",
      "Data columns (total 8 columns):\n",
      " #   Column              Non-Null Count   Dtype  \n",
      "---  ------              --------------   -----  \n",
      " 0   Total Social Media  106471 non-null  float64\n",
      " 1   Total Google        106471 non-null  float64\n",
      " 2   Total Youtube       106471 non-null  float64\n",
      " 3   Total Netflix       106471 non-null  float64\n",
      " 4   Total Gaming        106471 non-null  float64\n",
      " 5   Total Other         106471 non-null  float64\n",
      " 6   Total Email         106471 non-null  float64\n",
      " 7   Total               106471 non-null  float64\n",
      "dtypes: float64(8)\n",
      "memory usage: 7.3 MB\n"
     ]
    }
   ],
   "source": [
    "# determind from this variables \n",
    "# Social Media, Google, Email, Youtube, Netflix, Gaming, Other . \n",
    "aggrigate = {\n",
    "    'Total Social Media':'sum',\n",
    "    'Total Google': 'sum', \n",
    "    'Total Youtube': 'sum', \n",
    "    'Total Netflix':'sum',\n",
    "    'Total Gaming':'sum',\n",
    "    'Total Other':'sum',\n",
    "    'Total Email': 'sum',\n",
    "    'Total':'sum'\n",
    "}\n",
    "user_app_usage = df_clean.copy()\n",
    "\n",
    "user_app_usage[\"Total Google\"]    = user_app_usage[\"Google DL (Bytes)\"] + user_app_usage[\"Google UL (Bytes)\"]\n",
    "user_app_usage[\"Total Youtube\"]   = user_app_usage[\"Youtube DL (Bytes)\"] + user_app_usage[\"Youtube UL (Bytes)\"]\n",
    "user_app_usage[\"Total Netflix\"]   = user_app_usage[\"Netflix DL (Bytes)\"] + user_app_usage[\"Netflix UL (Bytes)\"]\n",
    "user_app_usage[\"Total Email\"]     = user_app_usage[\"Email DL (Bytes)\"] + user_app_usage[\"Email UL (Bytes)\"]\n",
    "user_app_usage[\"Total Gaming\"]    = user_app_usage[\"Gaming DL (Bytes)\"] + user_app_usage[\"Gaming UL (Bytes)\"]\n",
    "user_app_usage[\"Total Social Media\"] = user_app_usage[\"Social Media DL (Bytes)\"] + user_app_usage[\"Social Media UL (Bytes)\"]\n",
    "user_app_usage[\"Total Other\"]     = user_app_usage[\"Other DL (Bytes)\"] + user_app_usage[\"Other UL (Bytes)\"]\n",
    "user_app_usage[\"Total Email\"]     = user_app_usage[\"Email UL (Bytes)\"] + user_app_usage[\"Email DL (Bytes)\"]\n",
    "user_app_usage['Total']           = user_app_usage['Total UL (Bytes)'] + user_app_usage['Total DL (Bytes)']\n",
    "\n",
    "# columns = ['Total Google', 'Total Youtube', 'Total Netflix', 'Total Email', 'Total Gaming', 'Total Social Media']\n",
    "# for column in columns:\n",
    "#     user_app_usage[column] = fix_outlier(user_app_usage, column)\n",
    "\n",
    "\n",
    "user_behaviour = user_app_usage.groupby('MSISDN/Number').agg(aggrigate)\n",
    "user_behaviour.info()\n"
   ]
  },
  {
   "cell_type": "code",
   "execution_count": 28,
   "id": "c2ff4e0b",
   "metadata": {},
   "outputs": [],
   "source": [
    "columns = ['Total Social Media','Total Google','Total Youtube','Total Netflix','Total Gaming', 'Total Other','Total Email','Total' ]\n",
    "user_behaviour = fix_outlier(user_behaviour, columns)\n"
   ]
  },
  {
   "cell_type": "markdown",
   "id": "40498bfa",
   "metadata": {},
   "source": [
    "## Graphical Analysis"
   ]
  },
  {
   "cell_type": "code",
   "execution_count": 29,
   "id": "fad0b8b6",
   "metadata": {},
   "outputs": [
    {
     "data": {
      "image/png": "[encoded data removed]",
      "text/plain": [
       "<Figure size 864x504 with 1 Axes>"
      ]
     },
     "metadata": {
      "needs_background": "light"
     },
     "output_type": "display_data"
    }
   ],
   "source": [
    "df_clean['Dur. (ms)'] = fix_outlier(df_clean, ['Dur. (ms)'])\n",
    "plot_box(df_clean, 'Dur. (ms)','green')"
   ]
  },
  {
   "cell_type": "code",
   "execution_count": null,
   "id": "239c3d5e",
   "metadata": {},
   "outputs": [],
   "source": []
  },
  {
   "cell_type": "code",
   "execution_count": null,
   "id": "ce48546c",
   "metadata": {},
   "outputs": [],
   "source": []
  },
  {
   "cell_type": "code",
   "execution_count": 30,
   "id": "ebbbeb8c",
   "metadata": {},
   "outputs": [
    {
     "data": {
      "image/png": "[encoded data removed]",
      "text/plain": [
       "<Figure size 1008x504 with 1 Axes>"
      ]
     },
     "metadata": {
      "needs_background": "light"
     },
     "output_type": "display_data"
    }
   ],
   "source": [
    "plot_hist(user_behaviour, 'Total','green')"
   ]
  },
  {
   "cell_type": "code",
   "execution_count": 31,
   "id": "64c1c8f6",
   "metadata": {},
   "outputs": [
    {
     "data": {
      "image/png": "[encoded data removed]",
      "text/plain": [
       "<Figure size 1008x504 with 1 Axes>"
      ]
     },
     "metadata": {
      "needs_background": "light"
     },
     "output_type": "display_data"
    }
   ],
   "source": [
    "plot_hist(user_behaviour, 'Total Social Media','blue')"
   ]
  },
  {
   "cell_type": "code",
   "execution_count": 32,
   "id": "67d57057",
   "metadata": {},
   "outputs": [
    {
     "data": {
      "image/png": "[encoded data removed]",
      "text/plain": [
       "<Figure size 1008x504 with 1 Axes>"
      ]
     },
     "metadata": {
      "needs_background": "light"
     },
     "output_type": "display_data"
    }
   ],
   "source": [
    "plot_hist(user_behaviour, 'Total Google','blue')"
   ]
  },
  {
   "cell_type": "code",
   "execution_count": 33,
   "id": "b7aecb61",
   "metadata": {},
   "outputs": [
    {
     "data": {
      "image/png": "[encoded data removed]",
      "text/plain": [
       "<Figure size 1008x504 with 1 Axes>"
      ]
     },
     "metadata": {
      "needs_background": "light"
     },
     "output_type": "display_data"
    }
   ],
   "source": [
    "plot_hist(user_behaviour, 'Total Youtube','green')"
   ]
  },
  {
   "cell_type": "code",
   "execution_count": 34,
   "id": "97ec947d",
   "metadata": {},
   "outputs": [
    {
     "data": {
      "image/png": "[encoded data removed]",
      "text/plain": [
       "<Figure size 1008x504 with 1 Axes>"
      ]
     },
     "metadata": {
      "needs_background": "light"
     },
     "output_type": "display_data"
    }
   ],
   "source": [
    "plot_hist(user_behaviour, 'Total Netflix','red')"
   ]
  },
  {
   "cell_type": "code",
   "execution_count": 35,
   "id": "11ef3c4c",
   "metadata": {},
   "outputs": [
    {
     "data": {
      "image/png": "[encoded data removed]",
      "text/plain": [
       "<Figure size 1008x504 with 1 Axes>"
      ]
     },
     "metadata": {
      "needs_background": "light"
     },
     "output_type": "display_data"
    }
   ],
   "source": [
    "plot_hist(user_behaviour, 'Total Gaming', 'blue')"
   ]
  },
  {
   "cell_type": "code",
   "execution_count": 36,
   "id": "d9158789",
   "metadata": {},
   "outputs": [
    {
     "data": {
      "image/png": "[encoded data removed]",
      "text/plain": [
       "<Figure size 1008x504 with 1 Axes>"
      ]
     },
     "metadata": {
      "needs_background": "light"
     },
     "output_type": "display_data"
    }
   ],
   "source": [
    "plot_hist(user_behaviour, 'Total Other','green')"
   ]
  },
  {
   "cell_type": "markdown",
   "id": "efdbe613",
   "metadata": {},
   "source": [
    "### Bivariant analysis"
   ]
  },
  {
   "cell_type": "code",
   "execution_count": 37,
   "id": "3df953af",
   "metadata": {},
   "outputs": [
    {
     "data": {
      "image/png": "[encoded data removed]",
      "text/plain": [
       "<Figure size 1080x576 with 8 Axes>"
      ]
     },
     "metadata": {
      "needs_background": "light"
     },
     "output_type": "display_data"
    }
   ],
   "source": [
    "### Scatter Plot\n",
    "\n",
    "fig, ((ax1, ax2, ax3, ax4), (ax5, ax6, ax7, ax8)) = plt.subplots(2, 4,figsize=(15,8))\n",
    "# plot_scatter(user_behaviour.sample(1000), \"Total\", \"Total Social Media\", \"Total Vs Social Media\",ax1, \"\", \"\")\n",
    "\n",
    "def bivariant_sactter(df, x_col, y_col, ax):\n",
    "    sns.scatterplot(data = df, x=x_col, y=y_col, ax=ax)\n",
    "\n",
    "sample_df = user_behaviour.sample(1000)\n",
    "\n",
    "bivariant_sactter(sample_df, 'Total', 'Total Social Media', ax1)\n",
    "bivariant_sactter(sample_df, 'Total', 'Total Google', ax2)\n",
    "bivariant_sactter(sample_df, 'Total', 'Total Youtube', ax3)\n",
    "bivariant_sactter(sample_df, 'Total', 'Total Netflix', ax4)\n",
    "bivariant_sactter(sample_df, 'Total', 'Total Gaming', ax5)\n",
    "bivariant_sactter(sample_df, 'Total', 'Total Email', ax6)\n",
    "bivariant_sactter(sample_df, 'Total', 'Total Other', ax7)\n",
    "bivariant_sactter(sample_df, 'Total', 'Total', ax8)\n"
   ]
  },
  {
   "cell_type": "markdown",
   "id": "e33ff34d",
   "metadata": {},
   "source": [
    "#### Correlation Analysis – compute a correlation matrix for the following variables and interpret your findings: Social Media data, Google data, Email data, Youtube data, Netflix data, Gaming data, Other data \n"
   ]
  },
  {
   "cell_type": "code",
   "execution_count": 38,
   "id": "d2e24893",
   "metadata": {},
   "outputs": [
    {
     "data": {
      "image/png": "[encoded data removed]",
      "text/plain": [
       "<Figure size 864x504 with 1 Axes>"
      ]
     },
     "metadata": {
      "needs_background": "light"
     },
     "output_type": "display_data"
    }
   ],
   "source": [
    "\n",
    "columns=['Total Socil Media', 'Total Google', 'Total Netflix', \\\n",
    "                             'Total Gaming', 'Total Other', 'Total Email']\n",
    "correlation = user_behaviour.corr()\n",
    "plot_heatmap(correlation, \"Relation Between Applications\")\n"
   ]
  },
  {
   "cell_type": "markdown",
   "id": "a474f0e7",
   "metadata": {},
   "source": [
    "#### Variable transformations – segment the users into top five decile classes based on the total duration for all sessions and compute the total data (DL+UL) per decile class. "
   ]
  },
  {
   "cell_type": "code",
   "execution_count": 39,
   "id": "e786600c",
   "metadata": {},
   "outputs": [
    {
     "data": {
      "text/html": [
       "<div>\n",
       "<style scoped>\n",
       "    .dataframe tbody tr th:only-of-type {\n",
       "        vertical-align: middle;\n",
       "    }\n",
       "\n",
       "    .dataframe tbody tr th {\n",
       "        vertical-align: top;\n",
       "    }\n",
       "\n",
       "    .dataframe thead th {\n",
       "        text-align: right;\n",
       "    }\n",
       "</style>\n",
       "<table border=\"1\" class=\"dataframe\">\n",
       "  <thead>\n",
       "    <tr style=\"text-align: right;\">\n",
       "      <th></th>\n",
       "      <th>Total</th>\n",
       "    </tr>\n",
       "    <tr>\n",
       "      <th>classes</th>\n",
       "      <th></th>\n",
       "    </tr>\n",
       "  </thead>\n",
       "  <tbody>\n",
       "    <tr>\n",
       "      <th>0</th>\n",
       "      <td>11,529,809,163,943.00</td>\n",
       "    </tr>\n",
       "    <tr>\n",
       "      <th>1</th>\n",
       "      <td>12,953,477,655,713.00</td>\n",
       "    </tr>\n",
       "    <tr>\n",
       "      <th>2</th>\n",
       "      <td>10,850,256,429,370.00</td>\n",
       "    </tr>\n",
       "    <tr>\n",
       "      <th>3</th>\n",
       "      <td>13,574,682,434,513.00</td>\n",
       "    </tr>\n",
       "    <tr>\n",
       "      <th>4</th>\n",
       "      <td>24,718,584,629,821.00</td>\n",
       "    </tr>\n",
       "  </tbody>\n",
       "</table>\n",
       "</div>"
      ],
      "text/plain": [
       "                        Total\n",
       "classes                      \n",
       "0       11,529,809,163,943.00\n",
       "1       12,953,477,655,713.00\n",
       "2       10,850,256,429,370.00\n",
       "3       13,574,682,434,513.00\n",
       "4       24,718,584,629,821.00"
      ]
     },
     "execution_count": 39,
     "metadata": {},
     "output_type": "execute_result"
    }
   ],
   "source": [
    "### columns i need , Du , Total, Mi/Number\n",
    "new_df = df_clean.copy()\n",
    "new_df['Total'] = new_df['Total UL (Bytes)'] + new_df['Total DL (Bytes)']\n",
    "\n",
    "working_df = new_df[['MSISDN/Number','Dur. (ms)','Total']].groupby('MSISDN/Number')\\\n",
    "    .agg({'Dur. (ms)':'sum', 'Total':'sum'}).reset_index()\n",
    "working_df['classes'] = pd.qcut(working_df['Dur. (ms)'], 5, labels = False)\n",
    "\n",
    "result = working_df.groupby('classes').agg({'Total':'sum'})\n",
    "result"
   ]
  },
  {
   "cell_type": "markdown",
   "id": "20557c21",
   "metadata": {},
   "source": [
    "#### Dimensionality Reduction – perform a principal component analysis to reduce the dimensions of your data and provide a useful interpretation of the results (Provide your interpretation in four (4) bullet points-maximum). "
   ]
  },
  {
   "cell_type": "code",
   "execution_count": 40,
   "id": "75491e19",
   "metadata": {},
   "outputs": [
    {
     "data": {
      "text/html": [
       "<div>\n",
       "<style scoped>\n",
       "    .dataframe tbody tr th:only-of-type {\n",
       "        vertical-align: middle;\n",
       "    }\n",
       "\n",
       "    .dataframe tbody tr th {\n",
       "        vertical-align: top;\n",
       "    }\n",
       "\n",
       "    .dataframe thead th {\n",
       "        text-align: right;\n",
       "    }\n",
       "</style>\n",
       "<table border=\"1\" class=\"dataframe\">\n",
       "  <thead>\n",
       "    <tr style=\"text-align: right;\">\n",
       "      <th></th>\n",
       "      <th>feat-1</th>\n",
       "      <th>feat-2</th>\n",
       "      <th>feat-3</th>\n",
       "      <th>feat-4</th>\n",
       "    </tr>\n",
       "  </thead>\n",
       "  <tbody>\n",
       "    <tr>\n",
       "      <th>0</th>\n",
       "      <td>315,471,479.45</td>\n",
       "      <td>-263,072,863.40</td>\n",
       "      <td>-19,565,520.00</td>\n",
       "      <td>-6,747,923.45</td>\n",
       "    </tr>\n",
       "    <tr>\n",
       "      <th>1</th>\n",
       "      <td>-663,692,565.78</td>\n",
       "      <td>-32,192,751.54</td>\n",
       "      <td>-10,002,479.62</td>\n",
       "      <td>-9,956,996.89</td>\n",
       "    </tr>\n",
       "    <tr>\n",
       "      <th>2</th>\n",
       "      <td>-18,064,779.31</td>\n",
       "      <td>-24,665,129.45</td>\n",
       "      <td>-18,247,077.37</td>\n",
       "      <td>-9,287,728.34</td>\n",
       "    </tr>\n",
       "    <tr>\n",
       "      <th>3</th>\n",
       "      <td>-387,066,371.49</td>\n",
       "      <td>-390,284,028.34</td>\n",
       "      <td>-19,363,231.09</td>\n",
       "      <td>-20,107,657.55</td>\n",
       "    </tr>\n",
       "    <tr>\n",
       "      <th>4</th>\n",
       "      <td>1,176,833,352.11</td>\n",
       "      <td>-119,670,858.65</td>\n",
       "      <td>3,834,415.47</td>\n",
       "      <td>4,945,695.75</td>\n",
       "    </tr>\n",
       "  </tbody>\n",
       "</table>\n",
       "</div>"
      ],
      "text/plain": [
       "            feat-1          feat-2         feat-3         feat-4\n",
       "0   315,471,479.45 -263,072,863.40 -19,565,520.00  -6,747,923.45\n",
       "1  -663,692,565.78  -32,192,751.54 -10,002,479.62  -9,956,996.89\n",
       "2   -18,064,779.31  -24,665,129.45 -18,247,077.37  -9,287,728.34\n",
       "3  -387,066,371.49 -390,284,028.34 -19,363,231.09 -20,107,657.55\n",
       "4 1,176,833,352.11 -119,670,858.65   3,834,415.47   4,945,695.75"
      ]
     },
     "execution_count": 40,
     "metadata": {},
     "output_type": "execute_result"
    }
   ],
   "source": [
    "\"\"\"\n",
    "***** user_behaviour.reset_index().copy() ***\n",
    "\n",
    "dont forget to use this when you wan to make copy of the user_behaviour\n",
    "reseting index will add 'MSISDN/Number' to the column list\n",
    "\n",
    "\"\"\"\n",
    "pca_new_df = user_behaviour.copy()\n",
    "\n",
    "\n",
    "pca = PCA(n_components=4) \n",
    "df_pca = pca.fit_transform(pca_new_df)\n",
    "\n",
    "principal_df = pd.DataFrame(data=df_pca, columns=['feat-1', 'feat-2', 'feat-3', 'feat-4'])\n",
    "principal_df.head()"
   ]
  },
  {
   "cell_type": "code",
   "execution_count": 41,
   "id": "2c938929",
   "metadata": {},
   "outputs": [
    {
     "data": {
      "text/html": [
       "<div>\n",
       "<style scoped>\n",
       "    .dataframe tbody tr th:only-of-type {\n",
       "        vertical-align: middle;\n",
       "    }\n",
       "\n",
       "    .dataframe tbody tr th {\n",
       "        vertical-align: top;\n",
       "    }\n",
       "\n",
       "    .dataframe thead th {\n",
       "        text-align: right;\n",
       "    }\n",
       "</style>\n",
       "<table border=\"1\" class=\"dataframe\">\n",
       "  <thead>\n",
       "    <tr style=\"text-align: right;\">\n",
       "      <th></th>\n",
       "      <th>feat-1</th>\n",
       "      <th>feat-2</th>\n",
       "      <th>feat-3</th>\n",
       "      <th>feat-4</th>\n",
       "    </tr>\n",
       "  </thead>\n",
       "  <tbody>\n",
       "    <tr>\n",
       "      <th>0</th>\n",
       "      <td>-0.34</td>\n",
       "      <td>-1.71</td>\n",
       "      <td>0.22</td>\n",
       "      <td>-0.60</td>\n",
       "    </tr>\n",
       "    <tr>\n",
       "      <th>1</th>\n",
       "      <td>-2.27</td>\n",
       "      <td>0.81</td>\n",
       "      <td>0.75</td>\n",
       "      <td>-0.40</td>\n",
       "    </tr>\n",
       "    <tr>\n",
       "      <th>2</th>\n",
       "      <td>-0.56</td>\n",
       "      <td>-0.30</td>\n",
       "      <td>0.44</td>\n",
       "      <td>-0.96</td>\n",
       "    </tr>\n",
       "    <tr>\n",
       "      <th>3</th>\n",
       "      <td>-2.69</td>\n",
       "      <td>-0.99</td>\n",
       "      <td>0.22</td>\n",
       "      <td>0.94</td>\n",
       "    </tr>\n",
       "    <tr>\n",
       "      <th>4</th>\n",
       "      <td>4.08</td>\n",
       "      <td>-1.54</td>\n",
       "      <td>-0.27</td>\n",
       "      <td>0.29</td>\n",
       "    </tr>\n",
       "  </tbody>\n",
       "</table>\n",
       "</div>"
      ],
      "text/plain": [
       "   feat-1  feat-2  feat-3  feat-4\n",
       "0   -0.34   -1.71    0.22   -0.60\n",
       "1   -2.27    0.81    0.75   -0.40\n",
       "2   -0.56   -0.30    0.44   -0.96\n",
       "3   -2.69   -0.99    0.22    0.94\n",
       "4    4.08   -1.54   -0.27    0.29"
      ]
     },
     "execution_count": 41,
     "metadata": {},
     "output_type": "execute_result"
    }
   ],
   "source": [
    "\n",
    "# print(user_behaviour.loc[:,:].values)\n",
    "scalle_df = user_behaviour.copy()\n",
    "\n",
    "\n",
    "scalled = StandardScaler().fit_transform(scalle_df)\n",
    "new_scalled_df = pd.DataFrame(data=scalled, columns=scalle_df.columns)\n",
    "\n",
    "pca = PCA(n_components=4) \n",
    "df_pca = pca.fit_transform(new_scalled_df)\n",
    "\n",
    "principal_df = pd.DataFrame(data=df_pca, columns=['feat-1', 'feat-2', 'feat-3', 'feat-4'])\n",
    "principal_df.head()\n"
   ]
  },
  {
   "cell_type": "code",
   "execution_count": 42,
   "id": "6b93195a",
   "metadata": {},
   "outputs": [],
   "source": [
    "## ? What is the interpretation ? \n"
   ]
  },
  {
   "cell_type": "markdown",
   "id": "d701f4fb",
   "metadata": {},
   "source": [
    "## Task 2"
   ]
  },
  {
   "cell_type": "markdown",
   "id": "b4d5b65a",
   "metadata": {},
   "source": [
    "#### engagement matrices \n",
    "1. sessions frequency \n",
    "2. the duration of the session \n",
    "3. the sessions total traffi\n"
   ]
  },
  {
   "cell_type": "markdown",
   "id": "33423625",
   "metadata": {},
   "source": [
    "#### Aggregate the above metrics per customer id (MSISDN) and report the top 10 customers per engagement metric "
   ]
  },
  {
   "cell_type": "code",
   "execution_count": 43,
   "id": "f14b03bb",
   "metadata": {},
   "outputs": [
    {
     "data": {
      "text/html": [
       "<div>\n",
       "<style scoped>\n",
       "    .dataframe tbody tr th:only-of-type {\n",
       "        vertical-align: middle;\n",
       "    }\n",
       "\n",
       "    .dataframe tbody tr th {\n",
       "        vertical-align: top;\n",
       "    }\n",
       "\n",
       "    .dataframe thead th {\n",
       "        text-align: right;\n",
       "    }\n",
       "</style>\n",
       "<table border=\"1\" class=\"dataframe\">\n",
       "  <thead>\n",
       "    <tr style=\"text-align: right;\">\n",
       "      <th></th>\n",
       "      <th>Bearer Id</th>\n",
       "      <th>Dur. (ms)</th>\n",
       "      <th>Total</th>\n",
       "    </tr>\n",
       "    <tr>\n",
       "      <th>MSISDN/Number</th>\n",
       "      <th></th>\n",
       "      <th></th>\n",
       "      <th></th>\n",
       "    </tr>\n",
       "  </thead>\n",
       "  <tbody>\n",
       "    <tr>\n",
       "      <th>33,601,001,722.00</th>\n",
       "      <td>1</td>\n",
       "      <td>116,720.00</td>\n",
       "      <td>878,690,574.00</td>\n",
       "    </tr>\n",
       "    <tr>\n",
       "      <th>33,601,001,754.00</th>\n",
       "      <td>1</td>\n",
       "      <td>181,230.00</td>\n",
       "      <td>156,859,643.00</td>\n",
       "    </tr>\n",
       "    <tr>\n",
       "      <th>33,601,002,511.00</th>\n",
       "      <td>1</td>\n",
       "      <td>134,969.00</td>\n",
       "      <td>595,966,483.00</td>\n",
       "    </tr>\n",
       "    <tr>\n",
       "      <th>33,601,007,832.00</th>\n",
       "      <td>1</td>\n",
       "      <td>49,878.00</td>\n",
       "      <td>422,320,698.00</td>\n",
       "    </tr>\n",
       "    <tr>\n",
       "      <th>33,601,008,617.00</th>\n",
       "      <td>2</td>\n",
       "      <td>37,104.00</td>\n",
       "      <td>1,457,410,944.00</td>\n",
       "    </tr>\n",
       "  </tbody>\n",
       "</table>\n",
       "</div>"
      ],
      "text/plain": [
       "                   Bearer Id  Dur. (ms)            Total\n",
       "MSISDN/Number                                           \n",
       "33,601,001,722.00          1 116,720.00   878,690,574.00\n",
       "33,601,001,754.00          1 181,230.00   156,859,643.00\n",
       "33,601,002,511.00          1 134,969.00   595,966,483.00\n",
       "33,601,007,832.00          1  49,878.00   422,320,698.00\n",
       "33,601,008,617.00          2  37,104.00 1,457,410,944.00"
      ]
     },
     "execution_count": 43,
     "metadata": {},
     "output_type": "execute_result"
    }
   ],
   "source": [
    "df_task2 = df_clean.copy()\n",
    "df_task2['Total'] = df_task2['Total UL (Bytes)'] + df_task2['Total DL (Bytes)']\n",
    "df_task2 = df_task2.groupby('MSISDN/Number')\\\n",
    "    .agg({\"Bearer Id\": \"count\", 'Dur. (ms)':'sum', 'Total':'sum'})\n",
    "\n",
    "df_task2.head()"
   ]
  },
  {
   "cell_type": "code",
   "execution_count": 44,
   "id": "81244ed8",
   "metadata": {},
   "outputs": [
    {
     "data": {
      "text/html": [
       "<div>\n",
       "<style scoped>\n",
       "    .dataframe tbody tr th:only-of-type {\n",
       "        vertical-align: middle;\n",
       "    }\n",
       "\n",
       "    .dataframe tbody tr th {\n",
       "        vertical-align: top;\n",
       "    }\n",
       "\n",
       "    .dataframe thead th {\n",
       "        text-align: right;\n",
       "    }\n",
       "</style>\n",
       "<table border=\"1\" class=\"dataframe\">\n",
       "  <thead>\n",
       "    <tr style=\"text-align: right;\">\n",
       "      <th></th>\n",
       "      <th>Bearer Id</th>\n",
       "      <th>Dur. (ms)</th>\n",
       "      <th>Total</th>\n",
       "    </tr>\n",
       "    <tr>\n",
       "      <th>MSISDN/Number</th>\n",
       "      <th></th>\n",
       "      <th></th>\n",
       "      <th></th>\n",
       "    </tr>\n",
       "  </thead>\n",
       "  <tbody>\n",
       "    <tr>\n",
       "      <th>33,626,320,676.00</th>\n",
       "      <td>18</td>\n",
       "      <td>1,785,419.00</td>\n",
       "      <td>7,971,167,261.00</td>\n",
       "    </tr>\n",
       "    <tr>\n",
       "      <th>33,614,892,860.00</th>\n",
       "      <td>17</td>\n",
       "      <td>1,678,397.00</td>\n",
       "      <td>8,846,226,494.00</td>\n",
       "    </tr>\n",
       "    <tr>\n",
       "      <th>33,625,779,332.00</th>\n",
       "      <td>17</td>\n",
       "      <td>1,599,052.00</td>\n",
       "      <td>8,499,620,722.00</td>\n",
       "    </tr>\n",
       "    <tr>\n",
       "      <th>33,659,725,664.00</th>\n",
       "      <td>16</td>\n",
       "      <td>1,905,478.00</td>\n",
       "      <td>7,705,862,783.00</td>\n",
       "    </tr>\n",
       "    <tr>\n",
       "      <th>33,760,536,639.00</th>\n",
       "      <td>15</td>\n",
       "      <td>1,651,084.00</td>\n",
       "      <td>8,514,773,963.00</td>\n",
       "    </tr>\n",
       "    <tr>\n",
       "      <th>33,675,877,202.00</th>\n",
       "      <td>15</td>\n",
       "      <td>1,745,131.00</td>\n",
       "      <td>7,891,110,608.00</td>\n",
       "    </tr>\n",
       "    <tr>\n",
       "      <th>33,667,163,239.00</th>\n",
       "      <td>13</td>\n",
       "      <td>1,209,703.00</td>\n",
       "      <td>5,618,394,054.00</td>\n",
       "    </tr>\n",
       "    <tr>\n",
       "      <th>33,604,515,716.00</th>\n",
       "      <td>12</td>\n",
       "      <td>1,193,033.00</td>\n",
       "      <td>5,487,855,293.00</td>\n",
       "    </tr>\n",
       "    <tr>\n",
       "      <th>33,760,413,819.00</th>\n",
       "      <td>12</td>\n",
       "      <td>1,248,477.00</td>\n",
       "      <td>7,132,370,514.00</td>\n",
       "    </tr>\n",
       "    <tr>\n",
       "      <th>33,603,127,838.00</th>\n",
       "      <td>12</td>\n",
       "      <td>1,109,736.00</td>\n",
       "      <td>4,976,195,043.00</td>\n",
       "    </tr>\n",
       "  </tbody>\n",
       "</table>\n",
       "</div>"
      ],
      "text/plain": [
       "                   Bearer Id    Dur. (ms)            Total\n",
       "MSISDN/Number                                             \n",
       "33,626,320,676.00         18 1,785,419.00 7,971,167,261.00\n",
       "33,614,892,860.00         17 1,678,397.00 8,846,226,494.00\n",
       "33,625,779,332.00         17 1,599,052.00 8,499,620,722.00\n",
       "33,659,725,664.00         16 1,905,478.00 7,705,862,783.00\n",
       "33,760,536,639.00         15 1,651,084.00 8,514,773,963.00\n",
       "33,675,877,202.00         15 1,745,131.00 7,891,110,608.00\n",
       "33,667,163,239.00         13 1,209,703.00 5,618,394,054.00\n",
       "33,604,515,716.00         12 1,193,033.00 5,487,855,293.00\n",
       "33,760,413,819.00         12 1,248,477.00 7,132,370,514.00\n",
       "33,603,127,838.00         12 1,109,736.00 4,976,195,043.00"
      ]
     },
     "execution_count": 44,
     "metadata": {},
     "output_type": "execute_result"
    }
   ],
   "source": [
    "### Top 10 Beaerer id\n",
    "df_task2.sort_values(by='Bearer Id', ascending=False).head(10)"
   ]
  },
  {
   "cell_type": "code",
   "execution_count": 45,
   "id": "a0c62044",
   "metadata": {},
   "outputs": [
    {
     "data": {
      "text/html": [
       "<div>\n",
       "<style scoped>\n",
       "    .dataframe tbody tr th:only-of-type {\n",
       "        vertical-align: middle;\n",
       "    }\n",
       "\n",
       "    .dataframe tbody tr th {\n",
       "        vertical-align: top;\n",
       "    }\n",
       "\n",
       "    .dataframe thead th {\n",
       "        text-align: right;\n",
       "    }\n",
       "</style>\n",
       "<table border=\"1\" class=\"dataframe\">\n",
       "  <thead>\n",
       "    <tr style=\"text-align: right;\">\n",
       "      <th></th>\n",
       "      <th>Bearer Id</th>\n",
       "      <th>Dur. (ms)</th>\n",
       "      <th>Total</th>\n",
       "    </tr>\n",
       "    <tr>\n",
       "      <th>MSISDN/Number</th>\n",
       "      <th></th>\n",
       "      <th></th>\n",
       "      <th></th>\n",
       "    </tr>\n",
       "  </thead>\n",
       "  <tbody>\n",
       "    <tr>\n",
       "      <th>33,659,725,664.00</th>\n",
       "      <td>16</td>\n",
       "      <td>1,905,478.00</td>\n",
       "      <td>7,705,862,783.00</td>\n",
       "    </tr>\n",
       "    <tr>\n",
       "      <th>33,626,320,676.00</th>\n",
       "      <td>18</td>\n",
       "      <td>1,785,419.00</td>\n",
       "      <td>7,971,167,261.00</td>\n",
       "    </tr>\n",
       "    <tr>\n",
       "      <th>33,659,359,429.00</th>\n",
       "      <td>11</td>\n",
       "      <td>1,747,994.00</td>\n",
       "      <td>4,658,437,137.00</td>\n",
       "    </tr>\n",
       "    <tr>\n",
       "      <th>33,675,877,202.00</th>\n",
       "      <td>15</td>\n",
       "      <td>1,745,131.00</td>\n",
       "      <td>7,891,110,608.00</td>\n",
       "    </tr>\n",
       "    <tr>\n",
       "      <th>33,614,892,860.00</th>\n",
       "      <td>17</td>\n",
       "      <td>1,678,397.00</td>\n",
       "      <td>8,846,226,494.00</td>\n",
       "    </tr>\n",
       "    <tr>\n",
       "      <th>33,760,536,639.00</th>\n",
       "      <td>15</td>\n",
       "      <td>1,651,084.00</td>\n",
       "      <td>8,514,773,963.00</td>\n",
       "    </tr>\n",
       "    <tr>\n",
       "      <th>33,625,779,332.00</th>\n",
       "      <td>17</td>\n",
       "      <td>1,599,052.00</td>\n",
       "      <td>8,499,620,722.00</td>\n",
       "    </tr>\n",
       "    <tr>\n",
       "      <th>33,786,323,068.00</th>\n",
       "      <td>12</td>\n",
       "      <td>1,427,807.00</td>\n",
       "      <td>5,622,231,529.00</td>\n",
       "    </tr>\n",
       "    <tr>\n",
       "      <th>33,664,712,899.00</th>\n",
       "      <td>11</td>\n",
       "      <td>1,334,982.00</td>\n",
       "      <td>6,872,018,208.00</td>\n",
       "    </tr>\n",
       "    <tr>\n",
       "      <th>33,606,582,008.00</th>\n",
       "      <td>9</td>\n",
       "      <td>1,322,251.00</td>\n",
       "      <td>4,731,467,405.00</td>\n",
       "    </tr>\n",
       "  </tbody>\n",
       "</table>\n",
       "</div>"
      ],
      "text/plain": [
       "                   Bearer Id    Dur. (ms)            Total\n",
       "MSISDN/Number                                             \n",
       "33,659,725,664.00         16 1,905,478.00 7,705,862,783.00\n",
       "33,626,320,676.00         18 1,785,419.00 7,971,167,261.00\n",
       "33,659,359,429.00         11 1,747,994.00 4,658,437,137.00\n",
       "33,675,877,202.00         15 1,745,131.00 7,891,110,608.00\n",
       "33,614,892,860.00         17 1,678,397.00 8,846,226,494.00\n",
       "33,760,536,639.00         15 1,651,084.00 8,514,773,963.00\n",
       "33,625,779,332.00         17 1,599,052.00 8,499,620,722.00\n",
       "33,786,323,068.00         12 1,427,807.00 5,622,231,529.00\n",
       "33,664,712,899.00         11 1,334,982.00 6,872,018,208.00\n",
       "33,606,582,008.00          9 1,322,251.00 4,731,467,405.00"
      ]
     },
     "execution_count": 45,
     "metadata": {},
     "output_type": "execute_result"
    }
   ],
   "source": [
    "### Top 10 Duration\n",
    "df_task2.sort_values(by='Dur. (ms)', ascending=False).head(10)"
   ]
  },
  {
   "cell_type": "code",
   "execution_count": 46,
   "id": "0313c0a6",
   "metadata": {},
   "outputs": [
    {
     "data": {
      "text/html": [
       "<div>\n",
       "<style scoped>\n",
       "    .dataframe tbody tr th:only-of-type {\n",
       "        vertical-align: middle;\n",
       "    }\n",
       "\n",
       "    .dataframe tbody tr th {\n",
       "        vertical-align: top;\n",
       "    }\n",
       "\n",
       "    .dataframe thead th {\n",
       "        text-align: right;\n",
       "    }\n",
       "</style>\n",
       "<table border=\"1\" class=\"dataframe\">\n",
       "  <thead>\n",
       "    <tr style=\"text-align: right;\">\n",
       "      <th></th>\n",
       "      <th>Bearer Id</th>\n",
       "      <th>Dur. (ms)</th>\n",
       "      <th>Total</th>\n",
       "    </tr>\n",
       "    <tr>\n",
       "      <th>MSISDN/Number</th>\n",
       "      <th></th>\n",
       "      <th></th>\n",
       "      <th></th>\n",
       "    </tr>\n",
       "  </thead>\n",
       "  <tbody>\n",
       "    <tr>\n",
       "      <th>33,614,892,860.00</th>\n",
       "      <td>17</td>\n",
       "      <td>1,678,397.00</td>\n",
       "      <td>8,846,226,494.00</td>\n",
       "    </tr>\n",
       "    <tr>\n",
       "      <th>33,760,536,639.00</th>\n",
       "      <td>15</td>\n",
       "      <td>1,651,084.00</td>\n",
       "      <td>8,514,773,963.00</td>\n",
       "    </tr>\n",
       "    <tr>\n",
       "      <th>33,625,779,332.00</th>\n",
       "      <td>17</td>\n",
       "      <td>1,599,052.00</td>\n",
       "      <td>8,499,620,722.00</td>\n",
       "    </tr>\n",
       "    <tr>\n",
       "      <th>33,626,320,676.00</th>\n",
       "      <td>18</td>\n",
       "      <td>1,785,419.00</td>\n",
       "      <td>7,971,167,261.00</td>\n",
       "    </tr>\n",
       "    <tr>\n",
       "      <th>33,675,877,202.00</th>\n",
       "      <td>15</td>\n",
       "      <td>1,745,131.00</td>\n",
       "      <td>7,891,110,608.00</td>\n",
       "    </tr>\n",
       "    <tr>\n",
       "      <th>33,659,725,664.00</th>\n",
       "      <td>16</td>\n",
       "      <td>1,905,478.00</td>\n",
       "      <td>7,705,862,783.00</td>\n",
       "    </tr>\n",
       "    <tr>\n",
       "      <th>33,666,464,084.00</th>\n",
       "      <td>11</td>\n",
       "      <td>1,168,703.00</td>\n",
       "      <td>7,308,500,938.00</td>\n",
       "    </tr>\n",
       "    <tr>\n",
       "      <th>33,760,413,819.00</th>\n",
       "      <td>12</td>\n",
       "      <td>1,248,477.00</td>\n",
       "      <td>7,132,370,514.00</td>\n",
       "    </tr>\n",
       "    <tr>\n",
       "      <th>33,664,712,899.00</th>\n",
       "      <td>11</td>\n",
       "      <td>1,334,982.00</td>\n",
       "      <td>6,872,018,208.00</td>\n",
       "    </tr>\n",
       "    <tr>\n",
       "      <th>33,698,792,269.00</th>\n",
       "      <td>11</td>\n",
       "      <td>1,052,303.00</td>\n",
       "      <td>6,540,899,126.00</td>\n",
       "    </tr>\n",
       "  </tbody>\n",
       "</table>\n",
       "</div>"
      ],
      "text/plain": [
       "                   Bearer Id    Dur. (ms)            Total\n",
       "MSISDN/Number                                             \n",
       "33,614,892,860.00         17 1,678,397.00 8,846,226,494.00\n",
       "33,760,536,639.00         15 1,651,084.00 8,514,773,963.00\n",
       "33,625,779,332.00         17 1,599,052.00 8,499,620,722.00\n",
       "33,626,320,676.00         18 1,785,419.00 7,971,167,261.00\n",
       "33,675,877,202.00         15 1,745,131.00 7,891,110,608.00\n",
       "33,659,725,664.00         16 1,905,478.00 7,705,862,783.00\n",
       "33,666,464,084.00         11 1,168,703.00 7,308,500,938.00\n",
       "33,760,413,819.00         12 1,248,477.00 7,132,370,514.00\n",
       "33,664,712,899.00         11 1,334,982.00 6,872,018,208.00\n",
       "33,698,792,269.00         11 1,052,303.00 6,540,899,126.00"
      ]
     },
     "execution_count": 46,
     "metadata": {},
     "output_type": "execute_result"
    }
   ],
   "source": [
    "df_task2.sort_values(by='Total', ascending=False).head(10)"
   ]
  },
  {
   "cell_type": "markdown",
   "id": "60580361",
   "metadata": {},
   "source": [
    "#### Normalize each engagement metric and run a k-means (k=3) to classify customers in three groups of engagement"
   ]
  },
  {
   "cell_type": "code",
   "execution_count": 47,
   "id": "d8baf6bd",
   "metadata": {},
   "outputs": [
    {
     "ename": "KeyboardInterrupt",
     "evalue": "",
     "output_type": "error",
     "traceback": [
      "\u001b[0;31m---------------------------------------------------------------------------\u001b[0m",
      "\u001b[0;31mKeyboardInterrupt\u001b[0m                         Traceback (most recent call last)",
      "\u001b[0;32m<ipython-input-47-8f3c71ffba44>\u001b[0m in \u001b[0;36m<module>\u001b[0;34m\u001b[0m\n\u001b[1;32m      6\u001b[0m \u001b[0;34m\u001b[0m\u001b[0m\n\u001b[1;32m      7\u001b[0m \u001b[0;34m\u001b[0m\u001b[0m\n\u001b[0;32m----> 8\u001b[0;31m \u001b[0mkmeans\u001b[0m \u001b[0;34m=\u001b[0m \u001b[0mKMeans\u001b[0m\u001b[0;34m(\u001b[0m\u001b[0mn_clusters\u001b[0m\u001b[0;34m=\u001b[0m\u001b[0;36m3\u001b[0m\u001b[0;34m)\u001b[0m\u001b[0;34m.\u001b[0m\u001b[0mfit\u001b[0m\u001b[0;34m(\u001b[0m\u001b[0mdf_normalized\u001b[0m\u001b[0;34m)\u001b[0m\u001b[0;34m\u001b[0m\u001b[0;34m\u001b[0m\u001b[0m\n\u001b[0m",
      "\u001b[0;32m/opt/anaconda3/lib/python3.8/site-packages/sklearn/cluster/_kmeans.py\u001b[0m in \u001b[0;36mfit\u001b[0;34m(self, X, y, sample_weight)\u001b[0m\n\u001b[1;32m   1021\u001b[0m \u001b[0;34m\u001b[0m\u001b[0m\n\u001b[1;32m   1022\u001b[0m             \u001b[0;31m# run a k-means once\u001b[0m\u001b[0;34m\u001b[0m\u001b[0;34m\u001b[0m\u001b[0;34m\u001b[0m\u001b[0m\n\u001b[0;32m-> 1023\u001b[0;31m             labels, inertia, centers, n_iter_ = kmeans_single(\n\u001b[0m\u001b[1;32m   1024\u001b[0m                 \u001b[0mX\u001b[0m\u001b[0;34m,\u001b[0m \u001b[0msample_weight\u001b[0m\u001b[0;34m,\u001b[0m \u001b[0mcenters_init\u001b[0m\u001b[0;34m,\u001b[0m \u001b[0mmax_iter\u001b[0m\u001b[0;34m=\u001b[0m\u001b[0mself\u001b[0m\u001b[0;34m.\u001b[0m\u001b[0mmax_iter\u001b[0m\u001b[0;34m,\u001b[0m\u001b[0;34m\u001b[0m\u001b[0;34m\u001b[0m\u001b[0m\n\u001b[1;32m   1025\u001b[0m                 \u001b[0mverbose\u001b[0m\u001b[0;34m=\u001b[0m\u001b[0mself\u001b[0m\u001b[0;34m.\u001b[0m\u001b[0mverbose\u001b[0m\u001b[0;34m,\u001b[0m \u001b[0mtol\u001b[0m\u001b[0;34m=\u001b[0m\u001b[0mself\u001b[0m\u001b[0;34m.\u001b[0m\u001b[0m_tol\u001b[0m\u001b[0;34m,\u001b[0m\u001b[0;34m\u001b[0m\u001b[0;34m\u001b[0m\u001b[0m\n",
      "\u001b[0;32m/opt/anaconda3/lib/python3.8/site-packages/sklearn/cluster/_kmeans.py\u001b[0m in \u001b[0;36m_kmeans_single_elkan\u001b[0;34m(X, sample_weight, centers_init, max_iter, verbose, x_squared_norms, tol, n_threads)\u001b[0m\n\u001b[1;32m    383\u001b[0m \u001b[0;34m\u001b[0m\u001b[0m\n\u001b[1;32m    384\u001b[0m     \u001b[0;32mfor\u001b[0m \u001b[0mi\u001b[0m \u001b[0;32min\u001b[0m \u001b[0mrange\u001b[0m\u001b[0;34m(\u001b[0m\u001b[0mmax_iter\u001b[0m\u001b[0;34m)\u001b[0m\u001b[0;34m:\u001b[0m\u001b[0;34m\u001b[0m\u001b[0;34m\u001b[0m\u001b[0m\n\u001b[0;32m--> 385\u001b[0;31m         elkan_iter(X, sample_weight, centers, centers_new,\n\u001b[0m\u001b[1;32m    386\u001b[0m                    \u001b[0mweight_in_clusters\u001b[0m\u001b[0;34m,\u001b[0m \u001b[0mcenter_half_distances\u001b[0m\u001b[0;34m,\u001b[0m\u001b[0;34m\u001b[0m\u001b[0;34m\u001b[0m\u001b[0m\n\u001b[1;32m    387\u001b[0m                    \u001b[0mdistance_next_center\u001b[0m\u001b[0;34m,\u001b[0m \u001b[0mupper_bounds\u001b[0m\u001b[0;34m,\u001b[0m \u001b[0mlower_bounds\u001b[0m\u001b[0;34m,\u001b[0m\u001b[0;34m\u001b[0m\u001b[0;34m\u001b[0m\u001b[0m\n",
      "\u001b[0;31mKeyboardInterrupt\u001b[0m: "
     ]
    }
   ],
   "source": [
    "min_max_scaler = preprocessing.MinMaxScaler()\n",
    "df_values = df_task2.values\n",
    "\n",
    "scalled_values = min_max_scaler.fit_transform(df_values)\n",
    "df_normalized = pd.DataFrame(data=scalled_values, columns=df_task2.columns)\n",
    "\n",
    "\n",
    "kmeans = KMeans(n_clusters=3).fit(df_normalized)\n"
   ]
  },
  {
   "cell_type": "code",
   "execution_count": null,
   "id": "1eb50b6e",
   "metadata": {},
   "outputs": [],
   "source": [
    "print(kmeans.cluster_centers_)"
   ]
  },
  {
   "cell_type": "markdown",
   "id": "465dc232",
   "metadata": {},
   "source": [
    "#### Compute the minimum, maximum, average & total non- normalized metrics for each cluster. Interpret your results visually with accompanying text explaining your findings\n",
    "\n"
   ]
  },
  {
   "cell_type": "code",
   "execution_count": null,
   "id": "acacb09f",
   "metadata": {},
   "outputs": [],
   "source": [
    "cluster = kmeans.predict(df_normalized)\n",
    "engagement_df = df_task2.copy()\n",
    "engagement_df['cluster-engagement']  = cluster\n"
   ]
  },
  {
   "cell_type": "code",
   "execution_count": null,
   "id": "a5f45f3d",
   "metadata": {},
   "outputs": [],
   "source": [
    "cluster_group_df = engagement_df.groupby('cluster-engagement')\n",
    "cluster_0 = cluster_group_df.get_group(0)\n",
    "cluster_1 = cluster_group_df.get_group(1)\n",
    "cluster_2 = cluster_group_df.get_group(2)"
   ]
  },
  {
   "cell_type": "code",
   "execution_count": null,
   "id": "d256578b",
   "metadata": {},
   "outputs": [],
   "source": [
    "# Cluster 0\n",
    "plot_scatter(engagement_df,\"Bearer Id\", \"Total\",\"Clustering with Kmean\", \"cluster-engagement\", \"\")"
   ]
  },
  {
   "cell_type": "code",
   "execution_count": null,
   "id": "f31bc88b",
   "metadata": {},
   "outputs": [],
   "source": [
    "# cluster 0\n",
    "cluster_0.describe()"
   ]
  },
  {
   "cell_type": "code",
   "execution_count": null,
   "id": "b944d2b1",
   "metadata": {},
   "outputs": [],
   "source": [
    "# cluster 1\n",
    "cluster_1.describe()"
   ]
  },
  {
   "cell_type": "code",
   "execution_count": null,
   "id": "97d14218",
   "metadata": {},
   "outputs": [],
   "source": [
    "# cluster 2\n",
    "cluster_2.describe()"
   ]
  },
  {
   "cell_type": "markdown",
   "id": "83b0d3d1",
   "metadata": {},
   "source": [
    "#### Aggregate user total traffic per application and derive the top 10 most engaged users per application"
   ]
  },
  {
   "cell_type": "code",
   "execution_count": null,
   "id": "452f64f4",
   "metadata": {},
   "outputs": [],
   "source": [
    "# total trafic, Application, user -> top to users\n",
    "engagement = user_behaviour.reset_index().copy()\n",
    "\n",
    "# Social Media engagement\n",
    "engagement[['MSISDN/Number','Total Social Media']].sort_values(by='Total Social Media',ascending=False).head(5)"
   ]
  },
  {
   "cell_type": "code",
   "execution_count": null,
   "id": "f9cd284b",
   "metadata": {},
   "outputs": [],
   "source": [
    "# Google Engagement\n",
    "engagement[['MSISDN/Number','Total Google']].sort_values(by='Total Google',ascending=False).head(5)"
   ]
  },
  {
   "cell_type": "code",
   "execution_count": null,
   "id": "5e8a4e9c",
   "metadata": {},
   "outputs": [],
   "source": [
    "engagement[['MSISDN/Number','Total Gaming']].sort_values(by='Total Gaming',ascending=False).head(5)"
   ]
  },
  {
   "cell_type": "markdown",
   "id": "e49bd928",
   "metadata": {},
   "source": [
    "#### Plot the top 3 most used applications using appropriate charts.  \n"
   ]
  },
  {
   "cell_type": "code",
   "execution_count": null,
   "id": "81ab3110",
   "metadata": {},
   "outputs": [],
   "source": [
    "data = []\n",
    "\n",
    "# Remove 'MSISDN/Number' and 'Total' from columns list\n",
    "columns = user_behaviour.columns.tolist()[1:-1]\n",
    "\n",
    "for column in columns:\n",
    "    data.append(user_behaviour[column].sum())\n",
    "\n",
    "data_df = pd.DataFrame({\"Application\": columns, \"counts\":data})\n",
    "\n",
    "data_df.sort_values(by='counts', ascending=False)[:3]"
   ]
  },
  {
   "cell_type": "code",
   "execution_count": null,
   "id": "dc3a494e",
   "metadata": {},
   "outputs": [],
   "source": [
    "plot_bar(data_df,data_df['Application'], data_df['counts'], \"Applications Data usage\", \"App Name\", \"Data\")"
   ]
  },
  {
   "cell_type": "markdown",
   "id": "da3e08ed",
   "metadata": {},
   "source": [
    "Using k-means clustering algorithm, group users in k engagement clusters based on the engagement metrics: \n",
    "1. What is the optimized value of k (use elbow method for this)?  \n",
    "2. Interpret your findings.\n"
   ]
  },
  {
   "cell_type": "code",
   "execution_count": null,
   "id": "76d65e8e",
   "metadata": {},
   "outputs": [],
   "source": [
    "distortions = []\n",
    "K = range(1,10)\n",
    "for k in K:\n",
    "    kmeanModel = KMeans(n_clusters=k)\n",
    "    kmeanModel.fit(df_normalized)\n",
    "    distortions.append(kmeanModel.inertia_)"
   ]
  },
  {
   "cell_type": "code",
   "execution_count": null,
   "id": "553e2de3",
   "metadata": {},
   "outputs": [],
   "source": [
    "plt.figure(figsize=(16,8))\n",
    "plt.plot(K, distortions, 'bx-')\n",
    "plt.xlabel('k')\n",
    "plt.ylabel('Distortion')\n",
    "plt.title('The Elbow Method showing the optimal k')\n",
    "plt.show()"
   ]
  },
  {
   "cell_type": "code",
   "execution_count": null,
   "id": "5e9f4ee2",
   "metadata": {},
   "outputs": [],
   "source": [
    "### so Number 3 is the optimum, and we should run with 3 cluster\n",
    "kmeans = KMeans(n_clusters=3)\n",
    "kmeans.fit(df_normalized)\n",
    "\n",
    "cluster = kmeans.predict(df_normalized)\n",
    "cluster_df = df_task2.copy()\n",
    "cluster_df['cluster']  = cluster"
   ]
  },
  {
   "cell_type": "markdown",
   "id": "313e3845",
   "metadata": {},
   "source": [
    "## Task 3"
   ]
  },
  {
   "cell_type": "markdown",
   "id": "3ecc2057",
   "metadata": {},
   "source": [
    "Aggregate, per customer, the following information (treat missing & outliers by replacing by the mean or the mode of the corresponding variable):\n",
    "1. Average TCP retransmission\n",
    "2. Average RTT\n",
    "3. Handset type\n",
    "4. Average throughput\n"
   ]
  },
  {
   "cell_type": "code",
   "execution_count": null,
   "id": "43fc3f88",
   "metadata": {},
   "outputs": [],
   "source": [
    "'''\n",
    "TCP DL Retrans. Vol (Bytes)\n",
    "TCP UL Retrans. Vol (Bytes)\n",
    "\n",
    "Avg RTT DL (ms)\n",
    "Avg RTT UL (ms)\n",
    "\n",
    "Handset type\n",
    "\n",
    "Avg Bearer TP DL (kbps)\n",
    "Avg Bearer TP UL (kbps)\n",
    "\n",
    "'''\n",
    "new_netwok_df = df[['MSISDN/Number', 'Handset Type','TCP DL Retrans. Vol (Bytes)', 'TCP UL Retrans. Vol (Bytes)',\\\n",
    "                         'Avg RTT DL (ms)', 'Avg RTT UL (ms)',\\\n",
    "                         'Avg Bearer TP DL (kbps)', 'Avg Bearer TP UL (kbps)']]\n",
    "\n",
    "\n",
    "null_percentage(new_netwok_df)\n",
    "new_netwok_df.isnull().sum()"
   ]
  },
  {
   "cell_type": "code",
   "execution_count": null,
   "id": "e701b993",
   "metadata": {},
   "outputs": [],
   "source": [
    "## Fill Mising Values\n",
    "for col in new_netwok_df.columns:\n",
    "    if(new_netwok_df[col].isnull().sum()):\n",
    "        new_netwok_df[col] = new_netwok_df[col].fillna(new_netwok_df[col].mode()[0])\n"
   ]
  },
  {
   "cell_type": "code",
   "execution_count": null,
   "id": "a1eff6a1",
   "metadata": {},
   "outputs": [],
   "source": [
    "null_percentage(new_netwok_df)\n",
    "new_netwok_df.isnull().sum()"
   ]
  },
  {
   "cell_type": "code",
   "execution_count": null,
   "id": "dbdc3df7",
   "metadata": {},
   "outputs": [],
   "source": [
    "new_netwok_df['Total TCP Retrans'] = new_netwok_df['TCP DL Retrans. Vol (Bytes)'] +\\\n",
    "    new_netwok_df['TCP UL Retrans. Vol (Bytes)']\n",
    "new_netwok_df['Total Throughput'] = new_netwok_df['Avg Bearer TP DL (kbps)'] +\\\n",
    "    new_netwok_df['Avg Bearer TP DL (kbps)']\n",
    "\n",
    "new_netwok_df['Total RTT'] = new_netwok_df['Avg RTT DL (ms)'] + new_netwok_df['Avg RTT UL (ms)']\n",
    "\n",
    "new_netwok_df.head()\n"
   ]
  },
  {
   "cell_type": "code",
   "execution_count": null,
   "id": "fbc1745f",
   "metadata": {},
   "outputs": [],
   "source": [
    "aggregate = {'Handset Type':'first','Total TCP Retrans':'sum', 'Total Throughput':'sum', 'Total RTT':'sum'}\n",
    "columns = ['MSISDN/Number','Bearer Id','Handset Type', 'Total TCP Retrans', 'Total Throughput', 'Total RTT']\n",
    "network_per_user_df = new_netwok_df.groupby('MSISDN/Number').agg(aggregate).reset_index()\n",
    "network_per_user_df.head()"
   ]
  },
  {
   "cell_type": "markdown",
   "id": "6cbb1c2a",
   "metadata": {},
   "source": [
    "Compute & list 10 of the top, bottom and most frequent:\n",
    "1. TCP values in the dataset. \n",
    "2. RTT values in the dataset.\n",
    "3. Throughput values in the dataset.\n"
   ]
  },
  {
   "cell_type": "code",
   "execution_count": null,
   "id": "2ced6efc",
   "metadata": {},
   "outputs": [],
   "source": [
    "# top 5\n",
    "result = network_per_user_df.sort_values(by='Total TCP Retrans', ascending=False)[:100]\n",
    "plot_bar(result, result['Handset Type'], result['Total TCP Retrans'], 'Highest Total TCP Retrans Handsets','','')"
   ]
  },
  {
   "cell_type": "code",
   "execution_count": null,
   "id": "8814da01",
   "metadata": {},
   "outputs": [],
   "source": [
    "# Bottom 5\n",
    "network_per_user_df.sort_values(by='Total TCP Retrans', ascending=True)[:5]"
   ]
  },
  {
   "cell_type": "code",
   "execution_count": null,
   "id": "8053b189",
   "metadata": {},
   "outputs": [],
   "source": [
    "# most frequent\n",
    "network_per_user_df['Total TCP Retrans'].value_counts().head(5)"
   ]
  },
  {
   "cell_type": "markdown",
   "id": "02f3b5f5",
   "metadata": {},
   "source": [
    "Compute & report:\n",
    "1. The distribution of the average throughput  per handset type and provide interpretation for your findings.\n",
    "2. The average TCP retransmission view per handset type and provide interpretation for your findings.\n",
    "\n"
   ]
  },
  {
   "cell_type": "code",
   "execution_count": null,
   "id": "3be1afed",
   "metadata": {},
   "outputs": [],
   "source": [
    "handset_throughput = network_per_user_df.groupby('Handset Type').agg({'Total Throughput': 'sum'}).reset_index()\n",
    "handset_throughput.sort_values(by='Total Throughput', ascending=False).head(5)\n",
    "\n",
    "## Huawi is leading but apple is follwoing closely"
   ]
  },
  {
   "cell_type": "code",
   "execution_count": null,
   "id": "494f95bd",
   "metadata": {},
   "outputs": [],
   "source": [
    "handset_rtt = network_per_user_df.groupby('Handset Type').agg({'Total RTT': 'sum'}).reset_index()\n",
    "handset_rtt.sort_values(by='Total RTT', ascending=False).head(5)\n",
    "\n",
    "\n",
    "### HUawei is leading but apple is following a lot"
   ]
  },
  {
   "cell_type": "markdown",
   "id": "29cfa3d0",
   "metadata": {},
   "source": [
    "**Task 3.4** - Using the experience metrics above, perform a k-means clustering (where k = 3) to segment users into groups of experiences and provide a brief description of each cluster. (The description must define each group based on your understanding of the data)\n"
   ]
  },
  {
   "cell_type": "code",
   "execution_count": null,
   "id": "1907413f",
   "metadata": {},
   "outputs": [],
   "source": [
    "handset= network_per_user_df['Handset Type'].unique()\n",
    "\n",
    "# catagory = {}\n",
    "# for index, each in enumerate(handset.tolist()):\n",
    "#     catagory[each] = index\n",
    "\n",
    "net_cluster_df = network_per_user_df.copy()\n",
    "net_cluster_df.drop('Handset Type', axis=1, inplace=True)\n",
    "net_cluster_df = net_cluster_df.set_index('MSISDN/Number')\n",
    "\n",
    "net_cluster_df.head()\n",
    "# new_netwok_df[\"Handset Type\"] = [catagory[x] for x in new_netwok_df[\"Handset Type\"]]"
   ]
  },
  {
   "cell_type": "code",
   "execution_count": null,
   "id": "f08ae24c",
   "metadata": {},
   "outputs": [],
   "source": []
  },
  {
   "cell_type": "code",
   "execution_count": null,
   "id": "759d57f4",
   "metadata": {},
   "outputs": [],
   "source": [
    "## First normalize the Data, Then Cluster\n",
    "min_max_scaler = preprocessing.MinMaxScaler()\n",
    "network_values = net_cluster_df.values\n",
    "\n",
    "scalled_values = min_max_scaler.fit_transform(network_values)\n",
    "df_network_normalized = pd.DataFrame(data=scalled_values, columns=df_task2.columns)\n",
    "\n",
    "\n",
    "kmeans = KMeans(n_clusters=3).fit(df_normalized)"
   ]
  },
  {
   "cell_type": "code",
   "execution_count": null,
   "id": "06cc19b8",
   "metadata": {},
   "outputs": [],
   "source": [
    "cluster = kmeans.predict(df_network_normalized)\n",
    "experiance_df = network_per_user_df.copy()\n",
    "experiance_df['cluster-experiance']  = cluster\n",
    "experiance_df = experiance_df.set_index('MSISDN/Number')\n",
    "experiance_df.head()"
   ]
  },
  {
   "cell_type": "code",
   "execution_count": null,
   "id": "066efe36",
   "metadata": {},
   "outputs": [],
   "source": [
    "plot_scatter(experiance_df,\"Total Throughput\", \"Total RTT\",\"Clustering with Kmean\", \"cluster-experiance\", \"\")"
   ]
  },
  {
   "cell_type": "code",
   "execution_count": null,
   "id": "adea25d1",
   "metadata": {},
   "outputs": [],
   "source": [
    "experiance_df['cluster-experiance'].value_counts()\n",
    "## dont' know what kind of description am gonna provide for this "
   ]
  },
  {
   "cell_type": "markdown",
   "id": "ba8b0da8",
   "metadata": {},
   "source": [
    "## Task 4"
   ]
  },
  {
   "cell_type": "markdown",
   "id": "166918cd",
   "metadata": {},
   "source": [
    "1. engagement score to each user. Consider the engagement score as the Euclidean distance between the user data point & the less engaged cluster (use the first clustering for this) \n",
    "\n",
    "2. experience score to each user. Consider the experience score as the Euclidean distance between the user data point & the worst experience’s cluster."
   ]
  },
  {
   "cell_type": "code",
   "execution_count": null,
   "id": "94f5583b",
   "metadata": {},
   "outputs": [],
   "source": [
    "## Engagement Score\n",
    "lowest_engagement = engagement_df.groupby('cluster-engagement').get_group(0).mean()\n",
    "lowest_engagement"
   ]
  },
  {
   "cell_type": "code",
   "execution_count": null,
   "id": "c5069718",
   "metadata": {},
   "outputs": [],
   "source": [
    "def get_engagement_score(df, lowest):\n",
    "    x = float(lowest['Bearer Id'])\n",
    "    y = float(lowest['Dur. (ms)'])\n",
    "    z = float(lowest['Total'])\n",
    "    new_df = df.copy()\n",
    "    new_df['engagement score'] = ((df['Bearer Id'] - x)**2 + (df['Dur. (ms)'] - y)**2 + (df['Total'] - z)**2)**0.5\n",
    "    return new_df\n",
    "engagement_scored_df = get_engagement_score(engagement_df, lowest_engagement)\n",
    "engagement_scored_df.head()"
   ]
  },
  {
   "cell_type": "code",
   "execution_count": null,
   "id": "512576cc",
   "metadata": {},
   "outputs": [],
   "source": [
    "lowest_experiance = experiance_df.groupby('cluster-experiance').get_group(0).mean()\n",
    "lowest_experiance"
   ]
  },
  {
   "cell_type": "code",
   "execution_count": null,
   "id": "b5587496",
   "metadata": {},
   "outputs": [],
   "source": [
    "def get_experiance_score(df, low):\n",
    "    x = float(low['Total RTT'])\n",
    "    y = float(low['Total TCP Retrans'])\n",
    "    z = float(low['Total Throughput'])\n",
    "    new_df = df.copy()\n",
    "    new_df['experience score'] = ((df['Total RTT'] - x)**2 + (df['Total TCP Retrans'] - y)**2 \\\n",
    "                              + (df['Total Throughput'] - z)**2 )**0.5\n",
    "    return new_df\n",
    "experiance_scored_df = get_experiance_score(experiance_df, lowest_experiance)\n",
    "experiance_scored_df.head()"
   ]
  },
  {
   "cell_type": "markdown",
   "id": "792396c0",
   "metadata": {},
   "source": [
    "Task 4.2 - Consider the average of both engagement & experience scores as  the satisfaction score & report the top 10 satisfied customer "
   ]
  },
  {
   "cell_type": "code",
   "execution_count": null,
   "id": "a15f702d",
   "metadata": {},
   "outputs": [],
   "source": [
    "satisfaction_df = pd.merge(engagement_scored_df[\"engagement score\"], experiance_scored_df['experience score'], on='MSISDN/Number')\n",
    "satisfaction_df['satisfaction score'] = (satisfaction_df['engagement score'] + satisfaction_df['experience score']) / 2\n"
   ]
  },
  {
   "cell_type": "code",
   "execution_count": null,
   "id": "7a9123b9",
   "metadata": {},
   "outputs": [],
   "source": [
    "satisfaction_df.sort_values(by='satisfaction score', ascending=False).head(5)"
   ]
  },
  {
   "cell_type": "markdown",
   "id": "5889ca4e",
   "metadata": {},
   "source": [
    "Task 4.3 - Build a regression model of your choice to predict the satisfaction score of a customer. "
   ]
  },
  {
   "cell_type": "code",
   "execution_count": null,
   "id": "e25ba383",
   "metadata": {},
   "outputs": [],
   "source": [
    "\n",
    "    \n",
    "regretion_df = pd.merge(engagement_df[['Bearer Id', 'Dur. (ms)', 'Total']],\\\n",
    "                        experiance_df[['Total RTT','Total TCP Retrans', 'Total Throughput']],\\\n",
    "                       on='MSISDN/Number')\n",
    "regretion_df = pd.merge(regretion_df,satisfaction_df['satisfaction score'], on='MSISDN/Number' )\n",
    "regretion_df.head()"
   ]
  },
  {
   "cell_type": "code",
   "execution_count": null,
   "id": "499cee71",
   "metadata": {},
   "outputs": [],
   "source": []
  },
  {
   "cell_type": "code",
   "execution_count": null,
   "id": "83860a50",
   "metadata": {},
   "outputs": [],
   "source": [
    "X = regretion_df[['Bearer Id', 'Dur. (ms)', 'Total','Total RTT','Total TCP Retrans', 'Total Throughput']].values\n",
    "X = StandardScaler().fit_transform(X)\n",
    "X.shape"
   ]
  },
  {
   "cell_type": "code",
   "execution_count": null,
   "id": "0fc53548",
   "metadata": {},
   "outputs": [],
   "source": [
    "y = regretion_df[['satisfaction score']].values\n",
    "y = StandardScaler().fit_transform(y)\n",
    "y.shape"
   ]
  },
  {
   "cell_type": "code",
   "execution_count": null,
   "id": "52fa3847",
   "metadata": {},
   "outputs": [],
   "source": [
    "model = LinearRegression().fit(X, y)\n",
    "model.score(X, y)"
   ]
  },
  {
   "cell_type": "code",
   "execution_count": null,
   "id": "c8de8da1",
   "metadata": {},
   "outputs": [],
   "source": [
    "pickle.dump(model, open('../models/satisfaction_model.sav', 'wb'))"
   ]
  },
  {
   "cell_type": "markdown",
   "id": "abf91b0b",
   "metadata": {},
   "source": [
    "Task 4.4 - Run a k-means (k=2) on the engagement & the experience score ."
   ]
  },
  {
   "cell_type": "code",
   "execution_count": null,
   "id": "1d2a41f8",
   "metadata": {},
   "outputs": [],
   "source": [
    "eng_exp_df = satisfaction_df[['engagement score', 'experience score']]"
   ]
  },
  {
   "cell_type": "code",
   "execution_count": null,
   "id": "c922d054",
   "metadata": {},
   "outputs": [],
   "source": [
    "min_max_scaler = preprocessing.MinMaxScaler()\n",
    "eng_exp_values = eng_exp_df.values\n",
    "\n",
    "scalled_values = min_max_scaler.fit_transform(eng_exp_values)\n",
    "eng_exp_normalized = pd.DataFrame(data=scalled_values, columns=eng_exp_df.columns)\n",
    "\n",
    "\n",
    "kmeans = KMeans(n_clusters=2).fit(eng_exp_normalized)"
   ]
  },
  {
   "cell_type": "markdown",
   "id": "6a2c71cc",
   "metadata": {},
   "source": [
    "Task 4.5 - Aggregate the average satisfaction & experience score per cluster. "
   ]
  },
  {
   "cell_type": "code",
   "execution_count": null,
   "id": "5ec90a9c",
   "metadata": {},
   "outputs": [],
   "source": [
    "eng_exp_df['clusters'] = kmeans.labels_\n",
    "eng_exp_df['clusters'].value_counts()"
   ]
  },
  {
   "cell_type": "code",
   "execution_count": null,
   "id": "bf7a8c7d",
   "metadata": {},
   "outputs": [],
   "source": [
    "result = eng_exp_df.groupby('clusters').mean()\n",
    "result"
   ]
  },
  {
   "cell_type": "markdown",
   "id": "8a21baf9",
   "metadata": {},
   "source": [
    "Task 4.6 - Export your final table containing all user id + engagement, experience & satisfaction scores in your local MySQL database. Report a screenshot of a select query output on the exported table. "
   ]
  },
  {
   "cell_type": "code",
   "execution_count": null,
   "id": "7bd6947e",
   "metadata": {},
   "outputs": [],
   "source": [
    "satisfaction_df = satisfaction_df.reset_index()\n",
    "satisfaction_df.head()\n",
    "satisfaction_df.to_csv('../data/user_satisfaction.csv')"
   ]
  }
 ],
 "metadata": {
  "kernelspec": {
   "display_name": "Python 3 (ipykernel)",
   "language": "python",
   "name": "python3"
  },
  "language_info": {
   "codemirror_mode": {
    "name": "ipython",
    "version": 3
   },
   "file_extension": ".py",
   "mimetype": "text/x-python",
   "name": "python",
   "nbconvert_exporter": "python",
   "pygments_lexer": "ipython3",
   "version": "3.8.13"
  }
 },
 "nbformat": 4,
 "nbformat_minor": 5
}
